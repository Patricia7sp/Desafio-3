{
 "cells": [
  {
   "cell_type": "markdown",
   "id": "ultimate-flood",
   "metadata": {},
   "source": [
    "<h1> Desáfio 3 </h1>"
   ]
  },
  {
   "cell_type": "code",
   "execution_count": 1166,
   "id": "alpine-elimination",
   "metadata": {},
   "outputs": [],
   "source": [
    "import pandas as pd\n",
    "import numpy as np\n",
    "from collections import Counter\n",
    "import plotly\n",
    "import gradio as gr\n",
    "from numpy import mean\n",
    "from numpy import std\n",
    "# Gráficos\n",
    "import seaborn as sns\n",
    "import matplotlib.pyplot as plt\n",
    "import folium\n",
    "#modelagem\n",
    "\n",
    "from imblearn.under_sampling import NearMiss\n",
    "from sklearn.preprocessing import MinMaxScaler\n",
    "from sklearn.preprocessing import LabelEncoder\n",
    "from sklearn.preprocessing import OneHotEncoder\n",
    "from sklearn.compose import ColumnTransformer\n",
    "from sklearn.model_selection import cross_val_score\n",
    "from sklearn.model_selection import RepeatedStratifiedKFold\n",
    "from sklearn.metrics import fbeta_score\n",
    "from sklearn.metrics import make_scorer\n",
    "from sklearn.dummy import DummyClassifier\n",
    "from sklearn.preprocessing import OneHotEncoder\n",
    "from sklearn.pipeline import Pipeline\n",
    "from sklearn.linear_model import LogisticRegression\n",
    "from sklearn.model_selection import train_test_split\n",
    "from sklearn.base import BaseEstimator, TransformerMixin\n",
    "from imblearn.over_sampling import RandomOverSampler\n",
    "from imblearn.under_sampling import RandomUnderSampler\n",
    "from imblearn import under_sampling\n",
    "from imblearn import over_sampling\n",
    "from sklearn.model_selection import StratifiedKFold # Essa biblioteca mistura os dados e garante que todos tenham informação\n",
    "from sklearn.linear_model import LogisticRegression\n",
    "from sklearn.model_selection import cross_val_score\n",
    "from sklearn.metrics import f1_score\n",
    "from sklearn.metrics import precision_recall_curve \n",
    "from sklearn.metrics import accuracy_score, confusion_matrix, classification_report, mean_squared_error\n",
    "from sklearn.model_selection import cross_val_predict\n",
    "from sklearn.ensemble import RandomForestClassifier, VotingClassifier, StackingClassifier\n",
    "from sklearn import preprocessing \n",
    "\n",
    "\n",
    "# biblioteca Geração de Features\n",
    "import featuretools as ft\n",
    "\n",
    "# Aplicando ajuste dos hiperparametros\n",
    "from sklearn.model_selection import RandomizedSearchCV\n",
    "from sklearn.model_selection import GridSearchCV"
   ]
  },
  {
   "cell_type": "code",
   "execution_count": null,
   "id": "retired-donor",
   "metadata": {},
   "outputs": [],
   "source": []
  },
  {
   "cell_type": "code",
   "execution_count": 559,
   "id": "inappropriate-investment",
   "metadata": {},
   "outputs": [],
   "source": [
    "#fazendo a leitura do arquivo csv\n",
    "german = pd.read_csv('german.csv', header=0, delim_whitespace=True,index_col=False,  names=[\"Status Conta Corrente\", \"Meses De Duracao\", \"Historico Credito\", \"Aquisicao\", \"Credito $\",\n",
    "                                                                          \"Conta Poupanca/titulos\", \"Tempo Empregado\", \"Taxa Parcelamento %\", \"Sex/Satus\", \"Outros Devedores\",\n",
    "                                                                          \"Tempo de residencia\", \"Propriedade\", \"idade\", \"Outros Planos de Parcelamento\", \"Habitacao\", \"N° Credito No banco\",\n",
    "                                                                          \"Trabalho\", \"N° Pessoas na familia\", \"Telefone\", \"trabalhador Extrangeiro\", \"Target\"])"
   ]
  },
  {
   "cell_type": "markdown",
   "id": "quarterly-transsexual",
   "metadata": {},
   "source": [
    "<h2>Questão N° 2 </h2>"
   ]
  },
  {
   "cell_type": "code",
   "execution_count": null,
   "id": "through-norfolk",
   "metadata": {},
   "outputs": [],
   "source": [
    "german"
   ]
  },
  {
   "cell_type": "code",
   "execution_count": 564,
   "id": "alpine-somewhere",
   "metadata": {},
   "outputs": [
    {
     "data": {
      "application/vnd.jupyter.widget-view+json": {
       "model_id": "bcabb1a0797f4d69b7e1466cf013a9a5",
       "version_major": 2,
       "version_minor": 0
      },
      "text/plain": [
       "MitoWidget(analysis_data_json='{\"analysisName\": \"UUID-b04ad2cf-f720-4303-a133-e1d47a46605f\", \"code\": {\"imports…"
      ]
     },
     "metadata": {},
     "output_type": "display_data"
    }
   ],
   "source": [
    "import mitosheet\n",
    "mitosheet.sheet(german, view_df=True)"
   ]
  },
  {
   "cell_type": "code",
   "execution_count": null,
   "id": "compatible-appointment",
   "metadata": {},
   "outputs": [],
   "source": [
    "from mitosheet import *; register_analysis('UUID-b547f6fc-ac8e-42a0-a1d5-b7f25b2c21ee')\n",
    "\n",
    "# Drop duplicates in german\n",
    "german = german.drop_duplicates(subset=['Meses De Duracao', 'Credito $', 'Taxa Parcelamento %', 'Tempo de residencia', 'idade', 'N° Credito No banco', 'N° Pessoas na familia', 'Target'], keep='first')\n",
    "\n",
    "# Drop duplicates in german\n",
    "german = german.drop_duplicates(subset=['Meses De Duracao', 'Credito $', 'Taxa Parcelamento %', 'Tempo de residencia', 'idade', 'N° Credito No banco', 'N° Pessoas na familia', 'Target'], keep='first')\n",
    "\n",
    "# Pivoted german into df2\n",
    "unused_columns = german.columns.difference(set(['Target']).union(set(['Credito $'])).union(set({'Meses De Duracao'})))\n",
    "tmp_df = german.drop(unused_columns, axis=1)\n",
    "pivot_table = tmp_df.pivot_table(\n",
    "    index=['Target'],\n",
    "    columns=['Credito $'],\n",
    "    values=['Meses De Duracao'],\n",
    "    aggfunc={'Meses De Duracao': ['sum']}\n",
    ")\n",
    "pivot_table.columns = [flatten_column_header(col) for col in pivot_table.columns.values]\n",
    "german_pivot = pivot_table.reset_index()\n",
    "\n",
    "# Deleted dataframe german_pivot\n",
    "del german_pivot\n"
   ]
  },
  {
   "cell_type": "code",
   "execution_count": 560,
   "id": "behind-following",
   "metadata": {},
   "outputs": [
    {
     "name": "stdout",
     "output_type": "stream",
     "text": [
      "(999, 21)\n"
     ]
    }
   ],
   "source": [
    "print(german.shape) # verificando o número de linhas e colunas"
   ]
  },
  {
   "cell_type": "code",
   "execution_count": 561,
   "id": "subjective-layer",
   "metadata": {},
   "outputs": [
    {
     "name": "stdout",
     "output_type": "stream",
     "text": [
      "<class 'pandas.core.frame.DataFrame'>\n",
      "RangeIndex: 999 entries, 0 to 998\n",
      "Data columns (total 21 columns):\n",
      " #   Column                         Non-Null Count  Dtype \n",
      "---  ------                         --------------  ----- \n",
      " 0   Status Conta Corrente          999 non-null    object\n",
      " 1   Meses De Duracao               999 non-null    int64 \n",
      " 2   Historico Credito              999 non-null    object\n",
      " 3   Aquisicao                      999 non-null    object\n",
      " 4   Credito $                      999 non-null    int64 \n",
      " 5   Conta Poupanca/titulos         999 non-null    object\n",
      " 6   Tempo Empregado                999 non-null    object\n",
      " 7   Taxa Parcelamento %            999 non-null    int64 \n",
      " 8   Sex/Satus                      999 non-null    object\n",
      " 9   Outros Devedores               999 non-null    object\n",
      " 10  Tempo de residencia            999 non-null    int64 \n",
      " 11  Propriedade                    999 non-null    object\n",
      " 12  idade                          999 non-null    int64 \n",
      " 13  Outros Planos de Parcelamento  999 non-null    object\n",
      " 14  Habitacao                      999 non-null    object\n",
      " 15  N° Credito No banco            999 non-null    int64 \n",
      " 16  Trabalho                       999 non-null    object\n",
      " 17  N° Pessoas na familia          999 non-null    int64 \n",
      " 18  Telefone                       999 non-null    object\n",
      " 19  trabalhador Extrangeiro        999 non-null    object\n",
      " 20  Target                         999 non-null    int64 \n",
      "dtypes: int64(8), object(13)\n",
      "memory usage: 164.0+ KB\n"
     ]
    }
   ],
   "source": [
    "#Verificando a estrtura da nosa base de dados\n",
    "german.info()"
   ]
  },
  {
   "cell_type": "code",
   "execution_count": 565,
   "id": "bacterial-pizza",
   "metadata": {
    "scrolled": true
   },
   "outputs": [
    {
     "name": "stdout",
     "output_type": "stream",
     "text": [
      "<class 'pandas.core.frame.DataFrame'>\n",
      "RangeIndex: 999 entries, 0 to 998\n",
      "Data columns (total 13 columns):\n",
      " #   Column                         Non-Null Count  Dtype \n",
      "---  ------                         --------------  ----- \n",
      " 0   Status Conta Corrente          999 non-null    string\n",
      " 1   Historico Credito              999 non-null    string\n",
      " 2   Aquisicao                      999 non-null    string\n",
      " 3   Conta Poupanca/titulos         999 non-null    string\n",
      " 4   Tempo Empregado                999 non-null    string\n",
      " 5   Sex/Satus                      999 non-null    string\n",
      " 6   Outros Devedores               999 non-null    string\n",
      " 7   Propriedade                    999 non-null    string\n",
      " 8   Outros Planos de Parcelamento  999 non-null    string\n",
      " 9   Habitacao                      999 non-null    string\n",
      " 10  Trabalho                       999 non-null    string\n",
      " 11  Telefone                       999 non-null    string\n",
      " 12  trabalhador Extrangeiro        999 non-null    string\n",
      "dtypes: string(13)\n",
      "memory usage: 101.6 KB\n"
     ]
    }
   ],
   "source": [
    "#alterando o tipo das colunas objeto para string\n",
    "german_1= german[['Status Conta Corrente','Historico Credito','Aquisicao', 'Conta Poupanca/titulos', 'Tempo Empregado', 'Sex/Satus', \n",
    "        'Outros Devedores', 'Propriedade', 'Outros Planos de Parcelamento', 'Habitacao', 'Trabalho', 'Telefone', \n",
    "             'trabalhador Extrangeiro']].astype('string')\n",
    "german_1.info()\n"
   ]
  },
  {
   "cell_type": "code",
   "execution_count": 7,
   "id": "satisfactory-travel",
   "metadata": {},
   "outputs": [
    {
     "name": "stdout",
     "output_type": "stream",
     "text": [
      "<class 'pandas.core.frame.DataFrame'>\n",
      "RangeIndex: 999 entries, 0 to 998\n",
      "Data columns (total 8 columns):\n",
      " #   Column                 Non-Null Count  Dtype\n",
      "---  ------                 --------------  -----\n",
      " 0   Meses De Duracao       999 non-null    int64\n",
      " 1   Credito $              999 non-null    int64\n",
      " 2   Taxa Parcelamento %    999 non-null    int64\n",
      " 3   Tempo de residencia    999 non-null    int64\n",
      " 4   idade                  999 non-null    int64\n",
      " 5   N° Credito No banco    999 non-null    int64\n",
      " 6   N° Pessoas na familia  999 non-null    int64\n",
      " 7   Target                 999 non-null    int64\n",
      "dtypes: int64(8)\n",
      "memory usage: 62.6 KB\n"
     ]
    }
   ],
   "source": [
    "#excluindo as variáveis que foram alterada o dtype\n",
    "german = german.drop(columns=['Status Conta Corrente','Historico Credito','Aquisicao', 'Conta Poupanca/titulos', 'Tempo Empregado', 'Sex/Satus', \n",
    "        'Outros Devedores', 'Propriedade', 'Outros Planos de Parcelamento', 'Habitacao', 'Trabalho', 'Telefone', \n",
    "             'trabalhador Extrangeiro'], axis=1)\n",
    "german.info()"
   ]
  },
  {
   "cell_type": "code",
   "execution_count": 8,
   "id": "searching-dispute",
   "metadata": {},
   "outputs": [
    {
     "name": "stdout",
     "output_type": "stream",
     "text": [
      "<class 'pandas.core.frame.DataFrame'>\n",
      "RangeIndex: 999 entries, 0 to 998\n",
      "Data columns (total 21 columns):\n",
      " #   Column                         Non-Null Count  Dtype \n",
      "---  ------                         --------------  ----- \n",
      " 0   Meses De Duracao               999 non-null    int64 \n",
      " 1   Credito $                      999 non-null    int64 \n",
      " 2   Taxa Parcelamento %            999 non-null    int64 \n",
      " 3   Tempo de residencia            999 non-null    int64 \n",
      " 4   idade                          999 non-null    int64 \n",
      " 5   N° Credito No banco            999 non-null    int64 \n",
      " 6   N° Pessoas na familia          999 non-null    int64 \n",
      " 7   Target                         999 non-null    int64 \n",
      " 8   Status Conta Corrente          999 non-null    string\n",
      " 9   Historico Credito              999 non-null    string\n",
      " 10  Aquisicao                      999 non-null    string\n",
      " 11  Conta Poupanca/titulos         999 non-null    string\n",
      " 12  Tempo Empregado                999 non-null    string\n",
      " 13  Sex/Satus                      999 non-null    string\n",
      " 14  Outros Devedores               999 non-null    string\n",
      " 15  Propriedade                    999 non-null    string\n",
      " 16  Outros Planos de Parcelamento  999 non-null    string\n",
      " 17  Habitacao                      999 non-null    string\n",
      " 18  Trabalho                       999 non-null    string\n",
      " 19  Telefone                       999 non-null    string\n",
      " 20  trabalhador Extrangeiro        999 non-null    string\n",
      "dtypes: int64(8), string(13)\n",
      "memory usage: 164.0 KB\n"
     ]
    }
   ],
   "source": [
    "#juntanto a base german_1 a base german\n",
    "\n",
    "german_final = pd.concat([german, german_1], axis=1)\n",
    "german_final.info()"
   ]
  },
  {
   "cell_type": "code",
   "execution_count": 9,
   "id": "physical-journey",
   "metadata": {},
   "outputs": [
    {
     "data": {
      "text/plain": [
       "Meses De Duracao                 0\n",
       "Credito $                        0\n",
       "Taxa Parcelamento %              0\n",
       "Tempo de residencia              0\n",
       "idade                            0\n",
       "N° Credito No banco              0\n",
       "N° Pessoas na familia            0\n",
       "Target                           0\n",
       "Status Conta Corrente            0\n",
       "Historico Credito                0\n",
       "Aquisicao                        0\n",
       "Conta Poupanca/titulos           0\n",
       "Tempo Empregado                  0\n",
       "Sex/Satus                        0\n",
       "Outros Devedores                 0\n",
       "Propriedade                      0\n",
       "Outros Planos de Parcelamento    0\n",
       "Habitacao                        0\n",
       "Trabalho                         0\n",
       "Telefone                         0\n",
       "trabalhador Extrangeiro          0\n",
       "dtype: int64"
      ]
     },
     "execution_count": 9,
     "metadata": {},
     "output_type": "execute_result"
    }
   ],
   "source": [
    "#Fazendo uma verificação se não existe dados nulos \n",
    "german_final.isnull().sum()"
   ]
  },
  {
   "cell_type": "code",
   "execution_count": 10,
   "id": "seventh-silence",
   "metadata": {},
   "outputs": [],
   "source": [
    "# Salvamos a nova estruta de dados em disco\n",
    "german_final.to_csv('german_v1.csv', encoding = \"utf-8\", index = False)"
   ]
  },
  {
   "cell_type": "markdown",
   "id": "talented-batman",
   "metadata": {},
   "source": [
    "## Correlação"
   ]
  },
  {
   "cell_type": "code",
   "execution_count": 11,
   "id": "logical-people",
   "metadata": {},
   "outputs": [
    {
     "data": {
      "image/png": "[encoded data removed]",
      "text/plain": [
       "<Figure size 1440x720 with 2 Axes>"
      ]
     },
     "metadata": {},
     "output_type": "display_data"
    }
   ],
   "source": [
    "corrmat = german_final.corr()\n",
    "sns.set(font_scale=1.0)\n",
    "f, ax = plt.subplots(figsize=(20, 10))\n",
    "# Generate a mask for the upper triangle\n",
    "mask = np.triu(np.ones_like(corrmat, dtype=bool))\n",
    "hm = sns.heatmap(corrmat, \n",
    "                 mask=mask,\n",
    "                 cbar=True, # formatando a barra lateral de cores para o heatmap\n",
    "                 annot=True, \n",
    "                 square=True, \n",
    "                 fmt='.2f', \n",
    "                 annot_kws={'size': 12}, \n",
    "                 yticklabels=corrmat.columns, \n",
    "                 xticklabels=corrmat.columns)\n"
   ]
  },
  {
   "cell_type": "markdown",
   "id": "rational-majority",
   "metadata": {},
   "source": [
    " ## Lista de correlações"
   ]
  },
  {
   "cell_type": "code",
   "execution_count": 12,
   "id": "applied-torture",
   "metadata": {},
   "outputs": [
    {
     "data": {
      "text/html": [
       "<div><div id=3913891b-ad47-4f0d-8fcb-402aa075cbf5 style=\"display:none; background-color:#9D6CFF; color:white; width:200px; height:30px; padding-left:5px; border-radius:4px; flex-direction:row; justify-content:space-around; align-items:center;\" onmouseover=\"this.style.backgroundColor='#BA9BF8'\" onmouseout=\"this.style.backgroundColor='#9D6CFF'\" onclick=\"window.commands?.execute('create-mitosheet-from-dataframe-output');\">See Full Dataframe in Mito</div> <script> if (window.commands.hasCommand('create-mitosheet-from-dataframe-output')) document.getElementById('3913891b-ad47-4f0d-8fcb-402aa075cbf5').style.display = 'flex' </script> <table border=\"1\" class=\"dataframe\">\n",
       "  <thead>\n",
       "    <tr style=\"text-align: right;\">\n",
       "      <th></th>\n",
       "      <th>var_1</th>\n",
       "      <th>var_2</th>\n",
       "      <th>corr</th>\n",
       "    </tr>\n",
       "  </thead>\n",
       "  <tbody>\n",
       "    <tr>\n",
       "      <th>0</th>\n",
       "      <td>Credito $</td>\n",
       "      <td>Meses De Duracao</td>\n",
       "      <td>0.62</td>\n",
       "    </tr>\n",
       "    <tr>\n",
       "      <th>2</th>\n",
       "      <td>Taxa Parcelamento %</td>\n",
       "      <td>Credito $</td>\n",
       "      <td>0.27</td>\n",
       "    </tr>\n",
       "    <tr>\n",
       "      <th>9</th>\n",
       "      <td>idade</td>\n",
       "      <td>Tempo de residencia</td>\n",
       "      <td>0.26</td>\n",
       "    </tr>\n",
       "    <tr>\n",
       "      <th>21</th>\n",
       "      <td>Target</td>\n",
       "      <td>Meses De Duracao</td>\n",
       "      <td>0.21</td>\n",
       "    </tr>\n",
       "    <tr>\n",
       "      <th>22</th>\n",
       "      <td>Target</td>\n",
       "      <td>Credito $</td>\n",
       "      <td>0.15</td>\n",
       "    </tr>\n",
       "    <tr>\n",
       "      <th>...</th>\n",
       "      <td>...</td>\n",
       "      <td>...</td>\n",
       "      <td>...</td>\n",
       "    </tr>\n",
       "    <tr>\n",
       "      <th>26</th>\n",
       "      <td>Target</td>\n",
       "      <td>N° Credito No banco</td>\n",
       "      <td>0.05</td>\n",
       "    </tr>\n",
       "    <tr>\n",
       "      <th>3</th>\n",
       "      <td>Tempo de residencia</td>\n",
       "      <td>Meses De Duracao</td>\n",
       "      <td>0.04</td>\n",
       "    </tr>\n",
       "    <tr>\n",
       "      <th>18</th>\n",
       "      <td>N° Pessoas na familia</td>\n",
       "      <td>Tempo de residencia</td>\n",
       "      <td>0.04</td>\n",
       "    </tr>\n",
       "    <tr>\n",
       "      <th>4</th>\n",
       "      <td>Tempo de residencia</td>\n",
       "      <td>Credito $</td>\n",
       "      <td>0.03</td>\n",
       "    </tr>\n",
       "    <tr>\n",
       "      <th>6</th>\n",
       "      <td>idade</td>\n",
       "      <td>Meses De Duracao</td>\n",
       "      <td>0.03</td>\n",
       "    </tr>\n",
       "  </tbody>\n",
       "</table></div>"
      ],
      "text/plain": [
       "                    var_1                var_2  corr\n",
       "0               Credito $     Meses De Duracao  0.62\n",
       "2     Taxa Parcelamento %            Credito $  0.27\n",
       "9                   idade  Tempo de residencia  0.26\n",
       "21                 Target     Meses De Duracao  0.21\n",
       "22                 Target            Credito $  0.15\n",
       "14    N° Credito No banco                idade  0.15\n",
       "19  N° Pessoas na familia                idade  0.12\n",
       "20  N° Pessoas na familia  N° Credito No banco  0.11\n",
       "25                 Target                idade  0.09\n",
       "13    N° Credito No banco  Tempo de residencia  0.09\n",
       "1     Taxa Parcelamento %     Meses De Duracao  0.08\n",
       "17  N° Pessoas na familia  Taxa Parcelamento %  0.07\n",
       "23                 Target  Taxa Parcelamento %  0.07\n",
       "8                   idade  Taxa Parcelamento %  0.06\n",
       "5     Tempo de residencia  Taxa Parcelamento %  0.05\n",
       "26                 Target  N° Credito No banco  0.05\n",
       "3     Tempo de residencia     Meses De Duracao  0.04\n",
       "18  N° Pessoas na familia  Tempo de residencia  0.04\n",
       "4     Tempo de residencia            Credito $  0.03\n",
       "6                   idade     Meses De Duracao  0.03"
      ]
     },
     "execution_count": 12,
     "metadata": {},
     "output_type": "execute_result"
    }
   ],
   "source": [
    "corrmat_lower = (corrmat*~mask).replace({0.0:np.nan}).round(2)\n",
    "corr_list = abs(corrmat_lower).stack(dropna=True)\\\n",
    "                              .reset_index()\\\n",
    "                              .rename({'level_0':'var_1','level_1':'var_2',0:'corr'}, axis=1)\\\n",
    "                              .sort_values(by='corr', ascending=False)\\\n",
    "                              .head(20)\n",
    "corr_list"
   ]
  },
  {
   "cell_type": "markdown",
   "id": "soviet-inclusion",
   "metadata": {},
   "source": [
    "* ##### As variáveis mais correlacionadas  a variável target seria crédito, taxa de parcelamento, idade e os meses de duração do crédito"
   ]
  },
  {
   "cell_type": "code",
   "execution_count": 13,
   "id": "blocked-elizabeth",
   "metadata": {},
   "outputs": [
    {
     "data": {
      "image/png": "[encoded data removed]",
      "text/plain": [
       "<Figure size 1440x936 with 9 Axes>"
      ]
     },
     "metadata": {},
     "output_type": "display_data"
    }
   ],
   "source": [
    "german_final.hist(figsize=(20,13));"
   ]
  },
  {
   "cell_type": "markdown",
   "id": "pacific-grace",
   "metadata": {},
   "source": [
    "* <h7> Da para verificar que a média de crédito adquirida pelas pessoas está em torno  de $1.000,00 - $2.000,00(o pico está em usar crédito para compras de pequeno valor), a idade que favorece a isso está na faixa dos 30(onde se percebe que é pico na aquisição de crédito.</h7>\n",
    " \n",
    "* <h7>As pessoas que moram sozinhas são as que mais adquirem crédito </h7>"
   ]
  },
  {
   "cell_type": "code",
   "execution_count": 40,
   "id": "prerequisite-election",
   "metadata": {},
   "outputs": [
    {
     "data": {
      "text/plain": [
       "<seaborn.axisgrid.FacetGrid at 0x17009fc4a20>"
      ]
     },
     "execution_count": 40,
     "metadata": {},
     "output_type": "execute_result"
    },
    {
     "data": {
      "image/png": "[encoded data removed]",
      "text/plain": [
       "<Figure size 360x360 with 1 Axes>"
      ]
     },
     "metadata": {},
     "output_type": "display_data"
    }
   ],
   "source": [
    "\n",
    "# Analisando a conta poupança\n",
    "sns.factorplot('Conta Poupanca/titulos', data=german_final, kind='count')"
   ]
  },
  {
   "cell_type": "markdown",
   "id": "decreased-chancellor",
   "metadata": {},
   "source": [
    "* <h7>As pessoas que mais pegam crédito tem é porque não tem uma reserva, o pico é que a maioria das pessoas tem um saldo na poupança inferior a 110 DM</h7>"
   ]
  },
  {
   "cell_type": "code",
   "execution_count": 42,
   "id": "african-auction",
   "metadata": {},
   "outputs": [
    {
     "name": "stderr",
     "output_type": "stream",
     "text": [
      "C:\\Users\\Qintess\\anaconda3\\envs\\projeto\\lib\\site-packages\\seaborn\\categorical.py:3714: UserWarning:\n",
      "\n",
      "The `factorplot` function has been renamed to `catplot`. The original name will be removed in a future release. Please update your code. Note that the default `kind` in `factorplot` (`'point'`) has changed `'strip'` in `catplot`.\n",
      "\n",
      "C:\\Users\\Qintess\\anaconda3\\envs\\projeto\\lib\\site-packages\\seaborn\\_decorators.py:43: FutureWarning:\n",
      "\n",
      "Pass the following variable as a keyword arg: x. From version 0.12, the only valid positional argument will be `data`, and passing other arguments without an explicit keyword will result in an error or misinterpretation.\n",
      "\n"
     ]
    },
    {
     "data": {
      "text/plain": [
       "<seaborn.axisgrid.FacetGrid at 0x1700befa198>"
      ]
     },
     "execution_count": 42,
     "metadata": {},
     "output_type": "execute_result"
    },
    {
     "data": {
      "image/png": "[encoded data removed]",
      "text/plain": [
       "<Figure size 360x360 with 1 Axes>"
      ]
     },
     "metadata": {},
     "output_type": "display_data"
    }
   ],
   "source": [
    "\n",
    "# Analisando conta corrente\n",
    "sns.factorplot('Status Conta Corrente', data=german_final, kind='count')"
   ]
  },
  {
   "cell_type": "markdown",
   "id": "undefined-daisy",
   "metadata": {},
   "source": [
    "* <h7>A maioria das pessoas tem um saldo inferior a 220 DM em sua conta corrente</h7>"
   ]
  },
  {
   "cell_type": "code",
   "execution_count": null,
   "id": "characteristic-tuition",
   "metadata": {},
   "outputs": [],
   "source": []
  },
  {
   "cell_type": "markdown",
   "id": "sustainable-agriculture",
   "metadata": {},
   "source": [
    "<h2> Questão N° 3 </h2>"
   ]
  },
  {
   "cell_type": "markdown",
   "id": "corresponding-matrix",
   "metadata": {},
   "source": [
    "### MODELAGEM"
   ]
  },
  {
   "cell_type": "code",
   "execution_count": 570,
   "id": "changing-springfield",
   "metadata": {},
   "outputs": [],
   "source": [
    "# Separando variável target das preditoras\n",
    "y = german_final['Target']\n",
    "X = german_final.drop( ['Target'], axis=1)"
   ]
  },
  {
   "cell_type": "code",
   "execution_count": 571,
   "id": "aggressive-front",
   "metadata": {},
   "outputs": [
    {
     "data": {
      "text/plain": [
       "0      0\n",
       "1      1\n",
       "2      1\n",
       "3      0\n",
       "4      1\n",
       "      ..\n",
       "994    1\n",
       "995    1\n",
       "996    1\n",
       "997    0\n",
       "998    1\n",
       "Name: Target, Length: 999, dtype: int64"
      ]
     },
     "execution_count": 571,
     "metadata": {},
     "output_type": "execute_result"
    }
   ],
   "source": [
    "# transformando  classe negativa 2 para 0 e   classe positiva para to 1\n",
    "y = y.apply(lambda x: 0 if x == 2 else 1)\n",
    "y"
   ]
  },
  {
   "cell_type": "code",
   "execution_count": 573,
   "id": "fifteen-butler",
   "metadata": {},
   "outputs": [],
   "source": [
    "cat_ix = X.select_dtypes(include=['object', 'bool']).columns\n",
    "ct = ColumnTransformer([('o',OneHotEncoder(), cat_ix)], remainder='passthrough')\n",
    "X = ct.fit_transform(X)"
   ]
  },
  {
   "cell_type": "code",
   "execution_count": 574,
   "id": "floppy-associate",
   "metadata": {},
   "outputs": [
    {
     "data": {
      "text/plain": [
       "1    699\n",
       "0    300\n",
       "Name: Target, dtype: int64"
      ]
     },
     "execution_count": 574,
     "metadata": {},
     "output_type": "execute_result"
    }
   ],
   "source": [
    "y.value_counts()"
   ]
  },
  {
   "cell_type": "code",
   "execution_count": null,
   "id": "objective-polish",
   "metadata": {},
   "outputs": [],
   "source": []
  },
  {
   "cell_type": "markdown",
   "id": "adequate-windsor",
   "metadata": {},
   "source": [
    "### Normalizando os Dados com StandardScaler"
   ]
  },
  {
   "cell_type": "code",
   "execution_count": 606,
   "id": "fluid-adventure",
   "metadata": {},
   "outputs": [],
   "source": [
    "preprocessing_pipe = Pipeline([\n",
    "                                \n",
    "                                ('OneHotEncoder', OneHotEncoder(sparse=False))\n",
    "                            ])"
   ]
  },
  {
   "cell_type": "code",
   "execution_count": 630,
   "id": "champion-blend",
   "metadata": {},
   "outputs": [],
   "source": [
    "X = preprocessing_pipe.fit_transform(X)"
   ]
  },
  {
   "cell_type": "code",
   "execution_count": 801,
   "id": "empirical-aruba",
   "metadata": {},
   "outputs": [
    {
     "data": {
      "text/plain": [
       "1    699\n",
       "0    300\n",
       "Name: Target, dtype: int64"
      ]
     },
     "execution_count": 801,
     "metadata": {},
     "output_type": "execute_result"
    }
   ],
   "source": [
    "y.value_counts()"
   ]
  },
  {
   "cell_type": "markdown",
   "id": "prescribed-presentation",
   "metadata": {},
   "source": [
    "#### Fazendo balanceamento da variavel target com a biblioteca imbalanced-learn"
   ]
  },
  {
   "cell_type": "markdown",
   "id": "colonial-bonus",
   "metadata": {},
   "source": [
    "* Aplicando o Método over_sampling e under_sampling juntos para tentar atrair um melhor desempenho"
   ]
  },
  {
   "cell_type": "code",
   "execution_count": 802,
   "id": "super-worthy",
   "metadata": {},
   "outputs": [
    {
     "name": "stdout",
     "output_type": "stream",
     "text": [
      "Oversampled: Counter({1: 699, 0: 629})\n",
      "UnderSampling: Counter({1: 333, 0: 300})\n"
     ]
    }
   ],
   "source": [
    "# instanciando o over e o under\n",
    "over = RandomOverSampler(sampling_strategy=0.90) #90¨% da classe majoritária \n",
    "under = RandomUnderSampler(sampling_strategy=0.90)# 90% da classe minoritária \n",
    "\n",
    "\n",
    "# aplicando a transformação over sampler\n",
    "X_over, y_over = over.fit_resample(X, y)\n",
    "# summarize class distribution\n",
    "print(f\"Oversampled: {Counter(y_over)}\")\n",
    "\n",
    "\n",
    "\n",
    "# aplicando a transformação de under sampler\n",
    "X_under, y_under = under.fit_resample(X, y)\n",
    "\n",
    "# summarize class distribution\n",
    "print(f\"UnderSampling: {Counter(y_under)}\")\n"
   ]
  },
  {
   "cell_type": "markdown",
   "id": "separate-photograph",
   "metadata": {},
   "source": [
    "### Separando os Dados de treino e de teste"
   ]
  },
  {
   "cell_type": "code",
   "execution_count": 807,
   "id": "missing-privacy",
   "metadata": {},
   "outputs": [],
   "source": [
    "x_train, x_test, y_train, y_test = train_test_split(X_over, y_over,  stratify=y_over, test_size=0.3, random_state=42 )"
   ]
  },
  {
   "cell_type": "code",
   "execution_count": 808,
   "id": "recovered-hobby",
   "metadata": {},
   "outputs": [
    {
     "data": {
      "text/plain": [
       "1    210\n",
       "0    189\n",
       "Name: Target, dtype: int64"
      ]
     },
     "execution_count": 808,
     "metadata": {},
     "output_type": "execute_result"
    }
   ],
   "source": [
    "y_test.value_counts()"
   ]
  },
  {
   "cell_type": "markdown",
   "id": "level-inspection",
   "metadata": {},
   "source": [
    "#### Função Para definir os niveis de folds e calculo da média para validação cruzada"
   ]
  },
  {
   "cell_type": "code",
   "execution_count": 809,
   "id": "independent-directory",
   "metadata": {},
   "outputs": [],
   "source": [
    "#  definiando o nivel de folds\n",
    "cv = StratifiedKFold(n_splits = 47, shuffle = True)\n",
    "\n",
    "# criando uma funca para ver a media da acuracia e o seu intervalo\n",
    "def intervalo(results):\n",
    "    mean = results.mean()\n",
    "    data = results.std()\n",
    "    print('Acurácia média: {:.2f}%'.format(mean*100))\n",
    "    print('Intervalo de acurácia: [{:.2f}% ~ {:.2f}%]'\n",
    "           .format((mean - 2*data)*100, (mean + 2*data)*100))\n",
    "\n",
    "    return intervalo"
   ]
  },
  {
   "cell_type": "markdown",
   "id": "complicated-invasion",
   "metadata": {},
   "source": [
    "#### Treinando o modelo"
   ]
  },
  {
   "cell_type": "code",
   "execution_count": 811,
   "id": "chemical-marker",
   "metadata": {},
   "outputs": [],
   "source": [
    "LR = LogisticRegression(random_state=10, n_jobs=-1).fit(x_train, y_train)"
   ]
  },
  {
   "cell_type": "markdown",
   "id": "focal-bibliography",
   "metadata": {},
   "source": [
    "#### Predição do modelo"
   ]
  },
  {
   "cell_type": "code",
   "execution_count": 812,
   "id": "cultural-dealing",
   "metadata": {},
   "outputs": [
    {
     "data": {
      "text/plain": [
       "array([0, 1, 0, 0, 1, 1, 1, 1, 1, 0, 0, 1, 1, 0, 0, 1, 1, 0, 1, 0, 0, 0,\n",
       "       0, 1, 0, 0, 0, 0, 1, 0, 0, 1, 1, 0, 0, 1, 1, 0, 0, 0, 0, 0, 0, 1,\n",
       "       0, 0, 1, 0, 0, 1, 0, 1, 1, 0, 1, 0, 1, 0, 1, 0, 1, 1, 1, 0, 1, 0,\n",
       "       1, 0, 1, 1, 0, 0, 1, 0, 0, 0, 1, 0, 0, 0, 0, 1, 1, 1, 1, 1, 1, 1,\n",
       "       1, 0, 1, 1, 1, 1, 1, 1, 0, 1, 1, 1, 0, 1, 0, 0, 0, 0, 0, 1, 0, 1,\n",
       "       0, 1, 1, 1, 1, 1, 1, 0, 0, 1, 0, 1, 0, 1, 0, 0, 0, 0, 0, 0, 1, 1,\n",
       "       1, 0, 1, 1, 1, 0, 0, 0, 1, 0, 0, 1, 0, 0, 0, 0, 0, 0, 1, 1, 0, 1,\n",
       "       0, 0, 0, 1, 0, 0, 0, 0, 0, 1, 1, 1, 0, 1, 0, 0, 1, 1, 1, 1, 1, 1,\n",
       "       0, 0, 0, 0, 1, 1, 1, 0, 1, 1, 0, 0, 0, 0, 0, 1, 0, 1, 1, 1, 1, 1,\n",
       "       0, 0, 1, 0, 0, 1, 1, 1, 1, 0, 1, 0, 0, 1, 1, 0, 1, 1, 0, 0, 1, 1,\n",
       "       1, 0, 0, 1, 1, 1, 0, 1, 0, 0, 1, 1, 1, 0, 1, 0, 0, 0, 1, 1, 0, 1,\n",
       "       1, 0, 1, 0, 1, 1, 1, 1, 0, 0, 1, 1, 0, 1, 0, 1, 1, 0, 0, 1, 0, 1,\n",
       "       0, 1, 0, 0, 1, 1, 1, 0, 0, 0, 0, 1, 1, 1, 1, 0, 1, 1, 0, 1, 1, 0,\n",
       "       1, 0, 1, 0, 1, 0, 1, 0, 0, 0, 1, 1, 0, 1, 1, 1, 0, 1, 1, 1, 0, 1,\n",
       "       1, 1, 0, 1, 1, 1, 1, 1, 0, 1, 1, 1, 1, 0, 0, 1, 1, 1, 1, 0, 1, 0,\n",
       "       1, 0, 0, 1, 0, 0, 1, 1, 0, 1, 0, 0, 1, 0, 0, 0, 0, 1, 0, 0, 1, 0,\n",
       "       0, 0, 1, 1, 0, 0, 1, 1, 1, 1, 1, 1, 0, 1, 1, 1, 1, 1, 0, 0, 1, 0,\n",
       "       1, 0, 1, 1, 0, 0, 0, 0, 1, 1, 1, 0, 0, 1, 1, 0, 0, 0, 0, 1, 1, 1,\n",
       "       1, 0, 0, 0, 1, 1, 0, 0, 0, 0, 1, 1, 1, 1, 0, 0, 1, 0, 0, 1, 0, 0,\n",
       "       1, 1, 1, 1, 1, 0, 0, 1, 0, 1, 1, 0, 0, 0, 0, 1, 1, 0, 1, 1, 0, 0,\n",
       "       1, 0, 1, 0, 0, 1, 0, 1, 0, 0, 1, 1, 1, 0, 1, 1, 1, 0, 1, 1, 0, 0,\n",
       "       1, 0, 0, 1, 1, 0, 1, 0, 1, 0, 1, 1, 1, 1, 0, 1, 0, 1, 1, 1, 0, 0,\n",
       "       1, 0, 0, 0, 0, 1, 1, 1, 1, 1, 0, 0, 0, 1, 0, 1, 1, 0, 0, 1, 0, 1,\n",
       "       0, 1, 0, 0, 0, 1, 1, 0, 0, 1, 0, 0, 1, 1, 1, 1, 1, 1, 0, 0, 0, 0,\n",
       "       0, 0, 1, 1, 0, 1, 1, 0, 1, 1, 0, 0, 0, 1, 0, 0, 1, 1, 0, 1, 1, 0,\n",
       "       1, 1, 0, 1, 1, 1, 0, 0, 0, 0, 1, 0, 1, 1, 1, 0, 1, 0, 0, 1, 1, 0,\n",
       "       1, 0, 1, 1, 0, 0, 1, 0, 1, 1, 1, 0, 0, 0, 1, 0, 1, 1, 1, 1, 1, 0,\n",
       "       0, 1, 1, 1, 1, 0, 0, 1, 1, 1, 0, 1, 0, 0, 0, 0, 1, 0, 0, 0, 1, 1,\n",
       "       0, 1, 1, 1, 0, 0, 1, 0, 1, 1, 0, 1, 1, 1, 0, 1, 1, 0, 1, 1, 1, 0,\n",
       "       1, 0, 0, 0, 1, 1, 0, 1, 1, 0, 1, 0, 1, 0, 1, 0, 0, 1, 0, 1, 1, 0,\n",
       "       0, 0, 0, 1, 1, 1, 0, 1, 1, 0, 0, 0, 0, 0, 1, 0, 0, 1, 1, 1, 1, 1,\n",
       "       1, 1, 0, 0, 1, 0, 1, 1, 0, 0, 1, 1, 1, 1, 1, 0, 0, 1, 0, 0, 1, 0,\n",
       "       1, 1, 1, 0, 0, 1, 1, 1, 0, 1, 0, 1, 1, 1, 0, 1, 0, 0, 1, 1, 0, 1,\n",
       "       1, 0, 1, 1, 0, 1, 1, 0, 1, 1, 0, 1, 0, 1, 0, 1, 0, 1, 0, 1, 0, 0,\n",
       "       1, 1, 1, 1, 1, 1, 0, 0, 0, 0, 1, 0, 0, 1, 1, 0, 1, 0, 0, 0, 0, 1,\n",
       "       1, 0, 1, 0, 0, 0, 1, 0, 0, 0, 0, 1, 1, 0, 0, 0, 0, 0, 0, 1, 0, 0,\n",
       "       1, 1, 0, 1, 1, 0, 1, 1, 1, 0, 0, 0, 1, 1, 0, 1, 1, 0, 1, 0, 1, 1,\n",
       "       0, 1, 1, 0, 1, 0, 0, 1, 1, 1, 1, 0, 0, 0, 1, 1, 0, 1, 0, 1, 0, 0,\n",
       "       1, 0, 1, 1, 1, 0, 0, 0, 1, 1, 0, 1, 1, 1, 1, 0, 1, 1, 0, 1, 0, 0,\n",
       "       0, 0, 0, 1, 1, 1, 0, 0, 1, 1, 1, 1, 0, 0, 1, 1, 0, 1, 0, 1, 1, 0,\n",
       "       1, 0, 0, 1, 1, 0, 0, 0, 1, 1, 1, 0, 1, 1, 0, 1, 0, 1, 1, 0, 1, 0,\n",
       "       0, 0, 0, 1, 0, 1, 0, 0, 0, 1, 0, 0, 1, 0, 0, 1, 0, 1, 1, 0, 0, 1,\n",
       "       1, 1, 0, 1, 0], dtype=int64)"
      ]
     },
     "execution_count": 812,
     "metadata": {},
     "output_type": "execute_result"
    }
   ],
   "source": [
    "# com os dados de treino\n",
    "predicao_train = LR.predict(x_train)\n",
    "predicao_train"
   ]
  },
  {
   "cell_type": "code",
   "execution_count": 813,
   "id": "presidential-cyprus",
   "metadata": {},
   "outputs": [
    {
     "data": {
      "text/plain": [
       "array([0, 1, 1, 1, 0, 1, 1, 1, 1, 0, 0, 1, 0, 0, 1, 0, 0, 1, 0, 0, 0, 0,\n",
       "       1, 1, 1, 1, 1, 1, 1, 0, 1, 0, 0, 0, 0, 0, 1, 1, 0, 0, 0, 1, 0, 0,\n",
       "       0, 1, 0, 0, 1, 0, 1, 1, 1, 1, 0, 1, 0, 0, 1, 0, 0, 0, 0, 0, 1, 1,\n",
       "       0, 0, 0, 1, 1, 1, 0, 1, 1, 1, 0, 1, 1, 1, 0, 1, 0, 0, 0, 1, 0, 0,\n",
       "       0, 1, 0, 1, 0, 0, 1, 0, 1, 0, 0, 1, 0, 1, 1, 0, 0, 1, 0, 1, 1, 0,\n",
       "       1, 0, 1, 0, 0, 1, 0, 0, 1, 0, 0, 1, 0, 0, 0, 1, 0, 1, 0, 1, 0, 0,\n",
       "       0, 1, 0, 1, 0, 0, 0, 0, 0, 1, 0, 1, 0, 1, 1, 0, 0, 1, 0, 0, 1, 0,\n",
       "       0, 0, 1, 0, 1, 0, 1, 0, 1, 1, 1, 1, 0, 1, 1, 1, 0, 0, 0, 1, 0, 0,\n",
       "       1, 0, 1, 0, 0, 1, 1, 0, 0, 0, 1, 1, 0, 0, 0, 1, 0, 0, 1, 1, 0, 0,\n",
       "       0, 1, 0, 0, 0, 1, 1, 1, 0, 1, 1, 0, 1, 1, 1, 1, 0, 1, 0, 1, 1, 1,\n",
       "       0, 1, 1, 0, 1, 0, 1, 1, 1, 0, 0, 0, 1, 1, 0, 1, 1, 0, 0, 0, 1, 0,\n",
       "       1, 1, 1, 1, 1, 1, 1, 1, 0, 0, 1, 1, 0, 1, 1, 1, 1, 0, 1, 0, 1, 0,\n",
       "       0, 0, 1, 0, 1, 1, 0, 0, 1, 0, 0, 1, 0, 0, 0, 0, 1, 0, 0, 1, 0, 0,\n",
       "       1, 1, 1, 1, 0, 1, 1, 1, 1, 1, 0, 1, 0, 0, 0, 0, 0, 0, 1, 1, 0, 0,\n",
       "       0, 0, 0, 0, 0, 1, 1, 0, 0, 0, 0, 1, 1, 1, 1, 0, 1, 1, 1, 1, 0, 1,\n",
       "       0, 1, 1, 0, 0, 0, 1, 0, 0, 1, 0, 0, 0, 0, 1, 1, 0, 0, 0, 1, 1, 1,\n",
       "       0, 1, 0, 0, 0, 1, 0, 1, 1, 0, 1, 0, 1, 0, 1, 0, 0, 1, 0, 1, 0, 0,\n",
       "       1, 0, 0, 0, 1, 1, 1, 0, 0, 0, 0, 1, 0, 0, 0, 1, 0, 1, 0, 0, 1, 0,\n",
       "       0, 0, 0], dtype=int64)"
      ]
     },
     "execution_count": 813,
     "metadata": {},
     "output_type": "execute_result"
    }
   ],
   "source": [
    "# com os dados de teste\n",
    "predicao_test = LR.predict(x_test)\n",
    "predicao_test"
   ]
  },
  {
   "cell_type": "markdown",
   "id": "central-study",
   "metadata": {},
   "source": [
    "#### Avaliando o modelo com f1_score"
   ]
  },
  {
   "cell_type": "code",
   "execution_count": 814,
   "id": "confused-starter",
   "metadata": {},
   "outputs": [],
   "source": [
    "# Verificando a média de f1_score dos dados de treino e teste\n",
    "metrica_train = []\n",
    "metrica_test = []\n",
    "metrica_train.append(f1_score(y_train, predicao_train, average='micro'))\n",
    "metrica_test.append(f1_score(y_test, predicao_test, average='micro'))\n",
    "\n",
    "metrica_final_test = []\n",
    "metrica_final_train = []\n",
    "metrica_final_test.append(np.mean(metrica_test))\n",
    "metrica_final_train.append(np.mean(metrica_train))\n",
    "        "
   ]
  },
  {
   "cell_type": "code",
   "execution_count": 815,
   "id": "collect-fisher",
   "metadata": {},
   "outputs": [
    {
     "name": "stdout",
     "output_type": "stream",
     "text": [
      "[0.9418729817007535]\n",
      "\n",
      "------------------------------\n",
      "\n",
      "[0.7919799498746866]\n"
     ]
    }
   ],
   "source": [
    "# calculando a diferenca entrer as métricas de treino e teste\n",
    "diff_metrica= []\n",
    "diff_final_metrica = []\n",
    "diff_metrica.append(100*np.abs((f1_score(y_train, predicao_train, average='micro') - \\\n",
    "                                   f1_score(y_test, predicao_test, average='micro'))/\\\n",
    "                                  f1_score(y_test, predicao_test, average='micro')))\n",
    "   \n",
    "diff_final_metrica.append(np.mean(diff_metrica))\n",
    "print(metrica_final_train)\n",
    "print(\"\\n------------------------------\\n\")\n",
    "print(metrica_final_test)"
   ]
  },
  {
   "cell_type": "code",
   "execution_count": 816,
   "id": "turned-boutique",
   "metadata": {},
   "outputs": [
    {
     "name": "stdout",
     "output_type": "stream",
     "text": [
      "diferença do f1_score das métricas de treino e teste= [18.92636699322808]\n"
     ]
    }
   ],
   "source": [
    "print('diferença do f1_score das métricas de treino e teste=', diff_final_metrica)"
   ]
  },
  {
   "cell_type": "markdown",
   "id": "civic-regression",
   "metadata": {},
   "source": [
    "#### Analisando a performance"
   ]
  },
  {
   "cell_type": "markdown",
   "id": "olympic-commodity",
   "metadata": {},
   "source": [
    "* Matriz de Confusão"
   ]
  },
  {
   "cell_type": "code",
   "execution_count": 817,
   "id": "unusual-twelve",
   "metadata": {},
   "outputs": [
    {
     "data": {
      "text/html": [
       "<div><div id=b3a48023-3db1-4079-b461-c49a3b93ce4b style=\"display:none; background-color:#9D6CFF; color:white; width:200px; height:30px; padding-left:5px; border-radius:4px; flex-direction:row; justify-content:space-around; align-items:center;\" onmouseover=\"this.style.backgroundColor='#BA9BF8'\" onmouseout=\"this.style.backgroundColor='#9D6CFF'\" onclick=\"window.commands?.execute('create-mitosheet-from-dataframe-output');\">See Full Dataframe in Mito</div> <script> if (window.commands.hasCommand('create-mitosheet-from-dataframe-output')) document.getElementById('b3a48023-3db1-4079-b461-c49a3b93ce4b').style.display = 'flex' </script> <table border=\"1\" class=\"dataframe\">\n",
       "  <thead>\n",
       "    <tr style=\"text-align: right;\">\n",
       "      <th>Predito</th>\n",
       "      <th>0</th>\n",
       "      <th>1</th>\n",
       "      <th>All</th>\n",
       "    </tr>\n",
       "    <tr>\n",
       "      <th>Real</th>\n",
       "      <th></th>\n",
       "      <th></th>\n",
       "      <th></th>\n",
       "    </tr>\n",
       "  </thead>\n",
       "  <tbody>\n",
       "    <tr>\n",
       "      <th>0</th>\n",
       "      <td>415</td>\n",
       "      <td>25</td>\n",
       "      <td>440</td>\n",
       "    </tr>\n",
       "    <tr>\n",
       "      <th>1</th>\n",
       "      <td>29</td>\n",
       "      <td>460</td>\n",
       "      <td>489</td>\n",
       "    </tr>\n",
       "    <tr>\n",
       "      <th>All</th>\n",
       "      <td>444</td>\n",
       "      <td>485</td>\n",
       "      <td>929</td>\n",
       "    </tr>\n",
       "  </tbody>\n",
       "</table></div>"
      ],
      "text/plain": [
       "Predito    0    1  All\n",
       "Real                  \n",
       "0        415   25  440\n",
       "1         29  460  489\n",
       "All      444  485  929"
      ]
     },
     "execution_count": 817,
     "metadata": {},
     "output_type": "execute_result"
    }
   ],
   "source": [
    "# avaliando com os dados de treino\n",
    "matris_random= pd.crosstab(y_train, predicao_train, rownames=['Real'], colnames=['Predito'], margins=True)\n",
    "matris_random"
   ]
  },
  {
   "cell_type": "code",
   "execution_count": 818,
   "id": "numerous-atmosphere",
   "metadata": {},
   "outputs": [
    {
     "data": {
      "text/html": [
       "<div><div id=e98fb089-9f0a-4da0-8123-d92d3349574d style=\"display:none; background-color:#9D6CFF; color:white; width:200px; height:30px; padding-left:5px; border-radius:4px; flex-direction:row; justify-content:space-around; align-items:center;\" onmouseover=\"this.style.backgroundColor='#BA9BF8'\" onmouseout=\"this.style.backgroundColor='#9D6CFF'\" onclick=\"window.commands?.execute('create-mitosheet-from-dataframe-output');\">See Full Dataframe in Mito</div> <script> if (window.commands.hasCommand('create-mitosheet-from-dataframe-output')) document.getElementById('e98fb089-9f0a-4da0-8123-d92d3349574d').style.display = 'flex' </script> <table border=\"1\" class=\"dataframe\">\n",
       "  <thead>\n",
       "    <tr style=\"text-align: right;\">\n",
       "      <th>Predito</th>\n",
       "      <th>0</th>\n",
       "      <th>1</th>\n",
       "      <th>All</th>\n",
       "    </tr>\n",
       "    <tr>\n",
       "      <th>Real</th>\n",
       "      <th></th>\n",
       "      <th></th>\n",
       "      <th></th>\n",
       "    </tr>\n",
       "  </thead>\n",
       "  <tbody>\n",
       "    <tr>\n",
       "      <th>0</th>\n",
       "      <td>160</td>\n",
       "      <td>29</td>\n",
       "      <td>189</td>\n",
       "    </tr>\n",
       "    <tr>\n",
       "      <th>1</th>\n",
       "      <td>54</td>\n",
       "      <td>156</td>\n",
       "      <td>210</td>\n",
       "    </tr>\n",
       "    <tr>\n",
       "      <th>All</th>\n",
       "      <td>214</td>\n",
       "      <td>185</td>\n",
       "      <td>399</td>\n",
       "    </tr>\n",
       "  </tbody>\n",
       "</table></div>"
      ],
      "text/plain": [
       "Predito    0    1  All\n",
       "Real                  \n",
       "0        160   29  189\n",
       "1         54  156  210\n",
       "All      214  185  399"
      ]
     },
     "execution_count": 818,
     "metadata": {},
     "output_type": "execute_result"
    }
   ],
   "source": [
    "# avaliando com os dados de teste\n",
    "matris_test= pd.crosstab(y_test, predicao_test, rownames=['Real'], colnames=['Predito'], margins=True)\n",
    "matris_test"
   ]
  },
  {
   "cell_type": "markdown",
   "id": "previous-punch",
   "metadata": {},
   "source": [
    "#### Relatório de Classificação"
   ]
  },
  {
   "cell_type": "code",
   "execution_count": 819,
   "id": "scenic-differential",
   "metadata": {},
   "outputs": [
    {
     "name": "stdout",
     "output_type": "stream",
     "text": [
      "              precision    recall  f1-score   support\n",
      "\n",
      "           0       0.93      0.94      0.94       440\n",
      "           1       0.95      0.94      0.94       489\n",
      "\n",
      "    accuracy                           0.94       929\n",
      "   macro avg       0.94      0.94      0.94       929\n",
      "weighted avg       0.94      0.94      0.94       929\n",
      "\n"
     ]
    }
   ],
   "source": [
    "#avaliando com os dados de traino\n",
    "resultado_random_train = classification_report(y_train, predicao_train)\n",
    "print(resultado_random_train)"
   ]
  },
  {
   "cell_type": "code",
   "execution_count": 820,
   "id": "neural-boutique",
   "metadata": {},
   "outputs": [
    {
     "name": "stdout",
     "output_type": "stream",
     "text": [
      "              precision    recall  f1-score   support\n",
      "\n",
      "           0       0.75      0.85      0.79       189\n",
      "           1       0.84      0.74      0.79       210\n",
      "\n",
      "    accuracy                           0.79       399\n",
      "   macro avg       0.80      0.79      0.79       399\n",
      "weighted avg       0.80      0.79      0.79       399\n",
      "\n"
     ]
    }
   ],
   "source": [
    "#avaliando com os dados de teste\n",
    "resultado_extra_test = classification_report(y_test, predicao_test)\n",
    "print(resultado_extra_test)"
   ]
  },
  {
   "cell_type": "markdown",
   "id": "pharmaceutical-bargain",
   "metadata": {},
   "source": [
    "#### Aplicando Cross_Validation"
   ]
  },
  {
   "cell_type": "code",
   "execution_count": 822,
   "id": "golden-baking",
   "metadata": {},
   "outputs": [
    {
     "name": "stdout",
     "output_type": "stream",
     "text": [
      "Acurácia média: 78.13%\n",
      "Intervalo de acurácia: [61.26% ~ 95.00%]\n"
     ]
    },
    {
     "data": {
      "text/plain": [
       "<function __main__.intervalo(results)>"
      ]
     },
     "execution_count": 822,
     "metadata": {},
     "output_type": "execute_result"
    }
   ],
   "source": [
    "# avaliando a acurácia  com os dado de treino\n",
    "valid_extra = cross_val_score(LR, x_train,y_train, cv=cv, scoring= 'accuracy')\n",
    "intervalo(valid_extra)"
   ]
  },
  {
   "cell_type": "code",
   "execution_count": 823,
   "id": "revolutionary-affiliate",
   "metadata": {},
   "outputs": [
    {
     "name": "stdout",
     "output_type": "stream",
     "text": [
      "Acurácia média: 73.67%\n",
      "Intervalo de acurácia: [45.76% ~ 101.58%]\n"
     ]
    },
    {
     "data": {
      "text/plain": [
       "<function __main__.intervalo(results)>"
      ]
     },
     "execution_count": 823,
     "metadata": {},
     "output_type": "execute_result"
    }
   ],
   "source": [
    "# verificando a acurácia  com os dado de teste\n",
    "valid_test = cross_val_score(LR, x_test,y_test, cv=cv, scoring= 'accuracy')\n",
    "intervalo(valid_test)"
   ]
  },
  {
   "cell_type": "markdown",
   "id": "voluntary-infection",
   "metadata": {},
   "source": [
    "### Validando o Modelo"
   ]
  },
  {
   "cell_type": "markdown",
   "id": "joint-rough",
   "metadata": {},
   "source": [
    "#### Matriz de confusão da validação cruzada"
   ]
  },
  {
   "cell_type": "code",
   "execution_count": 826,
   "id": "freelance-advertiser",
   "metadata": {},
   "outputs": [
    {
     "data": {
      "image/png": "[encoded data removed]",
      "text/plain": [
       "<Figure size 432x288 with 2 Axes>"
      ]
     },
     "metadata": {},
     "output_type": "display_data"
    }
   ],
   "source": [
    "# avaliando com os dados de treino \n",
    "matriz_pred = cross_val_predict(LR, x_train, y_train, cv = 10)\n",
    "\n",
    "fig, ax = plt.subplots()\n",
    "sns.heatmap(confusion_matrix(y_train, matriz_pred), annot=True, \n",
    "            ax=ax, fmt='d', cmap='Reds')\n",
    "ax.set_title(\"Matriz de Confusão\", fontsize=18)\n",
    "ax.set_ylabel(\"Real\")\n",
    "ax.set_xlabel(\"Predito\")\n",
    "plt.tight_layout()"
   ]
  },
  {
   "cell_type": "code",
   "execution_count": 828,
   "id": "aboriginal-dispute",
   "metadata": {},
   "outputs": [
    {
     "data": {
      "image/png": "[encoded data removed]",
      "text/plain": [
       "<Figure size 432x288 with 2 Axes>"
      ]
     },
     "metadata": {},
     "output_type": "display_data"
    }
   ],
   "source": [
    "# avaliando com os dados de teste\n",
    "matriz_pred_test = cross_val_predict(LR, x_test, y_test, cv =10)\n",
    "\n",
    "fig, ax = plt.subplots()\n",
    "sns.heatmap(confusion_matrix(y_test, matriz_pred_test), annot=True, \n",
    "            ax=ax, fmt='d', cmap='Reds')\n",
    "ax.set_title(\"Matriz de Confusão\", fontsize=18)\n",
    "ax.set_ylabel(\"Real\")\n",
    "ax.set_xlabel(\"Predito\")\n",
    "plt.tight_layout()"
   ]
  },
  {
   "cell_type": "markdown",
   "id": "interim-ethnic",
   "metadata": {},
   "source": [
    "#### Relatório de Classificação da validação cruzada"
   ]
  },
  {
   "cell_type": "code",
   "execution_count": 830,
   "id": "ready-scholar",
   "metadata": {},
   "outputs": [
    {
     "name": "stdout",
     "output_type": "stream",
     "text": [
      "              precision    recall  f1-score   support\n",
      "\n",
      "           0       0.75      0.80      0.78       440\n",
      "           1       0.81      0.76      0.79       489\n",
      "\n",
      "    accuracy                           0.78       929\n",
      "   macro avg       0.78      0.78      0.78       929\n",
      "weighted avg       0.78      0.78      0.78       929\n",
      "\n"
     ]
    }
   ],
   "source": [
    "# avaliando com os dados de treino\n",
    "resultado_valid = classification_report(y_train, matriz_pred)\n",
    "print(resultado_valid)"
   ]
  },
  {
   "cell_type": "code",
   "execution_count": 831,
   "id": "designed-sampling",
   "metadata": {},
   "outputs": [
    {
     "name": "stdout",
     "output_type": "stream",
     "text": [
      "              precision    recall  f1-score   support\n",
      "\n",
      "           0       0.70      0.72      0.71       189\n",
      "           1       0.74      0.71      0.73       210\n",
      "\n",
      "    accuracy                           0.72       399\n",
      "   macro avg       0.72      0.72      0.72       399\n",
      "weighted avg       0.72      0.72      0.72       399\n",
      "\n"
     ]
    }
   ],
   "source": [
    "# avaliando com os dados de teste\n",
    "resultado_valid_test = classification_report(y_test, matriz_pred_test)\n",
    "print(resultado_valid_test)"
   ]
  },
  {
   "cell_type": "markdown",
   "id": "eastern-symbol",
   "metadata": {},
   "source": [
    "#### Calculando o f1 score da validação cruzada"
   ]
  },
  {
   "cell_type": "code",
   "execution_count": 832,
   "id": "bright-nature",
   "metadata": {},
   "outputs": [
    {
     "data": {
      "text/plain": [
       "array([0.83870968, 0.84946237, 0.79569892, 0.76344086, 0.8172043 ,\n",
       "       0.75268817, 0.68817204, 0.83870968, 0.77419355, 0.69565217])"
      ]
     },
     "execution_count": 832,
     "metadata": {},
     "output_type": "execute_result"
    }
   ],
   "source": [
    "#aplicando aos dado de treino\n",
    "scores_train = cross_val_score(\n",
    "    LR, x_train, y_train, cv=10, scoring='f1_micro')\n",
    "scores_train"
   ]
  },
  {
   "cell_type": "code",
   "execution_count": 833,
   "id": "capital-joining",
   "metadata": {},
   "outputs": [
    {
     "data": {
      "text/plain": [
       "0.7813931743805517"
      ]
     },
     "execution_count": 833,
     "metadata": {},
     "output_type": "execute_result"
    }
   ],
   "source": [
    "median_score_train = scores_train.mean()#calculando a média\n",
    "median_score_train"
   ]
  },
  {
   "cell_type": "code",
   "execution_count": 834,
   "id": "color-commons",
   "metadata": {},
   "outputs": [
    {
     "data": {
      "text/plain": [
       "array([0.63909774, 0.65413534, 0.71428571])"
      ]
     },
     "execution_count": 834,
     "metadata": {},
     "output_type": "execute_result"
    }
   ],
   "source": [
    "scores_test = cross_val_score(\n",
    "    LR, x_test, y_test, cv=3, scoring='f1_micro')\n",
    "scores_test"
   ]
  },
  {
   "cell_type": "code",
   "execution_count": 835,
   "id": "helpful-declaration",
   "metadata": {},
   "outputs": [
    {
     "data": {
      "text/plain": [
       "0.6691729323308272"
      ]
     },
     "execution_count": 835,
     "metadata": {},
     "output_type": "execute_result"
    }
   ],
   "source": [
    "median_score_teste = scores_test.mean()\n",
    "median_score_teste"
   ]
  },
  {
   "cell_type": "code",
   "execution_count": 836,
   "id": "pretty-humor",
   "metadata": {},
   "outputs": [],
   "source": [
    "# avaliando a diferença  entre os dados validados de treino e de teste\n",
    "diferenca= median_score_train - median_score_teste"
   ]
  },
  {
   "cell_type": "code",
   "execution_count": 837,
   "id": "fifteen-cheat",
   "metadata": {},
   "outputs": [
    {
     "name": "stdout",
     "output_type": "stream",
     "text": [
      "diferença do f1_score das métricas de treino e teste tem um overfiting = 11.222024204972447 %\n"
     ]
    }
   ],
   "source": [
    "print('diferença do f1_score das métricas de treino e teste tem um overfiting =', diferenca.sum()*100,  '%')"
   ]
  },
  {
   "cell_type": "markdown",
   "id": "pursuant-james",
   "metadata": {},
   "source": [
    "* O modelo criado com LogisticRegression não está apresentando uma performance muito boa, está com overfiting de 11% comparando os dados de treino com os dados teste, o modelo se ajusta muito bem ao conjunto de dados anteriormente observado, mas se mostra ineficaz para prever novos resultados.\n",
    "* Vou tentar aplicar um ajuste nos hiperparâmetros para tentar melhorar a performance do modelo. "
   ]
  },
  {
   "cell_type": "markdown",
   "id": "minimal-estate",
   "metadata": {},
   "source": [
    "<h2> Ajuste nos Hiperparâmetros </h2>"
   ]
  },
  {
   "cell_type": "code",
   "execution_count": 838,
   "id": "assumed-happening",
   "metadata": {},
   "outputs": [],
   "source": [
    "solvers = ['newton-cg', 'lbfgs', 'liblinear', 'sag', 'saga']\n",
    "penalty = ['l1']\n",
    "c_values = [100, 10, 1.0, 0.1, 0.01]"
   ]
  },
  {
   "cell_type": "code",
   "execution_count": 839,
   "id": "occupied-activity",
   "metadata": {},
   "outputs": [],
   "source": [
    "grid = dict(solver=solvers,penalty=penalty,C=c_values)"
   ]
  },
  {
   "cell_type": "markdown",
   "id": "liquid-taiwan",
   "metadata": {},
   "source": [
    "#### Aplicando modelo de RandomizedSearchCV"
   ]
  },
  {
   "cell_type": "code",
   "execution_count": 840,
   "id": "embedded-dryer",
   "metadata": {},
   "outputs": [],
   "source": [
    "Lr = LogisticRegression()\n",
    "hip_lr= RandomizedSearchCV(Lr, grid, cv =cv, n_jobs=-1, random_state=42, scoring='recall', error_score=0)"
   ]
  },
  {
   "cell_type": "code",
   "execution_count": 882,
   "id": "collect-sample",
   "metadata": {},
   "outputs": [
    {
     "name": "stderr",
     "output_type": "stream",
     "text": [
      "C:\\Users\\Qintess\\anaconda3\\envs\\projeto\\lib\\site-packages\\sklearn\\linear_model\\_sag.py:330: ConvergenceWarning:\n",
      "\n",
      "The max_iter was reached which means the coef_ did not converge\n",
      "\n"
     ]
    },
    {
     "data": {
      "text/plain": [
       "RandomizedSearchCV(cv=StratifiedKFold(n_splits=47, random_state=None, shuffle=True),\n",
       "                   error_score=0, estimator=LogisticRegression(), n_jobs=-1,\n",
       "                   param_distributions={'C': [100, 10, 1.0, 0.1, 0.01],\n",
       "                                        'penalty': ['l1'],\n",
       "                                        'solver': ['newton-cg', 'lbfgs',\n",
       "                                                   'liblinear', 'sag',\n",
       "                                                   'saga']},\n",
       "                   random_state=42, scoring='recall')"
      ]
     },
     "execution_count": 882,
     "metadata": {},
     "output_type": "execute_result"
    }
   ],
   "source": [
    "hip_lr.fit(x_train, y_train)"
   ]
  },
  {
   "cell_type": "markdown",
   "id": "architectural-insulin",
   "metadata": {},
   "source": [
    "#### Recuperando o melhor estimator"
   ]
  },
  {
   "cell_type": "code",
   "execution_count": 883,
   "id": "noble-stationery",
   "metadata": {},
   "outputs": [
    {
     "data": {
      "text/plain": [
       "LogisticRegression(C=10, penalty='l1', solver='saga')"
      ]
     },
     "execution_count": 883,
     "metadata": {},
     "output_type": "execute_result"
    }
   ],
   "source": [
    "lg_best = hip_lr.best_estimator_\n",
    "lg_best"
   ]
  },
  {
   "cell_type": "markdown",
   "id": "dedicated-aruba",
   "metadata": {},
   "source": [
    "#### Gerando o resultado final"
   ]
  },
  {
   "cell_type": "code",
   "execution_count": 884,
   "id": "private-taylor",
   "metadata": {},
   "outputs": [
    {
     "data": {
      "text/plain": [
       "array([0, 1, 1, 1, 0, 1, 1, 0, 1, 0, 0, 1, 0, 0, 1, 0, 0, 1, 1, 0, 0, 0,\n",
       "       1, 1, 1, 1, 1, 1, 1, 0, 1, 0, 0, 1, 1, 0, 1, 1, 0, 0, 0, 1, 0, 0,\n",
       "       0, 1, 0, 0, 1, 0, 1, 1, 1, 1, 0, 1, 0, 0, 1, 1, 0, 0, 0, 1, 1, 1,\n",
       "       1, 0, 0, 1, 1, 1, 0, 1, 1, 0, 0, 1, 1, 1, 0, 1, 1, 0, 0, 1, 0, 0,\n",
       "       0, 1, 0, 1, 0, 0, 1, 0, 1, 0, 0, 1, 0, 1, 1, 0, 0, 1, 0, 1, 1, 1,\n",
       "       1, 1, 1, 1, 0, 1, 0, 0, 1, 0, 0, 1, 0, 0, 0, 1, 1, 1, 0, 1, 0, 0,\n",
       "       0, 1, 0, 1, 0, 0, 0, 0, 1, 1, 0, 1, 0, 1, 1, 0, 0, 1, 0, 0, 0, 0,\n",
       "       0, 0, 1, 0, 1, 0, 1, 0, 1, 1, 1, 1, 0, 1, 1, 1, 1, 0, 0, 1, 0, 0,\n",
       "       1, 0, 1, 0, 0, 1, 1, 0, 0, 0, 1, 1, 0, 1, 1, 1, 0, 1, 1, 1, 0, 0,\n",
       "       0, 1, 0, 0, 0, 1, 1, 1, 0, 1, 1, 0, 1, 1, 1, 1, 0, 1, 1, 1, 1, 1,\n",
       "       0, 1, 1, 0, 1, 0, 1, 1, 1, 0, 0, 0, 1, 1, 0, 0, 1, 0, 0, 0, 1, 0,\n",
       "       1, 1, 1, 1, 1, 1, 1, 1, 0, 1, 1, 1, 0, 1, 1, 1, 1, 0, 1, 0, 1, 1,\n",
       "       1, 0, 1, 0, 1, 1, 0, 0, 1, 0, 0, 1, 0, 0, 0, 0, 1, 0, 0, 0, 0, 0,\n",
       "       1, 1, 1, 1, 0, 1, 1, 1, 1, 1, 0, 1, 0, 0, 0, 0, 0, 1, 1, 1, 0, 0,\n",
       "       0, 0, 1, 0, 0, 1, 1, 0, 0, 0, 0, 1, 1, 0, 1, 0, 1, 1, 1, 1, 0, 1,\n",
       "       0, 0, 1, 0, 0, 0, 1, 0, 0, 1, 1, 0, 1, 0, 1, 1, 0, 0, 0, 1, 1, 1,\n",
       "       0, 1, 0, 0, 0, 1, 0, 1, 1, 0, 1, 0, 1, 0, 1, 0, 0, 1, 0, 1, 1, 0,\n",
       "       0, 0, 0, 0, 1, 1, 1, 0, 0, 0, 0, 1, 0, 1, 0, 1, 0, 1, 0, 1, 1, 1,\n",
       "       0, 0, 0], dtype=int64)"
      ]
     },
     "execution_count": 884,
     "metadata": {},
     "output_type": "execute_result"
    }
   ],
   "source": [
    "resultado_final_test_lg = lg_best.predict(x_test)\n",
    "resultado_final_test_lg"
   ]
  },
  {
   "cell_type": "code",
   "execution_count": 885,
   "id": "cordless-postage",
   "metadata": {},
   "outputs": [
    {
     "data": {
      "text/plain": [
       "array([0, 1, 0, 0, 0, 1, 1, 1, 1, 0, 0, 1, 1, 0, 0, 0, 1, 0, 0, 0, 0, 0,\n",
       "       0, 1, 1, 0, 0, 1, 0, 0, 1, 1, 0, 0, 0, 1, 1, 1, 0, 0, 0, 0, 0, 1,\n",
       "       0, 0, 1, 0, 0, 1, 0, 1, 1, 0, 1, 0, 1, 0, 1, 0, 1, 1, 1, 0, 1, 0,\n",
       "       1, 0, 1, 1, 0, 0, 1, 0, 0, 0, 1, 0, 0, 0, 0, 1, 1, 1, 1, 1, 1, 1,\n",
       "       1, 0, 1, 1, 1, 1, 1, 1, 0, 1, 1, 1, 0, 1, 1, 0, 1, 0, 0, 1, 0, 0,\n",
       "       0, 1, 1, 1, 1, 1, 1, 0, 0, 1, 0, 1, 0, 1, 0, 0, 0, 0, 0, 0, 1, 1,\n",
       "       1, 0, 1, 1, 1, 0, 1, 0, 1, 0, 0, 1, 0, 0, 0, 0, 1, 0, 0, 1, 0, 1,\n",
       "       1, 0, 0, 1, 0, 0, 0, 0, 0, 1, 1, 1, 0, 1, 0, 0, 1, 1, 1, 1, 1, 1,\n",
       "       0, 0, 0, 0, 1, 1, 0, 0, 1, 1, 0, 0, 1, 0, 0, 1, 0, 1, 1, 1, 1, 1,\n",
       "       0, 0, 1, 0, 0, 1, 1, 0, 1, 0, 1, 0, 0, 1, 1, 0, 1, 1, 0, 0, 1, 1,\n",
       "       1, 0, 0, 1, 1, 0, 0, 1, 0, 0, 0, 1, 1, 0, 0, 0, 0, 0, 1, 1, 0, 1,\n",
       "       0, 0, 1, 0, 1, 1, 1, 1, 1, 1, 1, 1, 1, 1, 1, 1, 1, 0, 0, 1, 0, 1,\n",
       "       0, 1, 0, 0, 1, 0, 1, 0, 0, 0, 1, 1, 1, 1, 1, 0, 1, 1, 1, 1, 0, 0,\n",
       "       1, 0, 1, 0, 1, 0, 1, 0, 0, 0, 0, 1, 0, 1, 1, 1, 0, 1, 1, 0, 0, 1,\n",
       "       1, 1, 1, 1, 1, 1, 1, 1, 0, 1, 0, 1, 0, 0, 0, 1, 0, 1, 1, 0, 1, 0,\n",
       "       1, 0, 0, 1, 0, 0, 1, 1, 1, 0, 0, 0, 1, 0, 0, 0, 0, 1, 0, 0, 1, 0,\n",
       "       0, 0, 1, 1, 0, 0, 1, 1, 1, 1, 1, 1, 0, 1, 1, 1, 1, 1, 0, 0, 1, 0,\n",
       "       1, 0, 1, 1, 0, 0, 0, 0, 1, 1, 1, 1, 0, 1, 0, 0, 1, 0, 1, 1, 1, 1,\n",
       "       1, 0, 1, 0, 1, 1, 0, 0, 0, 0, 1, 1, 1, 1, 0, 0, 1, 0, 1, 1, 0, 0,\n",
       "       1, 1, 1, 1, 1, 1, 1, 0, 0, 1, 1, 0, 1, 0, 0, 1, 1, 0, 1, 1, 0, 0,\n",
       "       1, 0, 1, 0, 0, 1, 0, 1, 0, 0, 1, 1, 1, 0, 0, 1, 1, 0, 1, 1, 0, 0,\n",
       "       1, 0, 0, 1, 1, 0, 1, 0, 1, 0, 1, 1, 1, 0, 0, 1, 0, 1, 1, 1, 0, 0,\n",
       "       0, 0, 0, 0, 0, 1, 1, 0, 1, 1, 0, 0, 0, 1, 0, 1, 0, 0, 1, 1, 0, 1,\n",
       "       0, 1, 0, 1, 0, 1, 1, 0, 1, 1, 0, 0, 1, 1, 1, 0, 0, 1, 0, 1, 0, 0,\n",
       "       0, 0, 1, 1, 0, 1, 1, 0, 1, 1, 0, 0, 0, 0, 0, 1, 1, 0, 0, 0, 1, 0,\n",
       "       1, 1, 0, 1, 1, 1, 1, 0, 0, 0, 1, 0, 1, 1, 1, 0, 1, 0, 0, 1, 1, 0,\n",
       "       0, 0, 1, 1, 0, 0, 1, 0, 1, 1, 0, 0, 0, 0, 1, 1, 1, 0, 0, 1, 1, 0,\n",
       "       0, 1, 1, 1, 1, 0, 1, 1, 1, 1, 0, 1, 0, 0, 0, 0, 1, 0, 0, 0, 1, 0,\n",
       "       0, 1, 1, 1, 0, 0, 1, 0, 1, 1, 1, 1, 1, 1, 0, 1, 1, 1, 1, 1, 1, 0,\n",
       "       1, 1, 0, 0, 1, 1, 0, 1, 1, 0, 1, 0, 1, 1, 1, 1, 0, 1, 0, 1, 1, 0,\n",
       "       1, 0, 0, 1, 1, 1, 0, 0, 1, 1, 0, 0, 0, 0, 1, 0, 0, 1, 1, 1, 1, 1,\n",
       "       0, 1, 0, 0, 1, 0, 1, 1, 0, 0, 1, 1, 1, 1, 1, 0, 0, 1, 0, 0, 1, 0,\n",
       "       1, 1, 1, 0, 0, 1, 1, 1, 1, 1, 0, 0, 1, 1, 1, 1, 0, 0, 1, 1, 0, 1,\n",
       "       0, 0, 1, 1, 0, 1, 1, 0, 0, 1, 0, 1, 0, 0, 0, 1, 0, 0, 0, 1, 0, 0,\n",
       "       1, 1, 1, 1, 1, 1, 0, 0, 1, 0, 0, 1, 0, 1, 1, 0, 1, 0, 0, 0, 1, 1,\n",
       "       1, 0, 1, 0, 0, 0, 0, 0, 0, 1, 0, 1, 1, 0, 0, 0, 0, 0, 0, 0, 0, 0,\n",
       "       1, 1, 0, 1, 1, 1, 1, 1, 1, 0, 0, 0, 1, 1, 0, 1, 1, 1, 1, 0, 1, 1,\n",
       "       0, 1, 0, 1, 1, 0, 0, 1, 1, 1, 1, 0, 0, 0, 0, 1, 0, 1, 0, 1, 1, 0,\n",
       "       1, 0, 1, 1, 1, 0, 0, 0, 1, 1, 0, 1, 1, 1, 1, 0, 1, 0, 0, 1, 0, 0,\n",
       "       0, 0, 0, 1, 1, 1, 1, 0, 0, 0, 1, 1, 0, 0, 1, 1, 0, 1, 0, 0, 1, 0,\n",
       "       1, 0, 0, 1, 1, 0, 0, 0, 1, 1, 1, 0, 0, 1, 0, 1, 0, 1, 1, 0, 1, 0,\n",
       "       0, 1, 0, 0, 0, 0, 0, 0, 1, 0, 0, 0, 1, 0, 0, 1, 0, 1, 1, 0, 0, 1,\n",
       "       1, 0, 0, 1, 0], dtype=int64)"
      ]
     },
     "execution_count": 885,
     "metadata": {},
     "output_type": "execute_result"
    }
   ],
   "source": [
    "resultado_final_train_lg = lg_best.predict(x_train)\n",
    "resultado_final_train_lg"
   ]
  },
  {
   "cell_type": "markdown",
   "id": "decimal-matter",
   "metadata": {},
   "source": [
    "### Avaliando o modelo com f1_score"
   ]
  },
  {
   "cell_type": "code",
   "execution_count": 886,
   "id": "strange-audience",
   "metadata": {},
   "outputs": [],
   "source": [
    "# Verificando a média de f1_score dos dados de treino e teste\n",
    "ajuste_metrica_train = []\n",
    "ajuste_metrica_test = []\n",
    "ajuste_metrica_train.append(f1_score(y_train, resultado_final_train_lg, average='micro'))\n",
    "ajuste_metrica_test.append(f1_score(y_test, resultado_final_test_lg, average='micro'))\n",
    "\n",
    "ajuste_metrica_final_test = []\n",
    "ajuste_metrica_final_train = []\n",
    "ajuste_metrica_final_test.append(np.mean(ajuste_metrica_test))\n",
    "ajuste_metrica_final_train.append(np.mean(ajuste_metrica_train))"
   ]
  },
  {
   "cell_type": "code",
   "execution_count": 887,
   "id": "noble-hotel",
   "metadata": {},
   "outputs": [],
   "source": [
    "# calculando a diferenca entrer as métricas de treino e teste\n",
    "ajuste_diff_metrica= []\n",
    "ajuste_diff_final_metrica = []\n",
    "ajuste_diff_metrica.append(100*np.abs((f1_score(y_train,resultado_final_train_lg, average='micro') - \\\n",
    "                                   f1_score(y_test, resultado_final_test_lg, average='micro'))/\\\n",
    "                                  f1_score(y_test, resultado_final_test_lg, average='micro')))\n",
    "   \n",
    "ajuste_diff_final_metrica.append(np.mean(ajuste_diff_metrica))"
   ]
  },
  {
   "cell_type": "code",
   "execution_count": 888,
   "id": "finnish-oracle",
   "metadata": {},
   "outputs": [
    {
     "name": "stdout",
     "output_type": "stream",
     "text": [
      "[0.8202368137782562]\n",
      "\n",
      "------------------------------\n",
      "\n",
      "[0.7368421052631579]\n"
     ]
    }
   ],
   "source": [
    "print(ajuste_metrica_final_train)\n",
    "print(\"\\n------------------------------\\n\")\n",
    "print(ajuste_metrica_final_test)"
   ]
  },
  {
   "cell_type": "code",
   "execution_count": 889,
   "id": "periodic-underground",
   "metadata": {},
   "outputs": [
    {
     "name": "stdout",
     "output_type": "stream",
     "text": [
      "diferença do f1_score das métricas de treino e teste= [11.317853298477631]\n"
     ]
    }
   ],
   "source": [
    "print('diferença do f1_score das métricas de treino e teste=', ajuste_diff_final_metrica)"
   ]
  },
  {
   "cell_type": "markdown",
   "id": "sensitive-virtue",
   "metadata": {},
   "source": [
    "#### Aplicando validacao Cruzada"
   ]
  },
  {
   "cell_type": "code",
   "execution_count": 890,
   "id": "determined-entry",
   "metadata": {},
   "outputs": [
    {
     "name": "stderr",
     "output_type": "stream",
     "text": [
      "C:\\Users\\Qintess\\anaconda3\\envs\\projeto\\lib\\site-packages\\sklearn\\linear_model\\_sag.py:330: ConvergenceWarning:\n",
      "\n",
      "The max_iter was reached which means the coef_ did not converge\n",
      "\n",
      "C:\\Users\\Qintess\\anaconda3\\envs\\projeto\\lib\\site-packages\\sklearn\\linear_model\\_sag.py:330: ConvergenceWarning:\n",
      "\n",
      "The max_iter was reached which means the coef_ did not converge\n",
      "\n",
      "C:\\Users\\Qintess\\anaconda3\\envs\\projeto\\lib\\site-packages\\sklearn\\linear_model\\_sag.py:330: ConvergenceWarning:\n",
      "\n",
      "The max_iter was reached which means the coef_ did not converge\n",
      "\n",
      "C:\\Users\\Qintess\\anaconda3\\envs\\projeto\\lib\\site-packages\\sklearn\\linear_model\\_sag.py:330: ConvergenceWarning:\n",
      "\n",
      "The max_iter was reached which means the coef_ did not converge\n",
      "\n",
      "C:\\Users\\Qintess\\anaconda3\\envs\\projeto\\lib\\site-packages\\sklearn\\linear_model\\_sag.py:330: ConvergenceWarning:\n",
      "\n",
      "The max_iter was reached which means the coef_ did not converge\n",
      "\n",
      "C:\\Users\\Qintess\\anaconda3\\envs\\projeto\\lib\\site-packages\\sklearn\\linear_model\\_sag.py:330: ConvergenceWarning:\n",
      "\n",
      "The max_iter was reached which means the coef_ did not converge\n",
      "\n",
      "C:\\Users\\Qintess\\anaconda3\\envs\\projeto\\lib\\site-packages\\sklearn\\linear_model\\_sag.py:330: ConvergenceWarning:\n",
      "\n",
      "The max_iter was reached which means the coef_ did not converge\n",
      "\n",
      "C:\\Users\\Qintess\\anaconda3\\envs\\projeto\\lib\\site-packages\\sklearn\\linear_model\\_sag.py:330: ConvergenceWarning:\n",
      "\n",
      "The max_iter was reached which means the coef_ did not converge\n",
      "\n",
      "C:\\Users\\Qintess\\anaconda3\\envs\\projeto\\lib\\site-packages\\sklearn\\linear_model\\_sag.py:330: ConvergenceWarning:\n",
      "\n",
      "The max_iter was reached which means the coef_ did not converge\n",
      "\n",
      "C:\\Users\\Qintess\\anaconda3\\envs\\projeto\\lib\\site-packages\\sklearn\\linear_model\\_sag.py:330: ConvergenceWarning:\n",
      "\n",
      "The max_iter was reached which means the coef_ did not converge\n",
      "\n"
     ]
    }
   ],
   "source": [
    "score_sv = cross_val_score(\n",
    "    lg_best, x_test, y_test, cv=10, scoring='f1_micro')"
   ]
  },
  {
   "cell_type": "code",
   "execution_count": 891,
   "id": "objective-injury",
   "metadata": {},
   "outputs": [
    {
     "name": "stderr",
     "output_type": "stream",
     "text": [
      "C:\\Users\\Qintess\\anaconda3\\envs\\projeto\\lib\\site-packages\\sklearn\\linear_model\\_sag.py:330: ConvergenceWarning:\n",
      "\n",
      "The max_iter was reached which means the coef_ did not converge\n",
      "\n",
      "C:\\Users\\Qintess\\anaconda3\\envs\\projeto\\lib\\site-packages\\sklearn\\linear_model\\_sag.py:330: ConvergenceWarning:\n",
      "\n",
      "The max_iter was reached which means the coef_ did not converge\n",
      "\n",
      "C:\\Users\\Qintess\\anaconda3\\envs\\projeto\\lib\\site-packages\\sklearn\\linear_model\\_sag.py:330: ConvergenceWarning:\n",
      "\n",
      "The max_iter was reached which means the coef_ did not converge\n",
      "\n",
      "C:\\Users\\Qintess\\anaconda3\\envs\\projeto\\lib\\site-packages\\sklearn\\linear_model\\_sag.py:330: ConvergenceWarning:\n",
      "\n",
      "The max_iter was reached which means the coef_ did not converge\n",
      "\n",
      "C:\\Users\\Qintess\\anaconda3\\envs\\projeto\\lib\\site-packages\\sklearn\\linear_model\\_sag.py:330: ConvergenceWarning:\n",
      "\n",
      "The max_iter was reached which means the coef_ did not converge\n",
      "\n",
      "C:\\Users\\Qintess\\anaconda3\\envs\\projeto\\lib\\site-packages\\sklearn\\linear_model\\_sag.py:330: ConvergenceWarning:\n",
      "\n",
      "The max_iter was reached which means the coef_ did not converge\n",
      "\n",
      "C:\\Users\\Qintess\\anaconda3\\envs\\projeto\\lib\\site-packages\\sklearn\\linear_model\\_sag.py:330: ConvergenceWarning:\n",
      "\n",
      "The max_iter was reached which means the coef_ did not converge\n",
      "\n",
      "C:\\Users\\Qintess\\anaconda3\\envs\\projeto\\lib\\site-packages\\sklearn\\linear_model\\_sag.py:330: ConvergenceWarning:\n",
      "\n",
      "The max_iter was reached which means the coef_ did not converge\n",
      "\n",
      "C:\\Users\\Qintess\\anaconda3\\envs\\projeto\\lib\\site-packages\\sklearn\\linear_model\\_sag.py:330: ConvergenceWarning:\n",
      "\n",
      "The max_iter was reached which means the coef_ did not converge\n",
      "\n",
      "C:\\Users\\Qintess\\anaconda3\\envs\\projeto\\lib\\site-packages\\sklearn\\linear_model\\_sag.py:330: ConvergenceWarning:\n",
      "\n",
      "The max_iter was reached which means the coef_ did not converge\n",
      "\n"
     ]
    },
    {
     "data": {
      "image/png": "[encoded data removed]",
      "text/plain": [
       "<Figure size 432x288 with 2 Axes>"
      ]
     },
     "metadata": {},
     "output_type": "display_data"
    }
   ],
   "source": [
    "# avaliando com os dados de teste\n",
    "matriz_test_rd = cross_val_predict(lg_best, x_test, y_test, cv =10)\n",
    "\n",
    "fig, ax = plt.subplots()\n",
    "sns.heatmap(confusion_matrix(y_test, matriz_test_rd), annot=True, \n",
    "            ax=ax, fmt='d', cmap='Reds')\n",
    "ax.set_title(\"Matriz de Confusão\", fontsize=18)\n",
    "ax.set_ylabel(\"Real\")\n",
    "ax.set_xlabel(\"Predito\")\n",
    "plt.tight_layout()"
   ]
  },
  {
   "cell_type": "code",
   "execution_count": 1162,
   "id": "nervous-studio",
   "metadata": {},
   "outputs": [
    {
     "name": "stdout",
     "output_type": "stream",
     "text": [
      "              precision    recall  f1-score   support\n",
      "\n",
      "           0       0.70      0.67      0.68       189\n",
      "           1       0.71      0.74      0.73       210\n",
      "\n",
      "    accuracy                           0.71       399\n",
      "   macro avg       0.71      0.71      0.71       399\n",
      "weighted avg       0.71      0.71      0.71       399\n",
      "\n"
     ]
    }
   ],
   "source": [
    "# avaliando com os dados de teste\n",
    "resultado_test_lg = classification_report(y_test, matriz_test_rd)\n",
    "print(resultado_test_lg)"
   ]
  },
  {
   "cell_type": "code",
   "execution_count": 892,
   "id": "anticipated-component",
   "metadata": {},
   "outputs": [
    {
     "data": {
      "text/plain": [
       "0.7066666666666668"
      ]
     },
     "execution_count": 892,
     "metadata": {},
     "output_type": "execute_result"
    }
   ],
   "source": [
    "score_sv= score_sv.mean()\n",
    "score_sv"
   ]
  },
  {
   "cell_type": "code",
   "execution_count": 893,
   "id": "educational-victorian",
   "metadata": {},
   "outputs": [
    {
     "name": "stderr",
     "output_type": "stream",
     "text": [
      "C:\\Users\\Qintess\\anaconda3\\envs\\projeto\\lib\\site-packages\\sklearn\\linear_model\\_sag.py:330: ConvergenceWarning:\n",
      "\n",
      "The max_iter was reached which means the coef_ did not converge\n",
      "\n",
      "C:\\Users\\Qintess\\anaconda3\\envs\\projeto\\lib\\site-packages\\sklearn\\linear_model\\_sag.py:330: ConvergenceWarning:\n",
      "\n",
      "The max_iter was reached which means the coef_ did not converge\n",
      "\n",
      "C:\\Users\\Qintess\\anaconda3\\envs\\projeto\\lib\\site-packages\\sklearn\\linear_model\\_sag.py:330: ConvergenceWarning:\n",
      "\n",
      "The max_iter was reached which means the coef_ did not converge\n",
      "\n",
      "C:\\Users\\Qintess\\anaconda3\\envs\\projeto\\lib\\site-packages\\sklearn\\linear_model\\_sag.py:330: ConvergenceWarning:\n",
      "\n",
      "The max_iter was reached which means the coef_ did not converge\n",
      "\n",
      "C:\\Users\\Qintess\\anaconda3\\envs\\projeto\\lib\\site-packages\\sklearn\\linear_model\\_sag.py:330: ConvergenceWarning:\n",
      "\n",
      "The max_iter was reached which means the coef_ did not converge\n",
      "\n",
      "C:\\Users\\Qintess\\anaconda3\\envs\\projeto\\lib\\site-packages\\sklearn\\linear_model\\_sag.py:330: ConvergenceWarning:\n",
      "\n",
      "The max_iter was reached which means the coef_ did not converge\n",
      "\n",
      "C:\\Users\\Qintess\\anaconda3\\envs\\projeto\\lib\\site-packages\\sklearn\\linear_model\\_sag.py:330: ConvergenceWarning:\n",
      "\n",
      "The max_iter was reached which means the coef_ did not converge\n",
      "\n",
      "C:\\Users\\Qintess\\anaconda3\\envs\\projeto\\lib\\site-packages\\sklearn\\linear_model\\_sag.py:330: ConvergenceWarning:\n",
      "\n",
      "The max_iter was reached which means the coef_ did not converge\n",
      "\n",
      "C:\\Users\\Qintess\\anaconda3\\envs\\projeto\\lib\\site-packages\\sklearn\\linear_model\\_sag.py:330: ConvergenceWarning:\n",
      "\n",
      "The max_iter was reached which means the coef_ did not converge\n",
      "\n",
      "C:\\Users\\Qintess\\anaconda3\\envs\\projeto\\lib\\site-packages\\sklearn\\linear_model\\_sag.py:330: ConvergenceWarning:\n",
      "\n",
      "The max_iter was reached which means the coef_ did not converge\n",
      "\n"
     ]
    }
   ],
   "source": [
    "score_lg_train = cross_val_score(\n",
    "    lg_best, X_over, y_over, cv=10, scoring='f1_micro')"
   ]
  },
  {
   "cell_type": "code",
   "execution_count": 897,
   "id": "recent-citizenship",
   "metadata": {},
   "outputs": [
    {
     "name": "stderr",
     "output_type": "stream",
     "text": [
      "C:\\Users\\Qintess\\anaconda3\\envs\\projeto\\lib\\site-packages\\sklearn\\linear_model\\_sag.py:330: ConvergenceWarning:\n",
      "\n",
      "The max_iter was reached which means the coef_ did not converge\n",
      "\n",
      "C:\\Users\\Qintess\\anaconda3\\envs\\projeto\\lib\\site-packages\\sklearn\\linear_model\\_sag.py:330: ConvergenceWarning:\n",
      "\n",
      "The max_iter was reached which means the coef_ did not converge\n",
      "\n",
      "C:\\Users\\Qintess\\anaconda3\\envs\\projeto\\lib\\site-packages\\sklearn\\linear_model\\_sag.py:330: ConvergenceWarning:\n",
      "\n",
      "The max_iter was reached which means the coef_ did not converge\n",
      "\n",
      "C:\\Users\\Qintess\\anaconda3\\envs\\projeto\\lib\\site-packages\\sklearn\\linear_model\\_sag.py:330: ConvergenceWarning:\n",
      "\n",
      "The max_iter was reached which means the coef_ did not converge\n",
      "\n",
      "C:\\Users\\Qintess\\anaconda3\\envs\\projeto\\lib\\site-packages\\sklearn\\linear_model\\_sag.py:330: ConvergenceWarning:\n",
      "\n",
      "The max_iter was reached which means the coef_ did not converge\n",
      "\n"
     ]
    },
    {
     "data": {
      "image/png": "[encoded data removed]",
      "text/plain": [
       "<Figure size 432x288 with 2 Axes>"
      ]
     },
     "metadata": {},
     "output_type": "display_data"
    }
   ],
   "source": [
    "# avaliando com os dados de treino \n",
    "matriz_rd = cross_val_predict(lg_best, x_train, y_train, cv = 5)\n",
    "\n",
    "fig, ax = plt.subplots()\n",
    "sns.heatmap(confusion_matrix(y_train, matriz_rd), annot=True, \n",
    "            ax=ax, fmt='d', cmap='Reds')\n",
    "ax.set_title(\"Matriz de Confusão\", fontsize=18)\n",
    "ax.set_ylabel(\"Real\")\n",
    "ax.set_xlabel(\"Predito\")\n",
    "plt.tight_layout()"
   ]
  },
  {
   "cell_type": "code",
   "execution_count": 1161,
   "id": "incredible-documentary",
   "metadata": {},
   "outputs": [
    {
     "name": "stdout",
     "output_type": "stream",
     "text": [
      "              precision    recall  f1-score   support\n",
      "\n",
      "           0       0.72      0.76      0.74       440\n",
      "           1       0.77      0.73      0.75       489\n",
      "\n",
      "    accuracy                           0.74       929\n",
      "   macro avg       0.74      0.74      0.74       929\n",
      "weighted avg       0.74      0.74      0.74       929\n",
      "\n"
     ]
    }
   ],
   "source": [
    "# avaliando com os dados de train\n",
    "resultado_train_lg = classification_report(y_train, matriz_rd)\n",
    "print(resultado_train_lg)"
   ]
  },
  {
   "cell_type": "code",
   "execution_count": 898,
   "id": "subsequent-kuwait",
   "metadata": {},
   "outputs": [
    {
     "data": {
      "text/plain": [
       "0.7567953975848712"
      ]
     },
     "execution_count": 898,
     "metadata": {},
     "output_type": "execute_result"
    }
   ],
   "source": [
    "score_lg_train= score_lg_train.mean()\n",
    "score_lg_train"
   ]
  },
  {
   "cell_type": "code",
   "execution_count": 899,
   "id": "perfect-matrix",
   "metadata": {},
   "outputs": [],
   "source": [
    "dff_metrica_final_sv = score_lg_train - score_sv "
   ]
  },
  {
   "cell_type": "code",
   "execution_count": 900,
   "id": "intelligent-yesterday",
   "metadata": {},
   "outputs": [
    {
     "name": "stdout",
     "output_type": "stream",
     "text": [
      "diferença do f1_score das métricas de treino e teste tem um overfiting = 5.012873091820447 %\n"
     ]
    }
   ],
   "source": [
    "print('diferença do f1_score das métricas de treino e teste tem um overfiting =', dff_metrica_final_sv*100,  '%')"
   ]
  },
  {
   "cell_type": "markdown",
   "id": "incoming-precipitation",
   "metadata": {},
   "source": [
    "#### Ultilizando o modelo GridSearchCV"
   ]
  },
  {
   "cell_type": "code",
   "execution_count": 901,
   "id": "standard-atmosphere",
   "metadata": {},
   "outputs": [],
   "source": [
    "hip_lr_grid= GridSearchCV(Lr, grid, cv =cv, n_jobs=-1, scoring='recall', error_score=0)"
   ]
  },
  {
   "cell_type": "code",
   "execution_count": 902,
   "id": "cognitive-campbell",
   "metadata": {},
   "outputs": [
    {
     "data": {
      "text/plain": [
       "GridSearchCV(cv=StratifiedKFold(n_splits=47, random_state=None, shuffle=True),\n",
       "             error_score=0, estimator=LogisticRegression(), n_jobs=-1,\n",
       "             param_grid={'C': [100, 10, 1.0, 0.1, 0.01], 'penalty': ['l1'],\n",
       "                         'solver': ['newton-cg', 'lbfgs', 'liblinear', 'sag',\n",
       "                                    'saga']},\n",
       "             scoring='recall')"
      ]
     },
     "execution_count": 902,
     "metadata": {},
     "output_type": "execute_result"
    }
   ],
   "source": [
    "hip_lr_grid.fit(x_train, y_train)"
   ]
  },
  {
   "cell_type": "markdown",
   "id": "behind-sister",
   "metadata": {},
   "source": [
    "#### Recuperando o melhor estimator"
   ]
  },
  {
   "cell_type": "code",
   "execution_count": 903,
   "id": "capital-avenue",
   "metadata": {},
   "outputs": [
    {
     "data": {
      "text/plain": [
       "LogisticRegression(C=0.01, penalty='l1', solver='saga')"
      ]
     },
     "execution_count": 903,
     "metadata": {},
     "output_type": "execute_result"
    }
   ],
   "source": [
    "lg_best_grid = hip_lr_grid.best_estimator_\n",
    "lg_best_grid"
   ]
  },
  {
   "cell_type": "markdown",
   "id": "prime-remains",
   "metadata": {},
   "source": [
    "#### Gerando o resultado final"
   ]
  },
  {
   "cell_type": "code",
   "execution_count": 904,
   "id": "popular-permit",
   "metadata": {},
   "outputs": [
    {
     "data": {
      "text/plain": [
       "array([1, 1, 1, 1, 1, 1, 1, 1, 1, 1, 1, 1, 1, 1, 1, 1, 1, 1, 1, 1, 1, 1,\n",
       "       1, 1, 1, 1, 1, 1, 1, 1, 1, 1, 1, 1, 1, 1, 1, 1, 1, 1, 1, 1, 1, 1,\n",
       "       1, 1, 1, 1, 1, 1, 1, 1, 1, 1, 1, 1, 1, 1, 1, 1, 1, 1, 1, 1, 1, 1,\n",
       "       1, 1, 1, 1, 1, 1, 1, 1, 1, 1, 1, 1, 1, 1, 1, 1, 1, 1, 1, 1, 1, 1,\n",
       "       1, 1, 1, 1, 1, 1, 1, 1, 1, 1, 1, 1, 1, 1, 1, 1, 1, 1, 1, 1, 1, 1,\n",
       "       1, 1, 1, 1, 1, 1, 1, 1, 1, 1, 1, 1, 1, 1, 1, 1, 1, 1, 1, 1, 1, 1,\n",
       "       1, 1, 1, 1, 1, 1, 1, 1, 1, 1, 1, 1, 1, 1, 1, 1, 1, 1, 1, 1, 1, 1,\n",
       "       1, 1, 1, 1, 1, 1, 1, 1, 1, 1, 1, 1, 1, 1, 1, 1, 1, 1, 1, 1, 1, 1,\n",
       "       1, 1, 1, 1, 1, 1, 1, 1, 1, 1, 1, 1, 1, 1, 1, 1, 1, 1, 1, 1, 1, 1,\n",
       "       1, 1, 1, 1, 1, 1, 1, 1, 1, 1, 1, 1, 1, 1, 1, 1, 1, 1, 1, 1, 1, 1,\n",
       "       1, 1, 1, 1, 1, 1, 1, 1, 1, 1, 1, 1, 1, 1, 1, 1, 1, 1, 1, 1, 1, 1,\n",
       "       1, 1, 1, 1, 1, 1, 1, 1, 1, 1, 1, 1, 1, 1, 1, 1, 1, 1, 1, 1, 1, 1,\n",
       "       1, 1, 1, 1, 1, 1, 1, 1, 1, 1, 1, 1, 1, 1, 1, 1, 1, 1, 1, 1, 1, 1,\n",
       "       1, 1, 1, 1, 1, 1, 1, 1, 1, 1, 1, 1, 1, 1, 1, 1, 1, 1, 1, 1, 1, 1,\n",
       "       1, 1, 1, 1, 1, 1, 1, 1, 1, 1, 1, 1, 1, 1, 1, 1, 1, 1, 1, 1, 1, 1,\n",
       "       1, 1, 1, 1, 1, 1, 1, 1, 1, 1, 1, 1, 1, 1, 1, 1, 1, 1, 1, 1, 1, 1,\n",
       "       1, 1, 1, 1, 1, 1, 1, 1, 1, 1, 1, 1, 1, 1, 1, 1, 1, 1, 1, 1, 1, 1,\n",
       "       1, 1, 1, 1, 1, 1, 1, 1, 1, 1, 1, 1, 1, 1, 1, 1, 1, 1, 1, 1, 1, 1,\n",
       "       1, 1, 1], dtype=int64)"
      ]
     },
     "execution_count": 904,
     "metadata": {},
     "output_type": "execute_result"
    }
   ],
   "source": [
    "resultado_final_test_grid = lg_best_grid.predict(x_test)\n",
    "resultado_final_test_grid"
   ]
  },
  {
   "cell_type": "code",
   "execution_count": 906,
   "id": "million-joshua",
   "metadata": {},
   "outputs": [
    {
     "data": {
      "text/plain": [
       "array([1, 1, 1, 1, 1, 1, 1, 1, 1, 1, 1, 1, 1, 1, 1, 1, 1, 1, 1, 1, 1, 1,\n",
       "       1, 1, 1, 1, 1, 1, 1, 1, 1, 1, 1, 1, 1, 1, 1, 1, 1, 1, 1, 1, 1, 1,\n",
       "       1, 1, 1, 1, 1, 1, 1, 1, 1, 1, 1, 1, 1, 1, 1, 1, 1, 1, 1, 1, 1, 1,\n",
       "       1, 1, 1, 1, 1, 1, 1, 1, 1, 1, 1, 1, 1, 1, 1, 1, 1, 1, 1, 1, 1, 1,\n",
       "       1, 1, 1, 1, 1, 1, 1, 1, 1, 1, 1, 1, 1, 1, 1, 1, 1, 1, 1, 1, 1, 1,\n",
       "       1, 1, 1, 1, 1, 1, 1, 1, 1, 1, 1, 1, 1, 1, 1, 1, 1, 1, 1, 1, 1, 1,\n",
       "       1, 1, 1, 1, 1, 1, 1, 1, 1, 1, 1, 1, 1, 1, 1, 1, 1, 1, 1, 1, 1, 1,\n",
       "       1, 1, 1, 1, 1, 1, 1, 1, 1, 1, 1, 1, 1, 1, 1, 1, 1, 1, 1, 1, 1, 1,\n",
       "       1, 1, 1, 1, 1, 1, 1, 1, 1, 1, 1, 1, 1, 1, 1, 1, 1, 1, 1, 1, 1, 1,\n",
       "       1, 1, 1, 1, 1, 1, 1, 1, 1, 1, 1, 1, 1, 1, 1, 1, 1, 1, 1, 1, 1, 1,\n",
       "       1, 1, 1, 1, 1, 1, 1, 1, 1, 1, 1, 1, 1, 1, 1, 1, 1, 1, 1, 1, 1, 1,\n",
       "       1, 1, 1, 1, 1, 1, 1, 1, 1, 1, 1, 1, 1, 1, 1, 1, 1, 1, 1, 1, 1, 1,\n",
       "       1, 1, 1, 1, 1, 1, 1, 1, 1, 1, 1, 1, 1, 1, 1, 1, 1, 1, 1, 1, 1, 1,\n",
       "       1, 1, 1, 1, 1, 1, 1, 1, 1, 1, 1, 1, 1, 1, 1, 1, 1, 1, 1, 1, 1, 1,\n",
       "       1, 1, 1, 1, 1, 1, 1, 1, 1, 1, 1, 1, 1, 1, 1, 1, 1, 1, 1, 1, 1, 1,\n",
       "       1, 1, 1, 1, 1, 1, 1, 1, 1, 1, 1, 1, 1, 1, 1, 1, 1, 1, 1, 1, 1, 1,\n",
       "       1, 1, 1, 1, 1, 1, 1, 1, 1, 1, 1, 1, 1, 1, 1, 1, 1, 1, 1, 1, 1, 1,\n",
       "       1, 1, 1, 1, 1, 1, 1, 1, 1, 1, 1, 1, 1, 1, 1, 1, 1, 1, 1, 1, 1, 1,\n",
       "       1, 1, 1, 1, 1, 1, 1, 1, 1, 1, 1, 1, 1, 1, 1, 1, 1, 1, 1, 1, 1, 1,\n",
       "       1, 1, 1, 1, 1, 1, 1, 1, 1, 1, 1, 1, 1, 1, 1, 1, 1, 1, 1, 1, 1, 1,\n",
       "       1, 1, 1, 1, 1, 1, 1, 1, 1, 1, 1, 1, 1, 1, 1, 1, 1, 1, 1, 1, 1, 1,\n",
       "       1, 1, 1, 1, 1, 1, 1, 1, 1, 1, 1, 1, 1, 1, 1, 1, 1, 1, 1, 1, 1, 1,\n",
       "       1, 1, 1, 1, 1, 1, 1, 1, 1, 1, 1, 1, 1, 1, 1, 1, 1, 1, 1, 1, 1, 1,\n",
       "       1, 1, 1, 1, 1, 1, 1, 1, 1, 1, 1, 1, 1, 1, 1, 1, 1, 1, 1, 1, 1, 1,\n",
       "       1, 1, 1, 1, 1, 1, 1, 1, 1, 1, 1, 1, 1, 1, 1, 1, 1, 1, 1, 1, 1, 1,\n",
       "       1, 1, 1, 1, 1, 1, 1, 1, 1, 1, 1, 1, 1, 1, 1, 1, 1, 1, 1, 1, 1, 1,\n",
       "       1, 1, 1, 1, 1, 1, 1, 1, 1, 1, 1, 1, 1, 1, 1, 1, 1, 1, 1, 1, 1, 1,\n",
       "       1, 1, 1, 1, 1, 1, 1, 1, 1, 1, 1, 1, 1, 1, 1, 1, 1, 1, 1, 1, 1, 1,\n",
       "       1, 1, 1, 1, 1, 1, 1, 1, 1, 1, 1, 1, 1, 1, 1, 1, 1, 1, 1, 1, 1, 1,\n",
       "       1, 1, 1, 1, 1, 1, 1, 1, 1, 1, 1, 1, 1, 1, 1, 1, 1, 1, 1, 1, 1, 1,\n",
       "       1, 1, 1, 1, 1, 1, 1, 1, 1, 1, 1, 1, 1, 1, 1, 1, 1, 1, 1, 1, 1, 1,\n",
       "       1, 1, 1, 1, 1, 1, 1, 1, 1, 1, 1, 1, 1, 1, 1, 1, 1, 1, 1, 1, 1, 1,\n",
       "       1, 1, 1, 1, 1, 1, 1, 1, 1, 1, 1, 1, 1, 1, 1, 1, 1, 1, 1, 1, 1, 1,\n",
       "       1, 1, 1, 1, 1, 1, 1, 1, 1, 1, 1, 1, 1, 1, 1, 1, 1, 1, 1, 1, 1, 1,\n",
       "       1, 1, 1, 1, 1, 1, 1, 1, 1, 1, 1, 1, 1, 1, 1, 1, 1, 1, 1, 1, 1, 1,\n",
       "       1, 1, 1, 1, 1, 1, 1, 1, 1, 1, 1, 1, 1, 1, 1, 1, 1, 1, 1, 1, 1, 1,\n",
       "       1, 1, 1, 1, 1, 1, 1, 1, 1, 1, 1, 1, 1, 1, 1, 1, 1, 1, 1, 1, 1, 1,\n",
       "       1, 1, 1, 1, 1, 1, 1, 1, 1, 1, 1, 1, 1, 1, 1, 1, 1, 1, 1, 1, 1, 1,\n",
       "       1, 1, 1, 1, 1, 1, 1, 1, 1, 1, 1, 1, 1, 1, 1, 1, 1, 1, 1, 1, 1, 1,\n",
       "       1, 1, 1, 1, 1, 1, 1, 1, 1, 1, 1, 1, 1, 1, 1, 1, 1, 1, 1, 1, 1, 1,\n",
       "       1, 1, 1, 1, 1, 1, 1, 1, 1, 1, 1, 1, 1, 1, 1, 1, 1, 1, 1, 1, 1, 1,\n",
       "       1, 1, 1, 1, 1, 1, 1, 1, 1, 1, 1, 1, 1, 1, 1, 1, 1, 1, 1, 1, 1, 1,\n",
       "       1, 1, 1, 1, 1], dtype=int64)"
      ]
     },
     "execution_count": 906,
     "metadata": {},
     "output_type": "execute_result"
    }
   ],
   "source": [
    "resultado_final_train_grid = lg_best_grid.predict(x_train)\n",
    "resultado_final_train_grid"
   ]
  },
  {
   "cell_type": "markdown",
   "id": "criminal-ceremony",
   "metadata": {},
   "source": [
    "### Avaliando o modelo com f1_score"
   ]
  },
  {
   "cell_type": "code",
   "execution_count": 907,
   "id": "pending-attention",
   "metadata": {},
   "outputs": [],
   "source": [
    "# Verificando a média de f1_score dos dados de treino e teste\n",
    "ajuste_metrica_train_grid = []\n",
    "ajuste_metrica_test_grid = []\n",
    "ajuste_metrica_train_grid.append(f1_score(y_train, resultado_final_train_grid, average='micro'))\n",
    "ajuste_metrica_test_grid.append(f1_score(y_test, resultado_final_test_grid, average='micro'))\n",
    "\n",
    "ajuste_metrica_final_test_grid = []\n",
    "ajuste_metrica_final_train_grid = []\n",
    "ajuste_metrica_final_test_grid.append(np.mean(ajuste_metrica_test_grid))\n",
    "ajuste_metrica_final_train_grid.append(np.mean(ajuste_metrica_train_grid))"
   ]
  },
  {
   "cell_type": "code",
   "execution_count": 908,
   "id": "prostate-construction",
   "metadata": {},
   "outputs": [],
   "source": [
    "# calculando a diferenca entrer as métricas de treino e teste\n",
    "ajuste_diff_metrica_grid= []\n",
    "ajuste_diff_final_metrica_grid = []\n",
    "ajuste_diff_metrica_grid.append(100*np.abs((f1_score(y_train,resultado_final_train_grid, average='micro') - \\\n",
    "                                   f1_score(y_test, resultado_final_test_grid, average='micro'))/\\\n",
    "                                  f1_score(y_test, resultado_final_test_grid, average='micro')))\n",
    "   \n",
    "ajuste_diff_final_metrica_grid.append(np.mean(ajuste_diff_metrica_grid))"
   ]
  },
  {
   "cell_type": "code",
   "execution_count": 909,
   "id": "forced-updating",
   "metadata": {},
   "outputs": [
    {
     "name": "stdout",
     "output_type": "stream",
     "text": [
      "[0.5263724434876211]\n",
      "\n",
      "------------------------------\n",
      "\n",
      "[0.5263157894736842]\n"
     ]
    }
   ],
   "source": [
    "print(ajuste_metrica_final_train_grid)\n",
    "print(\"\\n------------------------------\\n\")\n",
    "print(ajuste_metrica_final_test_grid)"
   ]
  },
  {
   "cell_type": "code",
   "execution_count": 910,
   "id": "governmental-premiere",
   "metadata": {},
   "outputs": [
    {
     "name": "stdout",
     "output_type": "stream",
     "text": [
      "diferença do f1_score das métricas de treino e teste= [0.010764262648020884]\n"
     ]
    }
   ],
   "source": [
    "print('diferença do f1_score das métricas de treino e teste=', ajuste_diff_final_metrica_grid)"
   ]
  },
  {
   "cell_type": "markdown",
   "id": "upset-passenger",
   "metadata": {},
   "source": [
    "#### Aplicando validacao Cruzada"
   ]
  },
  {
   "cell_type": "code",
   "execution_count": 911,
   "id": "uniform-switch",
   "metadata": {},
   "outputs": [
    {
     "data": {
      "image/png": "[encoded data removed]",
      "text/plain": [
       "<Figure size 432x288 with 2 Axes>"
      ]
     },
     "metadata": {},
     "output_type": "display_data"
    }
   ],
   "source": [
    "# avaliando com os dados de teste\n",
    "matriz_test_grid = cross_val_predict( lg_best_grid, x_test, y_test, cv =10)\n",
    "\n",
    "fig, ax = plt.subplots()\n",
    "sns.heatmap(confusion_matrix(y_test, matriz_test_grid), annot=True, \n",
    "            ax=ax, fmt='d', cmap='Reds')\n",
    "ax.set_title(\"Matriz de Confusão\", fontsize=18)\n",
    "ax.set_ylabel(\"Real\")\n",
    "ax.set_xlabel(\"Predito\")\n",
    "plt.tight_layout()"
   ]
  },
  {
   "cell_type": "code",
   "execution_count": 912,
   "id": "miniature-pattern",
   "metadata": {},
   "outputs": [],
   "source": [
    "score_grid = cross_val_score(\n",
    "    lg_best_grid, x_test, y_test, cv=10, scoring='f1_micro')"
   ]
  },
  {
   "cell_type": "code",
   "execution_count": 913,
   "id": "rolled-rocket",
   "metadata": {},
   "outputs": [
    {
     "data": {
      "text/plain": [
       "0.5263461538461539"
      ]
     },
     "execution_count": 913,
     "metadata": {},
     "output_type": "execute_result"
    }
   ],
   "source": [
    "score_grid= score_grid.mean()\n",
    "score_grid"
   ]
  },
  {
   "cell_type": "code",
   "execution_count": 915,
   "id": "decimal-bulgaria",
   "metadata": {},
   "outputs": [],
   "source": [
    "score_lg_grid_train = cross_val_score(\n",
    "    lg_best_grid, x_train, y_train, cv=10, scoring='f1_micro')"
   ]
  },
  {
   "cell_type": "code",
   "execution_count": 920,
   "id": "processed-jacob",
   "metadata": {},
   "outputs": [
    {
     "data": {
      "image/png": "[encoded data removed]",
      "text/plain": [
       "<Figure size 432x288 with 2 Axes>"
      ]
     },
     "metadata": {},
     "output_type": "display_data"
    }
   ],
   "source": [
    "# avaliando com os dados de treino \n",
    "matriz_grid = cross_val_predict(lg_best_grid, x_train, y_train, cv = 5)\n",
    "\n",
    "fig, ax = plt.subplots()\n",
    "sns.heatmap(confusion_matrix(y_train, matriz_grid), annot=True, \n",
    "            ax=ax, fmt='d', cmap='Reds')\n",
    "ax.set_title(\"Matriz de Confusão\", fontsize=18)\n",
    "ax.set_ylabel(\"Real\")\n",
    "ax.set_xlabel(\"Predito\")\n",
    "plt.tight_layout()"
   ]
  },
  {
   "cell_type": "code",
   "execution_count": 921,
   "id": "former-conference",
   "metadata": {},
   "outputs": [
    {
     "data": {
      "text/plain": [
       "0.526367461430575"
      ]
     },
     "execution_count": 921,
     "metadata": {},
     "output_type": "execute_result"
    }
   ],
   "source": [
    "score_lg_grid_train= score_lg_grid_train.mean()\n",
    "score_lg_grid_train"
   ]
  },
  {
   "cell_type": "code",
   "execution_count": 922,
   "id": "portable-smile",
   "metadata": {},
   "outputs": [],
   "source": [
    "dff_metrica_final_grid = score_lg_grid_train - score_grid"
   ]
  },
  {
   "cell_type": "code",
   "execution_count": 923,
   "id": "imported-journal",
   "metadata": {},
   "outputs": [
    {
     "name": "stdout",
     "output_type": "stream",
     "text": [
      "diferença do f1_score das métricas de treino e teste tem um overfiting = 0.002130758442109304 %\n"
     ]
    }
   ],
   "source": [
    "print('diferença do f1_score das métricas de treino e teste tem um overfiting =', dff_metrica_final_grid*100,  '%')"
   ]
  },
  {
   "cell_type": "markdown",
   "id": "infectious-bride",
   "metadata": {},
   "source": [
    "* Aplicando os ajustes também não melhorou, acabou tendo  uma maior queda de performance."
   ]
  },
  {
   "cell_type": "markdown",
   "id": "smaller-playlist",
   "metadata": {},
   "source": [
    "<h2>Questão N°4 </h2>"
   ]
  },
  {
   "cell_type": "code",
   "execution_count": null,
   "id": "close-ratio",
   "metadata": {},
   "outputs": [],
   "source": []
  },
  {
   "cell_type": "markdown",
   "id": "existing-potential",
   "metadata": {},
   "source": [
    "###  Modelo com RandomForestClassifier"
   ]
  },
  {
   "cell_type": "markdown",
   "id": "proved-label",
   "metadata": {},
   "source": [
    "* Treinando o modelo"
   ]
  },
  {
   "cell_type": "code",
   "execution_count": 1051,
   "id": "permanent-humanitarian",
   "metadata": {},
   "outputs": [],
   "source": [
    "randomForestClassifer = RandomForestClassifier(max_depth=20, n_estimators=100, max_samples=50, random_state=42)"
   ]
  },
  {
   "cell_type": "code",
   "execution_count": 1052,
   "id": "portuguese-mayor",
   "metadata": {},
   "outputs": [
    {
     "data": {
      "text/plain": [
       "RandomForestClassifier(max_depth=20, max_samples=50, random_state=42)"
      ]
     },
     "execution_count": 1052,
     "metadata": {},
     "output_type": "execute_result"
    }
   ],
   "source": [
    "randomForestClassifer.fit(x_train, y_train)"
   ]
  },
  {
   "cell_type": "code",
   "execution_count": 1053,
   "id": "subtle-sensitivity",
   "metadata": {},
   "outputs": [
    {
     "data": {
      "text/plain": [
       "array([0, 1, 0, 0, 0, 1, 1, 1, 1, 0, 1, 1, 1, 0, 0, 0, 1, 0, 1, 0, 0, 0,\n",
       "       1, 1, 1, 0, 0, 1, 1, 0, 1, 1, 0, 0, 1, 0, 1, 0, 0, 0, 0, 0, 1, 1,\n",
       "       0, 0, 1, 0, 0, 1, 0, 1, 1, 0, 1, 1, 1, 0, 1, 0, 1, 1, 1, 0, 1, 1,\n",
       "       1, 0, 1, 1, 0, 0, 1, 0, 0, 0, 1, 1, 0, 1, 0, 1, 1, 1, 1, 1, 1, 1,\n",
       "       1, 0, 1, 1, 1, 1, 1, 1, 0, 1, 1, 1, 0, 1, 1, 0, 0, 0, 0, 1, 0, 1,\n",
       "       0, 1, 1, 1, 1, 1, 1, 0, 0, 1, 1, 1, 0, 1, 0, 0, 0, 0, 0, 0, 1, 1,\n",
       "       1, 0, 1, 1, 1, 0, 1, 0, 1, 1, 0, 1, 1, 1, 0, 1, 1, 0, 1, 1, 0, 1,\n",
       "       1, 0, 0, 1, 1, 0, 0, 0, 0, 1, 1, 1, 0, 1, 1, 0, 1, 1, 1, 1, 1, 1,\n",
       "       0, 1, 0, 0, 1, 1, 1, 1, 1, 1, 0, 0, 0, 0, 0, 1, 0, 1, 1, 1, 1, 1,\n",
       "       0, 1, 1, 0, 0, 1, 1, 0, 1, 0, 0, 0, 0, 1, 1, 0, 1, 1, 1, 0, 1, 1,\n",
       "       0, 0, 0, 1, 1, 1, 0, 1, 0, 0, 1, 1, 1, 0, 1, 0, 0, 0, 1, 1, 1, 1,\n",
       "       1, 0, 1, 0, 0, 1, 1, 1, 1, 1, 1, 1, 1, 1, 1, 1, 1, 0, 0, 1, 0, 1,\n",
       "       0, 1, 0, 0, 1, 1, 1, 0, 0, 0, 1, 1, 1, 1, 1, 0, 1, 1, 1, 1, 0, 0,\n",
       "       1, 0, 1, 0, 1, 1, 1, 0, 0, 0, 1, 1, 0, 1, 1, 1, 0, 1, 1, 1, 0, 1,\n",
       "       1, 1, 1, 1, 1, 1, 0, 1, 0, 1, 0, 1, 0, 0, 1, 1, 1, 1, 1, 1, 1, 0,\n",
       "       0, 1, 0, 1, 0, 0, 1, 1, 1, 0, 1, 1, 1, 0, 0, 0, 0, 1, 0, 1, 1, 0,\n",
       "       1, 1, 1, 1, 0, 0, 1, 1, 1, 1, 1, 1, 0, 1, 1, 1, 1, 1, 0, 0, 1, 0,\n",
       "       1, 0, 1, 1, 0, 0, 1, 1, 1, 1, 1, 1, 0, 1, 1, 1, 1, 0, 1, 1, 1, 1,\n",
       "       1, 0, 1, 0, 1, 1, 0, 0, 1, 0, 1, 1, 1, 1, 0, 0, 1, 0, 1, 0, 0, 1,\n",
       "       1, 1, 1, 1, 1, 1, 0, 1, 1, 0, 0, 0, 1, 0, 0, 1, 1, 0, 1, 1, 0, 0,\n",
       "       1, 0, 1, 0, 0, 1, 0, 1, 0, 0, 1, 1, 1, 1, 1, 1, 1, 0, 1, 1, 0, 0,\n",
       "       1, 0, 0, 1, 1, 0, 1, 1, 1, 0, 1, 1, 1, 1, 0, 1, 1, 1, 1, 1, 1, 1,\n",
       "       1, 0, 0, 0, 0, 1, 1, 1, 1, 1, 0, 0, 1, 1, 1, 1, 0, 0, 1, 1, 0, 1,\n",
       "       0, 1, 0, 0, 0, 1, 1, 1, 1, 1, 0, 0, 1, 1, 1, 0, 0, 1, 1, 1, 0, 1,\n",
       "       0, 0, 1, 1, 0, 0, 1, 0, 1, 1, 0, 0, 0, 1, 1, 1, 1, 0, 0, 0, 1, 0,\n",
       "       1, 1, 0, 0, 1, 1, 0, 0, 0, 0, 1, 1, 1, 1, 1, 0, 1, 0, 0, 1, 1, 1,\n",
       "       1, 0, 1, 1, 0, 0, 1, 0, 1, 1, 1, 0, 0, 0, 1, 1, 1, 0, 1, 0, 1, 0,\n",
       "       0, 1, 1, 1, 1, 0, 1, 1, 0, 1, 1, 1, 1, 0, 0, 0, 1, 1, 0, 0, 1, 0,\n",
       "       0, 1, 1, 1, 0, 1, 1, 0, 1, 1, 1, 1, 1, 1, 0, 1, 1, 1, 1, 1, 1, 0,\n",
       "       1, 1, 1, 1, 1, 1, 0, 1, 1, 0, 1, 1, 0, 1, 1, 0, 0, 1, 0, 1, 1, 0,\n",
       "       0, 0, 0, 1, 1, 1, 0, 0, 1, 1, 0, 0, 0, 0, 1, 1, 0, 1, 1, 1, 1, 1,\n",
       "       0, 1, 1, 0, 1, 0, 1, 1, 0, 0, 1, 1, 1, 1, 1, 1, 0, 1, 0, 0, 1, 0,\n",
       "       1, 1, 1, 0, 0, 1, 1, 1, 1, 1, 0, 1, 1, 1, 1, 1, 0, 0, 1, 1, 0, 1,\n",
       "       1, 0, 1, 1, 0, 1, 1, 1, 1, 1, 0, 1, 0, 1, 0, 1, 0, 1, 0, 1, 0, 0,\n",
       "       1, 1, 1, 1, 1, 1, 0, 0, 1, 1, 0, 1, 0, 1, 1, 0, 1, 0, 0, 0, 0, 1,\n",
       "       1, 0, 1, 0, 0, 1, 1, 0, 0, 1, 0, 1, 1, 1, 0, 0, 0, 0, 0, 1, 0, 0,\n",
       "       1, 1, 0, 1, 1, 1, 1, 1, 1, 0, 0, 0, 1, 1, 1, 1, 1, 0, 1, 0, 1, 1,\n",
       "       0, 1, 1, 1, 1, 1, 1, 1, 1, 1, 1, 0, 0, 0, 0, 1, 0, 1, 0, 1, 1, 0,\n",
       "       1, 0, 1, 1, 1, 1, 0, 0, 1, 1, 0, 1, 1, 1, 1, 0, 1, 1, 0, 1, 0, 0,\n",
       "       0, 0, 0, 1, 1, 1, 1, 0, 1, 1, 1, 1, 0, 1, 1, 1, 1, 1, 0, 1, 1, 0,\n",
       "       1, 0, 0, 1, 1, 1, 0, 1, 1, 1, 1, 0, 0, 1, 0, 1, 0, 1, 1, 0, 1, 0,\n",
       "       0, 0, 0, 1, 0, 0, 0, 0, 1, 0, 0, 0, 1, 0, 0, 1, 1, 1, 1, 0, 0, 1,\n",
       "       1, 1, 0, 1, 0], dtype=int64)"
      ]
     },
     "execution_count": 1053,
     "metadata": {},
     "output_type": "execute_result"
    }
   ],
   "source": [
    "# com os dados de treino\n",
    "predicao_random_train = randomForestClassifer.predict(x_train)\n",
    "predicao_random_train"
   ]
  },
  {
   "cell_type": "code",
   "execution_count": 1054,
   "id": "negative-yukon",
   "metadata": {},
   "outputs": [
    {
     "data": {
      "text/plain": [
       "array([1, 1, 1, 1, 0, 1, 1, 1, 1, 1, 0, 1, 1, 0, 0, 0, 1, 1, 1, 0, 1, 0,\n",
       "       1, 1, 1, 1, 1, 1, 1, 0, 1, 0, 1, 1, 1, 0, 1, 1, 0, 1, 0, 1, 1, 1,\n",
       "       0, 1, 0, 0, 1, 0, 1, 1, 1, 1, 0, 1, 0, 0, 1, 0, 1, 0, 0, 1, 1, 1,\n",
       "       1, 0, 0, 1, 1, 1, 1, 1, 1, 1, 0, 1, 1, 1, 0, 1, 1, 0, 0, 0, 0, 0,\n",
       "       1, 1, 0, 1, 0, 0, 1, 0, 1, 0, 1, 1, 0, 1, 1, 0, 0, 1, 0, 1, 1, 1,\n",
       "       1, 1, 1, 1, 0, 1, 1, 0, 1, 1, 0, 1, 1, 0, 1, 1, 1, 1, 0, 1, 0, 0,\n",
       "       1, 1, 1, 1, 0, 1, 1, 1, 1, 1, 0, 1, 0, 1, 1, 1, 0, 1, 0, 0, 1, 0,\n",
       "       0, 1, 1, 0, 1, 1, 1, 0, 1, 1, 1, 1, 0, 1, 1, 1, 1, 1, 0, 1, 0, 0,\n",
       "       1, 0, 1, 0, 0, 0, 1, 0, 0, 0, 1, 1, 0, 1, 1, 1, 0, 0, 1, 1, 0, 0,\n",
       "       0, 1, 1, 0, 0, 1, 1, 1, 0, 1, 1, 0, 1, 1, 1, 1, 1, 1, 1, 1, 1, 1,\n",
       "       1, 0, 1, 1, 1, 0, 1, 1, 1, 0, 1, 0, 1, 1, 0, 1, 1, 0, 1, 1, 1, 1,\n",
       "       1, 0, 1, 1, 1, 1, 1, 1, 0, 1, 1, 1, 0, 1, 1, 1, 1, 1, 1, 0, 1, 1,\n",
       "       1, 0, 1, 0, 1, 1, 0, 1, 1, 0, 0, 1, 0, 1, 0, 0, 1, 0, 0, 1, 0, 0,\n",
       "       1, 1, 1, 1, 1, 1, 1, 1, 1, 1, 0, 1, 0, 0, 0, 0, 0, 0, 1, 1, 1, 1,\n",
       "       0, 1, 1, 0, 0, 1, 1, 0, 0, 1, 1, 1, 1, 0, 0, 0, 1, 1, 1, 1, 1, 1,\n",
       "       1, 1, 1, 1, 0, 1, 1, 1, 1, 1, 1, 0, 1, 0, 1, 1, 0, 0, 0, 1, 1, 1,\n",
       "       1, 1, 1, 1, 1, 1, 1, 1, 1, 0, 1, 1, 1, 0, 1, 1, 0, 1, 0, 1, 1, 1,\n",
       "       0, 0, 1, 1, 1, 1, 1, 1, 0, 0, 0, 1, 0, 1, 0, 1, 0, 1, 0, 1, 1, 1,\n",
       "       0, 1, 0], dtype=int64)"
      ]
     },
     "execution_count": 1054,
     "metadata": {},
     "output_type": "execute_result"
    }
   ],
   "source": [
    "# com os dados de teste\n",
    "predicao_random_test = randomForestClassifer.predict(x_test)\n",
    "predicao_random_test"
   ]
  },
  {
   "cell_type": "markdown",
   "id": "following-proposal",
   "metadata": {},
   "source": [
    "### Avaliando o modelo com f1_score"
   ]
  },
  {
   "cell_type": "code",
   "execution_count": 1055,
   "id": "laughing-ministry",
   "metadata": {},
   "outputs": [],
   "source": [
    "# Verificando a média de f1_score dos dados de treino e teste\n",
    "metrica_train_random = []\n",
    "metrica_test_random = []\n",
    "metrica_train_random.append(f1_score(y_train, predicao_random_train, average='micro'))\n",
    "metrica_test_random.append(f1_score(y_test, predicao_random_test, average='micro'))\n",
    "\n",
    "metrica_final_test_random = []\n",
    "metrica_final_train_random = []\n",
    "metrica_final_test_random.append(np.mean(metrica_test_random))\n",
    "metrica_final_train_random.append(np.mean(metrica_train_random))\n",
    "        "
   ]
  },
  {
   "cell_type": "code",
   "execution_count": 1056,
   "id": "hourly-maldives",
   "metadata": {},
   "outputs": [],
   "source": [
    "# calculando a diferenca entrer as métricas de treino e teste\n",
    "diff_metrica_random= []\n",
    "diff_final_metrica_random = []\n",
    "diff_metrica_random.append(100*np.abs((f1_score(y_train, predicao_random_train, average='micro') - \\\n",
    "                                   f1_score(y_test, predicao_random_test, average='micro'))/\\\n",
    "                                  f1_score(y_test, predicao_random_test, average='micro')))\n",
    "   \n",
    "diff_final_metrica_random.append(np.mean(diff_metrica_random))"
   ]
  },
  {
   "cell_type": "code",
   "execution_count": 1057,
   "id": "available-sociology",
   "metadata": {},
   "outputs": [
    {
     "name": "stdout",
     "output_type": "stream",
     "text": [
      "[0.797631862217438]\n",
      "\n",
      "------------------------------\n",
      "\n",
      "[0.681704260651629]\n"
     ]
    }
   ],
   "source": [
    "print(metrica_final_train_random)\n",
    "print(\"\\n------------------------------\\n\")\n",
    "print(metrica_final_test_random)"
   ]
  },
  {
   "cell_type": "code",
   "execution_count": 1058,
   "id": "stone-ireland",
   "metadata": {},
   "outputs": [
    {
     "name": "stdout",
     "output_type": "stream",
     "text": [
      "diferença do f1_score das métricas de treino e teste= [17.00555625910212]\n"
     ]
    }
   ],
   "source": [
    "print('diferença do f1_score das métricas de treino e teste=', diff_final_metrica_random)\n"
   ]
  },
  {
   "cell_type": "markdown",
   "id": "athletic-orlando",
   "metadata": {},
   "source": [
    "#### Analisando a performance"
   ]
  },
  {
   "cell_type": "markdown",
   "id": "uniform-wildlife",
   "metadata": {},
   "source": [
    "#### Matriz de Confusão"
   ]
  },
  {
   "cell_type": "code",
   "execution_count": 1059,
   "id": "constitutional-manor",
   "metadata": {},
   "outputs": [
    {
     "data": {
      "text/html": [
       "<div><div id=9fe7019c-f476-4138-afea-822940afda1c style=\"display:none; background-color:#9D6CFF; color:white; width:200px; height:30px; padding-left:5px; border-radius:4px; flex-direction:row; justify-content:space-around; align-items:center;\" onmouseover=\"this.style.backgroundColor='#BA9BF8'\" onmouseout=\"this.style.backgroundColor='#9D6CFF'\" onclick=\"window.commands?.execute('create-mitosheet-from-dataframe-output');\">See Full Dataframe in Mito</div> <script> if (window.commands.hasCommand('create-mitosheet-from-dataframe-output')) document.getElementById('9fe7019c-f476-4138-afea-822940afda1c').style.display = 'flex' </script> <table border=\"1\" class=\"dataframe\">\n",
       "  <thead>\n",
       "    <tr style=\"text-align: right;\">\n",
       "      <th>Predito</th>\n",
       "      <th>0</th>\n",
       "      <th>1</th>\n",
       "      <th>All</th>\n",
       "    </tr>\n",
       "    <tr>\n",
       "      <th>Real</th>\n",
       "      <th></th>\n",
       "      <th></th>\n",
       "      <th></th>\n",
       "    </tr>\n",
       "  </thead>\n",
       "  <tbody>\n",
       "    <tr>\n",
       "      <th>0</th>\n",
       "      <td>309</td>\n",
       "      <td>131</td>\n",
       "      <td>440</td>\n",
       "    </tr>\n",
       "    <tr>\n",
       "      <th>1</th>\n",
       "      <td>57</td>\n",
       "      <td>432</td>\n",
       "      <td>489</td>\n",
       "    </tr>\n",
       "    <tr>\n",
       "      <th>All</th>\n",
       "      <td>366</td>\n",
       "      <td>563</td>\n",
       "      <td>929</td>\n",
       "    </tr>\n",
       "  </tbody>\n",
       "</table></div>"
      ],
      "text/plain": [
       "Predito    0    1  All\n",
       "Real                  \n",
       "0        309  131  440\n",
       "1         57  432  489\n",
       "All      366  563  929"
      ]
     },
     "execution_count": 1059,
     "metadata": {},
     "output_type": "execute_result"
    }
   ],
   "source": [
    "# avaliando com os dados de treino\n",
    "matris_random= pd.crosstab(y_train, predicao_random_train, rownames=['Real'], colnames=['Predito'], margins=True)\n",
    "matris_random"
   ]
  },
  {
   "cell_type": "code",
   "execution_count": 1060,
   "id": "twelve-romantic",
   "metadata": {},
   "outputs": [
    {
     "data": {
      "text/html": [
       "<div><div id=c97f52c6-c63c-48cc-9b9e-26952022d4ad style=\"display:none; background-color:#9D6CFF; color:white; width:200px; height:30px; padding-left:5px; border-radius:4px; flex-direction:row; justify-content:space-around; align-items:center;\" onmouseover=\"this.style.backgroundColor='#BA9BF8'\" onmouseout=\"this.style.backgroundColor='#9D6CFF'\" onclick=\"window.commands?.execute('create-mitosheet-from-dataframe-output');\">See Full Dataframe in Mito</div> <script> if (window.commands.hasCommand('create-mitosheet-from-dataframe-output')) document.getElementById('c97f52c6-c63c-48cc-9b9e-26952022d4ad').style.display = 'flex' </script> <table border=\"1\" class=\"dataframe\">\n",
       "  <thead>\n",
       "    <tr style=\"text-align: right;\">\n",
       "      <th>Predito</th>\n",
       "      <th>0</th>\n",
       "      <th>1</th>\n",
       "      <th>All</th>\n",
       "    </tr>\n",
       "    <tr>\n",
       "      <th>Real</th>\n",
       "      <th></th>\n",
       "      <th></th>\n",
       "      <th></th>\n",
       "    </tr>\n",
       "  </thead>\n",
       "  <tbody>\n",
       "    <tr>\n",
       "      <th>0</th>\n",
       "      <td>99</td>\n",
       "      <td>90</td>\n",
       "      <td>189</td>\n",
       "    </tr>\n",
       "    <tr>\n",
       "      <th>1</th>\n",
       "      <td>37</td>\n",
       "      <td>173</td>\n",
       "      <td>210</td>\n",
       "    </tr>\n",
       "    <tr>\n",
       "      <th>All</th>\n",
       "      <td>136</td>\n",
       "      <td>263</td>\n",
       "      <td>399</td>\n",
       "    </tr>\n",
       "  </tbody>\n",
       "</table></div>"
      ],
      "text/plain": [
       "Predito    0    1  All\n",
       "Real                  \n",
       "0         99   90  189\n",
       "1         37  173  210\n",
       "All      136  263  399"
      ]
     },
     "execution_count": 1060,
     "metadata": {},
     "output_type": "execute_result"
    }
   ],
   "source": [
    "# avaliando com os dados de teste\n",
    "matris_random_test= pd.crosstab(y_test, predicao_random_test, rownames=['Real'], colnames=['Predito'], margins=True)\n",
    "matris_random_test"
   ]
  },
  {
   "cell_type": "markdown",
   "id": "sunset-framing",
   "metadata": {},
   "source": [
    "#### Relatório de Classificação"
   ]
  },
  {
   "cell_type": "code",
   "execution_count": 1061,
   "id": "higher-network",
   "metadata": {},
   "outputs": [
    {
     "name": "stdout",
     "output_type": "stream",
     "text": [
      "              precision    recall  f1-score   support\n",
      "\n",
      "           0       0.84      0.70      0.77       440\n",
      "           1       0.77      0.88      0.82       489\n",
      "\n",
      "    accuracy                           0.80       929\n",
      "   macro avg       0.81      0.79      0.79       929\n",
      "weighted avg       0.80      0.80      0.80       929\n",
      "\n"
     ]
    }
   ],
   "source": [
    "#avaliando com os dados de traino\n",
    "resultado_random_train = classification_report(y_train, predicao_random_train)\n",
    "print(resultado_random_train)"
   ]
  },
  {
   "cell_type": "code",
   "execution_count": 1062,
   "id": "clinical-lebanon",
   "metadata": {},
   "outputs": [
    {
     "name": "stdout",
     "output_type": "stream",
     "text": [
      "              precision    recall  f1-score   support\n",
      "\n",
      "           0       0.73      0.52      0.61       189\n",
      "           1       0.66      0.82      0.73       210\n",
      "\n",
      "    accuracy                           0.68       399\n",
      "   macro avg       0.69      0.67      0.67       399\n",
      "weighted avg       0.69      0.68      0.67       399\n",
      "\n"
     ]
    }
   ],
   "source": [
    "#avaliando com os dados de teste\n",
    "resultado_random_test = classification_report(y_test, predicao_random_test)\n",
    "print(resultado_random_test)"
   ]
  },
  {
   "cell_type": "markdown",
   "id": "living-suffering",
   "metadata": {},
   "source": [
    "#### Aplicando Cross_Validation"
   ]
  },
  {
   "cell_type": "code",
   "execution_count": 977,
   "id": "indoor-colon",
   "metadata": {},
   "outputs": [
    {
     "name": "stdout",
     "output_type": "stream",
     "text": [
      "Acurácia média: 70.42%\n",
      "Intervalo de acurácia: [49.40% ~ 91.44%]\n"
     ]
    },
    {
     "data": {
      "text/plain": [
       "<function __main__.intervalo(results)>"
      ]
     },
     "execution_count": 977,
     "metadata": {},
     "output_type": "execute_result"
    }
   ],
   "source": [
    "# avaliando a acurácia  com os dado de treino\n",
    "valid_extra = cross_val_score(randomForestClassifer, x_train,y_train, cv=cv, scoring= 'accuracy')\n",
    "intervalo(valid_extra)"
   ]
  },
  {
   "cell_type": "code",
   "execution_count": 978,
   "id": "exempt-enzyme",
   "metadata": {},
   "outputs": [
    {
     "name": "stdout",
     "output_type": "stream",
     "text": [
      "Acurácia média: 68.91%\n",
      "Intervalo de acurácia: [38.59% ~ 99.23%]\n"
     ]
    },
    {
     "data": {
      "text/plain": [
       "<function __main__.intervalo(results)>"
      ]
     },
     "execution_count": 978,
     "metadata": {},
     "output_type": "execute_result"
    }
   ],
   "source": [
    "# verificando a acurácia  com os dado de teste\n",
    "valid_test = cross_val_score(randomForestClassifer, x_test,y_test, cv=cv, scoring= 'accuracy')\n",
    "intervalo(valid_test)"
   ]
  },
  {
   "cell_type": "markdown",
   "id": "numerous-stevens",
   "metadata": {},
   "source": [
    "### Validando o Modelo"
   ]
  },
  {
   "cell_type": "markdown",
   "id": "aggressive-scope",
   "metadata": {},
   "source": [
    "#### Matriz de confusão da validação cruzada"
   ]
  },
  {
   "cell_type": "code",
   "execution_count": 1063,
   "id": "facial-business",
   "metadata": {},
   "outputs": [
    {
     "data": {
      "image/png": "[encoded data removed]",
      "text/plain": [
       "<Figure size 432x288 with 2 Axes>"
      ]
     },
     "metadata": {},
     "output_type": "display_data"
    }
   ],
   "source": [
    "# avaliando com os dados de treino \n",
    "matriz_pred_rd = cross_val_predict(randomForestClassifer, x_train, y_train, cv = 10)\n",
    "\n",
    "fig, ax = plt.subplots()\n",
    "sns.heatmap(confusion_matrix(y_train, matriz_pred_rd), annot=True, \n",
    "            ax=ax, fmt='d', cmap='Reds')\n",
    "ax.set_title(\"Matriz de Confusão\", fontsize=18)\n",
    "ax.set_ylabel(\"Real\")\n",
    "ax.set_xlabel(\"Predito\")\n",
    "plt.tight_layout()"
   ]
  },
  {
   "cell_type": "code",
   "execution_count": 1064,
   "id": "photographic-member",
   "metadata": {},
   "outputs": [
    {
     "data": {
      "image/png": "[encoded data removed]",
      "text/plain": [
       "<Figure size 432x288 with 2 Axes>"
      ]
     },
     "metadata": {},
     "output_type": "display_data"
    }
   ],
   "source": [
    "# avaliando com os dados de teste\n",
    "matriz_pred_test_rd = cross_val_predict(randomForestClassifer, x_test, y_test, cv =10)\n",
    "\n",
    "fig, ax = plt.subplots()\n",
    "sns.heatmap(confusion_matrix(y_test, matriz_pred_test_rd), annot=True, \n",
    "            ax=ax, fmt='d', cmap='Reds')\n",
    "ax.set_title(\"Matriz de Confusão\", fontsize=18)\n",
    "ax.set_ylabel(\"Real\")\n",
    "ax.set_xlabel(\"Predito\")\n",
    "plt.tight_layout()"
   ]
  },
  {
   "cell_type": "markdown",
   "id": "diverse-monaco",
   "metadata": {},
   "source": [
    "#### Relatório de Classificação da validação cruzada"
   ]
  },
  {
   "cell_type": "code",
   "execution_count": 1065,
   "id": "swedish-warren",
   "metadata": {},
   "outputs": [
    {
     "name": "stdout",
     "output_type": "stream",
     "text": [
      "              precision    recall  f1-score   support\n",
      "\n",
      "           0       0.72      0.71      0.71       440\n",
      "           1       0.74      0.75      0.75       489\n",
      "\n",
      "    accuracy                           0.73       929\n",
      "   macro avg       0.73      0.73      0.73       929\n",
      "weighted avg       0.73      0.73      0.73       929\n",
      "\n"
     ]
    }
   ],
   "source": [
    "# avaliando com os dados de treino\n",
    "resultado_valid_rd = classification_report(y_train, matriz_pred_rd)\n",
    "print(resultado_valid_rd)"
   ]
  },
  {
   "cell_type": "code",
   "execution_count": 1066,
   "id": "aggressive-liberty",
   "metadata": {},
   "outputs": [
    {
     "name": "stdout",
     "output_type": "stream",
     "text": [
      "              precision    recall  f1-score   support\n",
      "\n",
      "           0       0.68      0.68      0.68       189\n",
      "           1       0.71      0.70      0.71       210\n",
      "\n",
      "    accuracy                           0.69       399\n",
      "   macro avg       0.69      0.69      0.69       399\n",
      "weighted avg       0.69      0.69      0.69       399\n",
      "\n"
     ]
    }
   ],
   "source": [
    "# avaliando com os dados de teste\n",
    "resultado_valid_test_rd = classification_report(y_test, matriz_pred_test_rd)\n",
    "print(resultado_valid_test_rd)"
   ]
  },
  {
   "cell_type": "markdown",
   "id": "understanding-perry",
   "metadata": {},
   "source": [
    "#### Calculando o f1 score da validação cruzada"
   ]
  },
  {
   "cell_type": "code",
   "execution_count": 1067,
   "id": "approved-guatemala",
   "metadata": {},
   "outputs": [
    {
     "data": {
      "text/plain": [
       "array([0.77419355, 0.83870968, 0.70967742, 0.74193548, 0.75268817,\n",
       "       0.65591398, 0.69892473, 0.75268817, 0.7311828 , 0.64130435])"
      ]
     },
     "execution_count": 1067,
     "metadata": {},
     "output_type": "execute_result"
    }
   ],
   "source": [
    "#aplicando aos dado de treino\n",
    "scores_train_rd = cross_val_score(\n",
    "    randomForestClassifer, x_train, y_train, cv=10, scoring='f1_micro')\n",
    "scores_train_rd"
   ]
  },
  {
   "cell_type": "code",
   "execution_count": 1068,
   "id": "pregnant-palestinian",
   "metadata": {},
   "outputs": [
    {
     "data": {
      "text/plain": [
       "0.7813931743805517"
      ]
     },
     "execution_count": 1068,
     "metadata": {},
     "output_type": "execute_result"
    }
   ],
   "source": [
    "median_score_train_rd = scores_train.mean()#calculando a média\n",
    "median_score_train_rd"
   ]
  },
  {
   "cell_type": "code",
   "execution_count": 1069,
   "id": "sunset-institute",
   "metadata": {},
   "outputs": [
    {
     "data": {
      "text/plain": [
       "array([0.68421053, 0.69172932, 0.7443609 ])"
      ]
     },
     "execution_count": 1069,
     "metadata": {},
     "output_type": "execute_result"
    }
   ],
   "source": [
    "scores_test_rd = cross_val_score(\n",
    "    randomForestClassifer, x_test, y_test, cv=3, scoring='f1_micro')\n",
    "scores_test_rd"
   ]
  },
  {
   "cell_type": "code",
   "execution_count": 1070,
   "id": "alive-headset",
   "metadata": {},
   "outputs": [
    {
     "data": {
      "text/plain": [
       "0.6691729323308272"
      ]
     },
     "execution_count": 1070,
     "metadata": {},
     "output_type": "execute_result"
    }
   ],
   "source": [
    "median_score_teste_rd = scores_test.mean()\n",
    "median_score_teste_rd"
   ]
  },
  {
   "cell_type": "code",
   "execution_count": 1071,
   "id": "nervous-surge",
   "metadata": {},
   "outputs": [],
   "source": [
    "# avaliando a diferença  entre os dados validados de treino e de teste\n",
    "diferenca_rd= median_score_train_rd - median_score_teste_rd"
   ]
  },
  {
   "cell_type": "code",
   "execution_count": 1072,
   "id": "intensive-winning",
   "metadata": {},
   "outputs": [
    {
     "name": "stdout",
     "output_type": "stream",
     "text": [
      "diferença do f1_score das métricas de treino e teste tem um overfiting = 11.222024204972447 %\n"
     ]
    }
   ],
   "source": [
    "print('diferença do f1_score das métricas de treino e teste tem um overfiting =', diferenca_rd.sum()*100,  '%')"
   ]
  },
  {
   "cell_type": "markdown",
   "id": "classified-retrieval",
   "metadata": {},
   "source": [
    "### Ajuste nos Hiperparâmetros "
   ]
  },
  {
   "cell_type": "markdown",
   "id": "knowing-tampa",
   "metadata": {},
   "source": [
    "#### Aplicando modelo de RandomizedSearchCV"
   ]
  },
  {
   "cell_type": "code",
   "execution_count": 1073,
   "id": "stunning-paris",
   "metadata": {},
   "outputs": [],
   "source": [
    "parametros_4= {\n",
    " \n",
    " 'max_depth': [10, 20, 30, 40, 50, 60, 70, 80],\n",
    " 'max_features': ['auto'],\n",
    " 'min_samples_leaf': [1, 2, 4],\n",
    " 'min_samples_split': [2, 5, 10],\n",
    " 'n_estimators': [10, 20],\n",
    " 'min_impurity_split': [0.1]\n",
    "\n",
    "}"
   ]
  },
  {
   "cell_type": "code",
   "execution_count": 1116,
   "id": "nervous-player",
   "metadata": {},
   "outputs": [],
   "source": [
    "parametros = {\n",
    "    'bootstrap': [True],\n",
    "    'max_depth': [80, 110],\n",
    "    'min_samples_leaf': [1,10],\n",
    "    'min_samples_split': [2,10],\n",
    "    'n_estimators': [20, 50, 100],\n",
    "    'criterion':['entropy'],\n",
    "    'min_impurity_split': [0.1] \n",
    "}"
   ]
  },
  {
   "cell_type": "code",
   "execution_count": 1137,
   "id": "instructional-valuable",
   "metadata": {},
   "outputs": [],
   "source": [
    "rf = randomForestClassifer\n",
    "random_rf = RandomizedSearchCV(rf, parametros_4, cv =cv, n_jobs=-1, random_state=7)"
   ]
  },
  {
   "cell_type": "code",
   "execution_count": 1138,
   "id": "dress-ratio",
   "metadata": {},
   "outputs": [
    {
     "name": "stderr",
     "output_type": "stream",
     "text": [
      "C:\\Users\\Qintess\\anaconda3\\envs\\projeto\\lib\\site-packages\\sklearn\\tree\\_classes.py:310: FutureWarning:\n",
      "\n",
      "The min_impurity_split parameter is deprecated. Its default value has changed from 1e-7 to 0 in version 0.23, and it will be removed in 0.25. Use the min_impurity_decrease parameter instead.\n",
      "\n",
      "C:\\Users\\Qintess\\anaconda3\\envs\\projeto\\lib\\site-packages\\sklearn\\tree\\_classes.py:310: FutureWarning:\n",
      "\n",
      "The min_impurity_split parameter is deprecated. Its default value has changed from 1e-7 to 0 in version 0.23, and it will be removed in 0.25. Use the min_impurity_decrease parameter instead.\n",
      "\n",
      "C:\\Users\\Qintess\\anaconda3\\envs\\projeto\\lib\\site-packages\\sklearn\\tree\\_classes.py:310: FutureWarning:\n",
      "\n",
      "The min_impurity_split parameter is deprecated. Its default value has changed from 1e-7 to 0 in version 0.23, and it will be removed in 0.25. Use the min_impurity_decrease parameter instead.\n",
      "\n",
      "C:\\Users\\Qintess\\anaconda3\\envs\\projeto\\lib\\site-packages\\sklearn\\tree\\_classes.py:310: FutureWarning:\n",
      "\n",
      "The min_impurity_split parameter is deprecated. Its default value has changed from 1e-7 to 0 in version 0.23, and it will be removed in 0.25. Use the min_impurity_decrease parameter instead.\n",
      "\n",
      "C:\\Users\\Qintess\\anaconda3\\envs\\projeto\\lib\\site-packages\\sklearn\\tree\\_classes.py:310: FutureWarning:\n",
      "\n",
      "The min_impurity_split parameter is deprecated. Its default value has changed from 1e-7 to 0 in version 0.23, and it will be removed in 0.25. Use the min_impurity_decrease parameter instead.\n",
      "\n",
      "C:\\Users\\Qintess\\anaconda3\\envs\\projeto\\lib\\site-packages\\sklearn\\tree\\_classes.py:310: FutureWarning:\n",
      "\n",
      "The min_impurity_split parameter is deprecated. Its default value has changed from 1e-7 to 0 in version 0.23, and it will be removed in 0.25. Use the min_impurity_decrease parameter instead.\n",
      "\n",
      "C:\\Users\\Qintess\\anaconda3\\envs\\projeto\\lib\\site-packages\\sklearn\\tree\\_classes.py:310: FutureWarning:\n",
      "\n",
      "The min_impurity_split parameter is deprecated. Its default value has changed from 1e-7 to 0 in version 0.23, and it will be removed in 0.25. Use the min_impurity_decrease parameter instead.\n",
      "\n",
      "C:\\Users\\Qintess\\anaconda3\\envs\\projeto\\lib\\site-packages\\sklearn\\tree\\_classes.py:310: FutureWarning:\n",
      "\n",
      "The min_impurity_split parameter is deprecated. Its default value has changed from 1e-7 to 0 in version 0.23, and it will be removed in 0.25. Use the min_impurity_decrease parameter instead.\n",
      "\n",
      "C:\\Users\\Qintess\\anaconda3\\envs\\projeto\\lib\\site-packages\\sklearn\\tree\\_classes.py:310: FutureWarning:\n",
      "\n",
      "The min_impurity_split parameter is deprecated. Its default value has changed from 1e-7 to 0 in version 0.23, and it will be removed in 0.25. Use the min_impurity_decrease parameter instead.\n",
      "\n",
      "C:\\Users\\Qintess\\anaconda3\\envs\\projeto\\lib\\site-packages\\sklearn\\tree\\_classes.py:310: FutureWarning:\n",
      "\n",
      "The min_impurity_split parameter is deprecated. Its default value has changed from 1e-7 to 0 in version 0.23, and it will be removed in 0.25. Use the min_impurity_decrease parameter instead.\n",
      "\n",
      "C:\\Users\\Qintess\\anaconda3\\envs\\projeto\\lib\\site-packages\\sklearn\\tree\\_classes.py:310: FutureWarning:\n",
      "\n",
      "The min_impurity_split parameter is deprecated. Its default value has changed from 1e-7 to 0 in version 0.23, and it will be removed in 0.25. Use the min_impurity_decrease parameter instead.\n",
      "\n",
      "C:\\Users\\Qintess\\anaconda3\\envs\\projeto\\lib\\site-packages\\sklearn\\tree\\_classes.py:310: FutureWarning:\n",
      "\n",
      "The min_impurity_split parameter is deprecated. Its default value has changed from 1e-7 to 0 in version 0.23, and it will be removed in 0.25. Use the min_impurity_decrease parameter instead.\n",
      "\n",
      "C:\\Users\\Qintess\\anaconda3\\envs\\projeto\\lib\\site-packages\\sklearn\\tree\\_classes.py:310: FutureWarning:\n",
      "\n",
      "The min_impurity_split parameter is deprecated. Its default value has changed from 1e-7 to 0 in version 0.23, and it will be removed in 0.25. Use the min_impurity_decrease parameter instead.\n",
      "\n",
      "C:\\Users\\Qintess\\anaconda3\\envs\\projeto\\lib\\site-packages\\sklearn\\tree\\_classes.py:310: FutureWarning:\n",
      "\n",
      "The min_impurity_split parameter is deprecated. Its default value has changed from 1e-7 to 0 in version 0.23, and it will be removed in 0.25. Use the min_impurity_decrease parameter instead.\n",
      "\n",
      "C:\\Users\\Qintess\\anaconda3\\envs\\projeto\\lib\\site-packages\\sklearn\\tree\\_classes.py:310: FutureWarning:\n",
      "\n",
      "The min_impurity_split parameter is deprecated. Its default value has changed from 1e-7 to 0 in version 0.23, and it will be removed in 0.25. Use the min_impurity_decrease parameter instead.\n",
      "\n",
      "C:\\Users\\Qintess\\anaconda3\\envs\\projeto\\lib\\site-packages\\sklearn\\tree\\_classes.py:310: FutureWarning:\n",
      "\n",
      "The min_impurity_split parameter is deprecated. Its default value has changed from 1e-7 to 0 in version 0.23, and it will be removed in 0.25. Use the min_impurity_decrease parameter instead.\n",
      "\n",
      "C:\\Users\\Qintess\\anaconda3\\envs\\projeto\\lib\\site-packages\\sklearn\\tree\\_classes.py:310: FutureWarning:\n",
      "\n",
      "The min_impurity_split parameter is deprecated. Its default value has changed from 1e-7 to 0 in version 0.23, and it will be removed in 0.25. Use the min_impurity_decrease parameter instead.\n",
      "\n",
      "C:\\Users\\Qintess\\anaconda3\\envs\\projeto\\lib\\site-packages\\sklearn\\tree\\_classes.py:310: FutureWarning:\n",
      "\n",
      "The min_impurity_split parameter is deprecated. Its default value has changed from 1e-7 to 0 in version 0.23, and it will be removed in 0.25. Use the min_impurity_decrease parameter instead.\n",
      "\n",
      "C:\\Users\\Qintess\\anaconda3\\envs\\projeto\\lib\\site-packages\\sklearn\\tree\\_classes.py:310: FutureWarning:\n",
      "\n",
      "The min_impurity_split parameter is deprecated. Its default value has changed from 1e-7 to 0 in version 0.23, and it will be removed in 0.25. Use the min_impurity_decrease parameter instead.\n",
      "\n",
      "C:\\Users\\Qintess\\anaconda3\\envs\\projeto\\lib\\site-packages\\sklearn\\tree\\_classes.py:310: FutureWarning:\n",
      "\n",
      "The min_impurity_split parameter is deprecated. Its default value has changed from 1e-7 to 0 in version 0.23, and it will be removed in 0.25. Use the min_impurity_decrease parameter instead.\n",
      "\n"
     ]
    },
    {
     "data": {
      "text/plain": [
       "RandomizedSearchCV(cv=StratifiedKFold(n_splits=47, random_state=None, shuffle=True),\n",
       "                   estimator=RandomForestClassifier(max_depth=20,\n",
       "                                                    max_samples=50,\n",
       "                                                    random_state=42),\n",
       "                   n_jobs=-1,\n",
       "                   param_distributions={'max_depth': [10, 20, 30, 40, 50, 60,\n",
       "                                                      70, 80],\n",
       "                                        'max_features': ['auto'],\n",
       "                                        'min_impurity_split': [0.1],\n",
       "                                        'min_samples_leaf': [1, 2, 4],\n",
       "                                        'min_samples_split': [2, 5, 10],\n",
       "                                        'n_estimators': [10, 20]},\n",
       "                   random_state=7)"
      ]
     },
     "execution_count": 1138,
     "metadata": {},
     "output_type": "execute_result"
    }
   ],
   "source": [
    "random_rf.fit(x_train, y_train)"
   ]
  },
  {
   "cell_type": "markdown",
   "id": "chicken-photograph",
   "metadata": {},
   "source": [
    "#### Recuperando o melhor estimator"
   ]
  },
  {
   "cell_type": "code",
   "execution_count": 1139,
   "id": "hungarian-biodiversity",
   "metadata": {},
   "outputs": [
    {
     "name": "stdout",
     "output_type": "stream",
     "text": [
      "Melhor comprimento máximo da árvore: 70\n",
      "Melhor comprimento mínimo da árvore: 1\n",
      " Desempenho do melhor modelo(Score) dados de treino: 0.66932\n",
      "Tempo para realizar a Otimização:\n",
      "900 ns ± 0 ns per loop (mean ± std. dev. of 1 run, 1 loop each)\n"
     ]
    }
   ],
   "source": [
    "print('Melhor comprimento máximo da árvore: {}'.format(random_rf.best_params_['max_depth']))\n",
    "print('Melhor comprimento mínimo da árvore: {}'.format(random_rf.best_params_['min_samples_leaf']))\n",
    "print(' Desempenho do melhor modelo(Score) dados de treino: {}'.format(round(random_rf.best_score_,5)))\n",
    "print('Tempo para realizar a Otimização:') \n",
    "%timeit -n 1 -r 1 random_rf"
   ]
  },
  {
   "cell_type": "markdown",
   "id": "faced-sudan",
   "metadata": {},
   "source": [
    "#### Recuperando o melhor estimator"
   ]
  },
  {
   "cell_type": "code",
   "execution_count": 1140,
   "id": "outstanding-participant",
   "metadata": {},
   "outputs": [
    {
     "data": {
      "text/plain": [
       "RandomForestClassifier(max_depth=70, max_samples=50, min_impurity_split=0.1,\n",
       "                       min_samples_split=10, n_estimators=20, random_state=42)"
      ]
     },
     "execution_count": 1140,
     "metadata": {},
     "output_type": "execute_result"
    }
   ],
   "source": [
    "rf_best = random_rf.best_estimator_\n",
    "rf_best"
   ]
  },
  {
   "cell_type": "markdown",
   "id": "immune-impact",
   "metadata": {},
   "source": [
    "#### Gerando o resultado final"
   ]
  },
  {
   "cell_type": "code",
   "execution_count": 1141,
   "id": "norman-minnesota",
   "metadata": {},
   "outputs": [
    {
     "data": {
      "text/plain": [
       "array([1, 1, 1, 1, 0, 1, 1, 1, 1, 1, 0, 1, 1, 0, 1, 0, 1, 1, 1, 0, 1, 0,\n",
       "       1, 1, 1, 0, 1, 1, 1, 0, 1, 0, 0, 1, 1, 0, 1, 1, 0, 0, 0, 1, 1, 0,\n",
       "       1, 1, 1, 0, 1, 0, 0, 1, 1, 1, 0, 1, 0, 0, 0, 0, 0, 0, 0, 1, 1, 1,\n",
       "       1, 0, 0, 1, 1, 1, 1, 1, 1, 1, 1, 0, 0, 1, 0, 1, 1, 0, 0, 0, 0, 1,\n",
       "       1, 1, 0, 1, 0, 0, 1, 0, 0, 0, 1, 1, 0, 0, 1, 1, 1, 1, 0, 1, 1, 1,\n",
       "       1, 0, 0, 1, 0, 0, 1, 0, 1, 1, 1, 1, 1, 0, 1, 1, 0, 1, 0, 1, 0, 0,\n",
       "       1, 1, 1, 1, 0, 1, 0, 1, 1, 1, 0, 1, 0, 1, 1, 0, 1, 1, 0, 0, 1, 0,\n",
       "       0, 0, 1, 0, 0, 1, 1, 0, 1, 1, 1, 1, 1, 0, 1, 1, 1, 1, 0, 1, 0, 0,\n",
       "       1, 0, 0, 0, 1, 0, 1, 0, 0, 0, 0, 1, 0, 0, 1, 1, 0, 1, 1, 1, 0, 0,\n",
       "       0, 1, 0, 0, 0, 1, 1, 1, 0, 1, 1, 1, 1, 1, 1, 1, 0, 0, 1, 1, 0, 1,\n",
       "       0, 0, 0, 0, 1, 0, 1, 1, 1, 0, 1, 0, 1, 1, 1, 1, 1, 0, 1, 0, 1, 0,\n",
       "       1, 1, 1, 1, 1, 1, 1, 0, 0, 1, 0, 0, 0, 1, 1, 1, 1, 0, 1, 0, 1, 1,\n",
       "       1, 1, 1, 0, 1, 1, 0, 0, 1, 1, 0, 1, 0, 1, 0, 0, 1, 0, 0, 1, 1, 0,\n",
       "       1, 1, 1, 1, 0, 1, 1, 1, 1, 1, 0, 1, 0, 0, 0, 0, 1, 1, 1, 1, 1, 1,\n",
       "       0, 1, 1, 0, 0, 1, 1, 0, 1, 1, 1, 1, 0, 0, 1, 0, 0, 0, 1, 1, 1, 1,\n",
       "       1, 1, 1, 1, 0, 0, 1, 0, 1, 1, 1, 0, 1, 0, 1, 0, 0, 0, 0, 1, 0, 1,\n",
       "       0, 1, 0, 0, 0, 1, 0, 1, 1, 0, 1, 1, 1, 0, 0, 0, 1, 1, 0, 1, 1, 0,\n",
       "       0, 0, 1, 1, 1, 1, 0, 0, 0, 0, 1, 1, 0, 1, 0, 1, 0, 1, 0, 1, 0, 1,\n",
       "       0, 1, 0], dtype=int64)"
      ]
     },
     "execution_count": 1141,
     "metadata": {},
     "output_type": "execute_result"
    }
   ],
   "source": [
    "resultado_final_test_rd = rf_best.predict(x_test)\n",
    "resultado_final_test_rd"
   ]
  },
  {
   "cell_type": "code",
   "execution_count": 1142,
   "id": "dominican-score",
   "metadata": {},
   "outputs": [
    {
     "data": {
      "text/plain": [
       "array([0, 1, 0, 0, 1, 1, 1, 1, 1, 0, 1, 1, 1, 0, 0, 1, 1, 0, 0, 0, 1, 1,\n",
       "       1, 1, 0, 0, 0, 1, 0, 0, 0, 1, 0, 0, 0, 1, 1, 0, 0, 0, 0, 0, 0, 1,\n",
       "       0, 0, 0, 0, 0, 1, 0, 1, 1, 0, 1, 1, 1, 1, 1, 0, 1, 1, 1, 0, 1, 0,\n",
       "       1, 0, 0, 1, 0, 0, 1, 0, 0, 1, 1, 0, 0, 0, 1, 1, 1, 1, 0, 1, 1, 1,\n",
       "       1, 0, 1, 1, 1, 1, 1, 1, 0, 1, 0, 1, 0, 1, 1, 0, 0, 0, 0, 1, 0, 0,\n",
       "       0, 1, 1, 1, 1, 1, 1, 0, 0, 1, 1, 1, 0, 1, 0, 0, 0, 0, 0, 0, 0, 0,\n",
       "       1, 0, 0, 1, 1, 0, 1, 0, 1, 1, 0, 0, 1, 1, 0, 0, 1, 0, 0, 1, 0, 0,\n",
       "       1, 1, 0, 1, 0, 0, 0, 0, 1, 1, 1, 1, 0, 1, 1, 0, 1, 0, 1, 1, 0, 1,\n",
       "       0, 0, 0, 0, 1, 1, 1, 1, 1, 1, 0, 0, 1, 0, 0, 1, 0, 1, 1, 1, 1, 0,\n",
       "       0, 1, 0, 0, 0, 1, 0, 0, 1, 0, 0, 0, 0, 1, 1, 0, 1, 1, 1, 0, 1, 0,\n",
       "       1, 0, 0, 1, 0, 0, 0, 1, 0, 0, 1, 1, 1, 1, 1, 0, 0, 0, 1, 0, 0, 1,\n",
       "       1, 0, 1, 0, 0, 1, 1, 1, 1, 1, 1, 1, 1, 1, 1, 1, 1, 0, 0, 1, 0, 1,\n",
       "       0, 1, 0, 0, 1, 0, 1, 0, 1, 0, 1, 1, 1, 1, 1, 0, 1, 1, 1, 0, 0, 0,\n",
       "       0, 0, 1, 0, 1, 0, 1, 0, 0, 0, 0, 1, 0, 1, 1, 1, 0, 1, 1, 0, 1, 0,\n",
       "       1, 1, 1, 1, 1, 1, 0, 1, 0, 1, 1, 1, 0, 0, 1, 1, 0, 1, 1, 1, 1, 0,\n",
       "       1, 1, 0, 1, 0, 0, 1, 1, 1, 1, 0, 1, 1, 0, 0, 0, 0, 1, 0, 1, 1, 1,\n",
       "       1, 0, 1, 1, 0, 1, 1, 1, 0, 1, 1, 1, 0, 1, 1, 1, 1, 1, 0, 0, 1, 0,\n",
       "       1, 0, 1, 1, 0, 0, 1, 1, 1, 1, 1, 1, 0, 1, 0, 1, 0, 0, 1, 1, 1, 1,\n",
       "       1, 1, 1, 0, 1, 1, 0, 1, 1, 0, 1, 1, 0, 1, 0, 0, 1, 0, 1, 1, 0, 0,\n",
       "       1, 1, 1, 1, 0, 1, 1, 0, 1, 1, 1, 0, 1, 0, 0, 1, 1, 0, 1, 1, 0, 0,\n",
       "       1, 0, 1, 0, 0, 1, 0, 1, 0, 0, 1, 1, 1, 0, 1, 1, 1, 0, 1, 1, 0, 0,\n",
       "       1, 0, 0, 1, 1, 0, 1, 1, 1, 0, 1, 1, 1, 0, 0, 0, 0, 1, 1, 1, 0, 0,\n",
       "       0, 0, 0, 1, 1, 1, 1, 0, 1, 1, 1, 0, 1, 1, 1, 1, 1, 0, 0, 1, 1, 1,\n",
       "       1, 1, 0, 1, 0, 1, 1, 1, 1, 1, 0, 0, 1, 1, 1, 0, 0, 1, 1, 1, 0, 1,\n",
       "       0, 0, 0, 1, 0, 0, 1, 0, 1, 1, 0, 0, 1, 0, 0, 1, 1, 0, 0, 0, 1, 0,\n",
       "       1, 1, 0, 0, 1, 0, 0, 0, 1, 0, 1, 0, 1, 0, 1, 0, 0, 0, 0, 1, 1, 1,\n",
       "       1, 0, 0, 1, 0, 0, 0, 0, 1, 1, 0, 0, 0, 0, 1, 1, 1, 0, 1, 0, 1, 0,\n",
       "       0, 1, 1, 1, 1, 0, 0, 1, 0, 1, 1, 1, 1, 0, 1, 1, 1, 1, 0, 0, 0, 0,\n",
       "       0, 1, 0, 1, 0, 1, 1, 0, 1, 1, 1, 1, 0, 1, 1, 1, 1, 1, 1, 0, 0, 0,\n",
       "       1, 1, 1, 0, 1, 1, 0, 1, 0, 0, 1, 0, 0, 1, 0, 0, 0, 1, 0, 1, 0, 0,\n",
       "       0, 0, 0, 1, 1, 1, 0, 0, 1, 1, 0, 0, 0, 0, 1, 1, 0, 1, 1, 1, 0, 1,\n",
       "       0, 1, 1, 0, 1, 0, 1, 1, 1, 0, 0, 1, 0, 1, 1, 1, 0, 1, 0, 0, 1, 0,\n",
       "       1, 1, 0, 0, 0, 1, 1, 1, 1, 1, 0, 0, 1, 0, 1, 1, 0, 0, 1, 1, 0, 1,\n",
       "       1, 1, 0, 1, 1, 1, 0, 1, 1, 1, 0, 1, 0, 0, 0, 1, 0, 0, 0, 1, 0, 0,\n",
       "       1, 1, 1, 1, 0, 1, 0, 0, 1, 0, 0, 1, 0, 0, 1, 0, 1, 0, 0, 0, 0, 1,\n",
       "       1, 0, 1, 0, 0, 1, 1, 0, 0, 1, 0, 1, 1, 1, 0, 1, 1, 1, 0, 1, 1, 0,\n",
       "       1, 1, 0, 1, 0, 1, 1, 1, 1, 0, 0, 1, 0, 1, 1, 1, 1, 1, 1, 0, 1, 1,\n",
       "       0, 1, 1, 1, 1, 0, 0, 1, 1, 0, 0, 0, 0, 0, 0, 1, 0, 1, 0, 1, 1, 0,\n",
       "       1, 0, 1, 1, 1, 1, 0, 0, 0, 1, 0, 1, 1, 1, 1, 0, 1, 1, 0, 1, 1, 0,\n",
       "       0, 0, 0, 1, 1, 1, 1, 0, 1, 0, 0, 0, 1, 0, 1, 1, 1, 1, 0, 0, 0, 0,\n",
       "       1, 0, 0, 1, 1, 0, 0, 0, 1, 1, 1, 0, 1, 0, 0, 1, 0, 1, 1, 0, 0, 0,\n",
       "       0, 1, 0, 1, 0, 0, 0, 0, 1, 0, 0, 0, 1, 0, 1, 0, 1, 0, 1, 1, 0, 1,\n",
       "       1, 1, 0, 1, 1], dtype=int64)"
      ]
     },
     "execution_count": 1142,
     "metadata": {},
     "output_type": "execute_result"
    }
   ],
   "source": [
    "resultado_final_train_rd = rf_best.predict(x_train)\n",
    "resultado_final_train_rd"
   ]
  },
  {
   "cell_type": "markdown",
   "id": "crazy-stationery",
   "metadata": {},
   "source": [
    "### Avaliando o modelo com f1_score"
   ]
  },
  {
   "cell_type": "code",
   "execution_count": 1143,
   "id": "honey-language",
   "metadata": {},
   "outputs": [],
   "source": [
    "# Verificando a média de f1_score dos dados de treino e teste\n",
    "ajuste_metrica_train_rd = []\n",
    "ajuste_metrica_test_rd = []\n",
    "ajuste_metrica_train_rd.append(f1_score(y_train, resultado_final_train_rd, average='micro'))\n",
    "ajuste_metrica_test_rd.append(f1_score(y_test, resultado_final_test_rd, average='micro'))\n",
    "\n",
    "ajuste_metrica_final_test_rd = []\n",
    "ajuste_metrica_final_train_rd = []\n",
    "ajuste_metrica_final_test_rd.append(np.mean(ajuste_metrica_test_rd))\n",
    "ajuste_metrica_final_train_rd.append(np.mean(ajuste_metrica_train_rd))"
   ]
  },
  {
   "cell_type": "code",
   "execution_count": 1144,
   "id": "governmental-regard",
   "metadata": {},
   "outputs": [],
   "source": [
    "# calculando a diferenca entrer as métricas de treino e teste\n",
    "ajuste_diff_metrica_rd= []\n",
    "ajuste_diff_final_metrica_rd = []\n",
    "ajuste_diff_metrica_rd.append(100*np.abs((f1_score(y_train,resultado_final_train_rd, average='micro') - \\\n",
    "                                   f1_score(y_test, resultado_final_test_rd, average='micro'))/\\\n",
    "                                  f1_score(y_test, resultado_final_test_rd, average='micro')))\n",
    "   \n",
    "ajuste_diff_final_metrica_rd.append(np.mean(ajuste_diff_metrica_rd))"
   ]
  },
  {
   "cell_type": "code",
   "execution_count": 1145,
   "id": "guilty-aspect",
   "metadata": {},
   "outputs": [
    {
     "name": "stdout",
     "output_type": "stream",
     "text": [
      "[0.7222820236813778]\n",
      "\n",
      "------------------------------\n",
      "\n",
      "[0.6416040100250626]\n"
     ]
    }
   ],
   "source": [
    "print(ajuste_metrica_final_train_rd)\n",
    "print(\"\\n------------------------------\\n\")\n",
    "print(ajuste_metrica_final_test_rd)"
   ]
  },
  {
   "cell_type": "code",
   "execution_count": 1146,
   "id": "union-index",
   "metadata": {},
   "outputs": [
    {
     "name": "stdout",
     "output_type": "stream",
     "text": [
      "diferença do f1_score das métricas de treino e teste= [12.574424784714754]\n"
     ]
    }
   ],
   "source": [
    "print('diferença do f1_score das métricas de treino e teste=', ajuste_diff_final_metrica_rd)"
   ]
  },
  {
   "cell_type": "markdown",
   "id": "found-communications",
   "metadata": {},
   "source": [
    "#### Aplicando validacao Cruzada"
   ]
  },
  {
   "cell_type": "code",
   "execution_count": 1147,
   "id": "cellular-tsunami",
   "metadata": {},
   "outputs": [
    {
     "name": "stderr",
     "output_type": "stream",
     "text": [
      "C:\\Users\\Qintess\\anaconda3\\envs\\projeto\\lib\\site-packages\\sklearn\\tree\\_classes.py:310: FutureWarning:\n",
      "\n",
      "The min_impurity_split parameter is deprecated. Its default value has changed from 1e-7 to 0 in version 0.23, and it will be removed in 0.25. Use the min_impurity_decrease parameter instead.\n",
      "\n",
      "C:\\Users\\Qintess\\anaconda3\\envs\\projeto\\lib\\site-packages\\sklearn\\tree\\_classes.py:310: FutureWarning:\n",
      "\n",
      "The min_impurity_split parameter is deprecated. Its default value has changed from 1e-7 to 0 in version 0.23, and it will be removed in 0.25. Use the min_impurity_decrease parameter instead.\n",
      "\n",
      "C:\\Users\\Qintess\\anaconda3\\envs\\projeto\\lib\\site-packages\\sklearn\\tree\\_classes.py:310: FutureWarning:\n",
      "\n",
      "The min_impurity_split parameter is deprecated. Its default value has changed from 1e-7 to 0 in version 0.23, and it will be removed in 0.25. Use the min_impurity_decrease parameter instead.\n",
      "\n",
      "C:\\Users\\Qintess\\anaconda3\\envs\\projeto\\lib\\site-packages\\sklearn\\tree\\_classes.py:310: FutureWarning:\n",
      "\n",
      "The min_impurity_split parameter is deprecated. Its default value has changed from 1e-7 to 0 in version 0.23, and it will be removed in 0.25. Use the min_impurity_decrease parameter instead.\n",
      "\n",
      "C:\\Users\\Qintess\\anaconda3\\envs\\projeto\\lib\\site-packages\\sklearn\\tree\\_classes.py:310: FutureWarning:\n",
      "\n",
      "The min_impurity_split parameter is deprecated. Its default value has changed from 1e-7 to 0 in version 0.23, and it will be removed in 0.25. Use the min_impurity_decrease parameter instead.\n",
      "\n",
      "C:\\Users\\Qintess\\anaconda3\\envs\\projeto\\lib\\site-packages\\sklearn\\tree\\_classes.py:310: FutureWarning:\n",
      "\n",
      "The min_impurity_split parameter is deprecated. Its default value has changed from 1e-7 to 0 in version 0.23, and it will be removed in 0.25. Use the min_impurity_decrease parameter instead.\n",
      "\n",
      "C:\\Users\\Qintess\\anaconda3\\envs\\projeto\\lib\\site-packages\\sklearn\\tree\\_classes.py:310: FutureWarning:\n",
      "\n",
      "The min_impurity_split parameter is deprecated. Its default value has changed from 1e-7 to 0 in version 0.23, and it will be removed in 0.25. Use the min_impurity_decrease parameter instead.\n",
      "\n",
      "C:\\Users\\Qintess\\anaconda3\\envs\\projeto\\lib\\site-packages\\sklearn\\tree\\_classes.py:310: FutureWarning:\n",
      "\n",
      "The min_impurity_split parameter is deprecated. Its default value has changed from 1e-7 to 0 in version 0.23, and it will be removed in 0.25. Use the min_impurity_decrease parameter instead.\n",
      "\n",
      "C:\\Users\\Qintess\\anaconda3\\envs\\projeto\\lib\\site-packages\\sklearn\\tree\\_classes.py:310: FutureWarning:\n",
      "\n",
      "The min_impurity_split parameter is deprecated. Its default value has changed from 1e-7 to 0 in version 0.23, and it will be removed in 0.25. Use the min_impurity_decrease parameter instead.\n",
      "\n",
      "C:\\Users\\Qintess\\anaconda3\\envs\\projeto\\lib\\site-packages\\sklearn\\tree\\_classes.py:310: FutureWarning:\n",
      "\n",
      "The min_impurity_split parameter is deprecated. Its default value has changed from 1e-7 to 0 in version 0.23, and it will be removed in 0.25. Use the min_impurity_decrease parameter instead.\n",
      "\n",
      "C:\\Users\\Qintess\\anaconda3\\envs\\projeto\\lib\\site-packages\\sklearn\\tree\\_classes.py:310: FutureWarning:\n",
      "\n",
      "The min_impurity_split parameter is deprecated. Its default value has changed from 1e-7 to 0 in version 0.23, and it will be removed in 0.25. Use the min_impurity_decrease parameter instead.\n",
      "\n",
      "C:\\Users\\Qintess\\anaconda3\\envs\\projeto\\lib\\site-packages\\sklearn\\tree\\_classes.py:310: FutureWarning:\n",
      "\n",
      "The min_impurity_split parameter is deprecated. Its default value has changed from 1e-7 to 0 in version 0.23, and it will be removed in 0.25. Use the min_impurity_decrease parameter instead.\n",
      "\n",
      "C:\\Users\\Qintess\\anaconda3\\envs\\projeto\\lib\\site-packages\\sklearn\\tree\\_classes.py:310: FutureWarning:\n",
      "\n",
      "The min_impurity_split parameter is deprecated. Its default value has changed from 1e-7 to 0 in version 0.23, and it will be removed in 0.25. Use the min_impurity_decrease parameter instead.\n",
      "\n",
      "C:\\Users\\Qintess\\anaconda3\\envs\\projeto\\lib\\site-packages\\sklearn\\tree\\_classes.py:310: FutureWarning:\n",
      "\n",
      "The min_impurity_split parameter is deprecated. Its default value has changed from 1e-7 to 0 in version 0.23, and it will be removed in 0.25. Use the min_impurity_decrease parameter instead.\n",
      "\n",
      "C:\\Users\\Qintess\\anaconda3\\envs\\projeto\\lib\\site-packages\\sklearn\\tree\\_classes.py:310: FutureWarning:\n",
      "\n",
      "The min_impurity_split parameter is deprecated. Its default value has changed from 1e-7 to 0 in version 0.23, and it will be removed in 0.25. Use the min_impurity_decrease parameter instead.\n",
      "\n",
      "C:\\Users\\Qintess\\anaconda3\\envs\\projeto\\lib\\site-packages\\sklearn\\tree\\_classes.py:310: FutureWarning:\n",
      "\n",
      "The min_impurity_split parameter is deprecated. Its default value has changed from 1e-7 to 0 in version 0.23, and it will be removed in 0.25. Use the min_impurity_decrease parameter instead.\n",
      "\n",
      "C:\\Users\\Qintess\\anaconda3\\envs\\projeto\\lib\\site-packages\\sklearn\\tree\\_classes.py:310: FutureWarning:\n",
      "\n",
      "The min_impurity_split parameter is deprecated. Its default value has changed from 1e-7 to 0 in version 0.23, and it will be removed in 0.25. Use the min_impurity_decrease parameter instead.\n",
      "\n",
      "C:\\Users\\Qintess\\anaconda3\\envs\\projeto\\lib\\site-packages\\sklearn\\tree\\_classes.py:310: FutureWarning:\n",
      "\n",
      "The min_impurity_split parameter is deprecated. Its default value has changed from 1e-7 to 0 in version 0.23, and it will be removed in 0.25. Use the min_impurity_decrease parameter instead.\n",
      "\n",
      "C:\\Users\\Qintess\\anaconda3\\envs\\projeto\\lib\\site-packages\\sklearn\\tree\\_classes.py:310: FutureWarning:\n",
      "\n",
      "The min_impurity_split parameter is deprecated. Its default value has changed from 1e-7 to 0 in version 0.23, and it will be removed in 0.25. Use the min_impurity_decrease parameter instead.\n",
      "\n",
      "C:\\Users\\Qintess\\anaconda3\\envs\\projeto\\lib\\site-packages\\sklearn\\tree\\_classes.py:310: FutureWarning:\n",
      "\n",
      "The min_impurity_split parameter is deprecated. Its default value has changed from 1e-7 to 0 in version 0.23, and it will be removed in 0.25. Use the min_impurity_decrease parameter instead.\n",
      "\n",
      "C:\\Users\\Qintess\\anaconda3\\envs\\projeto\\lib\\site-packages\\sklearn\\tree\\_classes.py:310: FutureWarning:\n",
      "\n",
      "The min_impurity_split parameter is deprecated. Its default value has changed from 1e-7 to 0 in version 0.23, and it will be removed in 0.25. Use the min_impurity_decrease parameter instead.\n",
      "\n",
      "C:\\Users\\Qintess\\anaconda3\\envs\\projeto\\lib\\site-packages\\sklearn\\tree\\_classes.py:310: FutureWarning:\n",
      "\n",
      "The min_impurity_split parameter is deprecated. Its default value has changed from 1e-7 to 0 in version 0.23, and it will be removed in 0.25. Use the min_impurity_decrease parameter instead.\n",
      "\n",
      "C:\\Users\\Qintess\\anaconda3\\envs\\projeto\\lib\\site-packages\\sklearn\\tree\\_classes.py:310: FutureWarning:\n",
      "\n",
      "The min_impurity_split parameter is deprecated. Its default value has changed from 1e-7 to 0 in version 0.23, and it will be removed in 0.25. Use the min_impurity_decrease parameter instead.\n",
      "\n",
      "C:\\Users\\Qintess\\anaconda3\\envs\\projeto\\lib\\site-packages\\sklearn\\tree\\_classes.py:310: FutureWarning:\n",
      "\n",
      "The min_impurity_split parameter is deprecated. Its default value has changed from 1e-7 to 0 in version 0.23, and it will be removed in 0.25. Use the min_impurity_decrease parameter instead.\n",
      "\n",
      "C:\\Users\\Qintess\\anaconda3\\envs\\projeto\\lib\\site-packages\\sklearn\\tree\\_classes.py:310: FutureWarning:\n",
      "\n",
      "The min_impurity_split parameter is deprecated. Its default value has changed from 1e-7 to 0 in version 0.23, and it will be removed in 0.25. Use the min_impurity_decrease parameter instead.\n",
      "\n",
      "C:\\Users\\Qintess\\anaconda3\\envs\\projeto\\lib\\site-packages\\sklearn\\tree\\_classes.py:310: FutureWarning:\n",
      "\n",
      "The min_impurity_split parameter is deprecated. Its default value has changed from 1e-7 to 0 in version 0.23, and it will be removed in 0.25. Use the min_impurity_decrease parameter instead.\n",
      "\n",
      "C:\\Users\\Qintess\\anaconda3\\envs\\projeto\\lib\\site-packages\\sklearn\\tree\\_classes.py:310: FutureWarning:\n",
      "\n",
      "The min_impurity_split parameter is deprecated. Its default value has changed from 1e-7 to 0 in version 0.23, and it will be removed in 0.25. Use the min_impurity_decrease parameter instead.\n",
      "\n",
      "C:\\Users\\Qintess\\anaconda3\\envs\\projeto\\lib\\site-packages\\sklearn\\tree\\_classes.py:310: FutureWarning:\n",
      "\n",
      "The min_impurity_split parameter is deprecated. Its default value has changed from 1e-7 to 0 in version 0.23, and it will be removed in 0.25. Use the min_impurity_decrease parameter instead.\n",
      "\n",
      "C:\\Users\\Qintess\\anaconda3\\envs\\projeto\\lib\\site-packages\\sklearn\\tree\\_classes.py:310: FutureWarning:\n",
      "\n",
      "The min_impurity_split parameter is deprecated. Its default value has changed from 1e-7 to 0 in version 0.23, and it will be removed in 0.25. Use the min_impurity_decrease parameter instead.\n",
      "\n",
      "C:\\Users\\Qintess\\anaconda3\\envs\\projeto\\lib\\site-packages\\sklearn\\tree\\_classes.py:310: FutureWarning:\n",
      "\n",
      "The min_impurity_split parameter is deprecated. Its default value has changed from 1e-7 to 0 in version 0.23, and it will be removed in 0.25. Use the min_impurity_decrease parameter instead.\n",
      "\n",
      "C:\\Users\\Qintess\\anaconda3\\envs\\projeto\\lib\\site-packages\\sklearn\\tree\\_classes.py:310: FutureWarning:\n",
      "\n",
      "The min_impurity_split parameter is deprecated. Its default value has changed from 1e-7 to 0 in version 0.23, and it will be removed in 0.25. Use the min_impurity_decrease parameter instead.\n",
      "\n",
      "C:\\Users\\Qintess\\anaconda3\\envs\\projeto\\lib\\site-packages\\sklearn\\tree\\_classes.py:310: FutureWarning:\n",
      "\n",
      "The min_impurity_split parameter is deprecated. Its default value has changed from 1e-7 to 0 in version 0.23, and it will be removed in 0.25. Use the min_impurity_decrease parameter instead.\n",
      "\n",
      "C:\\Users\\Qintess\\anaconda3\\envs\\projeto\\lib\\site-packages\\sklearn\\tree\\_classes.py:310: FutureWarning:\n",
      "\n",
      "The min_impurity_split parameter is deprecated. Its default value has changed from 1e-7 to 0 in version 0.23, and it will be removed in 0.25. Use the min_impurity_decrease parameter instead.\n",
      "\n",
      "C:\\Users\\Qintess\\anaconda3\\envs\\projeto\\lib\\site-packages\\sklearn\\tree\\_classes.py:310: FutureWarning:\n",
      "\n",
      "The min_impurity_split parameter is deprecated. Its default value has changed from 1e-7 to 0 in version 0.23, and it will be removed in 0.25. Use the min_impurity_decrease parameter instead.\n",
      "\n",
      "C:\\Users\\Qintess\\anaconda3\\envs\\projeto\\lib\\site-packages\\sklearn\\tree\\_classes.py:310: FutureWarning:\n",
      "\n",
      "The min_impurity_split parameter is deprecated. Its default value has changed from 1e-7 to 0 in version 0.23, and it will be removed in 0.25. Use the min_impurity_decrease parameter instead.\n",
      "\n",
      "C:\\Users\\Qintess\\anaconda3\\envs\\projeto\\lib\\site-packages\\sklearn\\tree\\_classes.py:310: FutureWarning:\n",
      "\n",
      "The min_impurity_split parameter is deprecated. Its default value has changed from 1e-7 to 0 in version 0.23, and it will be removed in 0.25. Use the min_impurity_decrease parameter instead.\n",
      "\n",
      "C:\\Users\\Qintess\\anaconda3\\envs\\projeto\\lib\\site-packages\\sklearn\\tree\\_classes.py:310: FutureWarning:\n",
      "\n",
      "The min_impurity_split parameter is deprecated. Its default value has changed from 1e-7 to 0 in version 0.23, and it will be removed in 0.25. Use the min_impurity_decrease parameter instead.\n",
      "\n",
      "C:\\Users\\Qintess\\anaconda3\\envs\\projeto\\lib\\site-packages\\sklearn\\tree\\_classes.py:310: FutureWarning:\n",
      "\n",
      "The min_impurity_split parameter is deprecated. Its default value has changed from 1e-7 to 0 in version 0.23, and it will be removed in 0.25. Use the min_impurity_decrease parameter instead.\n",
      "\n",
      "C:\\Users\\Qintess\\anaconda3\\envs\\projeto\\lib\\site-packages\\sklearn\\tree\\_classes.py:310: FutureWarning:\n",
      "\n",
      "The min_impurity_split parameter is deprecated. Its default value has changed from 1e-7 to 0 in version 0.23, and it will be removed in 0.25. Use the min_impurity_decrease parameter instead.\n",
      "\n",
      "C:\\Users\\Qintess\\anaconda3\\envs\\projeto\\lib\\site-packages\\sklearn\\tree\\_classes.py:310: FutureWarning:\n",
      "\n",
      "The min_impurity_split parameter is deprecated. Its default value has changed from 1e-7 to 0 in version 0.23, and it will be removed in 0.25. Use the min_impurity_decrease parameter instead.\n",
      "\n",
      "C:\\Users\\Qintess\\anaconda3\\envs\\projeto\\lib\\site-packages\\sklearn\\tree\\_classes.py:310: FutureWarning:\n",
      "\n",
      "The min_impurity_split parameter is deprecated. Its default value has changed from 1e-7 to 0 in version 0.23, and it will be removed in 0.25. Use the min_impurity_decrease parameter instead.\n",
      "\n",
      "C:\\Users\\Qintess\\anaconda3\\envs\\projeto\\lib\\site-packages\\sklearn\\tree\\_classes.py:310: FutureWarning:\n",
      "\n",
      "The min_impurity_split parameter is deprecated. Its default value has changed from 1e-7 to 0 in version 0.23, and it will be removed in 0.25. Use the min_impurity_decrease parameter instead.\n",
      "\n",
      "C:\\Users\\Qintess\\anaconda3\\envs\\projeto\\lib\\site-packages\\sklearn\\tree\\_classes.py:310: FutureWarning:\n",
      "\n",
      "The min_impurity_split parameter is deprecated. Its default value has changed from 1e-7 to 0 in version 0.23, and it will be removed in 0.25. Use the min_impurity_decrease parameter instead.\n",
      "\n",
      "C:\\Users\\Qintess\\anaconda3\\envs\\projeto\\lib\\site-packages\\sklearn\\tree\\_classes.py:310: FutureWarning:\n",
      "\n",
      "The min_impurity_split parameter is deprecated. Its default value has changed from 1e-7 to 0 in version 0.23, and it will be removed in 0.25. Use the min_impurity_decrease parameter instead.\n",
      "\n",
      "C:\\Users\\Qintess\\anaconda3\\envs\\projeto\\lib\\site-packages\\sklearn\\tree\\_classes.py:310: FutureWarning:\n",
      "\n",
      "The min_impurity_split parameter is deprecated. Its default value has changed from 1e-7 to 0 in version 0.23, and it will be removed in 0.25. Use the min_impurity_decrease parameter instead.\n",
      "\n",
      "C:\\Users\\Qintess\\anaconda3\\envs\\projeto\\lib\\site-packages\\sklearn\\tree\\_classes.py:310: FutureWarning:\n",
      "\n",
      "The min_impurity_split parameter is deprecated. Its default value has changed from 1e-7 to 0 in version 0.23, and it will be removed in 0.25. Use the min_impurity_decrease parameter instead.\n",
      "\n",
      "C:\\Users\\Qintess\\anaconda3\\envs\\projeto\\lib\\site-packages\\sklearn\\tree\\_classes.py:310: FutureWarning:\n",
      "\n",
      "The min_impurity_split parameter is deprecated. Its default value has changed from 1e-7 to 0 in version 0.23, and it will be removed in 0.25. Use the min_impurity_decrease parameter instead.\n",
      "\n",
      "C:\\Users\\Qintess\\anaconda3\\envs\\projeto\\lib\\site-packages\\sklearn\\tree\\_classes.py:310: FutureWarning:\n",
      "\n",
      "The min_impurity_split parameter is deprecated. Its default value has changed from 1e-7 to 0 in version 0.23, and it will be removed in 0.25. Use the min_impurity_decrease parameter instead.\n",
      "\n",
      "C:\\Users\\Qintess\\anaconda3\\envs\\projeto\\lib\\site-packages\\sklearn\\tree\\_classes.py:310: FutureWarning:\n",
      "\n",
      "The min_impurity_split parameter is deprecated. Its default value has changed from 1e-7 to 0 in version 0.23, and it will be removed in 0.25. Use the min_impurity_decrease parameter instead.\n",
      "\n",
      "C:\\Users\\Qintess\\anaconda3\\envs\\projeto\\lib\\site-packages\\sklearn\\tree\\_classes.py:310: FutureWarning:\n",
      "\n",
      "The min_impurity_split parameter is deprecated. Its default value has changed from 1e-7 to 0 in version 0.23, and it will be removed in 0.25. Use the min_impurity_decrease parameter instead.\n",
      "\n",
      "C:\\Users\\Qintess\\anaconda3\\envs\\projeto\\lib\\site-packages\\sklearn\\tree\\_classes.py:310: FutureWarning:\n",
      "\n",
      "The min_impurity_split parameter is deprecated. Its default value has changed from 1e-7 to 0 in version 0.23, and it will be removed in 0.25. Use the min_impurity_decrease parameter instead.\n",
      "\n",
      "C:\\Users\\Qintess\\anaconda3\\envs\\projeto\\lib\\site-packages\\sklearn\\tree\\_classes.py:310: FutureWarning:\n",
      "\n",
      "The min_impurity_split parameter is deprecated. Its default value has changed from 1e-7 to 0 in version 0.23, and it will be removed in 0.25. Use the min_impurity_decrease parameter instead.\n",
      "\n",
      "C:\\Users\\Qintess\\anaconda3\\envs\\projeto\\lib\\site-packages\\sklearn\\tree\\_classes.py:310: FutureWarning:\n",
      "\n",
      "The min_impurity_split parameter is deprecated. Its default value has changed from 1e-7 to 0 in version 0.23, and it will be removed in 0.25. Use the min_impurity_decrease parameter instead.\n",
      "\n",
      "C:\\Users\\Qintess\\anaconda3\\envs\\projeto\\lib\\site-packages\\sklearn\\tree\\_classes.py:310: FutureWarning:\n",
      "\n",
      "The min_impurity_split parameter is deprecated. Its default value has changed from 1e-7 to 0 in version 0.23, and it will be removed in 0.25. Use the min_impurity_decrease parameter instead.\n",
      "\n",
      "C:\\Users\\Qintess\\anaconda3\\envs\\projeto\\lib\\site-packages\\sklearn\\tree\\_classes.py:310: FutureWarning:\n",
      "\n",
      "The min_impurity_split parameter is deprecated. Its default value has changed from 1e-7 to 0 in version 0.23, and it will be removed in 0.25. Use the min_impurity_decrease parameter instead.\n",
      "\n",
      "C:\\Users\\Qintess\\anaconda3\\envs\\projeto\\lib\\site-packages\\sklearn\\tree\\_classes.py:310: FutureWarning:\n",
      "\n",
      "The min_impurity_split parameter is deprecated. Its default value has changed from 1e-7 to 0 in version 0.23, and it will be removed in 0.25. Use the min_impurity_decrease parameter instead.\n",
      "\n",
      "C:\\Users\\Qintess\\anaconda3\\envs\\projeto\\lib\\site-packages\\sklearn\\tree\\_classes.py:310: FutureWarning:\n",
      "\n",
      "The min_impurity_split parameter is deprecated. Its default value has changed from 1e-7 to 0 in version 0.23, and it will be removed in 0.25. Use the min_impurity_decrease parameter instead.\n",
      "\n",
      "C:\\Users\\Qintess\\anaconda3\\envs\\projeto\\lib\\site-packages\\sklearn\\tree\\_classes.py:310: FutureWarning:\n",
      "\n",
      "The min_impurity_split parameter is deprecated. Its default value has changed from 1e-7 to 0 in version 0.23, and it will be removed in 0.25. Use the min_impurity_decrease parameter instead.\n",
      "\n",
      "C:\\Users\\Qintess\\anaconda3\\envs\\projeto\\lib\\site-packages\\sklearn\\tree\\_classes.py:310: FutureWarning:\n",
      "\n",
      "The min_impurity_split parameter is deprecated. Its default value has changed from 1e-7 to 0 in version 0.23, and it will be removed in 0.25. Use the min_impurity_decrease parameter instead.\n",
      "\n",
      "C:\\Users\\Qintess\\anaconda3\\envs\\projeto\\lib\\site-packages\\sklearn\\tree\\_classes.py:310: FutureWarning:\n",
      "\n",
      "The min_impurity_split parameter is deprecated. Its default value has changed from 1e-7 to 0 in version 0.23, and it will be removed in 0.25. Use the min_impurity_decrease parameter instead.\n",
      "\n",
      "C:\\Users\\Qintess\\anaconda3\\envs\\projeto\\lib\\site-packages\\sklearn\\tree\\_classes.py:310: FutureWarning:\n",
      "\n",
      "The min_impurity_split parameter is deprecated. Its default value has changed from 1e-7 to 0 in version 0.23, and it will be removed in 0.25. Use the min_impurity_decrease parameter instead.\n",
      "\n",
      "C:\\Users\\Qintess\\anaconda3\\envs\\projeto\\lib\\site-packages\\sklearn\\tree\\_classes.py:310: FutureWarning:\n",
      "\n",
      "The min_impurity_split parameter is deprecated. Its default value has changed from 1e-7 to 0 in version 0.23, and it will be removed in 0.25. Use the min_impurity_decrease parameter instead.\n",
      "\n",
      "C:\\Users\\Qintess\\anaconda3\\envs\\projeto\\lib\\site-packages\\sklearn\\tree\\_classes.py:310: FutureWarning:\n",
      "\n",
      "The min_impurity_split parameter is deprecated. Its default value has changed from 1e-7 to 0 in version 0.23, and it will be removed in 0.25. Use the min_impurity_decrease parameter instead.\n",
      "\n",
      "C:\\Users\\Qintess\\anaconda3\\envs\\projeto\\lib\\site-packages\\sklearn\\tree\\_classes.py:310: FutureWarning:\n",
      "\n",
      "The min_impurity_split parameter is deprecated. Its default value has changed from 1e-7 to 0 in version 0.23, and it will be removed in 0.25. Use the min_impurity_decrease parameter instead.\n",
      "\n",
      "C:\\Users\\Qintess\\anaconda3\\envs\\projeto\\lib\\site-packages\\sklearn\\tree\\_classes.py:310: FutureWarning:\n",
      "\n",
      "The min_impurity_split parameter is deprecated. Its default value has changed from 1e-7 to 0 in version 0.23, and it will be removed in 0.25. Use the min_impurity_decrease parameter instead.\n",
      "\n",
      "C:\\Users\\Qintess\\anaconda3\\envs\\projeto\\lib\\site-packages\\sklearn\\tree\\_classes.py:310: FutureWarning:\n",
      "\n",
      "The min_impurity_split parameter is deprecated. Its default value has changed from 1e-7 to 0 in version 0.23, and it will be removed in 0.25. Use the min_impurity_decrease parameter instead.\n",
      "\n",
      "C:\\Users\\Qintess\\anaconda3\\envs\\projeto\\lib\\site-packages\\sklearn\\tree\\_classes.py:310: FutureWarning:\n",
      "\n",
      "The min_impurity_split parameter is deprecated. Its default value has changed from 1e-7 to 0 in version 0.23, and it will be removed in 0.25. Use the min_impurity_decrease parameter instead.\n",
      "\n",
      "C:\\Users\\Qintess\\anaconda3\\envs\\projeto\\lib\\site-packages\\sklearn\\tree\\_classes.py:310: FutureWarning:\n",
      "\n",
      "The min_impurity_split parameter is deprecated. Its default value has changed from 1e-7 to 0 in version 0.23, and it will be removed in 0.25. Use the min_impurity_decrease parameter instead.\n",
      "\n",
      "C:\\Users\\Qintess\\anaconda3\\envs\\projeto\\lib\\site-packages\\sklearn\\tree\\_classes.py:310: FutureWarning:\n",
      "\n",
      "The min_impurity_split parameter is deprecated. Its default value has changed from 1e-7 to 0 in version 0.23, and it will be removed in 0.25. Use the min_impurity_decrease parameter instead.\n",
      "\n",
      "C:\\Users\\Qintess\\anaconda3\\envs\\projeto\\lib\\site-packages\\sklearn\\tree\\_classes.py:310: FutureWarning:\n",
      "\n",
      "The min_impurity_split parameter is deprecated. Its default value has changed from 1e-7 to 0 in version 0.23, and it will be removed in 0.25. Use the min_impurity_decrease parameter instead.\n",
      "\n",
      "C:\\Users\\Qintess\\anaconda3\\envs\\projeto\\lib\\site-packages\\sklearn\\tree\\_classes.py:310: FutureWarning:\n",
      "\n",
      "The min_impurity_split parameter is deprecated. Its default value has changed from 1e-7 to 0 in version 0.23, and it will be removed in 0.25. Use the min_impurity_decrease parameter instead.\n",
      "\n",
      "C:\\Users\\Qintess\\anaconda3\\envs\\projeto\\lib\\site-packages\\sklearn\\tree\\_classes.py:310: FutureWarning:\n",
      "\n",
      "The min_impurity_split parameter is deprecated. Its default value has changed from 1e-7 to 0 in version 0.23, and it will be removed in 0.25. Use the min_impurity_decrease parameter instead.\n",
      "\n",
      "C:\\Users\\Qintess\\anaconda3\\envs\\projeto\\lib\\site-packages\\sklearn\\tree\\_classes.py:310: FutureWarning:\n",
      "\n",
      "The min_impurity_split parameter is deprecated. Its default value has changed from 1e-7 to 0 in version 0.23, and it will be removed in 0.25. Use the min_impurity_decrease parameter instead.\n",
      "\n",
      "C:\\Users\\Qintess\\anaconda3\\envs\\projeto\\lib\\site-packages\\sklearn\\tree\\_classes.py:310: FutureWarning:\n",
      "\n",
      "The min_impurity_split parameter is deprecated. Its default value has changed from 1e-7 to 0 in version 0.23, and it will be removed in 0.25. Use the min_impurity_decrease parameter instead.\n",
      "\n",
      "C:\\Users\\Qintess\\anaconda3\\envs\\projeto\\lib\\site-packages\\sklearn\\tree\\_classes.py:310: FutureWarning:\n",
      "\n",
      "The min_impurity_split parameter is deprecated. Its default value has changed from 1e-7 to 0 in version 0.23, and it will be removed in 0.25. Use the min_impurity_decrease parameter instead.\n",
      "\n",
      "C:\\Users\\Qintess\\anaconda3\\envs\\projeto\\lib\\site-packages\\sklearn\\tree\\_classes.py:310: FutureWarning:\n",
      "\n",
      "The min_impurity_split parameter is deprecated. Its default value has changed from 1e-7 to 0 in version 0.23, and it will be removed in 0.25. Use the min_impurity_decrease parameter instead.\n",
      "\n",
      "C:\\Users\\Qintess\\anaconda3\\envs\\projeto\\lib\\site-packages\\sklearn\\tree\\_classes.py:310: FutureWarning:\n",
      "\n",
      "The min_impurity_split parameter is deprecated. Its default value has changed from 1e-7 to 0 in version 0.23, and it will be removed in 0.25. Use the min_impurity_decrease parameter instead.\n",
      "\n",
      "C:\\Users\\Qintess\\anaconda3\\envs\\projeto\\lib\\site-packages\\sklearn\\tree\\_classes.py:310: FutureWarning:\n",
      "\n",
      "The min_impurity_split parameter is deprecated. Its default value has changed from 1e-7 to 0 in version 0.23, and it will be removed in 0.25. Use the min_impurity_decrease parameter instead.\n",
      "\n",
      "C:\\Users\\Qintess\\anaconda3\\envs\\projeto\\lib\\site-packages\\sklearn\\tree\\_classes.py:310: FutureWarning:\n",
      "\n",
      "The min_impurity_split parameter is deprecated. Its default value has changed from 1e-7 to 0 in version 0.23, and it will be removed in 0.25. Use the min_impurity_decrease parameter instead.\n",
      "\n",
      "C:\\Users\\Qintess\\anaconda3\\envs\\projeto\\lib\\site-packages\\sklearn\\tree\\_classes.py:310: FutureWarning:\n",
      "\n",
      "The min_impurity_split parameter is deprecated. Its default value has changed from 1e-7 to 0 in version 0.23, and it will be removed in 0.25. Use the min_impurity_decrease parameter instead.\n",
      "\n",
      "C:\\Users\\Qintess\\anaconda3\\envs\\projeto\\lib\\site-packages\\sklearn\\tree\\_classes.py:310: FutureWarning:\n",
      "\n",
      "The min_impurity_split parameter is deprecated. Its default value has changed from 1e-7 to 0 in version 0.23, and it will be removed in 0.25. Use the min_impurity_decrease parameter instead.\n",
      "\n",
      "C:\\Users\\Qintess\\anaconda3\\envs\\projeto\\lib\\site-packages\\sklearn\\tree\\_classes.py:310: FutureWarning:\n",
      "\n",
      "The min_impurity_split parameter is deprecated. Its default value has changed from 1e-7 to 0 in version 0.23, and it will be removed in 0.25. Use the min_impurity_decrease parameter instead.\n",
      "\n",
      "C:\\Users\\Qintess\\anaconda3\\envs\\projeto\\lib\\site-packages\\sklearn\\tree\\_classes.py:310: FutureWarning:\n",
      "\n",
      "The min_impurity_split parameter is deprecated. Its default value has changed from 1e-7 to 0 in version 0.23, and it will be removed in 0.25. Use the min_impurity_decrease parameter instead.\n",
      "\n",
      "C:\\Users\\Qintess\\anaconda3\\envs\\projeto\\lib\\site-packages\\sklearn\\tree\\_classes.py:310: FutureWarning:\n",
      "\n",
      "The min_impurity_split parameter is deprecated. Its default value has changed from 1e-7 to 0 in version 0.23, and it will be removed in 0.25. Use the min_impurity_decrease parameter instead.\n",
      "\n",
      "C:\\Users\\Qintess\\anaconda3\\envs\\projeto\\lib\\site-packages\\sklearn\\tree\\_classes.py:310: FutureWarning:\n",
      "\n",
      "The min_impurity_split parameter is deprecated. Its default value has changed from 1e-7 to 0 in version 0.23, and it will be removed in 0.25. Use the min_impurity_decrease parameter instead.\n",
      "\n",
      "C:\\Users\\Qintess\\anaconda3\\envs\\projeto\\lib\\site-packages\\sklearn\\tree\\_classes.py:310: FutureWarning:\n",
      "\n",
      "The min_impurity_split parameter is deprecated. Its default value has changed from 1e-7 to 0 in version 0.23, and it will be removed in 0.25. Use the min_impurity_decrease parameter instead.\n",
      "\n",
      "C:\\Users\\Qintess\\anaconda3\\envs\\projeto\\lib\\site-packages\\sklearn\\tree\\_classes.py:310: FutureWarning:\n",
      "\n",
      "The min_impurity_split parameter is deprecated. Its default value has changed from 1e-7 to 0 in version 0.23, and it will be removed in 0.25. Use the min_impurity_decrease parameter instead.\n",
      "\n",
      "C:\\Users\\Qintess\\anaconda3\\envs\\projeto\\lib\\site-packages\\sklearn\\tree\\_classes.py:310: FutureWarning:\n",
      "\n",
      "The min_impurity_split parameter is deprecated. Its default value has changed from 1e-7 to 0 in version 0.23, and it will be removed in 0.25. Use the min_impurity_decrease parameter instead.\n",
      "\n",
      "C:\\Users\\Qintess\\anaconda3\\envs\\projeto\\lib\\site-packages\\sklearn\\tree\\_classes.py:310: FutureWarning:\n",
      "\n",
      "The min_impurity_split parameter is deprecated. Its default value has changed from 1e-7 to 0 in version 0.23, and it will be removed in 0.25. Use the min_impurity_decrease parameter instead.\n",
      "\n",
      "C:\\Users\\Qintess\\anaconda3\\envs\\projeto\\lib\\site-packages\\sklearn\\tree\\_classes.py:310: FutureWarning:\n",
      "\n",
      "The min_impurity_split parameter is deprecated. Its default value has changed from 1e-7 to 0 in version 0.23, and it will be removed in 0.25. Use the min_impurity_decrease parameter instead.\n",
      "\n",
      "C:\\Users\\Qintess\\anaconda3\\envs\\projeto\\lib\\site-packages\\sklearn\\tree\\_classes.py:310: FutureWarning:\n",
      "\n",
      "The min_impurity_split parameter is deprecated. Its default value has changed from 1e-7 to 0 in version 0.23, and it will be removed in 0.25. Use the min_impurity_decrease parameter instead.\n",
      "\n",
      "C:\\Users\\Qintess\\anaconda3\\envs\\projeto\\lib\\site-packages\\sklearn\\tree\\_classes.py:310: FutureWarning:\n",
      "\n",
      "The min_impurity_split parameter is deprecated. Its default value has changed from 1e-7 to 0 in version 0.23, and it will be removed in 0.25. Use the min_impurity_decrease parameter instead.\n",
      "\n",
      "C:\\Users\\Qintess\\anaconda3\\envs\\projeto\\lib\\site-packages\\sklearn\\tree\\_classes.py:310: FutureWarning:\n",
      "\n",
      "The min_impurity_split parameter is deprecated. Its default value has changed from 1e-7 to 0 in version 0.23, and it will be removed in 0.25. Use the min_impurity_decrease parameter instead.\n",
      "\n",
      "C:\\Users\\Qintess\\anaconda3\\envs\\projeto\\lib\\site-packages\\sklearn\\tree\\_classes.py:310: FutureWarning:\n",
      "\n",
      "The min_impurity_split parameter is deprecated. Its default value has changed from 1e-7 to 0 in version 0.23, and it will be removed in 0.25. Use the min_impurity_decrease parameter instead.\n",
      "\n",
      "C:\\Users\\Qintess\\anaconda3\\envs\\projeto\\lib\\site-packages\\sklearn\\tree\\_classes.py:310: FutureWarning:\n",
      "\n",
      "The min_impurity_split parameter is deprecated. Its default value has changed from 1e-7 to 0 in version 0.23, and it will be removed in 0.25. Use the min_impurity_decrease parameter instead.\n",
      "\n",
      "C:\\Users\\Qintess\\anaconda3\\envs\\projeto\\lib\\site-packages\\sklearn\\tree\\_classes.py:310: FutureWarning:\n",
      "\n",
      "The min_impurity_split parameter is deprecated. Its default value has changed from 1e-7 to 0 in version 0.23, and it will be removed in 0.25. Use the min_impurity_decrease parameter instead.\n",
      "\n",
      "C:\\Users\\Qintess\\anaconda3\\envs\\projeto\\lib\\site-packages\\sklearn\\tree\\_classes.py:310: FutureWarning:\n",
      "\n",
      "The min_impurity_split parameter is deprecated. Its default value has changed from 1e-7 to 0 in version 0.23, and it will be removed in 0.25. Use the min_impurity_decrease parameter instead.\n",
      "\n",
      "C:\\Users\\Qintess\\anaconda3\\envs\\projeto\\lib\\site-packages\\sklearn\\tree\\_classes.py:310: FutureWarning:\n",
      "\n",
      "The min_impurity_split parameter is deprecated. Its default value has changed from 1e-7 to 0 in version 0.23, and it will be removed in 0.25. Use the min_impurity_decrease parameter instead.\n",
      "\n",
      "C:\\Users\\Qintess\\anaconda3\\envs\\projeto\\lib\\site-packages\\sklearn\\tree\\_classes.py:310: FutureWarning:\n",
      "\n",
      "The min_impurity_split parameter is deprecated. Its default value has changed from 1e-7 to 0 in version 0.23, and it will be removed in 0.25. Use the min_impurity_decrease parameter instead.\n",
      "\n",
      "C:\\Users\\Qintess\\anaconda3\\envs\\projeto\\lib\\site-packages\\sklearn\\tree\\_classes.py:310: FutureWarning:\n",
      "\n",
      "The min_impurity_split parameter is deprecated. Its default value has changed from 1e-7 to 0 in version 0.23, and it will be removed in 0.25. Use the min_impurity_decrease parameter instead.\n",
      "\n",
      "C:\\Users\\Qintess\\anaconda3\\envs\\projeto\\lib\\site-packages\\sklearn\\tree\\_classes.py:310: FutureWarning:\n",
      "\n",
      "The min_impurity_split parameter is deprecated. Its default value has changed from 1e-7 to 0 in version 0.23, and it will be removed in 0.25. Use the min_impurity_decrease parameter instead.\n",
      "\n",
      "C:\\Users\\Qintess\\anaconda3\\envs\\projeto\\lib\\site-packages\\sklearn\\tree\\_classes.py:310: FutureWarning:\n",
      "\n",
      "The min_impurity_split parameter is deprecated. Its default value has changed from 1e-7 to 0 in version 0.23, and it will be removed in 0.25. Use the min_impurity_decrease parameter instead.\n",
      "\n",
      "C:\\Users\\Qintess\\anaconda3\\envs\\projeto\\lib\\site-packages\\sklearn\\tree\\_classes.py:310: FutureWarning:\n",
      "\n",
      "The min_impurity_split parameter is deprecated. Its default value has changed from 1e-7 to 0 in version 0.23, and it will be removed in 0.25. Use the min_impurity_decrease parameter instead.\n",
      "\n",
      "C:\\Users\\Qintess\\anaconda3\\envs\\projeto\\lib\\site-packages\\sklearn\\tree\\_classes.py:310: FutureWarning:\n",
      "\n",
      "The min_impurity_split parameter is deprecated. Its default value has changed from 1e-7 to 0 in version 0.23, and it will be removed in 0.25. Use the min_impurity_decrease parameter instead.\n",
      "\n",
      "C:\\Users\\Qintess\\anaconda3\\envs\\projeto\\lib\\site-packages\\sklearn\\tree\\_classes.py:310: FutureWarning:\n",
      "\n",
      "The min_impurity_split parameter is deprecated. Its default value has changed from 1e-7 to 0 in version 0.23, and it will be removed in 0.25. Use the min_impurity_decrease parameter instead.\n",
      "\n",
      "C:\\Users\\Qintess\\anaconda3\\envs\\projeto\\lib\\site-packages\\sklearn\\tree\\_classes.py:310: FutureWarning:\n",
      "\n",
      "The min_impurity_split parameter is deprecated. Its default value has changed from 1e-7 to 0 in version 0.23, and it will be removed in 0.25. Use the min_impurity_decrease parameter instead.\n",
      "\n",
      "C:\\Users\\Qintess\\anaconda3\\envs\\projeto\\lib\\site-packages\\sklearn\\tree\\_classes.py:310: FutureWarning:\n",
      "\n",
      "The min_impurity_split parameter is deprecated. Its default value has changed from 1e-7 to 0 in version 0.23, and it will be removed in 0.25. Use the min_impurity_decrease parameter instead.\n",
      "\n",
      "C:\\Users\\Qintess\\anaconda3\\envs\\projeto\\lib\\site-packages\\sklearn\\tree\\_classes.py:310: FutureWarning:\n",
      "\n",
      "The min_impurity_split parameter is deprecated. Its default value has changed from 1e-7 to 0 in version 0.23, and it will be removed in 0.25. Use the min_impurity_decrease parameter instead.\n",
      "\n",
      "C:\\Users\\Qintess\\anaconda3\\envs\\projeto\\lib\\site-packages\\sklearn\\tree\\_classes.py:310: FutureWarning:\n",
      "\n",
      "The min_impurity_split parameter is deprecated. Its default value has changed from 1e-7 to 0 in version 0.23, and it will be removed in 0.25. Use the min_impurity_decrease parameter instead.\n",
      "\n",
      "C:\\Users\\Qintess\\anaconda3\\envs\\projeto\\lib\\site-packages\\sklearn\\tree\\_classes.py:310: FutureWarning:\n",
      "\n",
      "The min_impurity_split parameter is deprecated. Its default value has changed from 1e-7 to 0 in version 0.23, and it will be removed in 0.25. Use the min_impurity_decrease parameter instead.\n",
      "\n",
      "C:\\Users\\Qintess\\anaconda3\\envs\\projeto\\lib\\site-packages\\sklearn\\tree\\_classes.py:310: FutureWarning:\n",
      "\n",
      "The min_impurity_split parameter is deprecated. Its default value has changed from 1e-7 to 0 in version 0.23, and it will be removed in 0.25. Use the min_impurity_decrease parameter instead.\n",
      "\n",
      "C:\\Users\\Qintess\\anaconda3\\envs\\projeto\\lib\\site-packages\\sklearn\\tree\\_classes.py:310: FutureWarning:\n",
      "\n",
      "The min_impurity_split parameter is deprecated. Its default value has changed from 1e-7 to 0 in version 0.23, and it will be removed in 0.25. Use the min_impurity_decrease parameter instead.\n",
      "\n",
      "C:\\Users\\Qintess\\anaconda3\\envs\\projeto\\lib\\site-packages\\sklearn\\tree\\_classes.py:310: FutureWarning:\n",
      "\n",
      "The min_impurity_split parameter is deprecated. Its default value has changed from 1e-7 to 0 in version 0.23, and it will be removed in 0.25. Use the min_impurity_decrease parameter instead.\n",
      "\n",
      "C:\\Users\\Qintess\\anaconda3\\envs\\projeto\\lib\\site-packages\\sklearn\\tree\\_classes.py:310: FutureWarning:\n",
      "\n",
      "The min_impurity_split parameter is deprecated. Its default value has changed from 1e-7 to 0 in version 0.23, and it will be removed in 0.25. Use the min_impurity_decrease parameter instead.\n",
      "\n",
      "C:\\Users\\Qintess\\anaconda3\\envs\\projeto\\lib\\site-packages\\sklearn\\tree\\_classes.py:310: FutureWarning:\n",
      "\n",
      "The min_impurity_split parameter is deprecated. Its default value has changed from 1e-7 to 0 in version 0.23, and it will be removed in 0.25. Use the min_impurity_decrease parameter instead.\n",
      "\n",
      "C:\\Users\\Qintess\\anaconda3\\envs\\projeto\\lib\\site-packages\\sklearn\\tree\\_classes.py:310: FutureWarning:\n",
      "\n",
      "The min_impurity_split parameter is deprecated. Its default value has changed from 1e-7 to 0 in version 0.23, and it will be removed in 0.25. Use the min_impurity_decrease parameter instead.\n",
      "\n",
      "C:\\Users\\Qintess\\anaconda3\\envs\\projeto\\lib\\site-packages\\sklearn\\tree\\_classes.py:310: FutureWarning:\n",
      "\n",
      "The min_impurity_split parameter is deprecated. Its default value has changed from 1e-7 to 0 in version 0.23, and it will be removed in 0.25. Use the min_impurity_decrease parameter instead.\n",
      "\n",
      "C:\\Users\\Qintess\\anaconda3\\envs\\projeto\\lib\\site-packages\\sklearn\\tree\\_classes.py:310: FutureWarning:\n",
      "\n",
      "The min_impurity_split parameter is deprecated. Its default value has changed from 1e-7 to 0 in version 0.23, and it will be removed in 0.25. Use the min_impurity_decrease parameter instead.\n",
      "\n",
      "C:\\Users\\Qintess\\anaconda3\\envs\\projeto\\lib\\site-packages\\sklearn\\tree\\_classes.py:310: FutureWarning:\n",
      "\n",
      "The min_impurity_split parameter is deprecated. Its default value has changed from 1e-7 to 0 in version 0.23, and it will be removed in 0.25. Use the min_impurity_decrease parameter instead.\n",
      "\n",
      "C:\\Users\\Qintess\\anaconda3\\envs\\projeto\\lib\\site-packages\\sklearn\\tree\\_classes.py:310: FutureWarning:\n",
      "\n",
      "The min_impurity_split parameter is deprecated. Its default value has changed from 1e-7 to 0 in version 0.23, and it will be removed in 0.25. Use the min_impurity_decrease parameter instead.\n",
      "\n",
      "C:\\Users\\Qintess\\anaconda3\\envs\\projeto\\lib\\site-packages\\sklearn\\tree\\_classes.py:310: FutureWarning:\n",
      "\n",
      "The min_impurity_split parameter is deprecated. Its default value has changed from 1e-7 to 0 in version 0.23, and it will be removed in 0.25. Use the min_impurity_decrease parameter instead.\n",
      "\n",
      "C:\\Users\\Qintess\\anaconda3\\envs\\projeto\\lib\\site-packages\\sklearn\\tree\\_classes.py:310: FutureWarning:\n",
      "\n",
      "The min_impurity_split parameter is deprecated. Its default value has changed from 1e-7 to 0 in version 0.23, and it will be removed in 0.25. Use the min_impurity_decrease parameter instead.\n",
      "\n",
      "C:\\Users\\Qintess\\anaconda3\\envs\\projeto\\lib\\site-packages\\sklearn\\tree\\_classes.py:310: FutureWarning:\n",
      "\n",
      "The min_impurity_split parameter is deprecated. Its default value has changed from 1e-7 to 0 in version 0.23, and it will be removed in 0.25. Use the min_impurity_decrease parameter instead.\n",
      "\n",
      "C:\\Users\\Qintess\\anaconda3\\envs\\projeto\\lib\\site-packages\\sklearn\\tree\\_classes.py:310: FutureWarning:\n",
      "\n",
      "The min_impurity_split parameter is deprecated. Its default value has changed from 1e-7 to 0 in version 0.23, and it will be removed in 0.25. Use the min_impurity_decrease parameter instead.\n",
      "\n",
      "C:\\Users\\Qintess\\anaconda3\\envs\\projeto\\lib\\site-packages\\sklearn\\tree\\_classes.py:310: FutureWarning:\n",
      "\n",
      "The min_impurity_split parameter is deprecated. Its default value has changed from 1e-7 to 0 in version 0.23, and it will be removed in 0.25. Use the min_impurity_decrease parameter instead.\n",
      "\n",
      "C:\\Users\\Qintess\\anaconda3\\envs\\projeto\\lib\\site-packages\\sklearn\\tree\\_classes.py:310: FutureWarning:\n",
      "\n",
      "The min_impurity_split parameter is deprecated. Its default value has changed from 1e-7 to 0 in version 0.23, and it will be removed in 0.25. Use the min_impurity_decrease parameter instead.\n",
      "\n",
      "C:\\Users\\Qintess\\anaconda3\\envs\\projeto\\lib\\site-packages\\sklearn\\tree\\_classes.py:310: FutureWarning:\n",
      "\n",
      "The min_impurity_split parameter is deprecated. Its default value has changed from 1e-7 to 0 in version 0.23, and it will be removed in 0.25. Use the min_impurity_decrease parameter instead.\n",
      "\n",
      "C:\\Users\\Qintess\\anaconda3\\envs\\projeto\\lib\\site-packages\\sklearn\\tree\\_classes.py:310: FutureWarning:\n",
      "\n",
      "The min_impurity_split parameter is deprecated. Its default value has changed from 1e-7 to 0 in version 0.23, and it will be removed in 0.25. Use the min_impurity_decrease parameter instead.\n",
      "\n",
      "C:\\Users\\Qintess\\anaconda3\\envs\\projeto\\lib\\site-packages\\sklearn\\tree\\_classes.py:310: FutureWarning:\n",
      "\n",
      "The min_impurity_split parameter is deprecated. Its default value has changed from 1e-7 to 0 in version 0.23, and it will be removed in 0.25. Use the min_impurity_decrease parameter instead.\n",
      "\n",
      "C:\\Users\\Qintess\\anaconda3\\envs\\projeto\\lib\\site-packages\\sklearn\\tree\\_classes.py:310: FutureWarning:\n",
      "\n",
      "The min_impurity_split parameter is deprecated. Its default value has changed from 1e-7 to 0 in version 0.23, and it will be removed in 0.25. Use the min_impurity_decrease parameter instead.\n",
      "\n",
      "C:\\Users\\Qintess\\anaconda3\\envs\\projeto\\lib\\site-packages\\sklearn\\tree\\_classes.py:310: FutureWarning:\n",
      "\n",
      "The min_impurity_split parameter is deprecated. Its default value has changed from 1e-7 to 0 in version 0.23, and it will be removed in 0.25. Use the min_impurity_decrease parameter instead.\n",
      "\n",
      "C:\\Users\\Qintess\\anaconda3\\envs\\projeto\\lib\\site-packages\\sklearn\\tree\\_classes.py:310: FutureWarning:\n",
      "\n",
      "The min_impurity_split parameter is deprecated. Its default value has changed from 1e-7 to 0 in version 0.23, and it will be removed in 0.25. Use the min_impurity_decrease parameter instead.\n",
      "\n",
      "C:\\Users\\Qintess\\anaconda3\\envs\\projeto\\lib\\site-packages\\sklearn\\tree\\_classes.py:310: FutureWarning:\n",
      "\n",
      "The min_impurity_split parameter is deprecated. Its default value has changed from 1e-7 to 0 in version 0.23, and it will be removed in 0.25. Use the min_impurity_decrease parameter instead.\n",
      "\n",
      "C:\\Users\\Qintess\\anaconda3\\envs\\projeto\\lib\\site-packages\\sklearn\\tree\\_classes.py:310: FutureWarning:\n",
      "\n",
      "The min_impurity_split parameter is deprecated. Its default value has changed from 1e-7 to 0 in version 0.23, and it will be removed in 0.25. Use the min_impurity_decrease parameter instead.\n",
      "\n",
      "C:\\Users\\Qintess\\anaconda3\\envs\\projeto\\lib\\site-packages\\sklearn\\tree\\_classes.py:310: FutureWarning:\n",
      "\n",
      "The min_impurity_split parameter is deprecated. Its default value has changed from 1e-7 to 0 in version 0.23, and it will be removed in 0.25. Use the min_impurity_decrease parameter instead.\n",
      "\n",
      "C:\\Users\\Qintess\\anaconda3\\envs\\projeto\\lib\\site-packages\\sklearn\\tree\\_classes.py:310: FutureWarning:\n",
      "\n",
      "The min_impurity_split parameter is deprecated. Its default value has changed from 1e-7 to 0 in version 0.23, and it will be removed in 0.25. Use the min_impurity_decrease parameter instead.\n",
      "\n",
      "C:\\Users\\Qintess\\anaconda3\\envs\\projeto\\lib\\site-packages\\sklearn\\tree\\_classes.py:310: FutureWarning:\n",
      "\n",
      "The min_impurity_split parameter is deprecated. Its default value has changed from 1e-7 to 0 in version 0.23, and it will be removed in 0.25. Use the min_impurity_decrease parameter instead.\n",
      "\n",
      "C:\\Users\\Qintess\\anaconda3\\envs\\projeto\\lib\\site-packages\\sklearn\\tree\\_classes.py:310: FutureWarning:\n",
      "\n",
      "The min_impurity_split parameter is deprecated. Its default value has changed from 1e-7 to 0 in version 0.23, and it will be removed in 0.25. Use the min_impurity_decrease parameter instead.\n",
      "\n",
      "C:\\Users\\Qintess\\anaconda3\\envs\\projeto\\lib\\site-packages\\sklearn\\tree\\_classes.py:310: FutureWarning:\n",
      "\n",
      "The min_impurity_split parameter is deprecated. Its default value has changed from 1e-7 to 0 in version 0.23, and it will be removed in 0.25. Use the min_impurity_decrease parameter instead.\n",
      "\n",
      "C:\\Users\\Qintess\\anaconda3\\envs\\projeto\\lib\\site-packages\\sklearn\\tree\\_classes.py:310: FutureWarning:\n",
      "\n",
      "The min_impurity_split parameter is deprecated. Its default value has changed from 1e-7 to 0 in version 0.23, and it will be removed in 0.25. Use the min_impurity_decrease parameter instead.\n",
      "\n",
      "C:\\Users\\Qintess\\anaconda3\\envs\\projeto\\lib\\site-packages\\sklearn\\tree\\_classes.py:310: FutureWarning:\n",
      "\n",
      "The min_impurity_split parameter is deprecated. Its default value has changed from 1e-7 to 0 in version 0.23, and it will be removed in 0.25. Use the min_impurity_decrease parameter instead.\n",
      "\n",
      "C:\\Users\\Qintess\\anaconda3\\envs\\projeto\\lib\\site-packages\\sklearn\\tree\\_classes.py:310: FutureWarning:\n",
      "\n",
      "The min_impurity_split parameter is deprecated. Its default value has changed from 1e-7 to 0 in version 0.23, and it will be removed in 0.25. Use the min_impurity_decrease parameter instead.\n",
      "\n",
      "C:\\Users\\Qintess\\anaconda3\\envs\\projeto\\lib\\site-packages\\sklearn\\tree\\_classes.py:310: FutureWarning:\n",
      "\n",
      "The min_impurity_split parameter is deprecated. Its default value has changed from 1e-7 to 0 in version 0.23, and it will be removed in 0.25. Use the min_impurity_decrease parameter instead.\n",
      "\n",
      "C:\\Users\\Qintess\\anaconda3\\envs\\projeto\\lib\\site-packages\\sklearn\\tree\\_classes.py:310: FutureWarning:\n",
      "\n",
      "The min_impurity_split parameter is deprecated. Its default value has changed from 1e-7 to 0 in version 0.23, and it will be removed in 0.25. Use the min_impurity_decrease parameter instead.\n",
      "\n",
      "C:\\Users\\Qintess\\anaconda3\\envs\\projeto\\lib\\site-packages\\sklearn\\tree\\_classes.py:310: FutureWarning:\n",
      "\n",
      "The min_impurity_split parameter is deprecated. Its default value has changed from 1e-7 to 0 in version 0.23, and it will be removed in 0.25. Use the min_impurity_decrease parameter instead.\n",
      "\n",
      "C:\\Users\\Qintess\\anaconda3\\envs\\projeto\\lib\\site-packages\\sklearn\\tree\\_classes.py:310: FutureWarning:\n",
      "\n",
      "The min_impurity_split parameter is deprecated. Its default value has changed from 1e-7 to 0 in version 0.23, and it will be removed in 0.25. Use the min_impurity_decrease parameter instead.\n",
      "\n",
      "C:\\Users\\Qintess\\anaconda3\\envs\\projeto\\lib\\site-packages\\sklearn\\tree\\_classes.py:310: FutureWarning:\n",
      "\n",
      "The min_impurity_split parameter is deprecated. Its default value has changed from 1e-7 to 0 in version 0.23, and it will be removed in 0.25. Use the min_impurity_decrease parameter instead.\n",
      "\n",
      "C:\\Users\\Qintess\\anaconda3\\envs\\projeto\\lib\\site-packages\\sklearn\\tree\\_classes.py:310: FutureWarning:\n",
      "\n",
      "The min_impurity_split parameter is deprecated. Its default value has changed from 1e-7 to 0 in version 0.23, and it will be removed in 0.25. Use the min_impurity_decrease parameter instead.\n",
      "\n",
      "C:\\Users\\Qintess\\anaconda3\\envs\\projeto\\lib\\site-packages\\sklearn\\tree\\_classes.py:310: FutureWarning:\n",
      "\n",
      "The min_impurity_split parameter is deprecated. Its default value has changed from 1e-7 to 0 in version 0.23, and it will be removed in 0.25. Use the min_impurity_decrease parameter instead.\n",
      "\n",
      "C:\\Users\\Qintess\\anaconda3\\envs\\projeto\\lib\\site-packages\\sklearn\\tree\\_classes.py:310: FutureWarning:\n",
      "\n",
      "The min_impurity_split parameter is deprecated. Its default value has changed from 1e-7 to 0 in version 0.23, and it will be removed in 0.25. Use the min_impurity_decrease parameter instead.\n",
      "\n",
      "C:\\Users\\Qintess\\anaconda3\\envs\\projeto\\lib\\site-packages\\sklearn\\tree\\_classes.py:310: FutureWarning:\n",
      "\n",
      "The min_impurity_split parameter is deprecated. Its default value has changed from 1e-7 to 0 in version 0.23, and it will be removed in 0.25. Use the min_impurity_decrease parameter instead.\n",
      "\n",
      "C:\\Users\\Qintess\\anaconda3\\envs\\projeto\\lib\\site-packages\\sklearn\\tree\\_classes.py:310: FutureWarning:\n",
      "\n",
      "The min_impurity_split parameter is deprecated. Its default value has changed from 1e-7 to 0 in version 0.23, and it will be removed in 0.25. Use the min_impurity_decrease parameter instead.\n",
      "\n",
      "C:\\Users\\Qintess\\anaconda3\\envs\\projeto\\lib\\site-packages\\sklearn\\tree\\_classes.py:310: FutureWarning:\n",
      "\n",
      "The min_impurity_split parameter is deprecated. Its default value has changed from 1e-7 to 0 in version 0.23, and it will be removed in 0.25. Use the min_impurity_decrease parameter instead.\n",
      "\n",
      "C:\\Users\\Qintess\\anaconda3\\envs\\projeto\\lib\\site-packages\\sklearn\\tree\\_classes.py:310: FutureWarning:\n",
      "\n",
      "The min_impurity_split parameter is deprecated. Its default value has changed from 1e-7 to 0 in version 0.23, and it will be removed in 0.25. Use the min_impurity_decrease parameter instead.\n",
      "\n",
      "C:\\Users\\Qintess\\anaconda3\\envs\\projeto\\lib\\site-packages\\sklearn\\tree\\_classes.py:310: FutureWarning:\n",
      "\n",
      "The min_impurity_split parameter is deprecated. Its default value has changed from 1e-7 to 0 in version 0.23, and it will be removed in 0.25. Use the min_impurity_decrease parameter instead.\n",
      "\n",
      "C:\\Users\\Qintess\\anaconda3\\envs\\projeto\\lib\\site-packages\\sklearn\\tree\\_classes.py:310: FutureWarning:\n",
      "\n",
      "The min_impurity_split parameter is deprecated. Its default value has changed from 1e-7 to 0 in version 0.23, and it will be removed in 0.25. Use the min_impurity_decrease parameter instead.\n",
      "\n",
      "C:\\Users\\Qintess\\anaconda3\\envs\\projeto\\lib\\site-packages\\sklearn\\tree\\_classes.py:310: FutureWarning:\n",
      "\n",
      "The min_impurity_split parameter is deprecated. Its default value has changed from 1e-7 to 0 in version 0.23, and it will be removed in 0.25. Use the min_impurity_decrease parameter instead.\n",
      "\n",
      "C:\\Users\\Qintess\\anaconda3\\envs\\projeto\\lib\\site-packages\\sklearn\\tree\\_classes.py:310: FutureWarning:\n",
      "\n",
      "The min_impurity_split parameter is deprecated. Its default value has changed from 1e-7 to 0 in version 0.23, and it will be removed in 0.25. Use the min_impurity_decrease parameter instead.\n",
      "\n",
      "C:\\Users\\Qintess\\anaconda3\\envs\\projeto\\lib\\site-packages\\sklearn\\tree\\_classes.py:310: FutureWarning:\n",
      "\n",
      "The min_impurity_split parameter is deprecated. Its default value has changed from 1e-7 to 0 in version 0.23, and it will be removed in 0.25. Use the min_impurity_decrease parameter instead.\n",
      "\n",
      "C:\\Users\\Qintess\\anaconda3\\envs\\projeto\\lib\\site-packages\\sklearn\\tree\\_classes.py:310: FutureWarning:\n",
      "\n",
      "The min_impurity_split parameter is deprecated. Its default value has changed from 1e-7 to 0 in version 0.23, and it will be removed in 0.25. Use the min_impurity_decrease parameter instead.\n",
      "\n",
      "C:\\Users\\Qintess\\anaconda3\\envs\\projeto\\lib\\site-packages\\sklearn\\tree\\_classes.py:310: FutureWarning:\n",
      "\n",
      "The min_impurity_split parameter is deprecated. Its default value has changed from 1e-7 to 0 in version 0.23, and it will be removed in 0.25. Use the min_impurity_decrease parameter instead.\n",
      "\n",
      "C:\\Users\\Qintess\\anaconda3\\envs\\projeto\\lib\\site-packages\\sklearn\\tree\\_classes.py:310: FutureWarning:\n",
      "\n",
      "The min_impurity_split parameter is deprecated. Its default value has changed from 1e-7 to 0 in version 0.23, and it will be removed in 0.25. Use the min_impurity_decrease parameter instead.\n",
      "\n",
      "C:\\Users\\Qintess\\anaconda3\\envs\\projeto\\lib\\site-packages\\sklearn\\tree\\_classes.py:310: FutureWarning:\n",
      "\n",
      "The min_impurity_split parameter is deprecated. Its default value has changed from 1e-7 to 0 in version 0.23, and it will be removed in 0.25. Use the min_impurity_decrease parameter instead.\n",
      "\n",
      "C:\\Users\\Qintess\\anaconda3\\envs\\projeto\\lib\\site-packages\\sklearn\\tree\\_classes.py:310: FutureWarning:\n",
      "\n",
      "The min_impurity_split parameter is deprecated. Its default value has changed from 1e-7 to 0 in version 0.23, and it will be removed in 0.25. Use the min_impurity_decrease parameter instead.\n",
      "\n",
      "C:\\Users\\Qintess\\anaconda3\\envs\\projeto\\lib\\site-packages\\sklearn\\tree\\_classes.py:310: FutureWarning:\n",
      "\n",
      "The min_impurity_split parameter is deprecated. Its default value has changed from 1e-7 to 0 in version 0.23, and it will be removed in 0.25. Use the min_impurity_decrease parameter instead.\n",
      "\n",
      "C:\\Users\\Qintess\\anaconda3\\envs\\projeto\\lib\\site-packages\\sklearn\\tree\\_classes.py:310: FutureWarning:\n",
      "\n",
      "The min_impurity_split parameter is deprecated. Its default value has changed from 1e-7 to 0 in version 0.23, and it will be removed in 0.25. Use the min_impurity_decrease parameter instead.\n",
      "\n",
      "C:\\Users\\Qintess\\anaconda3\\envs\\projeto\\lib\\site-packages\\sklearn\\tree\\_classes.py:310: FutureWarning:\n",
      "\n",
      "The min_impurity_split parameter is deprecated. Its default value has changed from 1e-7 to 0 in version 0.23, and it will be removed in 0.25. Use the min_impurity_decrease parameter instead.\n",
      "\n",
      "C:\\Users\\Qintess\\anaconda3\\envs\\projeto\\lib\\site-packages\\sklearn\\tree\\_classes.py:310: FutureWarning:\n",
      "\n",
      "The min_impurity_split parameter is deprecated. Its default value has changed from 1e-7 to 0 in version 0.23, and it will be removed in 0.25. Use the min_impurity_decrease parameter instead.\n",
      "\n",
      "C:\\Users\\Qintess\\anaconda3\\envs\\projeto\\lib\\site-packages\\sklearn\\tree\\_classes.py:310: FutureWarning:\n",
      "\n",
      "The min_impurity_split parameter is deprecated. Its default value has changed from 1e-7 to 0 in version 0.23, and it will be removed in 0.25. Use the min_impurity_decrease parameter instead.\n",
      "\n",
      "C:\\Users\\Qintess\\anaconda3\\envs\\projeto\\lib\\site-packages\\sklearn\\tree\\_classes.py:310: FutureWarning:\n",
      "\n",
      "The min_impurity_split parameter is deprecated. Its default value has changed from 1e-7 to 0 in version 0.23, and it will be removed in 0.25. Use the min_impurity_decrease parameter instead.\n",
      "\n",
      "C:\\Users\\Qintess\\anaconda3\\envs\\projeto\\lib\\site-packages\\sklearn\\tree\\_classes.py:310: FutureWarning:\n",
      "\n",
      "The min_impurity_split parameter is deprecated. Its default value has changed from 1e-7 to 0 in version 0.23, and it will be removed in 0.25. Use the min_impurity_decrease parameter instead.\n",
      "\n",
      "C:\\Users\\Qintess\\anaconda3\\envs\\projeto\\lib\\site-packages\\sklearn\\tree\\_classes.py:310: FutureWarning:\n",
      "\n",
      "The min_impurity_split parameter is deprecated. Its default value has changed from 1e-7 to 0 in version 0.23, and it will be removed in 0.25. Use the min_impurity_decrease parameter instead.\n",
      "\n",
      "C:\\Users\\Qintess\\anaconda3\\envs\\projeto\\lib\\site-packages\\sklearn\\tree\\_classes.py:310: FutureWarning:\n",
      "\n",
      "The min_impurity_split parameter is deprecated. Its default value has changed from 1e-7 to 0 in version 0.23, and it will be removed in 0.25. Use the min_impurity_decrease parameter instead.\n",
      "\n",
      "C:\\Users\\Qintess\\anaconda3\\envs\\projeto\\lib\\site-packages\\sklearn\\tree\\_classes.py:310: FutureWarning:\n",
      "\n",
      "The min_impurity_split parameter is deprecated. Its default value has changed from 1e-7 to 0 in version 0.23, and it will be removed in 0.25. Use the min_impurity_decrease parameter instead.\n",
      "\n",
      "C:\\Users\\Qintess\\anaconda3\\envs\\projeto\\lib\\site-packages\\sklearn\\tree\\_classes.py:310: FutureWarning:\n",
      "\n",
      "The min_impurity_split parameter is deprecated. Its default value has changed from 1e-7 to 0 in version 0.23, and it will be removed in 0.25. Use the min_impurity_decrease parameter instead.\n",
      "\n",
      "C:\\Users\\Qintess\\anaconda3\\envs\\projeto\\lib\\site-packages\\sklearn\\tree\\_classes.py:310: FutureWarning:\n",
      "\n",
      "The min_impurity_split parameter is deprecated. Its default value has changed from 1e-7 to 0 in version 0.23, and it will be removed in 0.25. Use the min_impurity_decrease parameter instead.\n",
      "\n",
      "C:\\Users\\Qintess\\anaconda3\\envs\\projeto\\lib\\site-packages\\sklearn\\tree\\_classes.py:310: FutureWarning:\n",
      "\n",
      "The min_impurity_split parameter is deprecated. Its default value has changed from 1e-7 to 0 in version 0.23, and it will be removed in 0.25. Use the min_impurity_decrease parameter instead.\n",
      "\n",
      "C:\\Users\\Qintess\\anaconda3\\envs\\projeto\\lib\\site-packages\\sklearn\\tree\\_classes.py:310: FutureWarning:\n",
      "\n",
      "The min_impurity_split parameter is deprecated. Its default value has changed from 1e-7 to 0 in version 0.23, and it will be removed in 0.25. Use the min_impurity_decrease parameter instead.\n",
      "\n",
      "C:\\Users\\Qintess\\anaconda3\\envs\\projeto\\lib\\site-packages\\sklearn\\tree\\_classes.py:310: FutureWarning:\n",
      "\n",
      "The min_impurity_split parameter is deprecated. Its default value has changed from 1e-7 to 0 in version 0.23, and it will be removed in 0.25. Use the min_impurity_decrease parameter instead.\n",
      "\n",
      "C:\\Users\\Qintess\\anaconda3\\envs\\projeto\\lib\\site-packages\\sklearn\\tree\\_classes.py:310: FutureWarning:\n",
      "\n",
      "The min_impurity_split parameter is deprecated. Its default value has changed from 1e-7 to 0 in version 0.23, and it will be removed in 0.25. Use the min_impurity_decrease parameter instead.\n",
      "\n",
      "C:\\Users\\Qintess\\anaconda3\\envs\\projeto\\lib\\site-packages\\sklearn\\tree\\_classes.py:310: FutureWarning:\n",
      "\n",
      "The min_impurity_split parameter is deprecated. Its default value has changed from 1e-7 to 0 in version 0.23, and it will be removed in 0.25. Use the min_impurity_decrease parameter instead.\n",
      "\n",
      "C:\\Users\\Qintess\\anaconda3\\envs\\projeto\\lib\\site-packages\\sklearn\\tree\\_classes.py:310: FutureWarning:\n",
      "\n",
      "The min_impurity_split parameter is deprecated. Its default value has changed from 1e-7 to 0 in version 0.23, and it will be removed in 0.25. Use the min_impurity_decrease parameter instead.\n",
      "\n",
      "C:\\Users\\Qintess\\anaconda3\\envs\\projeto\\lib\\site-packages\\sklearn\\tree\\_classes.py:310: FutureWarning:\n",
      "\n",
      "The min_impurity_split parameter is deprecated. Its default value has changed from 1e-7 to 0 in version 0.23, and it will be removed in 0.25. Use the min_impurity_decrease parameter instead.\n",
      "\n",
      "C:\\Users\\Qintess\\anaconda3\\envs\\projeto\\lib\\site-packages\\sklearn\\tree\\_classes.py:310: FutureWarning:\n",
      "\n",
      "The min_impurity_split parameter is deprecated. Its default value has changed from 1e-7 to 0 in version 0.23, and it will be removed in 0.25. Use the min_impurity_decrease parameter instead.\n",
      "\n",
      "C:\\Users\\Qintess\\anaconda3\\envs\\projeto\\lib\\site-packages\\sklearn\\tree\\_classes.py:310: FutureWarning:\n",
      "\n",
      "The min_impurity_split parameter is deprecated. Its default value has changed from 1e-7 to 0 in version 0.23, and it will be removed in 0.25. Use the min_impurity_decrease parameter instead.\n",
      "\n",
      "C:\\Users\\Qintess\\anaconda3\\envs\\projeto\\lib\\site-packages\\sklearn\\tree\\_classes.py:310: FutureWarning:\n",
      "\n",
      "The min_impurity_split parameter is deprecated. Its default value has changed from 1e-7 to 0 in version 0.23, and it will be removed in 0.25. Use the min_impurity_decrease parameter instead.\n",
      "\n",
      "C:\\Users\\Qintess\\anaconda3\\envs\\projeto\\lib\\site-packages\\sklearn\\tree\\_classes.py:310: FutureWarning:\n",
      "\n",
      "The min_impurity_split parameter is deprecated. Its default value has changed from 1e-7 to 0 in version 0.23, and it will be removed in 0.25. Use the min_impurity_decrease parameter instead.\n",
      "\n",
      "C:\\Users\\Qintess\\anaconda3\\envs\\projeto\\lib\\site-packages\\sklearn\\tree\\_classes.py:310: FutureWarning:\n",
      "\n",
      "The min_impurity_split parameter is deprecated. Its default value has changed from 1e-7 to 0 in version 0.23, and it will be removed in 0.25. Use the min_impurity_decrease parameter instead.\n",
      "\n",
      "C:\\Users\\Qintess\\anaconda3\\envs\\projeto\\lib\\site-packages\\sklearn\\tree\\_classes.py:310: FutureWarning:\n",
      "\n",
      "The min_impurity_split parameter is deprecated. Its default value has changed from 1e-7 to 0 in version 0.23, and it will be removed in 0.25. Use the min_impurity_decrease parameter instead.\n",
      "\n",
      "C:\\Users\\Qintess\\anaconda3\\envs\\projeto\\lib\\site-packages\\sklearn\\tree\\_classes.py:310: FutureWarning:\n",
      "\n",
      "The min_impurity_split parameter is deprecated. Its default value has changed from 1e-7 to 0 in version 0.23, and it will be removed in 0.25. Use the min_impurity_decrease parameter instead.\n",
      "\n",
      "C:\\Users\\Qintess\\anaconda3\\envs\\projeto\\lib\\site-packages\\sklearn\\tree\\_classes.py:310: FutureWarning:\n",
      "\n",
      "The min_impurity_split parameter is deprecated. Its default value has changed from 1e-7 to 0 in version 0.23, and it will be removed in 0.25. Use the min_impurity_decrease parameter instead.\n",
      "\n",
      "C:\\Users\\Qintess\\anaconda3\\envs\\projeto\\lib\\site-packages\\sklearn\\tree\\_classes.py:310: FutureWarning:\n",
      "\n",
      "The min_impurity_split parameter is deprecated. Its default value has changed from 1e-7 to 0 in version 0.23, and it will be removed in 0.25. Use the min_impurity_decrease parameter instead.\n",
      "\n",
      "C:\\Users\\Qintess\\anaconda3\\envs\\projeto\\lib\\site-packages\\sklearn\\tree\\_classes.py:310: FutureWarning:\n",
      "\n",
      "The min_impurity_split parameter is deprecated. Its default value has changed from 1e-7 to 0 in version 0.23, and it will be removed in 0.25. Use the min_impurity_decrease parameter instead.\n",
      "\n",
      "C:\\Users\\Qintess\\anaconda3\\envs\\projeto\\lib\\site-packages\\sklearn\\tree\\_classes.py:310: FutureWarning:\n",
      "\n",
      "The min_impurity_split parameter is deprecated. Its default value has changed from 1e-7 to 0 in version 0.23, and it will be removed in 0.25. Use the min_impurity_decrease parameter instead.\n",
      "\n",
      "C:\\Users\\Qintess\\anaconda3\\envs\\projeto\\lib\\site-packages\\sklearn\\tree\\_classes.py:310: FutureWarning:\n",
      "\n",
      "The min_impurity_split parameter is deprecated. Its default value has changed from 1e-7 to 0 in version 0.23, and it will be removed in 0.25. Use the min_impurity_decrease parameter instead.\n",
      "\n",
      "C:\\Users\\Qintess\\anaconda3\\envs\\projeto\\lib\\site-packages\\sklearn\\tree\\_classes.py:310: FutureWarning:\n",
      "\n",
      "The min_impurity_split parameter is deprecated. Its default value has changed from 1e-7 to 0 in version 0.23, and it will be removed in 0.25. Use the min_impurity_decrease parameter instead.\n",
      "\n",
      "C:\\Users\\Qintess\\anaconda3\\envs\\projeto\\lib\\site-packages\\sklearn\\tree\\_classes.py:310: FutureWarning:\n",
      "\n",
      "The min_impurity_split parameter is deprecated. Its default value has changed from 1e-7 to 0 in version 0.23, and it will be removed in 0.25. Use the min_impurity_decrease parameter instead.\n",
      "\n",
      "C:\\Users\\Qintess\\anaconda3\\envs\\projeto\\lib\\site-packages\\sklearn\\tree\\_classes.py:310: FutureWarning:\n",
      "\n",
      "The min_impurity_split parameter is deprecated. Its default value has changed from 1e-7 to 0 in version 0.23, and it will be removed in 0.25. Use the min_impurity_decrease parameter instead.\n",
      "\n",
      "C:\\Users\\Qintess\\anaconda3\\envs\\projeto\\lib\\site-packages\\sklearn\\tree\\_classes.py:310: FutureWarning:\n",
      "\n",
      "The min_impurity_split parameter is deprecated. Its default value has changed from 1e-7 to 0 in version 0.23, and it will be removed in 0.25. Use the min_impurity_decrease parameter instead.\n",
      "\n",
      "C:\\Users\\Qintess\\anaconda3\\envs\\projeto\\lib\\site-packages\\sklearn\\tree\\_classes.py:310: FutureWarning:\n",
      "\n",
      "The min_impurity_split parameter is deprecated. Its default value has changed from 1e-7 to 0 in version 0.23, and it will be removed in 0.25. Use the min_impurity_decrease parameter instead.\n",
      "\n"
     ]
    }
   ],
   "source": [
    "score_rd_vd = cross_val_score(\n",
    "    rf_best, x_test, y_test, cv=10, scoring='f1_micro')"
   ]
  },
  {
   "cell_type": "code",
   "execution_count": 1148,
   "id": "smoking-combination",
   "metadata": {},
   "outputs": [
    {
     "name": "stderr",
     "output_type": "stream",
     "text": [
      "C:\\Users\\Qintess\\anaconda3\\envs\\projeto\\lib\\site-packages\\sklearn\\tree\\_classes.py:310: FutureWarning:\n",
      "\n",
      "The min_impurity_split parameter is deprecated. Its default value has changed from 1e-7 to 0 in version 0.23, and it will be removed in 0.25. Use the min_impurity_decrease parameter instead.\n",
      "\n",
      "C:\\Users\\Qintess\\anaconda3\\envs\\projeto\\lib\\site-packages\\sklearn\\tree\\_classes.py:310: FutureWarning:\n",
      "\n",
      "The min_impurity_split parameter is deprecated. Its default value has changed from 1e-7 to 0 in version 0.23, and it will be removed in 0.25. Use the min_impurity_decrease parameter instead.\n",
      "\n",
      "C:\\Users\\Qintess\\anaconda3\\envs\\projeto\\lib\\site-packages\\sklearn\\tree\\_classes.py:310: FutureWarning:\n",
      "\n",
      "The min_impurity_split parameter is deprecated. Its default value has changed from 1e-7 to 0 in version 0.23, and it will be removed in 0.25. Use the min_impurity_decrease parameter instead.\n",
      "\n",
      "C:\\Users\\Qintess\\anaconda3\\envs\\projeto\\lib\\site-packages\\sklearn\\tree\\_classes.py:310: FutureWarning:\n",
      "\n",
      "The min_impurity_split parameter is deprecated. Its default value has changed from 1e-7 to 0 in version 0.23, and it will be removed in 0.25. Use the min_impurity_decrease parameter instead.\n",
      "\n",
      "C:\\Users\\Qintess\\anaconda3\\envs\\projeto\\lib\\site-packages\\sklearn\\tree\\_classes.py:310: FutureWarning:\n",
      "\n",
      "The min_impurity_split parameter is deprecated. Its default value has changed from 1e-7 to 0 in version 0.23, and it will be removed in 0.25. Use the min_impurity_decrease parameter instead.\n",
      "\n",
      "C:\\Users\\Qintess\\anaconda3\\envs\\projeto\\lib\\site-packages\\sklearn\\tree\\_classes.py:310: FutureWarning:\n",
      "\n",
      "The min_impurity_split parameter is deprecated. Its default value has changed from 1e-7 to 0 in version 0.23, and it will be removed in 0.25. Use the min_impurity_decrease parameter instead.\n",
      "\n",
      "C:\\Users\\Qintess\\anaconda3\\envs\\projeto\\lib\\site-packages\\sklearn\\tree\\_classes.py:310: FutureWarning:\n",
      "\n",
      "The min_impurity_split parameter is deprecated. Its default value has changed from 1e-7 to 0 in version 0.23, and it will be removed in 0.25. Use the min_impurity_decrease parameter instead.\n",
      "\n",
      "C:\\Users\\Qintess\\anaconda3\\envs\\projeto\\lib\\site-packages\\sklearn\\tree\\_classes.py:310: FutureWarning:\n",
      "\n",
      "The min_impurity_split parameter is deprecated. Its default value has changed from 1e-7 to 0 in version 0.23, and it will be removed in 0.25. Use the min_impurity_decrease parameter instead.\n",
      "\n",
      "C:\\Users\\Qintess\\anaconda3\\envs\\projeto\\lib\\site-packages\\sklearn\\tree\\_classes.py:310: FutureWarning:\n",
      "\n",
      "The min_impurity_split parameter is deprecated. Its default value has changed from 1e-7 to 0 in version 0.23, and it will be removed in 0.25. Use the min_impurity_decrease parameter instead.\n",
      "\n",
      "C:\\Users\\Qintess\\anaconda3\\envs\\projeto\\lib\\site-packages\\sklearn\\tree\\_classes.py:310: FutureWarning:\n",
      "\n",
      "The min_impurity_split parameter is deprecated. Its default value has changed from 1e-7 to 0 in version 0.23, and it will be removed in 0.25. Use the min_impurity_decrease parameter instead.\n",
      "\n",
      "C:\\Users\\Qintess\\anaconda3\\envs\\projeto\\lib\\site-packages\\sklearn\\tree\\_classes.py:310: FutureWarning:\n",
      "\n",
      "The min_impurity_split parameter is deprecated. Its default value has changed from 1e-7 to 0 in version 0.23, and it will be removed in 0.25. Use the min_impurity_decrease parameter instead.\n",
      "\n",
      "C:\\Users\\Qintess\\anaconda3\\envs\\projeto\\lib\\site-packages\\sklearn\\tree\\_classes.py:310: FutureWarning:\n",
      "\n",
      "The min_impurity_split parameter is deprecated. Its default value has changed from 1e-7 to 0 in version 0.23, and it will be removed in 0.25. Use the min_impurity_decrease parameter instead.\n",
      "\n",
      "C:\\Users\\Qintess\\anaconda3\\envs\\projeto\\lib\\site-packages\\sklearn\\tree\\_classes.py:310: FutureWarning:\n",
      "\n",
      "The min_impurity_split parameter is deprecated. Its default value has changed from 1e-7 to 0 in version 0.23, and it will be removed in 0.25. Use the min_impurity_decrease parameter instead.\n",
      "\n",
      "C:\\Users\\Qintess\\anaconda3\\envs\\projeto\\lib\\site-packages\\sklearn\\tree\\_classes.py:310: FutureWarning:\n",
      "\n",
      "The min_impurity_split parameter is deprecated. Its default value has changed from 1e-7 to 0 in version 0.23, and it will be removed in 0.25. Use the min_impurity_decrease parameter instead.\n",
      "\n",
      "C:\\Users\\Qintess\\anaconda3\\envs\\projeto\\lib\\site-packages\\sklearn\\tree\\_classes.py:310: FutureWarning:\n",
      "\n",
      "The min_impurity_split parameter is deprecated. Its default value has changed from 1e-7 to 0 in version 0.23, and it will be removed in 0.25. Use the min_impurity_decrease parameter instead.\n",
      "\n",
      "C:\\Users\\Qintess\\anaconda3\\envs\\projeto\\lib\\site-packages\\sklearn\\tree\\_classes.py:310: FutureWarning:\n",
      "\n",
      "The min_impurity_split parameter is deprecated. Its default value has changed from 1e-7 to 0 in version 0.23, and it will be removed in 0.25. Use the min_impurity_decrease parameter instead.\n",
      "\n",
      "C:\\Users\\Qintess\\anaconda3\\envs\\projeto\\lib\\site-packages\\sklearn\\tree\\_classes.py:310: FutureWarning:\n",
      "\n",
      "The min_impurity_split parameter is deprecated. Its default value has changed from 1e-7 to 0 in version 0.23, and it will be removed in 0.25. Use the min_impurity_decrease parameter instead.\n",
      "\n",
      "C:\\Users\\Qintess\\anaconda3\\envs\\projeto\\lib\\site-packages\\sklearn\\tree\\_classes.py:310: FutureWarning:\n",
      "\n",
      "The min_impurity_split parameter is deprecated. Its default value has changed from 1e-7 to 0 in version 0.23, and it will be removed in 0.25. Use the min_impurity_decrease parameter instead.\n",
      "\n",
      "C:\\Users\\Qintess\\anaconda3\\envs\\projeto\\lib\\site-packages\\sklearn\\tree\\_classes.py:310: FutureWarning:\n",
      "\n",
      "The min_impurity_split parameter is deprecated. Its default value has changed from 1e-7 to 0 in version 0.23, and it will be removed in 0.25. Use the min_impurity_decrease parameter instead.\n",
      "\n",
      "C:\\Users\\Qintess\\anaconda3\\envs\\projeto\\lib\\site-packages\\sklearn\\tree\\_classes.py:310: FutureWarning:\n",
      "\n",
      "The min_impurity_split parameter is deprecated. Its default value has changed from 1e-7 to 0 in version 0.23, and it will be removed in 0.25. Use the min_impurity_decrease parameter instead.\n",
      "\n",
      "C:\\Users\\Qintess\\anaconda3\\envs\\projeto\\lib\\site-packages\\sklearn\\tree\\_classes.py:310: FutureWarning:\n",
      "\n",
      "The min_impurity_split parameter is deprecated. Its default value has changed from 1e-7 to 0 in version 0.23, and it will be removed in 0.25. Use the min_impurity_decrease parameter instead.\n",
      "\n",
      "C:\\Users\\Qintess\\anaconda3\\envs\\projeto\\lib\\site-packages\\sklearn\\tree\\_classes.py:310: FutureWarning:\n",
      "\n",
      "The min_impurity_split parameter is deprecated. Its default value has changed from 1e-7 to 0 in version 0.23, and it will be removed in 0.25. Use the min_impurity_decrease parameter instead.\n",
      "\n",
      "C:\\Users\\Qintess\\anaconda3\\envs\\projeto\\lib\\site-packages\\sklearn\\tree\\_classes.py:310: FutureWarning:\n",
      "\n",
      "The min_impurity_split parameter is deprecated. Its default value has changed from 1e-7 to 0 in version 0.23, and it will be removed in 0.25. Use the min_impurity_decrease parameter instead.\n",
      "\n",
      "C:\\Users\\Qintess\\anaconda3\\envs\\projeto\\lib\\site-packages\\sklearn\\tree\\_classes.py:310: FutureWarning:\n",
      "\n",
      "The min_impurity_split parameter is deprecated. Its default value has changed from 1e-7 to 0 in version 0.23, and it will be removed in 0.25. Use the min_impurity_decrease parameter instead.\n",
      "\n",
      "C:\\Users\\Qintess\\anaconda3\\envs\\projeto\\lib\\site-packages\\sklearn\\tree\\_classes.py:310: FutureWarning:\n",
      "\n",
      "The min_impurity_split parameter is deprecated. Its default value has changed from 1e-7 to 0 in version 0.23, and it will be removed in 0.25. Use the min_impurity_decrease parameter instead.\n",
      "\n",
      "C:\\Users\\Qintess\\anaconda3\\envs\\projeto\\lib\\site-packages\\sklearn\\tree\\_classes.py:310: FutureWarning:\n",
      "\n",
      "The min_impurity_split parameter is deprecated. Its default value has changed from 1e-7 to 0 in version 0.23, and it will be removed in 0.25. Use the min_impurity_decrease parameter instead.\n",
      "\n",
      "C:\\Users\\Qintess\\anaconda3\\envs\\projeto\\lib\\site-packages\\sklearn\\tree\\_classes.py:310: FutureWarning:\n",
      "\n",
      "The min_impurity_split parameter is deprecated. Its default value has changed from 1e-7 to 0 in version 0.23, and it will be removed in 0.25. Use the min_impurity_decrease parameter instead.\n",
      "\n",
      "C:\\Users\\Qintess\\anaconda3\\envs\\projeto\\lib\\site-packages\\sklearn\\tree\\_classes.py:310: FutureWarning:\n",
      "\n",
      "The min_impurity_split parameter is deprecated. Its default value has changed from 1e-7 to 0 in version 0.23, and it will be removed in 0.25. Use the min_impurity_decrease parameter instead.\n",
      "\n",
      "C:\\Users\\Qintess\\anaconda3\\envs\\projeto\\lib\\site-packages\\sklearn\\tree\\_classes.py:310: FutureWarning:\n",
      "\n",
      "The min_impurity_split parameter is deprecated. Its default value has changed from 1e-7 to 0 in version 0.23, and it will be removed in 0.25. Use the min_impurity_decrease parameter instead.\n",
      "\n",
      "C:\\Users\\Qintess\\anaconda3\\envs\\projeto\\lib\\site-packages\\sklearn\\tree\\_classes.py:310: FutureWarning:\n",
      "\n",
      "The min_impurity_split parameter is deprecated. Its default value has changed from 1e-7 to 0 in version 0.23, and it will be removed in 0.25. Use the min_impurity_decrease parameter instead.\n",
      "\n",
      "C:\\Users\\Qintess\\anaconda3\\envs\\projeto\\lib\\site-packages\\sklearn\\tree\\_classes.py:310: FutureWarning:\n",
      "\n",
      "The min_impurity_split parameter is deprecated. Its default value has changed from 1e-7 to 0 in version 0.23, and it will be removed in 0.25. Use the min_impurity_decrease parameter instead.\n",
      "\n",
      "C:\\Users\\Qintess\\anaconda3\\envs\\projeto\\lib\\site-packages\\sklearn\\tree\\_classes.py:310: FutureWarning:\n",
      "\n",
      "The min_impurity_split parameter is deprecated. Its default value has changed from 1e-7 to 0 in version 0.23, and it will be removed in 0.25. Use the min_impurity_decrease parameter instead.\n",
      "\n",
      "C:\\Users\\Qintess\\anaconda3\\envs\\projeto\\lib\\site-packages\\sklearn\\tree\\_classes.py:310: FutureWarning:\n",
      "\n",
      "The min_impurity_split parameter is deprecated. Its default value has changed from 1e-7 to 0 in version 0.23, and it will be removed in 0.25. Use the min_impurity_decrease parameter instead.\n",
      "\n",
      "C:\\Users\\Qintess\\anaconda3\\envs\\projeto\\lib\\site-packages\\sklearn\\tree\\_classes.py:310: FutureWarning:\n",
      "\n",
      "The min_impurity_split parameter is deprecated. Its default value has changed from 1e-7 to 0 in version 0.23, and it will be removed in 0.25. Use the min_impurity_decrease parameter instead.\n",
      "\n",
      "C:\\Users\\Qintess\\anaconda3\\envs\\projeto\\lib\\site-packages\\sklearn\\tree\\_classes.py:310: FutureWarning:\n",
      "\n",
      "The min_impurity_split parameter is deprecated. Its default value has changed from 1e-7 to 0 in version 0.23, and it will be removed in 0.25. Use the min_impurity_decrease parameter instead.\n",
      "\n",
      "C:\\Users\\Qintess\\anaconda3\\envs\\projeto\\lib\\site-packages\\sklearn\\tree\\_classes.py:310: FutureWarning:\n",
      "\n",
      "The min_impurity_split parameter is deprecated. Its default value has changed from 1e-7 to 0 in version 0.23, and it will be removed in 0.25. Use the min_impurity_decrease parameter instead.\n",
      "\n",
      "C:\\Users\\Qintess\\anaconda3\\envs\\projeto\\lib\\site-packages\\sklearn\\tree\\_classes.py:310: FutureWarning:\n",
      "\n",
      "The min_impurity_split parameter is deprecated. Its default value has changed from 1e-7 to 0 in version 0.23, and it will be removed in 0.25. Use the min_impurity_decrease parameter instead.\n",
      "\n",
      "C:\\Users\\Qintess\\anaconda3\\envs\\projeto\\lib\\site-packages\\sklearn\\tree\\_classes.py:310: FutureWarning:\n",
      "\n",
      "The min_impurity_split parameter is deprecated. Its default value has changed from 1e-7 to 0 in version 0.23, and it will be removed in 0.25. Use the min_impurity_decrease parameter instead.\n",
      "\n",
      "C:\\Users\\Qintess\\anaconda3\\envs\\projeto\\lib\\site-packages\\sklearn\\tree\\_classes.py:310: FutureWarning:\n",
      "\n",
      "The min_impurity_split parameter is deprecated. Its default value has changed from 1e-7 to 0 in version 0.23, and it will be removed in 0.25. Use the min_impurity_decrease parameter instead.\n",
      "\n",
      "C:\\Users\\Qintess\\anaconda3\\envs\\projeto\\lib\\site-packages\\sklearn\\tree\\_classes.py:310: FutureWarning:\n",
      "\n",
      "The min_impurity_split parameter is deprecated. Its default value has changed from 1e-7 to 0 in version 0.23, and it will be removed in 0.25. Use the min_impurity_decrease parameter instead.\n",
      "\n",
      "C:\\Users\\Qintess\\anaconda3\\envs\\projeto\\lib\\site-packages\\sklearn\\tree\\_classes.py:310: FutureWarning:\n",
      "\n",
      "The min_impurity_split parameter is deprecated. Its default value has changed from 1e-7 to 0 in version 0.23, and it will be removed in 0.25. Use the min_impurity_decrease parameter instead.\n",
      "\n",
      "C:\\Users\\Qintess\\anaconda3\\envs\\projeto\\lib\\site-packages\\sklearn\\tree\\_classes.py:310: FutureWarning:\n",
      "\n",
      "The min_impurity_split parameter is deprecated. Its default value has changed from 1e-7 to 0 in version 0.23, and it will be removed in 0.25. Use the min_impurity_decrease parameter instead.\n",
      "\n",
      "C:\\Users\\Qintess\\anaconda3\\envs\\projeto\\lib\\site-packages\\sklearn\\tree\\_classes.py:310: FutureWarning:\n",
      "\n",
      "The min_impurity_split parameter is deprecated. Its default value has changed from 1e-7 to 0 in version 0.23, and it will be removed in 0.25. Use the min_impurity_decrease parameter instead.\n",
      "\n",
      "C:\\Users\\Qintess\\anaconda3\\envs\\projeto\\lib\\site-packages\\sklearn\\tree\\_classes.py:310: FutureWarning:\n",
      "\n",
      "The min_impurity_split parameter is deprecated. Its default value has changed from 1e-7 to 0 in version 0.23, and it will be removed in 0.25. Use the min_impurity_decrease parameter instead.\n",
      "\n",
      "C:\\Users\\Qintess\\anaconda3\\envs\\projeto\\lib\\site-packages\\sklearn\\tree\\_classes.py:310: FutureWarning:\n",
      "\n",
      "The min_impurity_split parameter is deprecated. Its default value has changed from 1e-7 to 0 in version 0.23, and it will be removed in 0.25. Use the min_impurity_decrease parameter instead.\n",
      "\n",
      "C:\\Users\\Qintess\\anaconda3\\envs\\projeto\\lib\\site-packages\\sklearn\\tree\\_classes.py:310: FutureWarning:\n",
      "\n",
      "The min_impurity_split parameter is deprecated. Its default value has changed from 1e-7 to 0 in version 0.23, and it will be removed in 0.25. Use the min_impurity_decrease parameter instead.\n",
      "\n",
      "C:\\Users\\Qintess\\anaconda3\\envs\\projeto\\lib\\site-packages\\sklearn\\tree\\_classes.py:310: FutureWarning:\n",
      "\n",
      "The min_impurity_split parameter is deprecated. Its default value has changed from 1e-7 to 0 in version 0.23, and it will be removed in 0.25. Use the min_impurity_decrease parameter instead.\n",
      "\n",
      "C:\\Users\\Qintess\\anaconda3\\envs\\projeto\\lib\\site-packages\\sklearn\\tree\\_classes.py:310: FutureWarning:\n",
      "\n",
      "The min_impurity_split parameter is deprecated. Its default value has changed from 1e-7 to 0 in version 0.23, and it will be removed in 0.25. Use the min_impurity_decrease parameter instead.\n",
      "\n",
      "C:\\Users\\Qintess\\anaconda3\\envs\\projeto\\lib\\site-packages\\sklearn\\tree\\_classes.py:310: FutureWarning:\n",
      "\n",
      "The min_impurity_split parameter is deprecated. Its default value has changed from 1e-7 to 0 in version 0.23, and it will be removed in 0.25. Use the min_impurity_decrease parameter instead.\n",
      "\n",
      "C:\\Users\\Qintess\\anaconda3\\envs\\projeto\\lib\\site-packages\\sklearn\\tree\\_classes.py:310: FutureWarning:\n",
      "\n",
      "The min_impurity_split parameter is deprecated. Its default value has changed from 1e-7 to 0 in version 0.23, and it will be removed in 0.25. Use the min_impurity_decrease parameter instead.\n",
      "\n",
      "C:\\Users\\Qintess\\anaconda3\\envs\\projeto\\lib\\site-packages\\sklearn\\tree\\_classes.py:310: FutureWarning:\n",
      "\n",
      "The min_impurity_split parameter is deprecated. Its default value has changed from 1e-7 to 0 in version 0.23, and it will be removed in 0.25. Use the min_impurity_decrease parameter instead.\n",
      "\n",
      "C:\\Users\\Qintess\\anaconda3\\envs\\projeto\\lib\\site-packages\\sklearn\\tree\\_classes.py:310: FutureWarning:\n",
      "\n",
      "The min_impurity_split parameter is deprecated. Its default value has changed from 1e-7 to 0 in version 0.23, and it will be removed in 0.25. Use the min_impurity_decrease parameter instead.\n",
      "\n",
      "C:\\Users\\Qintess\\anaconda3\\envs\\projeto\\lib\\site-packages\\sklearn\\tree\\_classes.py:310: FutureWarning:\n",
      "\n",
      "The min_impurity_split parameter is deprecated. Its default value has changed from 1e-7 to 0 in version 0.23, and it will be removed in 0.25. Use the min_impurity_decrease parameter instead.\n",
      "\n",
      "C:\\Users\\Qintess\\anaconda3\\envs\\projeto\\lib\\site-packages\\sklearn\\tree\\_classes.py:310: FutureWarning:\n",
      "\n",
      "The min_impurity_split parameter is deprecated. Its default value has changed from 1e-7 to 0 in version 0.23, and it will be removed in 0.25. Use the min_impurity_decrease parameter instead.\n",
      "\n",
      "C:\\Users\\Qintess\\anaconda3\\envs\\projeto\\lib\\site-packages\\sklearn\\tree\\_classes.py:310: FutureWarning:\n",
      "\n",
      "The min_impurity_split parameter is deprecated. Its default value has changed from 1e-7 to 0 in version 0.23, and it will be removed in 0.25. Use the min_impurity_decrease parameter instead.\n",
      "\n",
      "C:\\Users\\Qintess\\anaconda3\\envs\\projeto\\lib\\site-packages\\sklearn\\tree\\_classes.py:310: FutureWarning:\n",
      "\n",
      "The min_impurity_split parameter is deprecated. Its default value has changed from 1e-7 to 0 in version 0.23, and it will be removed in 0.25. Use the min_impurity_decrease parameter instead.\n",
      "\n",
      "C:\\Users\\Qintess\\anaconda3\\envs\\projeto\\lib\\site-packages\\sklearn\\tree\\_classes.py:310: FutureWarning:\n",
      "\n",
      "The min_impurity_split parameter is deprecated. Its default value has changed from 1e-7 to 0 in version 0.23, and it will be removed in 0.25. Use the min_impurity_decrease parameter instead.\n",
      "\n",
      "C:\\Users\\Qintess\\anaconda3\\envs\\projeto\\lib\\site-packages\\sklearn\\tree\\_classes.py:310: FutureWarning:\n",
      "\n",
      "The min_impurity_split parameter is deprecated. Its default value has changed from 1e-7 to 0 in version 0.23, and it will be removed in 0.25. Use the min_impurity_decrease parameter instead.\n",
      "\n",
      "C:\\Users\\Qintess\\anaconda3\\envs\\projeto\\lib\\site-packages\\sklearn\\tree\\_classes.py:310: FutureWarning:\n",
      "\n",
      "The min_impurity_split parameter is deprecated. Its default value has changed from 1e-7 to 0 in version 0.23, and it will be removed in 0.25. Use the min_impurity_decrease parameter instead.\n",
      "\n",
      "C:\\Users\\Qintess\\anaconda3\\envs\\projeto\\lib\\site-packages\\sklearn\\tree\\_classes.py:310: FutureWarning:\n",
      "\n",
      "The min_impurity_split parameter is deprecated. Its default value has changed from 1e-7 to 0 in version 0.23, and it will be removed in 0.25. Use the min_impurity_decrease parameter instead.\n",
      "\n",
      "C:\\Users\\Qintess\\anaconda3\\envs\\projeto\\lib\\site-packages\\sklearn\\tree\\_classes.py:310: FutureWarning:\n",
      "\n",
      "The min_impurity_split parameter is deprecated. Its default value has changed from 1e-7 to 0 in version 0.23, and it will be removed in 0.25. Use the min_impurity_decrease parameter instead.\n",
      "\n",
      "C:\\Users\\Qintess\\anaconda3\\envs\\projeto\\lib\\site-packages\\sklearn\\tree\\_classes.py:310: FutureWarning:\n",
      "\n",
      "The min_impurity_split parameter is deprecated. Its default value has changed from 1e-7 to 0 in version 0.23, and it will be removed in 0.25. Use the min_impurity_decrease parameter instead.\n",
      "\n",
      "C:\\Users\\Qintess\\anaconda3\\envs\\projeto\\lib\\site-packages\\sklearn\\tree\\_classes.py:310: FutureWarning:\n",
      "\n",
      "The min_impurity_split parameter is deprecated. Its default value has changed from 1e-7 to 0 in version 0.23, and it will be removed in 0.25. Use the min_impurity_decrease parameter instead.\n",
      "\n",
      "C:\\Users\\Qintess\\anaconda3\\envs\\projeto\\lib\\site-packages\\sklearn\\tree\\_classes.py:310: FutureWarning:\n",
      "\n",
      "The min_impurity_split parameter is deprecated. Its default value has changed from 1e-7 to 0 in version 0.23, and it will be removed in 0.25. Use the min_impurity_decrease parameter instead.\n",
      "\n",
      "C:\\Users\\Qintess\\anaconda3\\envs\\projeto\\lib\\site-packages\\sklearn\\tree\\_classes.py:310: FutureWarning:\n",
      "\n",
      "The min_impurity_split parameter is deprecated. Its default value has changed from 1e-7 to 0 in version 0.23, and it will be removed in 0.25. Use the min_impurity_decrease parameter instead.\n",
      "\n",
      "C:\\Users\\Qintess\\anaconda3\\envs\\projeto\\lib\\site-packages\\sklearn\\tree\\_classes.py:310: FutureWarning:\n",
      "\n",
      "The min_impurity_split parameter is deprecated. Its default value has changed from 1e-7 to 0 in version 0.23, and it will be removed in 0.25. Use the min_impurity_decrease parameter instead.\n",
      "\n",
      "C:\\Users\\Qintess\\anaconda3\\envs\\projeto\\lib\\site-packages\\sklearn\\tree\\_classes.py:310: FutureWarning:\n",
      "\n",
      "The min_impurity_split parameter is deprecated. Its default value has changed from 1e-7 to 0 in version 0.23, and it will be removed in 0.25. Use the min_impurity_decrease parameter instead.\n",
      "\n",
      "C:\\Users\\Qintess\\anaconda3\\envs\\projeto\\lib\\site-packages\\sklearn\\tree\\_classes.py:310: FutureWarning:\n",
      "\n",
      "The min_impurity_split parameter is deprecated. Its default value has changed from 1e-7 to 0 in version 0.23, and it will be removed in 0.25. Use the min_impurity_decrease parameter instead.\n",
      "\n",
      "C:\\Users\\Qintess\\anaconda3\\envs\\projeto\\lib\\site-packages\\sklearn\\tree\\_classes.py:310: FutureWarning:\n",
      "\n",
      "The min_impurity_split parameter is deprecated. Its default value has changed from 1e-7 to 0 in version 0.23, and it will be removed in 0.25. Use the min_impurity_decrease parameter instead.\n",
      "\n",
      "C:\\Users\\Qintess\\anaconda3\\envs\\projeto\\lib\\site-packages\\sklearn\\tree\\_classes.py:310: FutureWarning:\n",
      "\n",
      "The min_impurity_split parameter is deprecated. Its default value has changed from 1e-7 to 0 in version 0.23, and it will be removed in 0.25. Use the min_impurity_decrease parameter instead.\n",
      "\n",
      "C:\\Users\\Qintess\\anaconda3\\envs\\projeto\\lib\\site-packages\\sklearn\\tree\\_classes.py:310: FutureWarning:\n",
      "\n",
      "The min_impurity_split parameter is deprecated. Its default value has changed from 1e-7 to 0 in version 0.23, and it will be removed in 0.25. Use the min_impurity_decrease parameter instead.\n",
      "\n",
      "C:\\Users\\Qintess\\anaconda3\\envs\\projeto\\lib\\site-packages\\sklearn\\tree\\_classes.py:310: FutureWarning:\n",
      "\n",
      "The min_impurity_split parameter is deprecated. Its default value has changed from 1e-7 to 0 in version 0.23, and it will be removed in 0.25. Use the min_impurity_decrease parameter instead.\n",
      "\n",
      "C:\\Users\\Qintess\\anaconda3\\envs\\projeto\\lib\\site-packages\\sklearn\\tree\\_classes.py:310: FutureWarning:\n",
      "\n",
      "The min_impurity_split parameter is deprecated. Its default value has changed from 1e-7 to 0 in version 0.23, and it will be removed in 0.25. Use the min_impurity_decrease parameter instead.\n",
      "\n",
      "C:\\Users\\Qintess\\anaconda3\\envs\\projeto\\lib\\site-packages\\sklearn\\tree\\_classes.py:310: FutureWarning:\n",
      "\n",
      "The min_impurity_split parameter is deprecated. Its default value has changed from 1e-7 to 0 in version 0.23, and it will be removed in 0.25. Use the min_impurity_decrease parameter instead.\n",
      "\n",
      "C:\\Users\\Qintess\\anaconda3\\envs\\projeto\\lib\\site-packages\\sklearn\\tree\\_classes.py:310: FutureWarning:\n",
      "\n",
      "The min_impurity_split parameter is deprecated. Its default value has changed from 1e-7 to 0 in version 0.23, and it will be removed in 0.25. Use the min_impurity_decrease parameter instead.\n",
      "\n",
      "C:\\Users\\Qintess\\anaconda3\\envs\\projeto\\lib\\site-packages\\sklearn\\tree\\_classes.py:310: FutureWarning:\n",
      "\n",
      "The min_impurity_split parameter is deprecated. Its default value has changed from 1e-7 to 0 in version 0.23, and it will be removed in 0.25. Use the min_impurity_decrease parameter instead.\n",
      "\n",
      "C:\\Users\\Qintess\\anaconda3\\envs\\projeto\\lib\\site-packages\\sklearn\\tree\\_classes.py:310: FutureWarning:\n",
      "\n",
      "The min_impurity_split parameter is deprecated. Its default value has changed from 1e-7 to 0 in version 0.23, and it will be removed in 0.25. Use the min_impurity_decrease parameter instead.\n",
      "\n",
      "C:\\Users\\Qintess\\anaconda3\\envs\\projeto\\lib\\site-packages\\sklearn\\tree\\_classes.py:310: FutureWarning:\n",
      "\n",
      "The min_impurity_split parameter is deprecated. Its default value has changed from 1e-7 to 0 in version 0.23, and it will be removed in 0.25. Use the min_impurity_decrease parameter instead.\n",
      "\n",
      "C:\\Users\\Qintess\\anaconda3\\envs\\projeto\\lib\\site-packages\\sklearn\\tree\\_classes.py:310: FutureWarning:\n",
      "\n",
      "The min_impurity_split parameter is deprecated. Its default value has changed from 1e-7 to 0 in version 0.23, and it will be removed in 0.25. Use the min_impurity_decrease parameter instead.\n",
      "\n",
      "C:\\Users\\Qintess\\anaconda3\\envs\\projeto\\lib\\site-packages\\sklearn\\tree\\_classes.py:310: FutureWarning:\n",
      "\n",
      "The min_impurity_split parameter is deprecated. Its default value has changed from 1e-7 to 0 in version 0.23, and it will be removed in 0.25. Use the min_impurity_decrease parameter instead.\n",
      "\n",
      "C:\\Users\\Qintess\\anaconda3\\envs\\projeto\\lib\\site-packages\\sklearn\\tree\\_classes.py:310: FutureWarning:\n",
      "\n",
      "The min_impurity_split parameter is deprecated. Its default value has changed from 1e-7 to 0 in version 0.23, and it will be removed in 0.25. Use the min_impurity_decrease parameter instead.\n",
      "\n",
      "C:\\Users\\Qintess\\anaconda3\\envs\\projeto\\lib\\site-packages\\sklearn\\tree\\_classes.py:310: FutureWarning:\n",
      "\n",
      "The min_impurity_split parameter is deprecated. Its default value has changed from 1e-7 to 0 in version 0.23, and it will be removed in 0.25. Use the min_impurity_decrease parameter instead.\n",
      "\n",
      "C:\\Users\\Qintess\\anaconda3\\envs\\projeto\\lib\\site-packages\\sklearn\\tree\\_classes.py:310: FutureWarning:\n",
      "\n",
      "The min_impurity_split parameter is deprecated. Its default value has changed from 1e-7 to 0 in version 0.23, and it will be removed in 0.25. Use the min_impurity_decrease parameter instead.\n",
      "\n",
      "C:\\Users\\Qintess\\anaconda3\\envs\\projeto\\lib\\site-packages\\sklearn\\tree\\_classes.py:310: FutureWarning:\n",
      "\n",
      "The min_impurity_split parameter is deprecated. Its default value has changed from 1e-7 to 0 in version 0.23, and it will be removed in 0.25. Use the min_impurity_decrease parameter instead.\n",
      "\n",
      "C:\\Users\\Qintess\\anaconda3\\envs\\projeto\\lib\\site-packages\\sklearn\\tree\\_classes.py:310: FutureWarning:\n",
      "\n",
      "The min_impurity_split parameter is deprecated. Its default value has changed from 1e-7 to 0 in version 0.23, and it will be removed in 0.25. Use the min_impurity_decrease parameter instead.\n",
      "\n",
      "C:\\Users\\Qintess\\anaconda3\\envs\\projeto\\lib\\site-packages\\sklearn\\tree\\_classes.py:310: FutureWarning:\n",
      "\n",
      "The min_impurity_split parameter is deprecated. Its default value has changed from 1e-7 to 0 in version 0.23, and it will be removed in 0.25. Use the min_impurity_decrease parameter instead.\n",
      "\n",
      "C:\\Users\\Qintess\\anaconda3\\envs\\projeto\\lib\\site-packages\\sklearn\\tree\\_classes.py:310: FutureWarning:\n",
      "\n",
      "The min_impurity_split parameter is deprecated. Its default value has changed from 1e-7 to 0 in version 0.23, and it will be removed in 0.25. Use the min_impurity_decrease parameter instead.\n",
      "\n",
      "C:\\Users\\Qintess\\anaconda3\\envs\\projeto\\lib\\site-packages\\sklearn\\tree\\_classes.py:310: FutureWarning:\n",
      "\n",
      "The min_impurity_split parameter is deprecated. Its default value has changed from 1e-7 to 0 in version 0.23, and it will be removed in 0.25. Use the min_impurity_decrease parameter instead.\n",
      "\n",
      "C:\\Users\\Qintess\\anaconda3\\envs\\projeto\\lib\\site-packages\\sklearn\\tree\\_classes.py:310: FutureWarning:\n",
      "\n",
      "The min_impurity_split parameter is deprecated. Its default value has changed from 1e-7 to 0 in version 0.23, and it will be removed in 0.25. Use the min_impurity_decrease parameter instead.\n",
      "\n",
      "C:\\Users\\Qintess\\anaconda3\\envs\\projeto\\lib\\site-packages\\sklearn\\tree\\_classes.py:310: FutureWarning:\n",
      "\n",
      "The min_impurity_split parameter is deprecated. Its default value has changed from 1e-7 to 0 in version 0.23, and it will be removed in 0.25. Use the min_impurity_decrease parameter instead.\n",
      "\n",
      "C:\\Users\\Qintess\\anaconda3\\envs\\projeto\\lib\\site-packages\\sklearn\\tree\\_classes.py:310: FutureWarning:\n",
      "\n",
      "The min_impurity_split parameter is deprecated. Its default value has changed from 1e-7 to 0 in version 0.23, and it will be removed in 0.25. Use the min_impurity_decrease parameter instead.\n",
      "\n",
      "C:\\Users\\Qintess\\anaconda3\\envs\\projeto\\lib\\site-packages\\sklearn\\tree\\_classes.py:310: FutureWarning:\n",
      "\n",
      "The min_impurity_split parameter is deprecated. Its default value has changed from 1e-7 to 0 in version 0.23, and it will be removed in 0.25. Use the min_impurity_decrease parameter instead.\n",
      "\n",
      "C:\\Users\\Qintess\\anaconda3\\envs\\projeto\\lib\\site-packages\\sklearn\\tree\\_classes.py:310: FutureWarning:\n",
      "\n",
      "The min_impurity_split parameter is deprecated. Its default value has changed from 1e-7 to 0 in version 0.23, and it will be removed in 0.25. Use the min_impurity_decrease parameter instead.\n",
      "\n",
      "C:\\Users\\Qintess\\anaconda3\\envs\\projeto\\lib\\site-packages\\sklearn\\tree\\_classes.py:310: FutureWarning:\n",
      "\n",
      "The min_impurity_split parameter is deprecated. Its default value has changed from 1e-7 to 0 in version 0.23, and it will be removed in 0.25. Use the min_impurity_decrease parameter instead.\n",
      "\n",
      "C:\\Users\\Qintess\\anaconda3\\envs\\projeto\\lib\\site-packages\\sklearn\\tree\\_classes.py:310: FutureWarning:\n",
      "\n",
      "The min_impurity_split parameter is deprecated. Its default value has changed from 1e-7 to 0 in version 0.23, and it will be removed in 0.25. Use the min_impurity_decrease parameter instead.\n",
      "\n",
      "C:\\Users\\Qintess\\anaconda3\\envs\\projeto\\lib\\site-packages\\sklearn\\tree\\_classes.py:310: FutureWarning:\n",
      "\n",
      "The min_impurity_split parameter is deprecated. Its default value has changed from 1e-7 to 0 in version 0.23, and it will be removed in 0.25. Use the min_impurity_decrease parameter instead.\n",
      "\n",
      "C:\\Users\\Qintess\\anaconda3\\envs\\projeto\\lib\\site-packages\\sklearn\\tree\\_classes.py:310: FutureWarning:\n",
      "\n",
      "The min_impurity_split parameter is deprecated. Its default value has changed from 1e-7 to 0 in version 0.23, and it will be removed in 0.25. Use the min_impurity_decrease parameter instead.\n",
      "\n",
      "C:\\Users\\Qintess\\anaconda3\\envs\\projeto\\lib\\site-packages\\sklearn\\tree\\_classes.py:310: FutureWarning:\n",
      "\n",
      "The min_impurity_split parameter is deprecated. Its default value has changed from 1e-7 to 0 in version 0.23, and it will be removed in 0.25. Use the min_impurity_decrease parameter instead.\n",
      "\n",
      "C:\\Users\\Qintess\\anaconda3\\envs\\projeto\\lib\\site-packages\\sklearn\\tree\\_classes.py:310: FutureWarning:\n",
      "\n",
      "The min_impurity_split parameter is deprecated. Its default value has changed from 1e-7 to 0 in version 0.23, and it will be removed in 0.25. Use the min_impurity_decrease parameter instead.\n",
      "\n",
      "C:\\Users\\Qintess\\anaconda3\\envs\\projeto\\lib\\site-packages\\sklearn\\tree\\_classes.py:310: FutureWarning:\n",
      "\n",
      "The min_impurity_split parameter is deprecated. Its default value has changed from 1e-7 to 0 in version 0.23, and it will be removed in 0.25. Use the min_impurity_decrease parameter instead.\n",
      "\n",
      "C:\\Users\\Qintess\\anaconda3\\envs\\projeto\\lib\\site-packages\\sklearn\\tree\\_classes.py:310: FutureWarning:\n",
      "\n",
      "The min_impurity_split parameter is deprecated. Its default value has changed from 1e-7 to 0 in version 0.23, and it will be removed in 0.25. Use the min_impurity_decrease parameter instead.\n",
      "\n",
      "C:\\Users\\Qintess\\anaconda3\\envs\\projeto\\lib\\site-packages\\sklearn\\tree\\_classes.py:310: FutureWarning:\n",
      "\n",
      "The min_impurity_split parameter is deprecated. Its default value has changed from 1e-7 to 0 in version 0.23, and it will be removed in 0.25. Use the min_impurity_decrease parameter instead.\n",
      "\n",
      "C:\\Users\\Qintess\\anaconda3\\envs\\projeto\\lib\\site-packages\\sklearn\\tree\\_classes.py:310: FutureWarning:\n",
      "\n",
      "The min_impurity_split parameter is deprecated. Its default value has changed from 1e-7 to 0 in version 0.23, and it will be removed in 0.25. Use the min_impurity_decrease parameter instead.\n",
      "\n",
      "C:\\Users\\Qintess\\anaconda3\\envs\\projeto\\lib\\site-packages\\sklearn\\tree\\_classes.py:310: FutureWarning:\n",
      "\n",
      "The min_impurity_split parameter is deprecated. Its default value has changed from 1e-7 to 0 in version 0.23, and it will be removed in 0.25. Use the min_impurity_decrease parameter instead.\n",
      "\n",
      "C:\\Users\\Qintess\\anaconda3\\envs\\projeto\\lib\\site-packages\\sklearn\\tree\\_classes.py:310: FutureWarning:\n",
      "\n",
      "The min_impurity_split parameter is deprecated. Its default value has changed from 1e-7 to 0 in version 0.23, and it will be removed in 0.25. Use the min_impurity_decrease parameter instead.\n",
      "\n",
      "C:\\Users\\Qintess\\anaconda3\\envs\\projeto\\lib\\site-packages\\sklearn\\tree\\_classes.py:310: FutureWarning:\n",
      "\n",
      "The min_impurity_split parameter is deprecated. Its default value has changed from 1e-7 to 0 in version 0.23, and it will be removed in 0.25. Use the min_impurity_decrease parameter instead.\n",
      "\n",
      "C:\\Users\\Qintess\\anaconda3\\envs\\projeto\\lib\\site-packages\\sklearn\\tree\\_classes.py:310: FutureWarning:\n",
      "\n",
      "The min_impurity_split parameter is deprecated. Its default value has changed from 1e-7 to 0 in version 0.23, and it will be removed in 0.25. Use the min_impurity_decrease parameter instead.\n",
      "\n",
      "C:\\Users\\Qintess\\anaconda3\\envs\\projeto\\lib\\site-packages\\sklearn\\tree\\_classes.py:310: FutureWarning:\n",
      "\n",
      "The min_impurity_split parameter is deprecated. Its default value has changed from 1e-7 to 0 in version 0.23, and it will be removed in 0.25. Use the min_impurity_decrease parameter instead.\n",
      "\n",
      "C:\\Users\\Qintess\\anaconda3\\envs\\projeto\\lib\\site-packages\\sklearn\\tree\\_classes.py:310: FutureWarning:\n",
      "\n",
      "The min_impurity_split parameter is deprecated. Its default value has changed from 1e-7 to 0 in version 0.23, and it will be removed in 0.25. Use the min_impurity_decrease parameter instead.\n",
      "\n",
      "C:\\Users\\Qintess\\anaconda3\\envs\\projeto\\lib\\site-packages\\sklearn\\tree\\_classes.py:310: FutureWarning:\n",
      "\n",
      "The min_impurity_split parameter is deprecated. Its default value has changed from 1e-7 to 0 in version 0.23, and it will be removed in 0.25. Use the min_impurity_decrease parameter instead.\n",
      "\n",
      "C:\\Users\\Qintess\\anaconda3\\envs\\projeto\\lib\\site-packages\\sklearn\\tree\\_classes.py:310: FutureWarning:\n",
      "\n",
      "The min_impurity_split parameter is deprecated. Its default value has changed from 1e-7 to 0 in version 0.23, and it will be removed in 0.25. Use the min_impurity_decrease parameter instead.\n",
      "\n",
      "C:\\Users\\Qintess\\anaconda3\\envs\\projeto\\lib\\site-packages\\sklearn\\tree\\_classes.py:310: FutureWarning:\n",
      "\n",
      "The min_impurity_split parameter is deprecated. Its default value has changed from 1e-7 to 0 in version 0.23, and it will be removed in 0.25. Use the min_impurity_decrease parameter instead.\n",
      "\n",
      "C:\\Users\\Qintess\\anaconda3\\envs\\projeto\\lib\\site-packages\\sklearn\\tree\\_classes.py:310: FutureWarning:\n",
      "\n",
      "The min_impurity_split parameter is deprecated. Its default value has changed from 1e-7 to 0 in version 0.23, and it will be removed in 0.25. Use the min_impurity_decrease parameter instead.\n",
      "\n",
      "C:\\Users\\Qintess\\anaconda3\\envs\\projeto\\lib\\site-packages\\sklearn\\tree\\_classes.py:310: FutureWarning:\n",
      "\n",
      "The min_impurity_split parameter is deprecated. Its default value has changed from 1e-7 to 0 in version 0.23, and it will be removed in 0.25. Use the min_impurity_decrease parameter instead.\n",
      "\n",
      "C:\\Users\\Qintess\\anaconda3\\envs\\projeto\\lib\\site-packages\\sklearn\\tree\\_classes.py:310: FutureWarning:\n",
      "\n",
      "The min_impurity_split parameter is deprecated. Its default value has changed from 1e-7 to 0 in version 0.23, and it will be removed in 0.25. Use the min_impurity_decrease parameter instead.\n",
      "\n",
      "C:\\Users\\Qintess\\anaconda3\\envs\\projeto\\lib\\site-packages\\sklearn\\tree\\_classes.py:310: FutureWarning:\n",
      "\n",
      "The min_impurity_split parameter is deprecated. Its default value has changed from 1e-7 to 0 in version 0.23, and it will be removed in 0.25. Use the min_impurity_decrease parameter instead.\n",
      "\n",
      "C:\\Users\\Qintess\\anaconda3\\envs\\projeto\\lib\\site-packages\\sklearn\\tree\\_classes.py:310: FutureWarning:\n",
      "\n",
      "The min_impurity_split parameter is deprecated. Its default value has changed from 1e-7 to 0 in version 0.23, and it will be removed in 0.25. Use the min_impurity_decrease parameter instead.\n",
      "\n",
      "C:\\Users\\Qintess\\anaconda3\\envs\\projeto\\lib\\site-packages\\sklearn\\tree\\_classes.py:310: FutureWarning:\n",
      "\n",
      "The min_impurity_split parameter is deprecated. Its default value has changed from 1e-7 to 0 in version 0.23, and it will be removed in 0.25. Use the min_impurity_decrease parameter instead.\n",
      "\n",
      "C:\\Users\\Qintess\\anaconda3\\envs\\projeto\\lib\\site-packages\\sklearn\\tree\\_classes.py:310: FutureWarning:\n",
      "\n",
      "The min_impurity_split parameter is deprecated. Its default value has changed from 1e-7 to 0 in version 0.23, and it will be removed in 0.25. Use the min_impurity_decrease parameter instead.\n",
      "\n",
      "C:\\Users\\Qintess\\anaconda3\\envs\\projeto\\lib\\site-packages\\sklearn\\tree\\_classes.py:310: FutureWarning:\n",
      "\n",
      "The min_impurity_split parameter is deprecated. Its default value has changed from 1e-7 to 0 in version 0.23, and it will be removed in 0.25. Use the min_impurity_decrease parameter instead.\n",
      "\n",
      "C:\\Users\\Qintess\\anaconda3\\envs\\projeto\\lib\\site-packages\\sklearn\\tree\\_classes.py:310: FutureWarning:\n",
      "\n",
      "The min_impurity_split parameter is deprecated. Its default value has changed from 1e-7 to 0 in version 0.23, and it will be removed in 0.25. Use the min_impurity_decrease parameter instead.\n",
      "\n",
      "C:\\Users\\Qintess\\anaconda3\\envs\\projeto\\lib\\site-packages\\sklearn\\tree\\_classes.py:310: FutureWarning:\n",
      "\n",
      "The min_impurity_split parameter is deprecated. Its default value has changed from 1e-7 to 0 in version 0.23, and it will be removed in 0.25. Use the min_impurity_decrease parameter instead.\n",
      "\n",
      "C:\\Users\\Qintess\\anaconda3\\envs\\projeto\\lib\\site-packages\\sklearn\\tree\\_classes.py:310: FutureWarning:\n",
      "\n",
      "The min_impurity_split parameter is deprecated. Its default value has changed from 1e-7 to 0 in version 0.23, and it will be removed in 0.25. Use the min_impurity_decrease parameter instead.\n",
      "\n",
      "C:\\Users\\Qintess\\anaconda3\\envs\\projeto\\lib\\site-packages\\sklearn\\tree\\_classes.py:310: FutureWarning:\n",
      "\n",
      "The min_impurity_split parameter is deprecated. Its default value has changed from 1e-7 to 0 in version 0.23, and it will be removed in 0.25. Use the min_impurity_decrease parameter instead.\n",
      "\n",
      "C:\\Users\\Qintess\\anaconda3\\envs\\projeto\\lib\\site-packages\\sklearn\\tree\\_classes.py:310: FutureWarning:\n",
      "\n",
      "The min_impurity_split parameter is deprecated. Its default value has changed from 1e-7 to 0 in version 0.23, and it will be removed in 0.25. Use the min_impurity_decrease parameter instead.\n",
      "\n",
      "C:\\Users\\Qintess\\anaconda3\\envs\\projeto\\lib\\site-packages\\sklearn\\tree\\_classes.py:310: FutureWarning:\n",
      "\n",
      "The min_impurity_split parameter is deprecated. Its default value has changed from 1e-7 to 0 in version 0.23, and it will be removed in 0.25. Use the min_impurity_decrease parameter instead.\n",
      "\n",
      "C:\\Users\\Qintess\\anaconda3\\envs\\projeto\\lib\\site-packages\\sklearn\\tree\\_classes.py:310: FutureWarning:\n",
      "\n",
      "The min_impurity_split parameter is deprecated. Its default value has changed from 1e-7 to 0 in version 0.23, and it will be removed in 0.25. Use the min_impurity_decrease parameter instead.\n",
      "\n",
      "C:\\Users\\Qintess\\anaconda3\\envs\\projeto\\lib\\site-packages\\sklearn\\tree\\_classes.py:310: FutureWarning:\n",
      "\n",
      "The min_impurity_split parameter is deprecated. Its default value has changed from 1e-7 to 0 in version 0.23, and it will be removed in 0.25. Use the min_impurity_decrease parameter instead.\n",
      "\n",
      "C:\\Users\\Qintess\\anaconda3\\envs\\projeto\\lib\\site-packages\\sklearn\\tree\\_classes.py:310: FutureWarning:\n",
      "\n",
      "The min_impurity_split parameter is deprecated. Its default value has changed from 1e-7 to 0 in version 0.23, and it will be removed in 0.25. Use the min_impurity_decrease parameter instead.\n",
      "\n",
      "C:\\Users\\Qintess\\anaconda3\\envs\\projeto\\lib\\site-packages\\sklearn\\tree\\_classes.py:310: FutureWarning:\n",
      "\n",
      "The min_impurity_split parameter is deprecated. Its default value has changed from 1e-7 to 0 in version 0.23, and it will be removed in 0.25. Use the min_impurity_decrease parameter instead.\n",
      "\n",
      "C:\\Users\\Qintess\\anaconda3\\envs\\projeto\\lib\\site-packages\\sklearn\\tree\\_classes.py:310: FutureWarning:\n",
      "\n",
      "The min_impurity_split parameter is deprecated. Its default value has changed from 1e-7 to 0 in version 0.23, and it will be removed in 0.25. Use the min_impurity_decrease parameter instead.\n",
      "\n",
      "C:\\Users\\Qintess\\anaconda3\\envs\\projeto\\lib\\site-packages\\sklearn\\tree\\_classes.py:310: FutureWarning:\n",
      "\n",
      "The min_impurity_split parameter is deprecated. Its default value has changed from 1e-7 to 0 in version 0.23, and it will be removed in 0.25. Use the min_impurity_decrease parameter instead.\n",
      "\n",
      "C:\\Users\\Qintess\\anaconda3\\envs\\projeto\\lib\\site-packages\\sklearn\\tree\\_classes.py:310: FutureWarning:\n",
      "\n",
      "The min_impurity_split parameter is deprecated. Its default value has changed from 1e-7 to 0 in version 0.23, and it will be removed in 0.25. Use the min_impurity_decrease parameter instead.\n",
      "\n",
      "C:\\Users\\Qintess\\anaconda3\\envs\\projeto\\lib\\site-packages\\sklearn\\tree\\_classes.py:310: FutureWarning:\n",
      "\n",
      "The min_impurity_split parameter is deprecated. Its default value has changed from 1e-7 to 0 in version 0.23, and it will be removed in 0.25. Use the min_impurity_decrease parameter instead.\n",
      "\n",
      "C:\\Users\\Qintess\\anaconda3\\envs\\projeto\\lib\\site-packages\\sklearn\\tree\\_classes.py:310: FutureWarning:\n",
      "\n",
      "The min_impurity_split parameter is deprecated. Its default value has changed from 1e-7 to 0 in version 0.23, and it will be removed in 0.25. Use the min_impurity_decrease parameter instead.\n",
      "\n",
      "C:\\Users\\Qintess\\anaconda3\\envs\\projeto\\lib\\site-packages\\sklearn\\tree\\_classes.py:310: FutureWarning:\n",
      "\n",
      "The min_impurity_split parameter is deprecated. Its default value has changed from 1e-7 to 0 in version 0.23, and it will be removed in 0.25. Use the min_impurity_decrease parameter instead.\n",
      "\n",
      "C:\\Users\\Qintess\\anaconda3\\envs\\projeto\\lib\\site-packages\\sklearn\\tree\\_classes.py:310: FutureWarning:\n",
      "\n",
      "The min_impurity_split parameter is deprecated. Its default value has changed from 1e-7 to 0 in version 0.23, and it will be removed in 0.25. Use the min_impurity_decrease parameter instead.\n",
      "\n",
      "C:\\Users\\Qintess\\anaconda3\\envs\\projeto\\lib\\site-packages\\sklearn\\tree\\_classes.py:310: FutureWarning:\n",
      "\n",
      "The min_impurity_split parameter is deprecated. Its default value has changed from 1e-7 to 0 in version 0.23, and it will be removed in 0.25. Use the min_impurity_decrease parameter instead.\n",
      "\n",
      "C:\\Users\\Qintess\\anaconda3\\envs\\projeto\\lib\\site-packages\\sklearn\\tree\\_classes.py:310: FutureWarning:\n",
      "\n",
      "The min_impurity_split parameter is deprecated. Its default value has changed from 1e-7 to 0 in version 0.23, and it will be removed in 0.25. Use the min_impurity_decrease parameter instead.\n",
      "\n",
      "C:\\Users\\Qintess\\anaconda3\\envs\\projeto\\lib\\site-packages\\sklearn\\tree\\_classes.py:310: FutureWarning:\n",
      "\n",
      "The min_impurity_split parameter is deprecated. Its default value has changed from 1e-7 to 0 in version 0.23, and it will be removed in 0.25. Use the min_impurity_decrease parameter instead.\n",
      "\n",
      "C:\\Users\\Qintess\\anaconda3\\envs\\projeto\\lib\\site-packages\\sklearn\\tree\\_classes.py:310: FutureWarning:\n",
      "\n",
      "The min_impurity_split parameter is deprecated. Its default value has changed from 1e-7 to 0 in version 0.23, and it will be removed in 0.25. Use the min_impurity_decrease parameter instead.\n",
      "\n",
      "C:\\Users\\Qintess\\anaconda3\\envs\\projeto\\lib\\site-packages\\sklearn\\tree\\_classes.py:310: FutureWarning:\n",
      "\n",
      "The min_impurity_split parameter is deprecated. Its default value has changed from 1e-7 to 0 in version 0.23, and it will be removed in 0.25. Use the min_impurity_decrease parameter instead.\n",
      "\n",
      "C:\\Users\\Qintess\\anaconda3\\envs\\projeto\\lib\\site-packages\\sklearn\\tree\\_classes.py:310: FutureWarning:\n",
      "\n",
      "The min_impurity_split parameter is deprecated. Its default value has changed from 1e-7 to 0 in version 0.23, and it will be removed in 0.25. Use the min_impurity_decrease parameter instead.\n",
      "\n",
      "C:\\Users\\Qintess\\anaconda3\\envs\\projeto\\lib\\site-packages\\sklearn\\tree\\_classes.py:310: FutureWarning:\n",
      "\n",
      "The min_impurity_split parameter is deprecated. Its default value has changed from 1e-7 to 0 in version 0.23, and it will be removed in 0.25. Use the min_impurity_decrease parameter instead.\n",
      "\n",
      "C:\\Users\\Qintess\\anaconda3\\envs\\projeto\\lib\\site-packages\\sklearn\\tree\\_classes.py:310: FutureWarning:\n",
      "\n",
      "The min_impurity_split parameter is deprecated. Its default value has changed from 1e-7 to 0 in version 0.23, and it will be removed in 0.25. Use the min_impurity_decrease parameter instead.\n",
      "\n",
      "C:\\Users\\Qintess\\anaconda3\\envs\\projeto\\lib\\site-packages\\sklearn\\tree\\_classes.py:310: FutureWarning:\n",
      "\n",
      "The min_impurity_split parameter is deprecated. Its default value has changed from 1e-7 to 0 in version 0.23, and it will be removed in 0.25. Use the min_impurity_decrease parameter instead.\n",
      "\n",
      "C:\\Users\\Qintess\\anaconda3\\envs\\projeto\\lib\\site-packages\\sklearn\\tree\\_classes.py:310: FutureWarning:\n",
      "\n",
      "The min_impurity_split parameter is deprecated. Its default value has changed from 1e-7 to 0 in version 0.23, and it will be removed in 0.25. Use the min_impurity_decrease parameter instead.\n",
      "\n",
      "C:\\Users\\Qintess\\anaconda3\\envs\\projeto\\lib\\site-packages\\sklearn\\tree\\_classes.py:310: FutureWarning:\n",
      "\n",
      "The min_impurity_split parameter is deprecated. Its default value has changed from 1e-7 to 0 in version 0.23, and it will be removed in 0.25. Use the min_impurity_decrease parameter instead.\n",
      "\n",
      "C:\\Users\\Qintess\\anaconda3\\envs\\projeto\\lib\\site-packages\\sklearn\\tree\\_classes.py:310: FutureWarning:\n",
      "\n",
      "The min_impurity_split parameter is deprecated. Its default value has changed from 1e-7 to 0 in version 0.23, and it will be removed in 0.25. Use the min_impurity_decrease parameter instead.\n",
      "\n",
      "C:\\Users\\Qintess\\anaconda3\\envs\\projeto\\lib\\site-packages\\sklearn\\tree\\_classes.py:310: FutureWarning:\n",
      "\n",
      "The min_impurity_split parameter is deprecated. Its default value has changed from 1e-7 to 0 in version 0.23, and it will be removed in 0.25. Use the min_impurity_decrease parameter instead.\n",
      "\n",
      "C:\\Users\\Qintess\\anaconda3\\envs\\projeto\\lib\\site-packages\\sklearn\\tree\\_classes.py:310: FutureWarning:\n",
      "\n",
      "The min_impurity_split parameter is deprecated. Its default value has changed from 1e-7 to 0 in version 0.23, and it will be removed in 0.25. Use the min_impurity_decrease parameter instead.\n",
      "\n",
      "C:\\Users\\Qintess\\anaconda3\\envs\\projeto\\lib\\site-packages\\sklearn\\tree\\_classes.py:310: FutureWarning:\n",
      "\n",
      "The min_impurity_split parameter is deprecated. Its default value has changed from 1e-7 to 0 in version 0.23, and it will be removed in 0.25. Use the min_impurity_decrease parameter instead.\n",
      "\n",
      "C:\\Users\\Qintess\\anaconda3\\envs\\projeto\\lib\\site-packages\\sklearn\\tree\\_classes.py:310: FutureWarning:\n",
      "\n",
      "The min_impurity_split parameter is deprecated. Its default value has changed from 1e-7 to 0 in version 0.23, and it will be removed in 0.25. Use the min_impurity_decrease parameter instead.\n",
      "\n",
      "C:\\Users\\Qintess\\anaconda3\\envs\\projeto\\lib\\site-packages\\sklearn\\tree\\_classes.py:310: FutureWarning:\n",
      "\n",
      "The min_impurity_split parameter is deprecated. Its default value has changed from 1e-7 to 0 in version 0.23, and it will be removed in 0.25. Use the min_impurity_decrease parameter instead.\n",
      "\n",
      "C:\\Users\\Qintess\\anaconda3\\envs\\projeto\\lib\\site-packages\\sklearn\\tree\\_classes.py:310: FutureWarning:\n",
      "\n",
      "The min_impurity_split parameter is deprecated. Its default value has changed from 1e-7 to 0 in version 0.23, and it will be removed in 0.25. Use the min_impurity_decrease parameter instead.\n",
      "\n",
      "C:\\Users\\Qintess\\anaconda3\\envs\\projeto\\lib\\site-packages\\sklearn\\tree\\_classes.py:310: FutureWarning:\n",
      "\n",
      "The min_impurity_split parameter is deprecated. Its default value has changed from 1e-7 to 0 in version 0.23, and it will be removed in 0.25. Use the min_impurity_decrease parameter instead.\n",
      "\n",
      "C:\\Users\\Qintess\\anaconda3\\envs\\projeto\\lib\\site-packages\\sklearn\\tree\\_classes.py:310: FutureWarning:\n",
      "\n",
      "The min_impurity_split parameter is deprecated. Its default value has changed from 1e-7 to 0 in version 0.23, and it will be removed in 0.25. Use the min_impurity_decrease parameter instead.\n",
      "\n",
      "C:\\Users\\Qintess\\anaconda3\\envs\\projeto\\lib\\site-packages\\sklearn\\tree\\_classes.py:310: FutureWarning:\n",
      "\n",
      "The min_impurity_split parameter is deprecated. Its default value has changed from 1e-7 to 0 in version 0.23, and it will be removed in 0.25. Use the min_impurity_decrease parameter instead.\n",
      "\n",
      "C:\\Users\\Qintess\\anaconda3\\envs\\projeto\\lib\\site-packages\\sklearn\\tree\\_classes.py:310: FutureWarning:\n",
      "\n",
      "The min_impurity_split parameter is deprecated. Its default value has changed from 1e-7 to 0 in version 0.23, and it will be removed in 0.25. Use the min_impurity_decrease parameter instead.\n",
      "\n",
      "C:\\Users\\Qintess\\anaconda3\\envs\\projeto\\lib\\site-packages\\sklearn\\tree\\_classes.py:310: FutureWarning:\n",
      "\n",
      "The min_impurity_split parameter is deprecated. Its default value has changed from 1e-7 to 0 in version 0.23, and it will be removed in 0.25. Use the min_impurity_decrease parameter instead.\n",
      "\n",
      "C:\\Users\\Qintess\\anaconda3\\envs\\projeto\\lib\\site-packages\\sklearn\\tree\\_classes.py:310: FutureWarning:\n",
      "\n",
      "The min_impurity_split parameter is deprecated. Its default value has changed from 1e-7 to 0 in version 0.23, and it will be removed in 0.25. Use the min_impurity_decrease parameter instead.\n",
      "\n",
      "C:\\Users\\Qintess\\anaconda3\\envs\\projeto\\lib\\site-packages\\sklearn\\tree\\_classes.py:310: FutureWarning:\n",
      "\n",
      "The min_impurity_split parameter is deprecated. Its default value has changed from 1e-7 to 0 in version 0.23, and it will be removed in 0.25. Use the min_impurity_decrease parameter instead.\n",
      "\n",
      "C:\\Users\\Qintess\\anaconda3\\envs\\projeto\\lib\\site-packages\\sklearn\\tree\\_classes.py:310: FutureWarning:\n",
      "\n",
      "The min_impurity_split parameter is deprecated. Its default value has changed from 1e-7 to 0 in version 0.23, and it will be removed in 0.25. Use the min_impurity_decrease parameter instead.\n",
      "\n",
      "C:\\Users\\Qintess\\anaconda3\\envs\\projeto\\lib\\site-packages\\sklearn\\tree\\_classes.py:310: FutureWarning:\n",
      "\n",
      "The min_impurity_split parameter is deprecated. Its default value has changed from 1e-7 to 0 in version 0.23, and it will be removed in 0.25. Use the min_impurity_decrease parameter instead.\n",
      "\n",
      "C:\\Users\\Qintess\\anaconda3\\envs\\projeto\\lib\\site-packages\\sklearn\\tree\\_classes.py:310: FutureWarning:\n",
      "\n",
      "The min_impurity_split parameter is deprecated. Its default value has changed from 1e-7 to 0 in version 0.23, and it will be removed in 0.25. Use the min_impurity_decrease parameter instead.\n",
      "\n",
      "C:\\Users\\Qintess\\anaconda3\\envs\\projeto\\lib\\site-packages\\sklearn\\tree\\_classes.py:310: FutureWarning:\n",
      "\n",
      "The min_impurity_split parameter is deprecated. Its default value has changed from 1e-7 to 0 in version 0.23, and it will be removed in 0.25. Use the min_impurity_decrease parameter instead.\n",
      "\n",
      "C:\\Users\\Qintess\\anaconda3\\envs\\projeto\\lib\\site-packages\\sklearn\\tree\\_classes.py:310: FutureWarning:\n",
      "\n",
      "The min_impurity_split parameter is deprecated. Its default value has changed from 1e-7 to 0 in version 0.23, and it will be removed in 0.25. Use the min_impurity_decrease parameter instead.\n",
      "\n",
      "C:\\Users\\Qintess\\anaconda3\\envs\\projeto\\lib\\site-packages\\sklearn\\tree\\_classes.py:310: FutureWarning:\n",
      "\n",
      "The min_impurity_split parameter is deprecated. Its default value has changed from 1e-7 to 0 in version 0.23, and it will be removed in 0.25. Use the min_impurity_decrease parameter instead.\n",
      "\n",
      "C:\\Users\\Qintess\\anaconda3\\envs\\projeto\\lib\\site-packages\\sklearn\\tree\\_classes.py:310: FutureWarning:\n",
      "\n",
      "The min_impurity_split parameter is deprecated. Its default value has changed from 1e-7 to 0 in version 0.23, and it will be removed in 0.25. Use the min_impurity_decrease parameter instead.\n",
      "\n",
      "C:\\Users\\Qintess\\anaconda3\\envs\\projeto\\lib\\site-packages\\sklearn\\tree\\_classes.py:310: FutureWarning:\n",
      "\n",
      "The min_impurity_split parameter is deprecated. Its default value has changed from 1e-7 to 0 in version 0.23, and it will be removed in 0.25. Use the min_impurity_decrease parameter instead.\n",
      "\n",
      "C:\\Users\\Qintess\\anaconda3\\envs\\projeto\\lib\\site-packages\\sklearn\\tree\\_classes.py:310: FutureWarning:\n",
      "\n",
      "The min_impurity_split parameter is deprecated. Its default value has changed from 1e-7 to 0 in version 0.23, and it will be removed in 0.25. Use the min_impurity_decrease parameter instead.\n",
      "\n",
      "C:\\Users\\Qintess\\anaconda3\\envs\\projeto\\lib\\site-packages\\sklearn\\tree\\_classes.py:310: FutureWarning:\n",
      "\n",
      "The min_impurity_split parameter is deprecated. Its default value has changed from 1e-7 to 0 in version 0.23, and it will be removed in 0.25. Use the min_impurity_decrease parameter instead.\n",
      "\n",
      "C:\\Users\\Qintess\\anaconda3\\envs\\projeto\\lib\\site-packages\\sklearn\\tree\\_classes.py:310: FutureWarning:\n",
      "\n",
      "The min_impurity_split parameter is deprecated. Its default value has changed from 1e-7 to 0 in version 0.23, and it will be removed in 0.25. Use the min_impurity_decrease parameter instead.\n",
      "\n",
      "C:\\Users\\Qintess\\anaconda3\\envs\\projeto\\lib\\site-packages\\sklearn\\tree\\_classes.py:310: FutureWarning:\n",
      "\n",
      "The min_impurity_split parameter is deprecated. Its default value has changed from 1e-7 to 0 in version 0.23, and it will be removed in 0.25. Use the min_impurity_decrease parameter instead.\n",
      "\n",
      "C:\\Users\\Qintess\\anaconda3\\envs\\projeto\\lib\\site-packages\\sklearn\\tree\\_classes.py:310: FutureWarning:\n",
      "\n",
      "The min_impurity_split parameter is deprecated. Its default value has changed from 1e-7 to 0 in version 0.23, and it will be removed in 0.25. Use the min_impurity_decrease parameter instead.\n",
      "\n",
      "C:\\Users\\Qintess\\anaconda3\\envs\\projeto\\lib\\site-packages\\sklearn\\tree\\_classes.py:310: FutureWarning:\n",
      "\n",
      "The min_impurity_split parameter is deprecated. Its default value has changed from 1e-7 to 0 in version 0.23, and it will be removed in 0.25. Use the min_impurity_decrease parameter instead.\n",
      "\n",
      "C:\\Users\\Qintess\\anaconda3\\envs\\projeto\\lib\\site-packages\\sklearn\\tree\\_classes.py:310: FutureWarning:\n",
      "\n",
      "The min_impurity_split parameter is deprecated. Its default value has changed from 1e-7 to 0 in version 0.23, and it will be removed in 0.25. Use the min_impurity_decrease parameter instead.\n",
      "\n",
      "C:\\Users\\Qintess\\anaconda3\\envs\\projeto\\lib\\site-packages\\sklearn\\tree\\_classes.py:310: FutureWarning:\n",
      "\n",
      "The min_impurity_split parameter is deprecated. Its default value has changed from 1e-7 to 0 in version 0.23, and it will be removed in 0.25. Use the min_impurity_decrease parameter instead.\n",
      "\n",
      "C:\\Users\\Qintess\\anaconda3\\envs\\projeto\\lib\\site-packages\\sklearn\\tree\\_classes.py:310: FutureWarning:\n",
      "\n",
      "The min_impurity_split parameter is deprecated. Its default value has changed from 1e-7 to 0 in version 0.23, and it will be removed in 0.25. Use the min_impurity_decrease parameter instead.\n",
      "\n",
      "C:\\Users\\Qintess\\anaconda3\\envs\\projeto\\lib\\site-packages\\sklearn\\tree\\_classes.py:310: FutureWarning:\n",
      "\n",
      "The min_impurity_split parameter is deprecated. Its default value has changed from 1e-7 to 0 in version 0.23, and it will be removed in 0.25. Use the min_impurity_decrease parameter instead.\n",
      "\n",
      "C:\\Users\\Qintess\\anaconda3\\envs\\projeto\\lib\\site-packages\\sklearn\\tree\\_classes.py:310: FutureWarning:\n",
      "\n",
      "The min_impurity_split parameter is deprecated. Its default value has changed from 1e-7 to 0 in version 0.23, and it will be removed in 0.25. Use the min_impurity_decrease parameter instead.\n",
      "\n",
      "C:\\Users\\Qintess\\anaconda3\\envs\\projeto\\lib\\site-packages\\sklearn\\tree\\_classes.py:310: FutureWarning:\n",
      "\n",
      "The min_impurity_split parameter is deprecated. Its default value has changed from 1e-7 to 0 in version 0.23, and it will be removed in 0.25. Use the min_impurity_decrease parameter instead.\n",
      "\n",
      "C:\\Users\\Qintess\\anaconda3\\envs\\projeto\\lib\\site-packages\\sklearn\\tree\\_classes.py:310: FutureWarning:\n",
      "\n",
      "The min_impurity_split parameter is deprecated. Its default value has changed from 1e-7 to 0 in version 0.23, and it will be removed in 0.25. Use the min_impurity_decrease parameter instead.\n",
      "\n",
      "C:\\Users\\Qintess\\anaconda3\\envs\\projeto\\lib\\site-packages\\sklearn\\tree\\_classes.py:310: FutureWarning:\n",
      "\n",
      "The min_impurity_split parameter is deprecated. Its default value has changed from 1e-7 to 0 in version 0.23, and it will be removed in 0.25. Use the min_impurity_decrease parameter instead.\n",
      "\n",
      "C:\\Users\\Qintess\\anaconda3\\envs\\projeto\\lib\\site-packages\\sklearn\\tree\\_classes.py:310: FutureWarning:\n",
      "\n",
      "The min_impurity_split parameter is deprecated. Its default value has changed from 1e-7 to 0 in version 0.23, and it will be removed in 0.25. Use the min_impurity_decrease parameter instead.\n",
      "\n",
      "C:\\Users\\Qintess\\anaconda3\\envs\\projeto\\lib\\site-packages\\sklearn\\tree\\_classes.py:310: FutureWarning:\n",
      "\n",
      "The min_impurity_split parameter is deprecated. Its default value has changed from 1e-7 to 0 in version 0.23, and it will be removed in 0.25. Use the min_impurity_decrease parameter instead.\n",
      "\n",
      "C:\\Users\\Qintess\\anaconda3\\envs\\projeto\\lib\\site-packages\\sklearn\\tree\\_classes.py:310: FutureWarning:\n",
      "\n",
      "The min_impurity_split parameter is deprecated. Its default value has changed from 1e-7 to 0 in version 0.23, and it will be removed in 0.25. Use the min_impurity_decrease parameter instead.\n",
      "\n",
      "C:\\Users\\Qintess\\anaconda3\\envs\\projeto\\lib\\site-packages\\sklearn\\tree\\_classes.py:310: FutureWarning:\n",
      "\n",
      "The min_impurity_split parameter is deprecated. Its default value has changed from 1e-7 to 0 in version 0.23, and it will be removed in 0.25. Use the min_impurity_decrease parameter instead.\n",
      "\n",
      "C:\\Users\\Qintess\\anaconda3\\envs\\projeto\\lib\\site-packages\\sklearn\\tree\\_classes.py:310: FutureWarning:\n",
      "\n",
      "The min_impurity_split parameter is deprecated. Its default value has changed from 1e-7 to 0 in version 0.23, and it will be removed in 0.25. Use the min_impurity_decrease parameter instead.\n",
      "\n",
      "C:\\Users\\Qintess\\anaconda3\\envs\\projeto\\lib\\site-packages\\sklearn\\tree\\_classes.py:310: FutureWarning:\n",
      "\n",
      "The min_impurity_split parameter is deprecated. Its default value has changed from 1e-7 to 0 in version 0.23, and it will be removed in 0.25. Use the min_impurity_decrease parameter instead.\n",
      "\n",
      "C:\\Users\\Qintess\\anaconda3\\envs\\projeto\\lib\\site-packages\\sklearn\\tree\\_classes.py:310: FutureWarning:\n",
      "\n",
      "The min_impurity_split parameter is deprecated. Its default value has changed from 1e-7 to 0 in version 0.23, and it will be removed in 0.25. Use the min_impurity_decrease parameter instead.\n",
      "\n",
      "C:\\Users\\Qintess\\anaconda3\\envs\\projeto\\lib\\site-packages\\sklearn\\tree\\_classes.py:310: FutureWarning:\n",
      "\n",
      "The min_impurity_split parameter is deprecated. Its default value has changed from 1e-7 to 0 in version 0.23, and it will be removed in 0.25. Use the min_impurity_decrease parameter instead.\n",
      "\n",
      "C:\\Users\\Qintess\\anaconda3\\envs\\projeto\\lib\\site-packages\\sklearn\\tree\\_classes.py:310: FutureWarning:\n",
      "\n",
      "The min_impurity_split parameter is deprecated. Its default value has changed from 1e-7 to 0 in version 0.23, and it will be removed in 0.25. Use the min_impurity_decrease parameter instead.\n",
      "\n",
      "C:\\Users\\Qintess\\anaconda3\\envs\\projeto\\lib\\site-packages\\sklearn\\tree\\_classes.py:310: FutureWarning:\n",
      "\n",
      "The min_impurity_split parameter is deprecated. Its default value has changed from 1e-7 to 0 in version 0.23, and it will be removed in 0.25. Use the min_impurity_decrease parameter instead.\n",
      "\n",
      "C:\\Users\\Qintess\\anaconda3\\envs\\projeto\\lib\\site-packages\\sklearn\\tree\\_classes.py:310: FutureWarning:\n",
      "\n",
      "The min_impurity_split parameter is deprecated. Its default value has changed from 1e-7 to 0 in version 0.23, and it will be removed in 0.25. Use the min_impurity_decrease parameter instead.\n",
      "\n",
      "C:\\Users\\Qintess\\anaconda3\\envs\\projeto\\lib\\site-packages\\sklearn\\tree\\_classes.py:310: FutureWarning:\n",
      "\n",
      "The min_impurity_split parameter is deprecated. Its default value has changed from 1e-7 to 0 in version 0.23, and it will be removed in 0.25. Use the min_impurity_decrease parameter instead.\n",
      "\n",
      "C:\\Users\\Qintess\\anaconda3\\envs\\projeto\\lib\\site-packages\\sklearn\\tree\\_classes.py:310: FutureWarning:\n",
      "\n",
      "The min_impurity_split parameter is deprecated. Its default value has changed from 1e-7 to 0 in version 0.23, and it will be removed in 0.25. Use the min_impurity_decrease parameter instead.\n",
      "\n",
      "C:\\Users\\Qintess\\anaconda3\\envs\\projeto\\lib\\site-packages\\sklearn\\tree\\_classes.py:310: FutureWarning:\n",
      "\n",
      "The min_impurity_split parameter is deprecated. Its default value has changed from 1e-7 to 0 in version 0.23, and it will be removed in 0.25. Use the min_impurity_decrease parameter instead.\n",
      "\n",
      "C:\\Users\\Qintess\\anaconda3\\envs\\projeto\\lib\\site-packages\\sklearn\\tree\\_classes.py:310: FutureWarning:\n",
      "\n",
      "The min_impurity_split parameter is deprecated. Its default value has changed from 1e-7 to 0 in version 0.23, and it will be removed in 0.25. Use the min_impurity_decrease parameter instead.\n",
      "\n",
      "C:\\Users\\Qintess\\anaconda3\\envs\\projeto\\lib\\site-packages\\sklearn\\tree\\_classes.py:310: FutureWarning:\n",
      "\n",
      "The min_impurity_split parameter is deprecated. Its default value has changed from 1e-7 to 0 in version 0.23, and it will be removed in 0.25. Use the min_impurity_decrease parameter instead.\n",
      "\n"
     ]
    },
    {
     "data": {
      "image/png": "[encoded data removed]",
      "text/plain": [
       "<Figure size 432x288 with 2 Axes>"
      ]
     },
     "metadata": {},
     "output_type": "display_data"
    }
   ],
   "source": [
    "# avaliando com os dados de teste\n",
    "matriz_test_rand = cross_val_predict(rf_best, x_test, y_test, cv =10)\n",
    "\n",
    "fig, ax = plt.subplots()\n",
    "sns.heatmap(confusion_matrix(y_test, matriz_test_rand), annot=True, \n",
    "            ax=ax, fmt='d', cmap='Reds')\n",
    "ax.set_title(\"Matriz de Confusão\", fontsize=18)\n",
    "ax.set_ylabel(\"Real\")\n",
    "ax.set_xlabel(\"Predito\")\n",
    "plt.tight_layout()"
   ]
  },
  {
   "cell_type": "code",
   "execution_count": 1156,
   "id": "unknown-discovery",
   "metadata": {},
   "outputs": [
    {
     "name": "stdout",
     "output_type": "stream",
     "text": [
      "              precision    recall  f1-score   support\n",
      "\n",
      "           0       0.70      0.67      0.68       189\n",
      "           1       0.71      0.74      0.73       210\n",
      "\n",
      "    accuracy                           0.71       399\n",
      "   macro avg       0.71      0.71      0.71       399\n",
      "weighted avg       0.71      0.71      0.71       399\n",
      "\n"
     ]
    }
   ],
   "source": [
    "# avaliando com os dados de teste\n",
    "resultado_test_rd = classification_report(y_test, matriz_test_rd)\n",
    "print(resultado_test_rd)"
   ]
  },
  {
   "cell_type": "code",
   "execution_count": 1149,
   "id": "alert-squad",
   "metadata": {},
   "outputs": [
    {
     "data": {
      "text/plain": [
       "0.6517307692307692"
      ]
     },
     "execution_count": 1149,
     "metadata": {},
     "output_type": "execute_result"
    }
   ],
   "source": [
    "score_rd_vd = score_rd_vd.mean()\n",
    "score_rd_vd"
   ]
  },
  {
   "cell_type": "code",
   "execution_count": 1150,
   "id": "stylish-accent",
   "metadata": {},
   "outputs": [
    {
     "name": "stderr",
     "output_type": "stream",
     "text": [
      "C:\\Users\\Qintess\\anaconda3\\envs\\projeto\\lib\\site-packages\\sklearn\\tree\\_classes.py:310: FutureWarning:\n",
      "\n",
      "The min_impurity_split parameter is deprecated. Its default value has changed from 1e-7 to 0 in version 0.23, and it will be removed in 0.25. Use the min_impurity_decrease parameter instead.\n",
      "\n",
      "C:\\Users\\Qintess\\anaconda3\\envs\\projeto\\lib\\site-packages\\sklearn\\tree\\_classes.py:310: FutureWarning:\n",
      "\n",
      "The min_impurity_split parameter is deprecated. Its default value has changed from 1e-7 to 0 in version 0.23, and it will be removed in 0.25. Use the min_impurity_decrease parameter instead.\n",
      "\n",
      "C:\\Users\\Qintess\\anaconda3\\envs\\projeto\\lib\\site-packages\\sklearn\\tree\\_classes.py:310: FutureWarning:\n",
      "\n",
      "The min_impurity_split parameter is deprecated. Its default value has changed from 1e-7 to 0 in version 0.23, and it will be removed in 0.25. Use the min_impurity_decrease parameter instead.\n",
      "\n",
      "C:\\Users\\Qintess\\anaconda3\\envs\\projeto\\lib\\site-packages\\sklearn\\tree\\_classes.py:310: FutureWarning:\n",
      "\n",
      "The min_impurity_split parameter is deprecated. Its default value has changed from 1e-7 to 0 in version 0.23, and it will be removed in 0.25. Use the min_impurity_decrease parameter instead.\n",
      "\n",
      "C:\\Users\\Qintess\\anaconda3\\envs\\projeto\\lib\\site-packages\\sklearn\\tree\\_classes.py:310: FutureWarning:\n",
      "\n",
      "The min_impurity_split parameter is deprecated. Its default value has changed from 1e-7 to 0 in version 0.23, and it will be removed in 0.25. Use the min_impurity_decrease parameter instead.\n",
      "\n",
      "C:\\Users\\Qintess\\anaconda3\\envs\\projeto\\lib\\site-packages\\sklearn\\tree\\_classes.py:310: FutureWarning:\n",
      "\n",
      "The min_impurity_split parameter is deprecated. Its default value has changed from 1e-7 to 0 in version 0.23, and it will be removed in 0.25. Use the min_impurity_decrease parameter instead.\n",
      "\n",
      "C:\\Users\\Qintess\\anaconda3\\envs\\projeto\\lib\\site-packages\\sklearn\\tree\\_classes.py:310: FutureWarning:\n",
      "\n",
      "The min_impurity_split parameter is deprecated. Its default value has changed from 1e-7 to 0 in version 0.23, and it will be removed in 0.25. Use the min_impurity_decrease parameter instead.\n",
      "\n",
      "C:\\Users\\Qintess\\anaconda3\\envs\\projeto\\lib\\site-packages\\sklearn\\tree\\_classes.py:310: FutureWarning:\n",
      "\n",
      "The min_impurity_split parameter is deprecated. Its default value has changed from 1e-7 to 0 in version 0.23, and it will be removed in 0.25. Use the min_impurity_decrease parameter instead.\n",
      "\n",
      "C:\\Users\\Qintess\\anaconda3\\envs\\projeto\\lib\\site-packages\\sklearn\\tree\\_classes.py:310: FutureWarning:\n",
      "\n",
      "The min_impurity_split parameter is deprecated. Its default value has changed from 1e-7 to 0 in version 0.23, and it will be removed in 0.25. Use the min_impurity_decrease parameter instead.\n",
      "\n",
      "C:\\Users\\Qintess\\anaconda3\\envs\\projeto\\lib\\site-packages\\sklearn\\tree\\_classes.py:310: FutureWarning:\n",
      "\n",
      "The min_impurity_split parameter is deprecated. Its default value has changed from 1e-7 to 0 in version 0.23, and it will be removed in 0.25. Use the min_impurity_decrease parameter instead.\n",
      "\n",
      "C:\\Users\\Qintess\\anaconda3\\envs\\projeto\\lib\\site-packages\\sklearn\\tree\\_classes.py:310: FutureWarning:\n",
      "\n",
      "The min_impurity_split parameter is deprecated. Its default value has changed from 1e-7 to 0 in version 0.23, and it will be removed in 0.25. Use the min_impurity_decrease parameter instead.\n",
      "\n",
      "C:\\Users\\Qintess\\anaconda3\\envs\\projeto\\lib\\site-packages\\sklearn\\tree\\_classes.py:310: FutureWarning:\n",
      "\n",
      "The min_impurity_split parameter is deprecated. Its default value has changed from 1e-7 to 0 in version 0.23, and it will be removed in 0.25. Use the min_impurity_decrease parameter instead.\n",
      "\n",
      "C:\\Users\\Qintess\\anaconda3\\envs\\projeto\\lib\\site-packages\\sklearn\\tree\\_classes.py:310: FutureWarning:\n",
      "\n",
      "The min_impurity_split parameter is deprecated. Its default value has changed from 1e-7 to 0 in version 0.23, and it will be removed in 0.25. Use the min_impurity_decrease parameter instead.\n",
      "\n",
      "C:\\Users\\Qintess\\anaconda3\\envs\\projeto\\lib\\site-packages\\sklearn\\tree\\_classes.py:310: FutureWarning:\n",
      "\n",
      "The min_impurity_split parameter is deprecated. Its default value has changed from 1e-7 to 0 in version 0.23, and it will be removed in 0.25. Use the min_impurity_decrease parameter instead.\n",
      "\n",
      "C:\\Users\\Qintess\\anaconda3\\envs\\projeto\\lib\\site-packages\\sklearn\\tree\\_classes.py:310: FutureWarning:\n",
      "\n",
      "The min_impurity_split parameter is deprecated. Its default value has changed from 1e-7 to 0 in version 0.23, and it will be removed in 0.25. Use the min_impurity_decrease parameter instead.\n",
      "\n",
      "C:\\Users\\Qintess\\anaconda3\\envs\\projeto\\lib\\site-packages\\sklearn\\tree\\_classes.py:310: FutureWarning:\n",
      "\n",
      "The min_impurity_split parameter is deprecated. Its default value has changed from 1e-7 to 0 in version 0.23, and it will be removed in 0.25. Use the min_impurity_decrease parameter instead.\n",
      "\n",
      "C:\\Users\\Qintess\\anaconda3\\envs\\projeto\\lib\\site-packages\\sklearn\\tree\\_classes.py:310: FutureWarning:\n",
      "\n",
      "The min_impurity_split parameter is deprecated. Its default value has changed from 1e-7 to 0 in version 0.23, and it will be removed in 0.25. Use the min_impurity_decrease parameter instead.\n",
      "\n",
      "C:\\Users\\Qintess\\anaconda3\\envs\\projeto\\lib\\site-packages\\sklearn\\tree\\_classes.py:310: FutureWarning:\n",
      "\n",
      "The min_impurity_split parameter is deprecated. Its default value has changed from 1e-7 to 0 in version 0.23, and it will be removed in 0.25. Use the min_impurity_decrease parameter instead.\n",
      "\n",
      "C:\\Users\\Qintess\\anaconda3\\envs\\projeto\\lib\\site-packages\\sklearn\\tree\\_classes.py:310: FutureWarning:\n",
      "\n",
      "The min_impurity_split parameter is deprecated. Its default value has changed from 1e-7 to 0 in version 0.23, and it will be removed in 0.25. Use the min_impurity_decrease parameter instead.\n",
      "\n",
      "C:\\Users\\Qintess\\anaconda3\\envs\\projeto\\lib\\site-packages\\sklearn\\tree\\_classes.py:310: FutureWarning:\n",
      "\n",
      "The min_impurity_split parameter is deprecated. Its default value has changed from 1e-7 to 0 in version 0.23, and it will be removed in 0.25. Use the min_impurity_decrease parameter instead.\n",
      "\n",
      "C:\\Users\\Qintess\\anaconda3\\envs\\projeto\\lib\\site-packages\\sklearn\\tree\\_classes.py:310: FutureWarning:\n",
      "\n",
      "The min_impurity_split parameter is deprecated. Its default value has changed from 1e-7 to 0 in version 0.23, and it will be removed in 0.25. Use the min_impurity_decrease parameter instead.\n",
      "\n",
      "C:\\Users\\Qintess\\anaconda3\\envs\\projeto\\lib\\site-packages\\sklearn\\tree\\_classes.py:310: FutureWarning:\n",
      "\n",
      "The min_impurity_split parameter is deprecated. Its default value has changed from 1e-7 to 0 in version 0.23, and it will be removed in 0.25. Use the min_impurity_decrease parameter instead.\n",
      "\n",
      "C:\\Users\\Qintess\\anaconda3\\envs\\projeto\\lib\\site-packages\\sklearn\\tree\\_classes.py:310: FutureWarning:\n",
      "\n",
      "The min_impurity_split parameter is deprecated. Its default value has changed from 1e-7 to 0 in version 0.23, and it will be removed in 0.25. Use the min_impurity_decrease parameter instead.\n",
      "\n",
      "C:\\Users\\Qintess\\anaconda3\\envs\\projeto\\lib\\site-packages\\sklearn\\tree\\_classes.py:310: FutureWarning:\n",
      "\n",
      "The min_impurity_split parameter is deprecated. Its default value has changed from 1e-7 to 0 in version 0.23, and it will be removed in 0.25. Use the min_impurity_decrease parameter instead.\n",
      "\n",
      "C:\\Users\\Qintess\\anaconda3\\envs\\projeto\\lib\\site-packages\\sklearn\\tree\\_classes.py:310: FutureWarning:\n",
      "\n",
      "The min_impurity_split parameter is deprecated. Its default value has changed from 1e-7 to 0 in version 0.23, and it will be removed in 0.25. Use the min_impurity_decrease parameter instead.\n",
      "\n",
      "C:\\Users\\Qintess\\anaconda3\\envs\\projeto\\lib\\site-packages\\sklearn\\tree\\_classes.py:310: FutureWarning:\n",
      "\n",
      "The min_impurity_split parameter is deprecated. Its default value has changed from 1e-7 to 0 in version 0.23, and it will be removed in 0.25. Use the min_impurity_decrease parameter instead.\n",
      "\n",
      "C:\\Users\\Qintess\\anaconda3\\envs\\projeto\\lib\\site-packages\\sklearn\\tree\\_classes.py:310: FutureWarning:\n",
      "\n",
      "The min_impurity_split parameter is deprecated. Its default value has changed from 1e-7 to 0 in version 0.23, and it will be removed in 0.25. Use the min_impurity_decrease parameter instead.\n",
      "\n",
      "C:\\Users\\Qintess\\anaconda3\\envs\\projeto\\lib\\site-packages\\sklearn\\tree\\_classes.py:310: FutureWarning:\n",
      "\n",
      "The min_impurity_split parameter is deprecated. Its default value has changed from 1e-7 to 0 in version 0.23, and it will be removed in 0.25. Use the min_impurity_decrease parameter instead.\n",
      "\n",
      "C:\\Users\\Qintess\\anaconda3\\envs\\projeto\\lib\\site-packages\\sklearn\\tree\\_classes.py:310: FutureWarning:\n",
      "\n",
      "The min_impurity_split parameter is deprecated. Its default value has changed from 1e-7 to 0 in version 0.23, and it will be removed in 0.25. Use the min_impurity_decrease parameter instead.\n",
      "\n",
      "C:\\Users\\Qintess\\anaconda3\\envs\\projeto\\lib\\site-packages\\sklearn\\tree\\_classes.py:310: FutureWarning:\n",
      "\n",
      "The min_impurity_split parameter is deprecated. Its default value has changed from 1e-7 to 0 in version 0.23, and it will be removed in 0.25. Use the min_impurity_decrease parameter instead.\n",
      "\n",
      "C:\\Users\\Qintess\\anaconda3\\envs\\projeto\\lib\\site-packages\\sklearn\\tree\\_classes.py:310: FutureWarning:\n",
      "\n",
      "The min_impurity_split parameter is deprecated. Its default value has changed from 1e-7 to 0 in version 0.23, and it will be removed in 0.25. Use the min_impurity_decrease parameter instead.\n",
      "\n",
      "C:\\Users\\Qintess\\anaconda3\\envs\\projeto\\lib\\site-packages\\sklearn\\tree\\_classes.py:310: FutureWarning:\n",
      "\n",
      "The min_impurity_split parameter is deprecated. Its default value has changed from 1e-7 to 0 in version 0.23, and it will be removed in 0.25. Use the min_impurity_decrease parameter instead.\n",
      "\n",
      "C:\\Users\\Qintess\\anaconda3\\envs\\projeto\\lib\\site-packages\\sklearn\\tree\\_classes.py:310: FutureWarning:\n",
      "\n",
      "The min_impurity_split parameter is deprecated. Its default value has changed from 1e-7 to 0 in version 0.23, and it will be removed in 0.25. Use the min_impurity_decrease parameter instead.\n",
      "\n",
      "C:\\Users\\Qintess\\anaconda3\\envs\\projeto\\lib\\site-packages\\sklearn\\tree\\_classes.py:310: FutureWarning:\n",
      "\n",
      "The min_impurity_split parameter is deprecated. Its default value has changed from 1e-7 to 0 in version 0.23, and it will be removed in 0.25. Use the min_impurity_decrease parameter instead.\n",
      "\n",
      "C:\\Users\\Qintess\\anaconda3\\envs\\projeto\\lib\\site-packages\\sklearn\\tree\\_classes.py:310: FutureWarning:\n",
      "\n",
      "The min_impurity_split parameter is deprecated. Its default value has changed from 1e-7 to 0 in version 0.23, and it will be removed in 0.25. Use the min_impurity_decrease parameter instead.\n",
      "\n",
      "C:\\Users\\Qintess\\anaconda3\\envs\\projeto\\lib\\site-packages\\sklearn\\tree\\_classes.py:310: FutureWarning:\n",
      "\n",
      "The min_impurity_split parameter is deprecated. Its default value has changed from 1e-7 to 0 in version 0.23, and it will be removed in 0.25. Use the min_impurity_decrease parameter instead.\n",
      "\n",
      "C:\\Users\\Qintess\\anaconda3\\envs\\projeto\\lib\\site-packages\\sklearn\\tree\\_classes.py:310: FutureWarning:\n",
      "\n",
      "The min_impurity_split parameter is deprecated. Its default value has changed from 1e-7 to 0 in version 0.23, and it will be removed in 0.25. Use the min_impurity_decrease parameter instead.\n",
      "\n",
      "C:\\Users\\Qintess\\anaconda3\\envs\\projeto\\lib\\site-packages\\sklearn\\tree\\_classes.py:310: FutureWarning:\n",
      "\n",
      "The min_impurity_split parameter is deprecated. Its default value has changed from 1e-7 to 0 in version 0.23, and it will be removed in 0.25. Use the min_impurity_decrease parameter instead.\n",
      "\n",
      "C:\\Users\\Qintess\\anaconda3\\envs\\projeto\\lib\\site-packages\\sklearn\\tree\\_classes.py:310: FutureWarning:\n",
      "\n",
      "The min_impurity_split parameter is deprecated. Its default value has changed from 1e-7 to 0 in version 0.23, and it will be removed in 0.25. Use the min_impurity_decrease parameter instead.\n",
      "\n",
      "C:\\Users\\Qintess\\anaconda3\\envs\\projeto\\lib\\site-packages\\sklearn\\tree\\_classes.py:310: FutureWarning:\n",
      "\n",
      "The min_impurity_split parameter is deprecated. Its default value has changed from 1e-7 to 0 in version 0.23, and it will be removed in 0.25. Use the min_impurity_decrease parameter instead.\n",
      "\n",
      "C:\\Users\\Qintess\\anaconda3\\envs\\projeto\\lib\\site-packages\\sklearn\\tree\\_classes.py:310: FutureWarning:\n",
      "\n",
      "The min_impurity_split parameter is deprecated. Its default value has changed from 1e-7 to 0 in version 0.23, and it will be removed in 0.25. Use the min_impurity_decrease parameter instead.\n",
      "\n",
      "C:\\Users\\Qintess\\anaconda3\\envs\\projeto\\lib\\site-packages\\sklearn\\tree\\_classes.py:310: FutureWarning:\n",
      "\n",
      "The min_impurity_split parameter is deprecated. Its default value has changed from 1e-7 to 0 in version 0.23, and it will be removed in 0.25. Use the min_impurity_decrease parameter instead.\n",
      "\n",
      "C:\\Users\\Qintess\\anaconda3\\envs\\projeto\\lib\\site-packages\\sklearn\\tree\\_classes.py:310: FutureWarning:\n",
      "\n",
      "The min_impurity_split parameter is deprecated. Its default value has changed from 1e-7 to 0 in version 0.23, and it will be removed in 0.25. Use the min_impurity_decrease parameter instead.\n",
      "\n",
      "C:\\Users\\Qintess\\anaconda3\\envs\\projeto\\lib\\site-packages\\sklearn\\tree\\_classes.py:310: FutureWarning:\n",
      "\n",
      "The min_impurity_split parameter is deprecated. Its default value has changed from 1e-7 to 0 in version 0.23, and it will be removed in 0.25. Use the min_impurity_decrease parameter instead.\n",
      "\n",
      "C:\\Users\\Qintess\\anaconda3\\envs\\projeto\\lib\\site-packages\\sklearn\\tree\\_classes.py:310: FutureWarning:\n",
      "\n",
      "The min_impurity_split parameter is deprecated. Its default value has changed from 1e-7 to 0 in version 0.23, and it will be removed in 0.25. Use the min_impurity_decrease parameter instead.\n",
      "\n",
      "C:\\Users\\Qintess\\anaconda3\\envs\\projeto\\lib\\site-packages\\sklearn\\tree\\_classes.py:310: FutureWarning:\n",
      "\n",
      "The min_impurity_split parameter is deprecated. Its default value has changed from 1e-7 to 0 in version 0.23, and it will be removed in 0.25. Use the min_impurity_decrease parameter instead.\n",
      "\n",
      "C:\\Users\\Qintess\\anaconda3\\envs\\projeto\\lib\\site-packages\\sklearn\\tree\\_classes.py:310: FutureWarning:\n",
      "\n",
      "The min_impurity_split parameter is deprecated. Its default value has changed from 1e-7 to 0 in version 0.23, and it will be removed in 0.25. Use the min_impurity_decrease parameter instead.\n",
      "\n",
      "C:\\Users\\Qintess\\anaconda3\\envs\\projeto\\lib\\site-packages\\sklearn\\tree\\_classes.py:310: FutureWarning:\n",
      "\n",
      "The min_impurity_split parameter is deprecated. Its default value has changed from 1e-7 to 0 in version 0.23, and it will be removed in 0.25. Use the min_impurity_decrease parameter instead.\n",
      "\n",
      "C:\\Users\\Qintess\\anaconda3\\envs\\projeto\\lib\\site-packages\\sklearn\\tree\\_classes.py:310: FutureWarning:\n",
      "\n",
      "The min_impurity_split parameter is deprecated. Its default value has changed from 1e-7 to 0 in version 0.23, and it will be removed in 0.25. Use the min_impurity_decrease parameter instead.\n",
      "\n",
      "C:\\Users\\Qintess\\anaconda3\\envs\\projeto\\lib\\site-packages\\sklearn\\tree\\_classes.py:310: FutureWarning:\n",
      "\n",
      "The min_impurity_split parameter is deprecated. Its default value has changed from 1e-7 to 0 in version 0.23, and it will be removed in 0.25. Use the min_impurity_decrease parameter instead.\n",
      "\n",
      "C:\\Users\\Qintess\\anaconda3\\envs\\projeto\\lib\\site-packages\\sklearn\\tree\\_classes.py:310: FutureWarning:\n",
      "\n",
      "The min_impurity_split parameter is deprecated. Its default value has changed from 1e-7 to 0 in version 0.23, and it will be removed in 0.25. Use the min_impurity_decrease parameter instead.\n",
      "\n",
      "C:\\Users\\Qintess\\anaconda3\\envs\\projeto\\lib\\site-packages\\sklearn\\tree\\_classes.py:310: FutureWarning:\n",
      "\n",
      "The min_impurity_split parameter is deprecated. Its default value has changed from 1e-7 to 0 in version 0.23, and it will be removed in 0.25. Use the min_impurity_decrease parameter instead.\n",
      "\n",
      "C:\\Users\\Qintess\\anaconda3\\envs\\projeto\\lib\\site-packages\\sklearn\\tree\\_classes.py:310: FutureWarning:\n",
      "\n",
      "The min_impurity_split parameter is deprecated. Its default value has changed from 1e-7 to 0 in version 0.23, and it will be removed in 0.25. Use the min_impurity_decrease parameter instead.\n",
      "\n",
      "C:\\Users\\Qintess\\anaconda3\\envs\\projeto\\lib\\site-packages\\sklearn\\tree\\_classes.py:310: FutureWarning:\n",
      "\n",
      "The min_impurity_split parameter is deprecated. Its default value has changed from 1e-7 to 0 in version 0.23, and it will be removed in 0.25. Use the min_impurity_decrease parameter instead.\n",
      "\n",
      "C:\\Users\\Qintess\\anaconda3\\envs\\projeto\\lib\\site-packages\\sklearn\\tree\\_classes.py:310: FutureWarning:\n",
      "\n",
      "The min_impurity_split parameter is deprecated. Its default value has changed from 1e-7 to 0 in version 0.23, and it will be removed in 0.25. Use the min_impurity_decrease parameter instead.\n",
      "\n",
      "C:\\Users\\Qintess\\anaconda3\\envs\\projeto\\lib\\site-packages\\sklearn\\tree\\_classes.py:310: FutureWarning:\n",
      "\n",
      "The min_impurity_split parameter is deprecated. Its default value has changed from 1e-7 to 0 in version 0.23, and it will be removed in 0.25. Use the min_impurity_decrease parameter instead.\n",
      "\n",
      "C:\\Users\\Qintess\\anaconda3\\envs\\projeto\\lib\\site-packages\\sklearn\\tree\\_classes.py:310: FutureWarning:\n",
      "\n",
      "The min_impurity_split parameter is deprecated. Its default value has changed from 1e-7 to 0 in version 0.23, and it will be removed in 0.25. Use the min_impurity_decrease parameter instead.\n",
      "\n",
      "C:\\Users\\Qintess\\anaconda3\\envs\\projeto\\lib\\site-packages\\sklearn\\tree\\_classes.py:310: FutureWarning:\n",
      "\n",
      "The min_impurity_split parameter is deprecated. Its default value has changed from 1e-7 to 0 in version 0.23, and it will be removed in 0.25. Use the min_impurity_decrease parameter instead.\n",
      "\n",
      "C:\\Users\\Qintess\\anaconda3\\envs\\projeto\\lib\\site-packages\\sklearn\\tree\\_classes.py:310: FutureWarning:\n",
      "\n",
      "The min_impurity_split parameter is deprecated. Its default value has changed from 1e-7 to 0 in version 0.23, and it will be removed in 0.25. Use the min_impurity_decrease parameter instead.\n",
      "\n",
      "C:\\Users\\Qintess\\anaconda3\\envs\\projeto\\lib\\site-packages\\sklearn\\tree\\_classes.py:310: FutureWarning:\n",
      "\n",
      "The min_impurity_split parameter is deprecated. Its default value has changed from 1e-7 to 0 in version 0.23, and it will be removed in 0.25. Use the min_impurity_decrease parameter instead.\n",
      "\n",
      "C:\\Users\\Qintess\\anaconda3\\envs\\projeto\\lib\\site-packages\\sklearn\\tree\\_classes.py:310: FutureWarning:\n",
      "\n",
      "The min_impurity_split parameter is deprecated. Its default value has changed from 1e-7 to 0 in version 0.23, and it will be removed in 0.25. Use the min_impurity_decrease parameter instead.\n",
      "\n",
      "C:\\Users\\Qintess\\anaconda3\\envs\\projeto\\lib\\site-packages\\sklearn\\tree\\_classes.py:310: FutureWarning:\n",
      "\n",
      "The min_impurity_split parameter is deprecated. Its default value has changed from 1e-7 to 0 in version 0.23, and it will be removed in 0.25. Use the min_impurity_decrease parameter instead.\n",
      "\n",
      "C:\\Users\\Qintess\\anaconda3\\envs\\projeto\\lib\\site-packages\\sklearn\\tree\\_classes.py:310: FutureWarning:\n",
      "\n",
      "The min_impurity_split parameter is deprecated. Its default value has changed from 1e-7 to 0 in version 0.23, and it will be removed in 0.25. Use the min_impurity_decrease parameter instead.\n",
      "\n",
      "C:\\Users\\Qintess\\anaconda3\\envs\\projeto\\lib\\site-packages\\sklearn\\tree\\_classes.py:310: FutureWarning:\n",
      "\n",
      "The min_impurity_split parameter is deprecated. Its default value has changed from 1e-7 to 0 in version 0.23, and it will be removed in 0.25. Use the min_impurity_decrease parameter instead.\n",
      "\n",
      "C:\\Users\\Qintess\\anaconda3\\envs\\projeto\\lib\\site-packages\\sklearn\\tree\\_classes.py:310: FutureWarning:\n",
      "\n",
      "The min_impurity_split parameter is deprecated. Its default value has changed from 1e-7 to 0 in version 0.23, and it will be removed in 0.25. Use the min_impurity_decrease parameter instead.\n",
      "\n",
      "C:\\Users\\Qintess\\anaconda3\\envs\\projeto\\lib\\site-packages\\sklearn\\tree\\_classes.py:310: FutureWarning:\n",
      "\n",
      "The min_impurity_split parameter is deprecated. Its default value has changed from 1e-7 to 0 in version 0.23, and it will be removed in 0.25. Use the min_impurity_decrease parameter instead.\n",
      "\n",
      "C:\\Users\\Qintess\\anaconda3\\envs\\projeto\\lib\\site-packages\\sklearn\\tree\\_classes.py:310: FutureWarning:\n",
      "\n",
      "The min_impurity_split parameter is deprecated. Its default value has changed from 1e-7 to 0 in version 0.23, and it will be removed in 0.25. Use the min_impurity_decrease parameter instead.\n",
      "\n",
      "C:\\Users\\Qintess\\anaconda3\\envs\\projeto\\lib\\site-packages\\sklearn\\tree\\_classes.py:310: FutureWarning:\n",
      "\n",
      "The min_impurity_split parameter is deprecated. Its default value has changed from 1e-7 to 0 in version 0.23, and it will be removed in 0.25. Use the min_impurity_decrease parameter instead.\n",
      "\n",
      "C:\\Users\\Qintess\\anaconda3\\envs\\projeto\\lib\\site-packages\\sklearn\\tree\\_classes.py:310: FutureWarning:\n",
      "\n",
      "The min_impurity_split parameter is deprecated. Its default value has changed from 1e-7 to 0 in version 0.23, and it will be removed in 0.25. Use the min_impurity_decrease parameter instead.\n",
      "\n",
      "C:\\Users\\Qintess\\anaconda3\\envs\\projeto\\lib\\site-packages\\sklearn\\tree\\_classes.py:310: FutureWarning:\n",
      "\n",
      "The min_impurity_split parameter is deprecated. Its default value has changed from 1e-7 to 0 in version 0.23, and it will be removed in 0.25. Use the min_impurity_decrease parameter instead.\n",
      "\n",
      "C:\\Users\\Qintess\\anaconda3\\envs\\projeto\\lib\\site-packages\\sklearn\\tree\\_classes.py:310: FutureWarning:\n",
      "\n",
      "The min_impurity_split parameter is deprecated. Its default value has changed from 1e-7 to 0 in version 0.23, and it will be removed in 0.25. Use the min_impurity_decrease parameter instead.\n",
      "\n",
      "C:\\Users\\Qintess\\anaconda3\\envs\\projeto\\lib\\site-packages\\sklearn\\tree\\_classes.py:310: FutureWarning:\n",
      "\n",
      "The min_impurity_split parameter is deprecated. Its default value has changed from 1e-7 to 0 in version 0.23, and it will be removed in 0.25. Use the min_impurity_decrease parameter instead.\n",
      "\n",
      "C:\\Users\\Qintess\\anaconda3\\envs\\projeto\\lib\\site-packages\\sklearn\\tree\\_classes.py:310: FutureWarning:\n",
      "\n",
      "The min_impurity_split parameter is deprecated. Its default value has changed from 1e-7 to 0 in version 0.23, and it will be removed in 0.25. Use the min_impurity_decrease parameter instead.\n",
      "\n",
      "C:\\Users\\Qintess\\anaconda3\\envs\\projeto\\lib\\site-packages\\sklearn\\tree\\_classes.py:310: FutureWarning:\n",
      "\n",
      "The min_impurity_split parameter is deprecated. Its default value has changed from 1e-7 to 0 in version 0.23, and it will be removed in 0.25. Use the min_impurity_decrease parameter instead.\n",
      "\n",
      "C:\\Users\\Qintess\\anaconda3\\envs\\projeto\\lib\\site-packages\\sklearn\\tree\\_classes.py:310: FutureWarning:\n",
      "\n",
      "The min_impurity_split parameter is deprecated. Its default value has changed from 1e-7 to 0 in version 0.23, and it will be removed in 0.25. Use the min_impurity_decrease parameter instead.\n",
      "\n",
      "C:\\Users\\Qintess\\anaconda3\\envs\\projeto\\lib\\site-packages\\sklearn\\tree\\_classes.py:310: FutureWarning:\n",
      "\n",
      "The min_impurity_split parameter is deprecated. Its default value has changed from 1e-7 to 0 in version 0.23, and it will be removed in 0.25. Use the min_impurity_decrease parameter instead.\n",
      "\n",
      "C:\\Users\\Qintess\\anaconda3\\envs\\projeto\\lib\\site-packages\\sklearn\\tree\\_classes.py:310: FutureWarning:\n",
      "\n",
      "The min_impurity_split parameter is deprecated. Its default value has changed from 1e-7 to 0 in version 0.23, and it will be removed in 0.25. Use the min_impurity_decrease parameter instead.\n",
      "\n",
      "C:\\Users\\Qintess\\anaconda3\\envs\\projeto\\lib\\site-packages\\sklearn\\tree\\_classes.py:310: FutureWarning:\n",
      "\n",
      "The min_impurity_split parameter is deprecated. Its default value has changed from 1e-7 to 0 in version 0.23, and it will be removed in 0.25. Use the min_impurity_decrease parameter instead.\n",
      "\n",
      "C:\\Users\\Qintess\\anaconda3\\envs\\projeto\\lib\\site-packages\\sklearn\\tree\\_classes.py:310: FutureWarning:\n",
      "\n",
      "The min_impurity_split parameter is deprecated. Its default value has changed from 1e-7 to 0 in version 0.23, and it will be removed in 0.25. Use the min_impurity_decrease parameter instead.\n",
      "\n",
      "C:\\Users\\Qintess\\anaconda3\\envs\\projeto\\lib\\site-packages\\sklearn\\tree\\_classes.py:310: FutureWarning:\n",
      "\n",
      "The min_impurity_split parameter is deprecated. Its default value has changed from 1e-7 to 0 in version 0.23, and it will be removed in 0.25. Use the min_impurity_decrease parameter instead.\n",
      "\n",
      "C:\\Users\\Qintess\\anaconda3\\envs\\projeto\\lib\\site-packages\\sklearn\\tree\\_classes.py:310: FutureWarning:\n",
      "\n",
      "The min_impurity_split parameter is deprecated. Its default value has changed from 1e-7 to 0 in version 0.23, and it will be removed in 0.25. Use the min_impurity_decrease parameter instead.\n",
      "\n",
      "C:\\Users\\Qintess\\anaconda3\\envs\\projeto\\lib\\site-packages\\sklearn\\tree\\_classes.py:310: FutureWarning:\n",
      "\n",
      "The min_impurity_split parameter is deprecated. Its default value has changed from 1e-7 to 0 in version 0.23, and it will be removed in 0.25. Use the min_impurity_decrease parameter instead.\n",
      "\n",
      "C:\\Users\\Qintess\\anaconda3\\envs\\projeto\\lib\\site-packages\\sklearn\\tree\\_classes.py:310: FutureWarning:\n",
      "\n",
      "The min_impurity_split parameter is deprecated. Its default value has changed from 1e-7 to 0 in version 0.23, and it will be removed in 0.25. Use the min_impurity_decrease parameter instead.\n",
      "\n",
      "C:\\Users\\Qintess\\anaconda3\\envs\\projeto\\lib\\site-packages\\sklearn\\tree\\_classes.py:310: FutureWarning:\n",
      "\n",
      "The min_impurity_split parameter is deprecated. Its default value has changed from 1e-7 to 0 in version 0.23, and it will be removed in 0.25. Use the min_impurity_decrease parameter instead.\n",
      "\n",
      "C:\\Users\\Qintess\\anaconda3\\envs\\projeto\\lib\\site-packages\\sklearn\\tree\\_classes.py:310: FutureWarning:\n",
      "\n",
      "The min_impurity_split parameter is deprecated. Its default value has changed from 1e-7 to 0 in version 0.23, and it will be removed in 0.25. Use the min_impurity_decrease parameter instead.\n",
      "\n",
      "C:\\Users\\Qintess\\anaconda3\\envs\\projeto\\lib\\site-packages\\sklearn\\tree\\_classes.py:310: FutureWarning:\n",
      "\n",
      "The min_impurity_split parameter is deprecated. Its default value has changed from 1e-7 to 0 in version 0.23, and it will be removed in 0.25. Use the min_impurity_decrease parameter instead.\n",
      "\n",
      "C:\\Users\\Qintess\\anaconda3\\envs\\projeto\\lib\\site-packages\\sklearn\\tree\\_classes.py:310: FutureWarning:\n",
      "\n",
      "The min_impurity_split parameter is deprecated. Its default value has changed from 1e-7 to 0 in version 0.23, and it will be removed in 0.25. Use the min_impurity_decrease parameter instead.\n",
      "\n",
      "C:\\Users\\Qintess\\anaconda3\\envs\\projeto\\lib\\site-packages\\sklearn\\tree\\_classes.py:310: FutureWarning:\n",
      "\n",
      "The min_impurity_split parameter is deprecated. Its default value has changed from 1e-7 to 0 in version 0.23, and it will be removed in 0.25. Use the min_impurity_decrease parameter instead.\n",
      "\n",
      "C:\\Users\\Qintess\\anaconda3\\envs\\projeto\\lib\\site-packages\\sklearn\\tree\\_classes.py:310: FutureWarning:\n",
      "\n",
      "The min_impurity_split parameter is deprecated. Its default value has changed from 1e-7 to 0 in version 0.23, and it will be removed in 0.25. Use the min_impurity_decrease parameter instead.\n",
      "\n",
      "C:\\Users\\Qintess\\anaconda3\\envs\\projeto\\lib\\site-packages\\sklearn\\tree\\_classes.py:310: FutureWarning:\n",
      "\n",
      "The min_impurity_split parameter is deprecated. Its default value has changed from 1e-7 to 0 in version 0.23, and it will be removed in 0.25. Use the min_impurity_decrease parameter instead.\n",
      "\n",
      "C:\\Users\\Qintess\\anaconda3\\envs\\projeto\\lib\\site-packages\\sklearn\\tree\\_classes.py:310: FutureWarning:\n",
      "\n",
      "The min_impurity_split parameter is deprecated. Its default value has changed from 1e-7 to 0 in version 0.23, and it will be removed in 0.25. Use the min_impurity_decrease parameter instead.\n",
      "\n",
      "C:\\Users\\Qintess\\anaconda3\\envs\\projeto\\lib\\site-packages\\sklearn\\tree\\_classes.py:310: FutureWarning:\n",
      "\n",
      "The min_impurity_split parameter is deprecated. Its default value has changed from 1e-7 to 0 in version 0.23, and it will be removed in 0.25. Use the min_impurity_decrease parameter instead.\n",
      "\n",
      "C:\\Users\\Qintess\\anaconda3\\envs\\projeto\\lib\\site-packages\\sklearn\\tree\\_classes.py:310: FutureWarning:\n",
      "\n",
      "The min_impurity_split parameter is deprecated. Its default value has changed from 1e-7 to 0 in version 0.23, and it will be removed in 0.25. Use the min_impurity_decrease parameter instead.\n",
      "\n",
      "C:\\Users\\Qintess\\anaconda3\\envs\\projeto\\lib\\site-packages\\sklearn\\tree\\_classes.py:310: FutureWarning:\n",
      "\n",
      "The min_impurity_split parameter is deprecated. Its default value has changed from 1e-7 to 0 in version 0.23, and it will be removed in 0.25. Use the min_impurity_decrease parameter instead.\n",
      "\n",
      "C:\\Users\\Qintess\\anaconda3\\envs\\projeto\\lib\\site-packages\\sklearn\\tree\\_classes.py:310: FutureWarning:\n",
      "\n",
      "The min_impurity_split parameter is deprecated. Its default value has changed from 1e-7 to 0 in version 0.23, and it will be removed in 0.25. Use the min_impurity_decrease parameter instead.\n",
      "\n",
      "C:\\Users\\Qintess\\anaconda3\\envs\\projeto\\lib\\site-packages\\sklearn\\tree\\_classes.py:310: FutureWarning:\n",
      "\n",
      "The min_impurity_split parameter is deprecated. Its default value has changed from 1e-7 to 0 in version 0.23, and it will be removed in 0.25. Use the min_impurity_decrease parameter instead.\n",
      "\n",
      "C:\\Users\\Qintess\\anaconda3\\envs\\projeto\\lib\\site-packages\\sklearn\\tree\\_classes.py:310: FutureWarning:\n",
      "\n",
      "The min_impurity_split parameter is deprecated. Its default value has changed from 1e-7 to 0 in version 0.23, and it will be removed in 0.25. Use the min_impurity_decrease parameter instead.\n",
      "\n",
      "C:\\Users\\Qintess\\anaconda3\\envs\\projeto\\lib\\site-packages\\sklearn\\tree\\_classes.py:310: FutureWarning:\n",
      "\n",
      "The min_impurity_split parameter is deprecated. Its default value has changed from 1e-7 to 0 in version 0.23, and it will be removed in 0.25. Use the min_impurity_decrease parameter instead.\n",
      "\n",
      "C:\\Users\\Qintess\\anaconda3\\envs\\projeto\\lib\\site-packages\\sklearn\\tree\\_classes.py:310: FutureWarning:\n",
      "\n",
      "The min_impurity_split parameter is deprecated. Its default value has changed from 1e-7 to 0 in version 0.23, and it will be removed in 0.25. Use the min_impurity_decrease parameter instead.\n",
      "\n",
      "C:\\Users\\Qintess\\anaconda3\\envs\\projeto\\lib\\site-packages\\sklearn\\tree\\_classes.py:310: FutureWarning:\n",
      "\n",
      "The min_impurity_split parameter is deprecated. Its default value has changed from 1e-7 to 0 in version 0.23, and it will be removed in 0.25. Use the min_impurity_decrease parameter instead.\n",
      "\n",
      "C:\\Users\\Qintess\\anaconda3\\envs\\projeto\\lib\\site-packages\\sklearn\\tree\\_classes.py:310: FutureWarning:\n",
      "\n",
      "The min_impurity_split parameter is deprecated. Its default value has changed from 1e-7 to 0 in version 0.23, and it will be removed in 0.25. Use the min_impurity_decrease parameter instead.\n",
      "\n",
      "C:\\Users\\Qintess\\anaconda3\\envs\\projeto\\lib\\site-packages\\sklearn\\tree\\_classes.py:310: FutureWarning:\n",
      "\n",
      "The min_impurity_split parameter is deprecated. Its default value has changed from 1e-7 to 0 in version 0.23, and it will be removed in 0.25. Use the min_impurity_decrease parameter instead.\n",
      "\n",
      "C:\\Users\\Qintess\\anaconda3\\envs\\projeto\\lib\\site-packages\\sklearn\\tree\\_classes.py:310: FutureWarning:\n",
      "\n",
      "The min_impurity_split parameter is deprecated. Its default value has changed from 1e-7 to 0 in version 0.23, and it will be removed in 0.25. Use the min_impurity_decrease parameter instead.\n",
      "\n",
      "C:\\Users\\Qintess\\anaconda3\\envs\\projeto\\lib\\site-packages\\sklearn\\tree\\_classes.py:310: FutureWarning:\n",
      "\n",
      "The min_impurity_split parameter is deprecated. Its default value has changed from 1e-7 to 0 in version 0.23, and it will be removed in 0.25. Use the min_impurity_decrease parameter instead.\n",
      "\n",
      "C:\\Users\\Qintess\\anaconda3\\envs\\projeto\\lib\\site-packages\\sklearn\\tree\\_classes.py:310: FutureWarning:\n",
      "\n",
      "The min_impurity_split parameter is deprecated. Its default value has changed from 1e-7 to 0 in version 0.23, and it will be removed in 0.25. Use the min_impurity_decrease parameter instead.\n",
      "\n",
      "C:\\Users\\Qintess\\anaconda3\\envs\\projeto\\lib\\site-packages\\sklearn\\tree\\_classes.py:310: FutureWarning:\n",
      "\n",
      "The min_impurity_split parameter is deprecated. Its default value has changed from 1e-7 to 0 in version 0.23, and it will be removed in 0.25. Use the min_impurity_decrease parameter instead.\n",
      "\n",
      "C:\\Users\\Qintess\\anaconda3\\envs\\projeto\\lib\\site-packages\\sklearn\\tree\\_classes.py:310: FutureWarning:\n",
      "\n",
      "The min_impurity_split parameter is deprecated. Its default value has changed from 1e-7 to 0 in version 0.23, and it will be removed in 0.25. Use the min_impurity_decrease parameter instead.\n",
      "\n",
      "C:\\Users\\Qintess\\anaconda3\\envs\\projeto\\lib\\site-packages\\sklearn\\tree\\_classes.py:310: FutureWarning:\n",
      "\n",
      "The min_impurity_split parameter is deprecated. Its default value has changed from 1e-7 to 0 in version 0.23, and it will be removed in 0.25. Use the min_impurity_decrease parameter instead.\n",
      "\n",
      "C:\\Users\\Qintess\\anaconda3\\envs\\projeto\\lib\\site-packages\\sklearn\\tree\\_classes.py:310: FutureWarning:\n",
      "\n",
      "The min_impurity_split parameter is deprecated. Its default value has changed from 1e-7 to 0 in version 0.23, and it will be removed in 0.25. Use the min_impurity_decrease parameter instead.\n",
      "\n",
      "C:\\Users\\Qintess\\anaconda3\\envs\\projeto\\lib\\site-packages\\sklearn\\tree\\_classes.py:310: FutureWarning:\n",
      "\n",
      "The min_impurity_split parameter is deprecated. Its default value has changed from 1e-7 to 0 in version 0.23, and it will be removed in 0.25. Use the min_impurity_decrease parameter instead.\n",
      "\n",
      "C:\\Users\\Qintess\\anaconda3\\envs\\projeto\\lib\\site-packages\\sklearn\\tree\\_classes.py:310: FutureWarning:\n",
      "\n",
      "The min_impurity_split parameter is deprecated. Its default value has changed from 1e-7 to 0 in version 0.23, and it will be removed in 0.25. Use the min_impurity_decrease parameter instead.\n",
      "\n",
      "C:\\Users\\Qintess\\anaconda3\\envs\\projeto\\lib\\site-packages\\sklearn\\tree\\_classes.py:310: FutureWarning:\n",
      "\n",
      "The min_impurity_split parameter is deprecated. Its default value has changed from 1e-7 to 0 in version 0.23, and it will be removed in 0.25. Use the min_impurity_decrease parameter instead.\n",
      "\n",
      "C:\\Users\\Qintess\\anaconda3\\envs\\projeto\\lib\\site-packages\\sklearn\\tree\\_classes.py:310: FutureWarning:\n",
      "\n",
      "The min_impurity_split parameter is deprecated. Its default value has changed from 1e-7 to 0 in version 0.23, and it will be removed in 0.25. Use the min_impurity_decrease parameter instead.\n",
      "\n",
      "C:\\Users\\Qintess\\anaconda3\\envs\\projeto\\lib\\site-packages\\sklearn\\tree\\_classes.py:310: FutureWarning:\n",
      "\n",
      "The min_impurity_split parameter is deprecated. Its default value has changed from 1e-7 to 0 in version 0.23, and it will be removed in 0.25. Use the min_impurity_decrease parameter instead.\n",
      "\n",
      "C:\\Users\\Qintess\\anaconda3\\envs\\projeto\\lib\\site-packages\\sklearn\\tree\\_classes.py:310: FutureWarning:\n",
      "\n",
      "The min_impurity_split parameter is deprecated. Its default value has changed from 1e-7 to 0 in version 0.23, and it will be removed in 0.25. Use the min_impurity_decrease parameter instead.\n",
      "\n",
      "C:\\Users\\Qintess\\anaconda3\\envs\\projeto\\lib\\site-packages\\sklearn\\tree\\_classes.py:310: FutureWarning:\n",
      "\n",
      "The min_impurity_split parameter is deprecated. Its default value has changed from 1e-7 to 0 in version 0.23, and it will be removed in 0.25. Use the min_impurity_decrease parameter instead.\n",
      "\n",
      "C:\\Users\\Qintess\\anaconda3\\envs\\projeto\\lib\\site-packages\\sklearn\\tree\\_classes.py:310: FutureWarning:\n",
      "\n",
      "The min_impurity_split parameter is deprecated. Its default value has changed from 1e-7 to 0 in version 0.23, and it will be removed in 0.25. Use the min_impurity_decrease parameter instead.\n",
      "\n",
      "C:\\Users\\Qintess\\anaconda3\\envs\\projeto\\lib\\site-packages\\sklearn\\tree\\_classes.py:310: FutureWarning:\n",
      "\n",
      "The min_impurity_split parameter is deprecated. Its default value has changed from 1e-7 to 0 in version 0.23, and it will be removed in 0.25. Use the min_impurity_decrease parameter instead.\n",
      "\n",
      "C:\\Users\\Qintess\\anaconda3\\envs\\projeto\\lib\\site-packages\\sklearn\\tree\\_classes.py:310: FutureWarning:\n",
      "\n",
      "The min_impurity_split parameter is deprecated. Its default value has changed from 1e-7 to 0 in version 0.23, and it will be removed in 0.25. Use the min_impurity_decrease parameter instead.\n",
      "\n",
      "C:\\Users\\Qintess\\anaconda3\\envs\\projeto\\lib\\site-packages\\sklearn\\tree\\_classes.py:310: FutureWarning:\n",
      "\n",
      "The min_impurity_split parameter is deprecated. Its default value has changed from 1e-7 to 0 in version 0.23, and it will be removed in 0.25. Use the min_impurity_decrease parameter instead.\n",
      "\n",
      "C:\\Users\\Qintess\\anaconda3\\envs\\projeto\\lib\\site-packages\\sklearn\\tree\\_classes.py:310: FutureWarning:\n",
      "\n",
      "The min_impurity_split parameter is deprecated. Its default value has changed from 1e-7 to 0 in version 0.23, and it will be removed in 0.25. Use the min_impurity_decrease parameter instead.\n",
      "\n",
      "C:\\Users\\Qintess\\anaconda3\\envs\\projeto\\lib\\site-packages\\sklearn\\tree\\_classes.py:310: FutureWarning:\n",
      "\n",
      "The min_impurity_split parameter is deprecated. Its default value has changed from 1e-7 to 0 in version 0.23, and it will be removed in 0.25. Use the min_impurity_decrease parameter instead.\n",
      "\n",
      "C:\\Users\\Qintess\\anaconda3\\envs\\projeto\\lib\\site-packages\\sklearn\\tree\\_classes.py:310: FutureWarning:\n",
      "\n",
      "The min_impurity_split parameter is deprecated. Its default value has changed from 1e-7 to 0 in version 0.23, and it will be removed in 0.25. Use the min_impurity_decrease parameter instead.\n",
      "\n",
      "C:\\Users\\Qintess\\anaconda3\\envs\\projeto\\lib\\site-packages\\sklearn\\tree\\_classes.py:310: FutureWarning:\n",
      "\n",
      "The min_impurity_split parameter is deprecated. Its default value has changed from 1e-7 to 0 in version 0.23, and it will be removed in 0.25. Use the min_impurity_decrease parameter instead.\n",
      "\n",
      "C:\\Users\\Qintess\\anaconda3\\envs\\projeto\\lib\\site-packages\\sklearn\\tree\\_classes.py:310: FutureWarning:\n",
      "\n",
      "The min_impurity_split parameter is deprecated. Its default value has changed from 1e-7 to 0 in version 0.23, and it will be removed in 0.25. Use the min_impurity_decrease parameter instead.\n",
      "\n",
      "C:\\Users\\Qintess\\anaconda3\\envs\\projeto\\lib\\site-packages\\sklearn\\tree\\_classes.py:310: FutureWarning:\n",
      "\n",
      "The min_impurity_split parameter is deprecated. Its default value has changed from 1e-7 to 0 in version 0.23, and it will be removed in 0.25. Use the min_impurity_decrease parameter instead.\n",
      "\n",
      "C:\\Users\\Qintess\\anaconda3\\envs\\projeto\\lib\\site-packages\\sklearn\\tree\\_classes.py:310: FutureWarning:\n",
      "\n",
      "The min_impurity_split parameter is deprecated. Its default value has changed from 1e-7 to 0 in version 0.23, and it will be removed in 0.25. Use the min_impurity_decrease parameter instead.\n",
      "\n",
      "C:\\Users\\Qintess\\anaconda3\\envs\\projeto\\lib\\site-packages\\sklearn\\tree\\_classes.py:310: FutureWarning:\n",
      "\n",
      "The min_impurity_split parameter is deprecated. Its default value has changed from 1e-7 to 0 in version 0.23, and it will be removed in 0.25. Use the min_impurity_decrease parameter instead.\n",
      "\n",
      "C:\\Users\\Qintess\\anaconda3\\envs\\projeto\\lib\\site-packages\\sklearn\\tree\\_classes.py:310: FutureWarning:\n",
      "\n",
      "The min_impurity_split parameter is deprecated. Its default value has changed from 1e-7 to 0 in version 0.23, and it will be removed in 0.25. Use the min_impurity_decrease parameter instead.\n",
      "\n",
      "C:\\Users\\Qintess\\anaconda3\\envs\\projeto\\lib\\site-packages\\sklearn\\tree\\_classes.py:310: FutureWarning:\n",
      "\n",
      "The min_impurity_split parameter is deprecated. Its default value has changed from 1e-7 to 0 in version 0.23, and it will be removed in 0.25. Use the min_impurity_decrease parameter instead.\n",
      "\n",
      "C:\\Users\\Qintess\\anaconda3\\envs\\projeto\\lib\\site-packages\\sklearn\\tree\\_classes.py:310: FutureWarning:\n",
      "\n",
      "The min_impurity_split parameter is deprecated. Its default value has changed from 1e-7 to 0 in version 0.23, and it will be removed in 0.25. Use the min_impurity_decrease parameter instead.\n",
      "\n",
      "C:\\Users\\Qintess\\anaconda3\\envs\\projeto\\lib\\site-packages\\sklearn\\tree\\_classes.py:310: FutureWarning:\n",
      "\n",
      "The min_impurity_split parameter is deprecated. Its default value has changed from 1e-7 to 0 in version 0.23, and it will be removed in 0.25. Use the min_impurity_decrease parameter instead.\n",
      "\n",
      "C:\\Users\\Qintess\\anaconda3\\envs\\projeto\\lib\\site-packages\\sklearn\\tree\\_classes.py:310: FutureWarning:\n",
      "\n",
      "The min_impurity_split parameter is deprecated. Its default value has changed from 1e-7 to 0 in version 0.23, and it will be removed in 0.25. Use the min_impurity_decrease parameter instead.\n",
      "\n",
      "C:\\Users\\Qintess\\anaconda3\\envs\\projeto\\lib\\site-packages\\sklearn\\tree\\_classes.py:310: FutureWarning:\n",
      "\n",
      "The min_impurity_split parameter is deprecated. Its default value has changed from 1e-7 to 0 in version 0.23, and it will be removed in 0.25. Use the min_impurity_decrease parameter instead.\n",
      "\n",
      "C:\\Users\\Qintess\\anaconda3\\envs\\projeto\\lib\\site-packages\\sklearn\\tree\\_classes.py:310: FutureWarning:\n",
      "\n",
      "The min_impurity_split parameter is deprecated. Its default value has changed from 1e-7 to 0 in version 0.23, and it will be removed in 0.25. Use the min_impurity_decrease parameter instead.\n",
      "\n",
      "C:\\Users\\Qintess\\anaconda3\\envs\\projeto\\lib\\site-packages\\sklearn\\tree\\_classes.py:310: FutureWarning:\n",
      "\n",
      "The min_impurity_split parameter is deprecated. Its default value has changed from 1e-7 to 0 in version 0.23, and it will be removed in 0.25. Use the min_impurity_decrease parameter instead.\n",
      "\n",
      "C:\\Users\\Qintess\\anaconda3\\envs\\projeto\\lib\\site-packages\\sklearn\\tree\\_classes.py:310: FutureWarning:\n",
      "\n",
      "The min_impurity_split parameter is deprecated. Its default value has changed from 1e-7 to 0 in version 0.23, and it will be removed in 0.25. Use the min_impurity_decrease parameter instead.\n",
      "\n",
      "C:\\Users\\Qintess\\anaconda3\\envs\\projeto\\lib\\site-packages\\sklearn\\tree\\_classes.py:310: FutureWarning:\n",
      "\n",
      "The min_impurity_split parameter is deprecated. Its default value has changed from 1e-7 to 0 in version 0.23, and it will be removed in 0.25. Use the min_impurity_decrease parameter instead.\n",
      "\n",
      "C:\\Users\\Qintess\\anaconda3\\envs\\projeto\\lib\\site-packages\\sklearn\\tree\\_classes.py:310: FutureWarning:\n",
      "\n",
      "The min_impurity_split parameter is deprecated. Its default value has changed from 1e-7 to 0 in version 0.23, and it will be removed in 0.25. Use the min_impurity_decrease parameter instead.\n",
      "\n",
      "C:\\Users\\Qintess\\anaconda3\\envs\\projeto\\lib\\site-packages\\sklearn\\tree\\_classes.py:310: FutureWarning:\n",
      "\n",
      "The min_impurity_split parameter is deprecated. Its default value has changed from 1e-7 to 0 in version 0.23, and it will be removed in 0.25. Use the min_impurity_decrease parameter instead.\n",
      "\n",
      "C:\\Users\\Qintess\\anaconda3\\envs\\projeto\\lib\\site-packages\\sklearn\\tree\\_classes.py:310: FutureWarning:\n",
      "\n",
      "The min_impurity_split parameter is deprecated. Its default value has changed from 1e-7 to 0 in version 0.23, and it will be removed in 0.25. Use the min_impurity_decrease parameter instead.\n",
      "\n",
      "C:\\Users\\Qintess\\anaconda3\\envs\\projeto\\lib\\site-packages\\sklearn\\tree\\_classes.py:310: FutureWarning:\n",
      "\n",
      "The min_impurity_split parameter is deprecated. Its default value has changed from 1e-7 to 0 in version 0.23, and it will be removed in 0.25. Use the min_impurity_decrease parameter instead.\n",
      "\n",
      "C:\\Users\\Qintess\\anaconda3\\envs\\projeto\\lib\\site-packages\\sklearn\\tree\\_classes.py:310: FutureWarning:\n",
      "\n",
      "The min_impurity_split parameter is deprecated. Its default value has changed from 1e-7 to 0 in version 0.23, and it will be removed in 0.25. Use the min_impurity_decrease parameter instead.\n",
      "\n",
      "C:\\Users\\Qintess\\anaconda3\\envs\\projeto\\lib\\site-packages\\sklearn\\tree\\_classes.py:310: FutureWarning:\n",
      "\n",
      "The min_impurity_split parameter is deprecated. Its default value has changed from 1e-7 to 0 in version 0.23, and it will be removed in 0.25. Use the min_impurity_decrease parameter instead.\n",
      "\n",
      "C:\\Users\\Qintess\\anaconda3\\envs\\projeto\\lib\\site-packages\\sklearn\\tree\\_classes.py:310: FutureWarning:\n",
      "\n",
      "The min_impurity_split parameter is deprecated. Its default value has changed from 1e-7 to 0 in version 0.23, and it will be removed in 0.25. Use the min_impurity_decrease parameter instead.\n",
      "\n",
      "C:\\Users\\Qintess\\anaconda3\\envs\\projeto\\lib\\site-packages\\sklearn\\tree\\_classes.py:310: FutureWarning:\n",
      "\n",
      "The min_impurity_split parameter is deprecated. Its default value has changed from 1e-7 to 0 in version 0.23, and it will be removed in 0.25. Use the min_impurity_decrease parameter instead.\n",
      "\n",
      "C:\\Users\\Qintess\\anaconda3\\envs\\projeto\\lib\\site-packages\\sklearn\\tree\\_classes.py:310: FutureWarning:\n",
      "\n",
      "The min_impurity_split parameter is deprecated. Its default value has changed from 1e-7 to 0 in version 0.23, and it will be removed in 0.25. Use the min_impurity_decrease parameter instead.\n",
      "\n",
      "C:\\Users\\Qintess\\anaconda3\\envs\\projeto\\lib\\site-packages\\sklearn\\tree\\_classes.py:310: FutureWarning:\n",
      "\n",
      "The min_impurity_split parameter is deprecated. Its default value has changed from 1e-7 to 0 in version 0.23, and it will be removed in 0.25. Use the min_impurity_decrease parameter instead.\n",
      "\n",
      "C:\\Users\\Qintess\\anaconda3\\envs\\projeto\\lib\\site-packages\\sklearn\\tree\\_classes.py:310: FutureWarning:\n",
      "\n",
      "The min_impurity_split parameter is deprecated. Its default value has changed from 1e-7 to 0 in version 0.23, and it will be removed in 0.25. Use the min_impurity_decrease parameter instead.\n",
      "\n",
      "C:\\Users\\Qintess\\anaconda3\\envs\\projeto\\lib\\site-packages\\sklearn\\tree\\_classes.py:310: FutureWarning:\n",
      "\n",
      "The min_impurity_split parameter is deprecated. Its default value has changed from 1e-7 to 0 in version 0.23, and it will be removed in 0.25. Use the min_impurity_decrease parameter instead.\n",
      "\n",
      "C:\\Users\\Qintess\\anaconda3\\envs\\projeto\\lib\\site-packages\\sklearn\\tree\\_classes.py:310: FutureWarning:\n",
      "\n",
      "The min_impurity_split parameter is deprecated. Its default value has changed from 1e-7 to 0 in version 0.23, and it will be removed in 0.25. Use the min_impurity_decrease parameter instead.\n",
      "\n",
      "C:\\Users\\Qintess\\anaconda3\\envs\\projeto\\lib\\site-packages\\sklearn\\tree\\_classes.py:310: FutureWarning:\n",
      "\n",
      "The min_impurity_split parameter is deprecated. Its default value has changed from 1e-7 to 0 in version 0.23, and it will be removed in 0.25. Use the min_impurity_decrease parameter instead.\n",
      "\n",
      "C:\\Users\\Qintess\\anaconda3\\envs\\projeto\\lib\\site-packages\\sklearn\\tree\\_classes.py:310: FutureWarning:\n",
      "\n",
      "The min_impurity_split parameter is deprecated. Its default value has changed from 1e-7 to 0 in version 0.23, and it will be removed in 0.25. Use the min_impurity_decrease parameter instead.\n",
      "\n",
      "C:\\Users\\Qintess\\anaconda3\\envs\\projeto\\lib\\site-packages\\sklearn\\tree\\_classes.py:310: FutureWarning:\n",
      "\n",
      "The min_impurity_split parameter is deprecated. Its default value has changed from 1e-7 to 0 in version 0.23, and it will be removed in 0.25. Use the min_impurity_decrease parameter instead.\n",
      "\n",
      "C:\\Users\\Qintess\\anaconda3\\envs\\projeto\\lib\\site-packages\\sklearn\\tree\\_classes.py:310: FutureWarning:\n",
      "\n",
      "The min_impurity_split parameter is deprecated. Its default value has changed from 1e-7 to 0 in version 0.23, and it will be removed in 0.25. Use the min_impurity_decrease parameter instead.\n",
      "\n",
      "C:\\Users\\Qintess\\anaconda3\\envs\\projeto\\lib\\site-packages\\sklearn\\tree\\_classes.py:310: FutureWarning:\n",
      "\n",
      "The min_impurity_split parameter is deprecated. Its default value has changed from 1e-7 to 0 in version 0.23, and it will be removed in 0.25. Use the min_impurity_decrease parameter instead.\n",
      "\n",
      "C:\\Users\\Qintess\\anaconda3\\envs\\projeto\\lib\\site-packages\\sklearn\\tree\\_classes.py:310: FutureWarning:\n",
      "\n",
      "The min_impurity_split parameter is deprecated. Its default value has changed from 1e-7 to 0 in version 0.23, and it will be removed in 0.25. Use the min_impurity_decrease parameter instead.\n",
      "\n",
      "C:\\Users\\Qintess\\anaconda3\\envs\\projeto\\lib\\site-packages\\sklearn\\tree\\_classes.py:310: FutureWarning:\n",
      "\n",
      "The min_impurity_split parameter is deprecated. Its default value has changed from 1e-7 to 0 in version 0.23, and it will be removed in 0.25. Use the min_impurity_decrease parameter instead.\n",
      "\n",
      "C:\\Users\\Qintess\\anaconda3\\envs\\projeto\\lib\\site-packages\\sklearn\\tree\\_classes.py:310: FutureWarning:\n",
      "\n",
      "The min_impurity_split parameter is deprecated. Its default value has changed from 1e-7 to 0 in version 0.23, and it will be removed in 0.25. Use the min_impurity_decrease parameter instead.\n",
      "\n",
      "C:\\Users\\Qintess\\anaconda3\\envs\\projeto\\lib\\site-packages\\sklearn\\tree\\_classes.py:310: FutureWarning:\n",
      "\n",
      "The min_impurity_split parameter is deprecated. Its default value has changed from 1e-7 to 0 in version 0.23, and it will be removed in 0.25. Use the min_impurity_decrease parameter instead.\n",
      "\n",
      "C:\\Users\\Qintess\\anaconda3\\envs\\projeto\\lib\\site-packages\\sklearn\\tree\\_classes.py:310: FutureWarning:\n",
      "\n",
      "The min_impurity_split parameter is deprecated. Its default value has changed from 1e-7 to 0 in version 0.23, and it will be removed in 0.25. Use the min_impurity_decrease parameter instead.\n",
      "\n",
      "C:\\Users\\Qintess\\anaconda3\\envs\\projeto\\lib\\site-packages\\sklearn\\tree\\_classes.py:310: FutureWarning:\n",
      "\n",
      "The min_impurity_split parameter is deprecated. Its default value has changed from 1e-7 to 0 in version 0.23, and it will be removed in 0.25. Use the min_impurity_decrease parameter instead.\n",
      "\n",
      "C:\\Users\\Qintess\\anaconda3\\envs\\projeto\\lib\\site-packages\\sklearn\\tree\\_classes.py:310: FutureWarning:\n",
      "\n",
      "The min_impurity_split parameter is deprecated. Its default value has changed from 1e-7 to 0 in version 0.23, and it will be removed in 0.25. Use the min_impurity_decrease parameter instead.\n",
      "\n",
      "C:\\Users\\Qintess\\anaconda3\\envs\\projeto\\lib\\site-packages\\sklearn\\tree\\_classes.py:310: FutureWarning:\n",
      "\n",
      "The min_impurity_split parameter is deprecated. Its default value has changed from 1e-7 to 0 in version 0.23, and it will be removed in 0.25. Use the min_impurity_decrease parameter instead.\n",
      "\n",
      "C:\\Users\\Qintess\\anaconda3\\envs\\projeto\\lib\\site-packages\\sklearn\\tree\\_classes.py:310: FutureWarning:\n",
      "\n",
      "The min_impurity_split parameter is deprecated. Its default value has changed from 1e-7 to 0 in version 0.23, and it will be removed in 0.25. Use the min_impurity_decrease parameter instead.\n",
      "\n",
      "C:\\Users\\Qintess\\anaconda3\\envs\\projeto\\lib\\site-packages\\sklearn\\tree\\_classes.py:310: FutureWarning:\n",
      "\n",
      "The min_impurity_split parameter is deprecated. Its default value has changed from 1e-7 to 0 in version 0.23, and it will be removed in 0.25. Use the min_impurity_decrease parameter instead.\n",
      "\n",
      "C:\\Users\\Qintess\\anaconda3\\envs\\projeto\\lib\\site-packages\\sklearn\\tree\\_classes.py:310: FutureWarning:\n",
      "\n",
      "The min_impurity_split parameter is deprecated. Its default value has changed from 1e-7 to 0 in version 0.23, and it will be removed in 0.25. Use the min_impurity_decrease parameter instead.\n",
      "\n",
      "C:\\Users\\Qintess\\anaconda3\\envs\\projeto\\lib\\site-packages\\sklearn\\tree\\_classes.py:310: FutureWarning:\n",
      "\n",
      "The min_impurity_split parameter is deprecated. Its default value has changed from 1e-7 to 0 in version 0.23, and it will be removed in 0.25. Use the min_impurity_decrease parameter instead.\n",
      "\n",
      "C:\\Users\\Qintess\\anaconda3\\envs\\projeto\\lib\\site-packages\\sklearn\\tree\\_classes.py:310: FutureWarning:\n",
      "\n",
      "The min_impurity_split parameter is deprecated. Its default value has changed from 1e-7 to 0 in version 0.23, and it will be removed in 0.25. Use the min_impurity_decrease parameter instead.\n",
      "\n",
      "C:\\Users\\Qintess\\anaconda3\\envs\\projeto\\lib\\site-packages\\sklearn\\tree\\_classes.py:310: FutureWarning:\n",
      "\n",
      "The min_impurity_split parameter is deprecated. Its default value has changed from 1e-7 to 0 in version 0.23, and it will be removed in 0.25. Use the min_impurity_decrease parameter instead.\n",
      "\n",
      "C:\\Users\\Qintess\\anaconda3\\envs\\projeto\\lib\\site-packages\\sklearn\\tree\\_classes.py:310: FutureWarning:\n",
      "\n",
      "The min_impurity_split parameter is deprecated. Its default value has changed from 1e-7 to 0 in version 0.23, and it will be removed in 0.25. Use the min_impurity_decrease parameter instead.\n",
      "\n",
      "C:\\Users\\Qintess\\anaconda3\\envs\\projeto\\lib\\site-packages\\sklearn\\tree\\_classes.py:310: FutureWarning:\n",
      "\n",
      "The min_impurity_split parameter is deprecated. Its default value has changed from 1e-7 to 0 in version 0.23, and it will be removed in 0.25. Use the min_impurity_decrease parameter instead.\n",
      "\n",
      "C:\\Users\\Qintess\\anaconda3\\envs\\projeto\\lib\\site-packages\\sklearn\\tree\\_classes.py:310: FutureWarning:\n",
      "\n",
      "The min_impurity_split parameter is deprecated. Its default value has changed from 1e-7 to 0 in version 0.23, and it will be removed in 0.25. Use the min_impurity_decrease parameter instead.\n",
      "\n",
      "C:\\Users\\Qintess\\anaconda3\\envs\\projeto\\lib\\site-packages\\sklearn\\tree\\_classes.py:310: FutureWarning:\n",
      "\n",
      "The min_impurity_split parameter is deprecated. Its default value has changed from 1e-7 to 0 in version 0.23, and it will be removed in 0.25. Use the min_impurity_decrease parameter instead.\n",
      "\n",
      "C:\\Users\\Qintess\\anaconda3\\envs\\projeto\\lib\\site-packages\\sklearn\\tree\\_classes.py:310: FutureWarning:\n",
      "\n",
      "The min_impurity_split parameter is deprecated. Its default value has changed from 1e-7 to 0 in version 0.23, and it will be removed in 0.25. Use the min_impurity_decrease parameter instead.\n",
      "\n",
      "C:\\Users\\Qintess\\anaconda3\\envs\\projeto\\lib\\site-packages\\sklearn\\tree\\_classes.py:310: FutureWarning:\n",
      "\n",
      "The min_impurity_split parameter is deprecated. Its default value has changed from 1e-7 to 0 in version 0.23, and it will be removed in 0.25. Use the min_impurity_decrease parameter instead.\n",
      "\n",
      "C:\\Users\\Qintess\\anaconda3\\envs\\projeto\\lib\\site-packages\\sklearn\\tree\\_classes.py:310: FutureWarning:\n",
      "\n",
      "The min_impurity_split parameter is deprecated. Its default value has changed from 1e-7 to 0 in version 0.23, and it will be removed in 0.25. Use the min_impurity_decrease parameter instead.\n",
      "\n",
      "C:\\Users\\Qintess\\anaconda3\\envs\\projeto\\lib\\site-packages\\sklearn\\tree\\_classes.py:310: FutureWarning:\n",
      "\n",
      "The min_impurity_split parameter is deprecated. Its default value has changed from 1e-7 to 0 in version 0.23, and it will be removed in 0.25. Use the min_impurity_decrease parameter instead.\n",
      "\n",
      "C:\\Users\\Qintess\\anaconda3\\envs\\projeto\\lib\\site-packages\\sklearn\\tree\\_classes.py:310: FutureWarning:\n",
      "\n",
      "The min_impurity_split parameter is deprecated. Its default value has changed from 1e-7 to 0 in version 0.23, and it will be removed in 0.25. Use the min_impurity_decrease parameter instead.\n",
      "\n",
      "C:\\Users\\Qintess\\anaconda3\\envs\\projeto\\lib\\site-packages\\sklearn\\tree\\_classes.py:310: FutureWarning:\n",
      "\n",
      "The min_impurity_split parameter is deprecated. Its default value has changed from 1e-7 to 0 in version 0.23, and it will be removed in 0.25. Use the min_impurity_decrease parameter instead.\n",
      "\n",
      "C:\\Users\\Qintess\\anaconda3\\envs\\projeto\\lib\\site-packages\\sklearn\\tree\\_classes.py:310: FutureWarning:\n",
      "\n",
      "The min_impurity_split parameter is deprecated. Its default value has changed from 1e-7 to 0 in version 0.23, and it will be removed in 0.25. Use the min_impurity_decrease parameter instead.\n",
      "\n",
      "C:\\Users\\Qintess\\anaconda3\\envs\\projeto\\lib\\site-packages\\sklearn\\tree\\_classes.py:310: FutureWarning:\n",
      "\n",
      "The min_impurity_split parameter is deprecated. Its default value has changed from 1e-7 to 0 in version 0.23, and it will be removed in 0.25. Use the min_impurity_decrease parameter instead.\n",
      "\n",
      "C:\\Users\\Qintess\\anaconda3\\envs\\projeto\\lib\\site-packages\\sklearn\\tree\\_classes.py:310: FutureWarning:\n",
      "\n",
      "The min_impurity_split parameter is deprecated. Its default value has changed from 1e-7 to 0 in version 0.23, and it will be removed in 0.25. Use the min_impurity_decrease parameter instead.\n",
      "\n",
      "C:\\Users\\Qintess\\anaconda3\\envs\\projeto\\lib\\site-packages\\sklearn\\tree\\_classes.py:310: FutureWarning:\n",
      "\n",
      "The min_impurity_split parameter is deprecated. Its default value has changed from 1e-7 to 0 in version 0.23, and it will be removed in 0.25. Use the min_impurity_decrease parameter instead.\n",
      "\n",
      "C:\\Users\\Qintess\\anaconda3\\envs\\projeto\\lib\\site-packages\\sklearn\\tree\\_classes.py:310: FutureWarning:\n",
      "\n",
      "The min_impurity_split parameter is deprecated. Its default value has changed from 1e-7 to 0 in version 0.23, and it will be removed in 0.25. Use the min_impurity_decrease parameter instead.\n",
      "\n",
      "C:\\Users\\Qintess\\anaconda3\\envs\\projeto\\lib\\site-packages\\sklearn\\tree\\_classes.py:310: FutureWarning:\n",
      "\n",
      "The min_impurity_split parameter is deprecated. Its default value has changed from 1e-7 to 0 in version 0.23, and it will be removed in 0.25. Use the min_impurity_decrease parameter instead.\n",
      "\n",
      "C:\\Users\\Qintess\\anaconda3\\envs\\projeto\\lib\\site-packages\\sklearn\\tree\\_classes.py:310: FutureWarning:\n",
      "\n",
      "The min_impurity_split parameter is deprecated. Its default value has changed from 1e-7 to 0 in version 0.23, and it will be removed in 0.25. Use the min_impurity_decrease parameter instead.\n",
      "\n",
      "C:\\Users\\Qintess\\anaconda3\\envs\\projeto\\lib\\site-packages\\sklearn\\tree\\_classes.py:310: FutureWarning:\n",
      "\n",
      "The min_impurity_split parameter is deprecated. Its default value has changed from 1e-7 to 0 in version 0.23, and it will be removed in 0.25. Use the min_impurity_decrease parameter instead.\n",
      "\n",
      "C:\\Users\\Qintess\\anaconda3\\envs\\projeto\\lib\\site-packages\\sklearn\\tree\\_classes.py:310: FutureWarning:\n",
      "\n",
      "The min_impurity_split parameter is deprecated. Its default value has changed from 1e-7 to 0 in version 0.23, and it will be removed in 0.25. Use the min_impurity_decrease parameter instead.\n",
      "\n",
      "C:\\Users\\Qintess\\anaconda3\\envs\\projeto\\lib\\site-packages\\sklearn\\tree\\_classes.py:310: FutureWarning:\n",
      "\n",
      "The min_impurity_split parameter is deprecated. Its default value has changed from 1e-7 to 0 in version 0.23, and it will be removed in 0.25. Use the min_impurity_decrease parameter instead.\n",
      "\n",
      "C:\\Users\\Qintess\\anaconda3\\envs\\projeto\\lib\\site-packages\\sklearn\\tree\\_classes.py:310: FutureWarning:\n",
      "\n",
      "The min_impurity_split parameter is deprecated. Its default value has changed from 1e-7 to 0 in version 0.23, and it will be removed in 0.25. Use the min_impurity_decrease parameter instead.\n",
      "\n",
      "C:\\Users\\Qintess\\anaconda3\\envs\\projeto\\lib\\site-packages\\sklearn\\tree\\_classes.py:310: FutureWarning:\n",
      "\n",
      "The min_impurity_split parameter is deprecated. Its default value has changed from 1e-7 to 0 in version 0.23, and it will be removed in 0.25. Use the min_impurity_decrease parameter instead.\n",
      "\n",
      "C:\\Users\\Qintess\\anaconda3\\envs\\projeto\\lib\\site-packages\\sklearn\\tree\\_classes.py:310: FutureWarning:\n",
      "\n",
      "The min_impurity_split parameter is deprecated. Its default value has changed from 1e-7 to 0 in version 0.23, and it will be removed in 0.25. Use the min_impurity_decrease parameter instead.\n",
      "\n",
      "C:\\Users\\Qintess\\anaconda3\\envs\\projeto\\lib\\site-packages\\sklearn\\tree\\_classes.py:310: FutureWarning:\n",
      "\n",
      "The min_impurity_split parameter is deprecated. Its default value has changed from 1e-7 to 0 in version 0.23, and it will be removed in 0.25. Use the min_impurity_decrease parameter instead.\n",
      "\n",
      "C:\\Users\\Qintess\\anaconda3\\envs\\projeto\\lib\\site-packages\\sklearn\\tree\\_classes.py:310: FutureWarning:\n",
      "\n",
      "The min_impurity_split parameter is deprecated. Its default value has changed from 1e-7 to 0 in version 0.23, and it will be removed in 0.25. Use the min_impurity_decrease parameter instead.\n",
      "\n",
      "C:\\Users\\Qintess\\anaconda3\\envs\\projeto\\lib\\site-packages\\sklearn\\tree\\_classes.py:310: FutureWarning:\n",
      "\n",
      "The min_impurity_split parameter is deprecated. Its default value has changed from 1e-7 to 0 in version 0.23, and it will be removed in 0.25. Use the min_impurity_decrease parameter instead.\n",
      "\n",
      "C:\\Users\\Qintess\\anaconda3\\envs\\projeto\\lib\\site-packages\\sklearn\\tree\\_classes.py:310: FutureWarning:\n",
      "\n",
      "The min_impurity_split parameter is deprecated. Its default value has changed from 1e-7 to 0 in version 0.23, and it will be removed in 0.25. Use the min_impurity_decrease parameter instead.\n",
      "\n",
      "C:\\Users\\Qintess\\anaconda3\\envs\\projeto\\lib\\site-packages\\sklearn\\tree\\_classes.py:310: FutureWarning:\n",
      "\n",
      "The min_impurity_split parameter is deprecated. Its default value has changed from 1e-7 to 0 in version 0.23, and it will be removed in 0.25. Use the min_impurity_decrease parameter instead.\n",
      "\n",
      "C:\\Users\\Qintess\\anaconda3\\envs\\projeto\\lib\\site-packages\\sklearn\\tree\\_classes.py:310: FutureWarning:\n",
      "\n",
      "The min_impurity_split parameter is deprecated. Its default value has changed from 1e-7 to 0 in version 0.23, and it will be removed in 0.25. Use the min_impurity_decrease parameter instead.\n",
      "\n",
      "C:\\Users\\Qintess\\anaconda3\\envs\\projeto\\lib\\site-packages\\sklearn\\tree\\_classes.py:310: FutureWarning:\n",
      "\n",
      "The min_impurity_split parameter is deprecated. Its default value has changed from 1e-7 to 0 in version 0.23, and it will be removed in 0.25. Use the min_impurity_decrease parameter instead.\n",
      "\n"
     ]
    }
   ],
   "source": [
    "score_rd_train_vd = cross_val_score(\n",
    "    rf_best, x_train, y_train, cv=10, scoring='f1_micro')"
   ]
  },
  {
   "cell_type": "code",
   "execution_count": 1151,
   "id": "consolidated-sweet",
   "metadata": {},
   "outputs": [
    {
     "name": "stderr",
     "output_type": "stream",
     "text": [
      "C:\\Users\\Qintess\\anaconda3\\envs\\projeto\\lib\\site-packages\\sklearn\\tree\\_classes.py:310: FutureWarning:\n",
      "\n",
      "The min_impurity_split parameter is deprecated. Its default value has changed from 1e-7 to 0 in version 0.23, and it will be removed in 0.25. Use the min_impurity_decrease parameter instead.\n",
      "\n",
      "C:\\Users\\Qintess\\anaconda3\\envs\\projeto\\lib\\site-packages\\sklearn\\tree\\_classes.py:310: FutureWarning:\n",
      "\n",
      "The min_impurity_split parameter is deprecated. Its default value has changed from 1e-7 to 0 in version 0.23, and it will be removed in 0.25. Use the min_impurity_decrease parameter instead.\n",
      "\n",
      "C:\\Users\\Qintess\\anaconda3\\envs\\projeto\\lib\\site-packages\\sklearn\\tree\\_classes.py:310: FutureWarning:\n",
      "\n",
      "The min_impurity_split parameter is deprecated. Its default value has changed from 1e-7 to 0 in version 0.23, and it will be removed in 0.25. Use the min_impurity_decrease parameter instead.\n",
      "\n",
      "C:\\Users\\Qintess\\anaconda3\\envs\\projeto\\lib\\site-packages\\sklearn\\tree\\_classes.py:310: FutureWarning:\n",
      "\n",
      "The min_impurity_split parameter is deprecated. Its default value has changed from 1e-7 to 0 in version 0.23, and it will be removed in 0.25. Use the min_impurity_decrease parameter instead.\n",
      "\n",
      "C:\\Users\\Qintess\\anaconda3\\envs\\projeto\\lib\\site-packages\\sklearn\\tree\\_classes.py:310: FutureWarning:\n",
      "\n",
      "The min_impurity_split parameter is deprecated. Its default value has changed from 1e-7 to 0 in version 0.23, and it will be removed in 0.25. Use the min_impurity_decrease parameter instead.\n",
      "\n",
      "C:\\Users\\Qintess\\anaconda3\\envs\\projeto\\lib\\site-packages\\sklearn\\tree\\_classes.py:310: FutureWarning:\n",
      "\n",
      "The min_impurity_split parameter is deprecated. Its default value has changed from 1e-7 to 0 in version 0.23, and it will be removed in 0.25. Use the min_impurity_decrease parameter instead.\n",
      "\n",
      "C:\\Users\\Qintess\\anaconda3\\envs\\projeto\\lib\\site-packages\\sklearn\\tree\\_classes.py:310: FutureWarning:\n",
      "\n",
      "The min_impurity_split parameter is deprecated. Its default value has changed from 1e-7 to 0 in version 0.23, and it will be removed in 0.25. Use the min_impurity_decrease parameter instead.\n",
      "\n",
      "C:\\Users\\Qintess\\anaconda3\\envs\\projeto\\lib\\site-packages\\sklearn\\tree\\_classes.py:310: FutureWarning:\n",
      "\n",
      "The min_impurity_split parameter is deprecated. Its default value has changed from 1e-7 to 0 in version 0.23, and it will be removed in 0.25. Use the min_impurity_decrease parameter instead.\n",
      "\n",
      "C:\\Users\\Qintess\\anaconda3\\envs\\projeto\\lib\\site-packages\\sklearn\\tree\\_classes.py:310: FutureWarning:\n",
      "\n",
      "The min_impurity_split parameter is deprecated. Its default value has changed from 1e-7 to 0 in version 0.23, and it will be removed in 0.25. Use the min_impurity_decrease parameter instead.\n",
      "\n",
      "C:\\Users\\Qintess\\anaconda3\\envs\\projeto\\lib\\site-packages\\sklearn\\tree\\_classes.py:310: FutureWarning:\n",
      "\n",
      "The min_impurity_split parameter is deprecated. Its default value has changed from 1e-7 to 0 in version 0.23, and it will be removed in 0.25. Use the min_impurity_decrease parameter instead.\n",
      "\n",
      "C:\\Users\\Qintess\\anaconda3\\envs\\projeto\\lib\\site-packages\\sklearn\\tree\\_classes.py:310: FutureWarning:\n",
      "\n",
      "The min_impurity_split parameter is deprecated. Its default value has changed from 1e-7 to 0 in version 0.23, and it will be removed in 0.25. Use the min_impurity_decrease parameter instead.\n",
      "\n",
      "C:\\Users\\Qintess\\anaconda3\\envs\\projeto\\lib\\site-packages\\sklearn\\tree\\_classes.py:310: FutureWarning:\n",
      "\n",
      "The min_impurity_split parameter is deprecated. Its default value has changed from 1e-7 to 0 in version 0.23, and it will be removed in 0.25. Use the min_impurity_decrease parameter instead.\n",
      "\n",
      "C:\\Users\\Qintess\\anaconda3\\envs\\projeto\\lib\\site-packages\\sklearn\\tree\\_classes.py:310: FutureWarning:\n",
      "\n",
      "The min_impurity_split parameter is deprecated. Its default value has changed from 1e-7 to 0 in version 0.23, and it will be removed in 0.25. Use the min_impurity_decrease parameter instead.\n",
      "\n",
      "C:\\Users\\Qintess\\anaconda3\\envs\\projeto\\lib\\site-packages\\sklearn\\tree\\_classes.py:310: FutureWarning:\n",
      "\n",
      "The min_impurity_split parameter is deprecated. Its default value has changed from 1e-7 to 0 in version 0.23, and it will be removed in 0.25. Use the min_impurity_decrease parameter instead.\n",
      "\n",
      "C:\\Users\\Qintess\\anaconda3\\envs\\projeto\\lib\\site-packages\\sklearn\\tree\\_classes.py:310: FutureWarning:\n",
      "\n",
      "The min_impurity_split parameter is deprecated. Its default value has changed from 1e-7 to 0 in version 0.23, and it will be removed in 0.25. Use the min_impurity_decrease parameter instead.\n",
      "\n",
      "C:\\Users\\Qintess\\anaconda3\\envs\\projeto\\lib\\site-packages\\sklearn\\tree\\_classes.py:310: FutureWarning:\n",
      "\n",
      "The min_impurity_split parameter is deprecated. Its default value has changed from 1e-7 to 0 in version 0.23, and it will be removed in 0.25. Use the min_impurity_decrease parameter instead.\n",
      "\n",
      "C:\\Users\\Qintess\\anaconda3\\envs\\projeto\\lib\\site-packages\\sklearn\\tree\\_classes.py:310: FutureWarning:\n",
      "\n",
      "The min_impurity_split parameter is deprecated. Its default value has changed from 1e-7 to 0 in version 0.23, and it will be removed in 0.25. Use the min_impurity_decrease parameter instead.\n",
      "\n",
      "C:\\Users\\Qintess\\anaconda3\\envs\\projeto\\lib\\site-packages\\sklearn\\tree\\_classes.py:310: FutureWarning:\n",
      "\n",
      "The min_impurity_split parameter is deprecated. Its default value has changed from 1e-7 to 0 in version 0.23, and it will be removed in 0.25. Use the min_impurity_decrease parameter instead.\n",
      "\n",
      "C:\\Users\\Qintess\\anaconda3\\envs\\projeto\\lib\\site-packages\\sklearn\\tree\\_classes.py:310: FutureWarning:\n",
      "\n",
      "The min_impurity_split parameter is deprecated. Its default value has changed from 1e-7 to 0 in version 0.23, and it will be removed in 0.25. Use the min_impurity_decrease parameter instead.\n",
      "\n",
      "C:\\Users\\Qintess\\anaconda3\\envs\\projeto\\lib\\site-packages\\sklearn\\tree\\_classes.py:310: FutureWarning:\n",
      "\n",
      "The min_impurity_split parameter is deprecated. Its default value has changed from 1e-7 to 0 in version 0.23, and it will be removed in 0.25. Use the min_impurity_decrease parameter instead.\n",
      "\n",
      "C:\\Users\\Qintess\\anaconda3\\envs\\projeto\\lib\\site-packages\\sklearn\\tree\\_classes.py:310: FutureWarning:\n",
      "\n",
      "The min_impurity_split parameter is deprecated. Its default value has changed from 1e-7 to 0 in version 0.23, and it will be removed in 0.25. Use the min_impurity_decrease parameter instead.\n",
      "\n",
      "C:\\Users\\Qintess\\anaconda3\\envs\\projeto\\lib\\site-packages\\sklearn\\tree\\_classes.py:310: FutureWarning:\n",
      "\n",
      "The min_impurity_split parameter is deprecated. Its default value has changed from 1e-7 to 0 in version 0.23, and it will be removed in 0.25. Use the min_impurity_decrease parameter instead.\n",
      "\n",
      "C:\\Users\\Qintess\\anaconda3\\envs\\projeto\\lib\\site-packages\\sklearn\\tree\\_classes.py:310: FutureWarning:\n",
      "\n",
      "The min_impurity_split parameter is deprecated. Its default value has changed from 1e-7 to 0 in version 0.23, and it will be removed in 0.25. Use the min_impurity_decrease parameter instead.\n",
      "\n",
      "C:\\Users\\Qintess\\anaconda3\\envs\\projeto\\lib\\site-packages\\sklearn\\tree\\_classes.py:310: FutureWarning:\n",
      "\n",
      "The min_impurity_split parameter is deprecated. Its default value has changed from 1e-7 to 0 in version 0.23, and it will be removed in 0.25. Use the min_impurity_decrease parameter instead.\n",
      "\n",
      "C:\\Users\\Qintess\\anaconda3\\envs\\projeto\\lib\\site-packages\\sklearn\\tree\\_classes.py:310: FutureWarning:\n",
      "\n",
      "The min_impurity_split parameter is deprecated. Its default value has changed from 1e-7 to 0 in version 0.23, and it will be removed in 0.25. Use the min_impurity_decrease parameter instead.\n",
      "\n",
      "C:\\Users\\Qintess\\anaconda3\\envs\\projeto\\lib\\site-packages\\sklearn\\tree\\_classes.py:310: FutureWarning:\n",
      "\n",
      "The min_impurity_split parameter is deprecated. Its default value has changed from 1e-7 to 0 in version 0.23, and it will be removed in 0.25. Use the min_impurity_decrease parameter instead.\n",
      "\n",
      "C:\\Users\\Qintess\\anaconda3\\envs\\projeto\\lib\\site-packages\\sklearn\\tree\\_classes.py:310: FutureWarning:\n",
      "\n",
      "The min_impurity_split parameter is deprecated. Its default value has changed from 1e-7 to 0 in version 0.23, and it will be removed in 0.25. Use the min_impurity_decrease parameter instead.\n",
      "\n",
      "C:\\Users\\Qintess\\anaconda3\\envs\\projeto\\lib\\site-packages\\sklearn\\tree\\_classes.py:310: FutureWarning:\n",
      "\n",
      "The min_impurity_split parameter is deprecated. Its default value has changed from 1e-7 to 0 in version 0.23, and it will be removed in 0.25. Use the min_impurity_decrease parameter instead.\n",
      "\n",
      "C:\\Users\\Qintess\\anaconda3\\envs\\projeto\\lib\\site-packages\\sklearn\\tree\\_classes.py:310: FutureWarning:\n",
      "\n",
      "The min_impurity_split parameter is deprecated. Its default value has changed from 1e-7 to 0 in version 0.23, and it will be removed in 0.25. Use the min_impurity_decrease parameter instead.\n",
      "\n",
      "C:\\Users\\Qintess\\anaconda3\\envs\\projeto\\lib\\site-packages\\sklearn\\tree\\_classes.py:310: FutureWarning:\n",
      "\n",
      "The min_impurity_split parameter is deprecated. Its default value has changed from 1e-7 to 0 in version 0.23, and it will be removed in 0.25. Use the min_impurity_decrease parameter instead.\n",
      "\n",
      "C:\\Users\\Qintess\\anaconda3\\envs\\projeto\\lib\\site-packages\\sklearn\\tree\\_classes.py:310: FutureWarning:\n",
      "\n",
      "The min_impurity_split parameter is deprecated. Its default value has changed from 1e-7 to 0 in version 0.23, and it will be removed in 0.25. Use the min_impurity_decrease parameter instead.\n",
      "\n",
      "C:\\Users\\Qintess\\anaconda3\\envs\\projeto\\lib\\site-packages\\sklearn\\tree\\_classes.py:310: FutureWarning:\n",
      "\n",
      "The min_impurity_split parameter is deprecated. Its default value has changed from 1e-7 to 0 in version 0.23, and it will be removed in 0.25. Use the min_impurity_decrease parameter instead.\n",
      "\n",
      "C:\\Users\\Qintess\\anaconda3\\envs\\projeto\\lib\\site-packages\\sklearn\\tree\\_classes.py:310: FutureWarning:\n",
      "\n",
      "The min_impurity_split parameter is deprecated. Its default value has changed from 1e-7 to 0 in version 0.23, and it will be removed in 0.25. Use the min_impurity_decrease parameter instead.\n",
      "\n",
      "C:\\Users\\Qintess\\anaconda3\\envs\\projeto\\lib\\site-packages\\sklearn\\tree\\_classes.py:310: FutureWarning:\n",
      "\n",
      "The min_impurity_split parameter is deprecated. Its default value has changed from 1e-7 to 0 in version 0.23, and it will be removed in 0.25. Use the min_impurity_decrease parameter instead.\n",
      "\n",
      "C:\\Users\\Qintess\\anaconda3\\envs\\projeto\\lib\\site-packages\\sklearn\\tree\\_classes.py:310: FutureWarning:\n",
      "\n",
      "The min_impurity_split parameter is deprecated. Its default value has changed from 1e-7 to 0 in version 0.23, and it will be removed in 0.25. Use the min_impurity_decrease parameter instead.\n",
      "\n",
      "C:\\Users\\Qintess\\anaconda3\\envs\\projeto\\lib\\site-packages\\sklearn\\tree\\_classes.py:310: FutureWarning:\n",
      "\n",
      "The min_impurity_split parameter is deprecated. Its default value has changed from 1e-7 to 0 in version 0.23, and it will be removed in 0.25. Use the min_impurity_decrease parameter instead.\n",
      "\n",
      "C:\\Users\\Qintess\\anaconda3\\envs\\projeto\\lib\\site-packages\\sklearn\\tree\\_classes.py:310: FutureWarning:\n",
      "\n",
      "The min_impurity_split parameter is deprecated. Its default value has changed from 1e-7 to 0 in version 0.23, and it will be removed in 0.25. Use the min_impurity_decrease parameter instead.\n",
      "\n",
      "C:\\Users\\Qintess\\anaconda3\\envs\\projeto\\lib\\site-packages\\sklearn\\tree\\_classes.py:310: FutureWarning:\n",
      "\n",
      "The min_impurity_split parameter is deprecated. Its default value has changed from 1e-7 to 0 in version 0.23, and it will be removed in 0.25. Use the min_impurity_decrease parameter instead.\n",
      "\n",
      "C:\\Users\\Qintess\\anaconda3\\envs\\projeto\\lib\\site-packages\\sklearn\\tree\\_classes.py:310: FutureWarning:\n",
      "\n",
      "The min_impurity_split parameter is deprecated. Its default value has changed from 1e-7 to 0 in version 0.23, and it will be removed in 0.25. Use the min_impurity_decrease parameter instead.\n",
      "\n",
      "C:\\Users\\Qintess\\anaconda3\\envs\\projeto\\lib\\site-packages\\sklearn\\tree\\_classes.py:310: FutureWarning:\n",
      "\n",
      "The min_impurity_split parameter is deprecated. Its default value has changed from 1e-7 to 0 in version 0.23, and it will be removed in 0.25. Use the min_impurity_decrease parameter instead.\n",
      "\n",
      "C:\\Users\\Qintess\\anaconda3\\envs\\projeto\\lib\\site-packages\\sklearn\\tree\\_classes.py:310: FutureWarning:\n",
      "\n",
      "The min_impurity_split parameter is deprecated. Its default value has changed from 1e-7 to 0 in version 0.23, and it will be removed in 0.25. Use the min_impurity_decrease parameter instead.\n",
      "\n",
      "C:\\Users\\Qintess\\anaconda3\\envs\\projeto\\lib\\site-packages\\sklearn\\tree\\_classes.py:310: FutureWarning:\n",
      "\n",
      "The min_impurity_split parameter is deprecated. Its default value has changed from 1e-7 to 0 in version 0.23, and it will be removed in 0.25. Use the min_impurity_decrease parameter instead.\n",
      "\n",
      "C:\\Users\\Qintess\\anaconda3\\envs\\projeto\\lib\\site-packages\\sklearn\\tree\\_classes.py:310: FutureWarning:\n",
      "\n",
      "The min_impurity_split parameter is deprecated. Its default value has changed from 1e-7 to 0 in version 0.23, and it will be removed in 0.25. Use the min_impurity_decrease parameter instead.\n",
      "\n",
      "C:\\Users\\Qintess\\anaconda3\\envs\\projeto\\lib\\site-packages\\sklearn\\tree\\_classes.py:310: FutureWarning:\n",
      "\n",
      "The min_impurity_split parameter is deprecated. Its default value has changed from 1e-7 to 0 in version 0.23, and it will be removed in 0.25. Use the min_impurity_decrease parameter instead.\n",
      "\n",
      "C:\\Users\\Qintess\\anaconda3\\envs\\projeto\\lib\\site-packages\\sklearn\\tree\\_classes.py:310: FutureWarning:\n",
      "\n",
      "The min_impurity_split parameter is deprecated. Its default value has changed from 1e-7 to 0 in version 0.23, and it will be removed in 0.25. Use the min_impurity_decrease parameter instead.\n",
      "\n",
      "C:\\Users\\Qintess\\anaconda3\\envs\\projeto\\lib\\site-packages\\sklearn\\tree\\_classes.py:310: FutureWarning:\n",
      "\n",
      "The min_impurity_split parameter is deprecated. Its default value has changed from 1e-7 to 0 in version 0.23, and it will be removed in 0.25. Use the min_impurity_decrease parameter instead.\n",
      "\n",
      "C:\\Users\\Qintess\\anaconda3\\envs\\projeto\\lib\\site-packages\\sklearn\\tree\\_classes.py:310: FutureWarning:\n",
      "\n",
      "The min_impurity_split parameter is deprecated. Its default value has changed from 1e-7 to 0 in version 0.23, and it will be removed in 0.25. Use the min_impurity_decrease parameter instead.\n",
      "\n",
      "C:\\Users\\Qintess\\anaconda3\\envs\\projeto\\lib\\site-packages\\sklearn\\tree\\_classes.py:310: FutureWarning:\n",
      "\n",
      "The min_impurity_split parameter is deprecated. Its default value has changed from 1e-7 to 0 in version 0.23, and it will be removed in 0.25. Use the min_impurity_decrease parameter instead.\n",
      "\n",
      "C:\\Users\\Qintess\\anaconda3\\envs\\projeto\\lib\\site-packages\\sklearn\\tree\\_classes.py:310: FutureWarning:\n",
      "\n",
      "The min_impurity_split parameter is deprecated. Its default value has changed from 1e-7 to 0 in version 0.23, and it will be removed in 0.25. Use the min_impurity_decrease parameter instead.\n",
      "\n",
      "C:\\Users\\Qintess\\anaconda3\\envs\\projeto\\lib\\site-packages\\sklearn\\tree\\_classes.py:310: FutureWarning:\n",
      "\n",
      "The min_impurity_split parameter is deprecated. Its default value has changed from 1e-7 to 0 in version 0.23, and it will be removed in 0.25. Use the min_impurity_decrease parameter instead.\n",
      "\n",
      "C:\\Users\\Qintess\\anaconda3\\envs\\projeto\\lib\\site-packages\\sklearn\\tree\\_classes.py:310: FutureWarning:\n",
      "\n",
      "The min_impurity_split parameter is deprecated. Its default value has changed from 1e-7 to 0 in version 0.23, and it will be removed in 0.25. Use the min_impurity_decrease parameter instead.\n",
      "\n",
      "C:\\Users\\Qintess\\anaconda3\\envs\\projeto\\lib\\site-packages\\sklearn\\tree\\_classes.py:310: FutureWarning:\n",
      "\n",
      "The min_impurity_split parameter is deprecated. Its default value has changed from 1e-7 to 0 in version 0.23, and it will be removed in 0.25. Use the min_impurity_decrease parameter instead.\n",
      "\n",
      "C:\\Users\\Qintess\\anaconda3\\envs\\projeto\\lib\\site-packages\\sklearn\\tree\\_classes.py:310: FutureWarning:\n",
      "\n",
      "The min_impurity_split parameter is deprecated. Its default value has changed from 1e-7 to 0 in version 0.23, and it will be removed in 0.25. Use the min_impurity_decrease parameter instead.\n",
      "\n",
      "C:\\Users\\Qintess\\anaconda3\\envs\\projeto\\lib\\site-packages\\sklearn\\tree\\_classes.py:310: FutureWarning:\n",
      "\n",
      "The min_impurity_split parameter is deprecated. Its default value has changed from 1e-7 to 0 in version 0.23, and it will be removed in 0.25. Use the min_impurity_decrease parameter instead.\n",
      "\n",
      "C:\\Users\\Qintess\\anaconda3\\envs\\projeto\\lib\\site-packages\\sklearn\\tree\\_classes.py:310: FutureWarning:\n",
      "\n",
      "The min_impurity_split parameter is deprecated. Its default value has changed from 1e-7 to 0 in version 0.23, and it will be removed in 0.25. Use the min_impurity_decrease parameter instead.\n",
      "\n",
      "C:\\Users\\Qintess\\anaconda3\\envs\\projeto\\lib\\site-packages\\sklearn\\tree\\_classes.py:310: FutureWarning:\n",
      "\n",
      "The min_impurity_split parameter is deprecated. Its default value has changed from 1e-7 to 0 in version 0.23, and it will be removed in 0.25. Use the min_impurity_decrease parameter instead.\n",
      "\n",
      "C:\\Users\\Qintess\\anaconda3\\envs\\projeto\\lib\\site-packages\\sklearn\\tree\\_classes.py:310: FutureWarning:\n",
      "\n",
      "The min_impurity_split parameter is deprecated. Its default value has changed from 1e-7 to 0 in version 0.23, and it will be removed in 0.25. Use the min_impurity_decrease parameter instead.\n",
      "\n",
      "C:\\Users\\Qintess\\anaconda3\\envs\\projeto\\lib\\site-packages\\sklearn\\tree\\_classes.py:310: FutureWarning:\n",
      "\n",
      "The min_impurity_split parameter is deprecated. Its default value has changed from 1e-7 to 0 in version 0.23, and it will be removed in 0.25. Use the min_impurity_decrease parameter instead.\n",
      "\n",
      "C:\\Users\\Qintess\\anaconda3\\envs\\projeto\\lib\\site-packages\\sklearn\\tree\\_classes.py:310: FutureWarning:\n",
      "\n",
      "The min_impurity_split parameter is deprecated. Its default value has changed from 1e-7 to 0 in version 0.23, and it will be removed in 0.25. Use the min_impurity_decrease parameter instead.\n",
      "\n",
      "C:\\Users\\Qintess\\anaconda3\\envs\\projeto\\lib\\site-packages\\sklearn\\tree\\_classes.py:310: FutureWarning:\n",
      "\n",
      "The min_impurity_split parameter is deprecated. Its default value has changed from 1e-7 to 0 in version 0.23, and it will be removed in 0.25. Use the min_impurity_decrease parameter instead.\n",
      "\n",
      "C:\\Users\\Qintess\\anaconda3\\envs\\projeto\\lib\\site-packages\\sklearn\\tree\\_classes.py:310: FutureWarning:\n",
      "\n",
      "The min_impurity_split parameter is deprecated. Its default value has changed from 1e-7 to 0 in version 0.23, and it will be removed in 0.25. Use the min_impurity_decrease parameter instead.\n",
      "\n",
      "C:\\Users\\Qintess\\anaconda3\\envs\\projeto\\lib\\site-packages\\sklearn\\tree\\_classes.py:310: FutureWarning:\n",
      "\n",
      "The min_impurity_split parameter is deprecated. Its default value has changed from 1e-7 to 0 in version 0.23, and it will be removed in 0.25. Use the min_impurity_decrease parameter instead.\n",
      "\n",
      "C:\\Users\\Qintess\\anaconda3\\envs\\projeto\\lib\\site-packages\\sklearn\\tree\\_classes.py:310: FutureWarning:\n",
      "\n",
      "The min_impurity_split parameter is deprecated. Its default value has changed from 1e-7 to 0 in version 0.23, and it will be removed in 0.25. Use the min_impurity_decrease parameter instead.\n",
      "\n",
      "C:\\Users\\Qintess\\anaconda3\\envs\\projeto\\lib\\site-packages\\sklearn\\tree\\_classes.py:310: FutureWarning:\n",
      "\n",
      "The min_impurity_split parameter is deprecated. Its default value has changed from 1e-7 to 0 in version 0.23, and it will be removed in 0.25. Use the min_impurity_decrease parameter instead.\n",
      "\n",
      "C:\\Users\\Qintess\\anaconda3\\envs\\projeto\\lib\\site-packages\\sklearn\\tree\\_classes.py:310: FutureWarning:\n",
      "\n",
      "The min_impurity_split parameter is deprecated. Its default value has changed from 1e-7 to 0 in version 0.23, and it will be removed in 0.25. Use the min_impurity_decrease parameter instead.\n",
      "\n",
      "C:\\Users\\Qintess\\anaconda3\\envs\\projeto\\lib\\site-packages\\sklearn\\tree\\_classes.py:310: FutureWarning:\n",
      "\n",
      "The min_impurity_split parameter is deprecated. Its default value has changed from 1e-7 to 0 in version 0.23, and it will be removed in 0.25. Use the min_impurity_decrease parameter instead.\n",
      "\n",
      "C:\\Users\\Qintess\\anaconda3\\envs\\projeto\\lib\\site-packages\\sklearn\\tree\\_classes.py:310: FutureWarning:\n",
      "\n",
      "The min_impurity_split parameter is deprecated. Its default value has changed from 1e-7 to 0 in version 0.23, and it will be removed in 0.25. Use the min_impurity_decrease parameter instead.\n",
      "\n",
      "C:\\Users\\Qintess\\anaconda3\\envs\\projeto\\lib\\site-packages\\sklearn\\tree\\_classes.py:310: FutureWarning:\n",
      "\n",
      "The min_impurity_split parameter is deprecated. Its default value has changed from 1e-7 to 0 in version 0.23, and it will be removed in 0.25. Use the min_impurity_decrease parameter instead.\n",
      "\n",
      "C:\\Users\\Qintess\\anaconda3\\envs\\projeto\\lib\\site-packages\\sklearn\\tree\\_classes.py:310: FutureWarning:\n",
      "\n",
      "The min_impurity_split parameter is deprecated. Its default value has changed from 1e-7 to 0 in version 0.23, and it will be removed in 0.25. Use the min_impurity_decrease parameter instead.\n",
      "\n",
      "C:\\Users\\Qintess\\anaconda3\\envs\\projeto\\lib\\site-packages\\sklearn\\tree\\_classes.py:310: FutureWarning:\n",
      "\n",
      "The min_impurity_split parameter is deprecated. Its default value has changed from 1e-7 to 0 in version 0.23, and it will be removed in 0.25. Use the min_impurity_decrease parameter instead.\n",
      "\n",
      "C:\\Users\\Qintess\\anaconda3\\envs\\projeto\\lib\\site-packages\\sklearn\\tree\\_classes.py:310: FutureWarning:\n",
      "\n",
      "The min_impurity_split parameter is deprecated. Its default value has changed from 1e-7 to 0 in version 0.23, and it will be removed in 0.25. Use the min_impurity_decrease parameter instead.\n",
      "\n",
      "C:\\Users\\Qintess\\anaconda3\\envs\\projeto\\lib\\site-packages\\sklearn\\tree\\_classes.py:310: FutureWarning:\n",
      "\n",
      "The min_impurity_split parameter is deprecated. Its default value has changed from 1e-7 to 0 in version 0.23, and it will be removed in 0.25. Use the min_impurity_decrease parameter instead.\n",
      "\n",
      "C:\\Users\\Qintess\\anaconda3\\envs\\projeto\\lib\\site-packages\\sklearn\\tree\\_classes.py:310: FutureWarning:\n",
      "\n",
      "The min_impurity_split parameter is deprecated. Its default value has changed from 1e-7 to 0 in version 0.23, and it will be removed in 0.25. Use the min_impurity_decrease parameter instead.\n",
      "\n",
      "C:\\Users\\Qintess\\anaconda3\\envs\\projeto\\lib\\site-packages\\sklearn\\tree\\_classes.py:310: FutureWarning:\n",
      "\n",
      "The min_impurity_split parameter is deprecated. Its default value has changed from 1e-7 to 0 in version 0.23, and it will be removed in 0.25. Use the min_impurity_decrease parameter instead.\n",
      "\n",
      "C:\\Users\\Qintess\\anaconda3\\envs\\projeto\\lib\\site-packages\\sklearn\\tree\\_classes.py:310: FutureWarning:\n",
      "\n",
      "The min_impurity_split parameter is deprecated. Its default value has changed from 1e-7 to 0 in version 0.23, and it will be removed in 0.25. Use the min_impurity_decrease parameter instead.\n",
      "\n",
      "C:\\Users\\Qintess\\anaconda3\\envs\\projeto\\lib\\site-packages\\sklearn\\tree\\_classes.py:310: FutureWarning:\n",
      "\n",
      "The min_impurity_split parameter is deprecated. Its default value has changed from 1e-7 to 0 in version 0.23, and it will be removed in 0.25. Use the min_impurity_decrease parameter instead.\n",
      "\n",
      "C:\\Users\\Qintess\\anaconda3\\envs\\projeto\\lib\\site-packages\\sklearn\\tree\\_classes.py:310: FutureWarning:\n",
      "\n",
      "The min_impurity_split parameter is deprecated. Its default value has changed from 1e-7 to 0 in version 0.23, and it will be removed in 0.25. Use the min_impurity_decrease parameter instead.\n",
      "\n",
      "C:\\Users\\Qintess\\anaconda3\\envs\\projeto\\lib\\site-packages\\sklearn\\tree\\_classes.py:310: FutureWarning:\n",
      "\n",
      "The min_impurity_split parameter is deprecated. Its default value has changed from 1e-7 to 0 in version 0.23, and it will be removed in 0.25. Use the min_impurity_decrease parameter instead.\n",
      "\n",
      "C:\\Users\\Qintess\\anaconda3\\envs\\projeto\\lib\\site-packages\\sklearn\\tree\\_classes.py:310: FutureWarning:\n",
      "\n",
      "The min_impurity_split parameter is deprecated. Its default value has changed from 1e-7 to 0 in version 0.23, and it will be removed in 0.25. Use the min_impurity_decrease parameter instead.\n",
      "\n",
      "C:\\Users\\Qintess\\anaconda3\\envs\\projeto\\lib\\site-packages\\sklearn\\tree\\_classes.py:310: FutureWarning:\n",
      "\n",
      "The min_impurity_split parameter is deprecated. Its default value has changed from 1e-7 to 0 in version 0.23, and it will be removed in 0.25. Use the min_impurity_decrease parameter instead.\n",
      "\n",
      "C:\\Users\\Qintess\\anaconda3\\envs\\projeto\\lib\\site-packages\\sklearn\\tree\\_classes.py:310: FutureWarning:\n",
      "\n",
      "The min_impurity_split parameter is deprecated. Its default value has changed from 1e-7 to 0 in version 0.23, and it will be removed in 0.25. Use the min_impurity_decrease parameter instead.\n",
      "\n",
      "C:\\Users\\Qintess\\anaconda3\\envs\\projeto\\lib\\site-packages\\sklearn\\tree\\_classes.py:310: FutureWarning:\n",
      "\n",
      "The min_impurity_split parameter is deprecated. Its default value has changed from 1e-7 to 0 in version 0.23, and it will be removed in 0.25. Use the min_impurity_decrease parameter instead.\n",
      "\n",
      "C:\\Users\\Qintess\\anaconda3\\envs\\projeto\\lib\\site-packages\\sklearn\\tree\\_classes.py:310: FutureWarning:\n",
      "\n",
      "The min_impurity_split parameter is deprecated. Its default value has changed from 1e-7 to 0 in version 0.23, and it will be removed in 0.25. Use the min_impurity_decrease parameter instead.\n",
      "\n",
      "C:\\Users\\Qintess\\anaconda3\\envs\\projeto\\lib\\site-packages\\sklearn\\tree\\_classes.py:310: FutureWarning:\n",
      "\n",
      "The min_impurity_split parameter is deprecated. Its default value has changed from 1e-7 to 0 in version 0.23, and it will be removed in 0.25. Use the min_impurity_decrease parameter instead.\n",
      "\n",
      "C:\\Users\\Qintess\\anaconda3\\envs\\projeto\\lib\\site-packages\\sklearn\\tree\\_classes.py:310: FutureWarning:\n",
      "\n",
      "The min_impurity_split parameter is deprecated. Its default value has changed from 1e-7 to 0 in version 0.23, and it will be removed in 0.25. Use the min_impurity_decrease parameter instead.\n",
      "\n",
      "C:\\Users\\Qintess\\anaconda3\\envs\\projeto\\lib\\site-packages\\sklearn\\tree\\_classes.py:310: FutureWarning:\n",
      "\n",
      "The min_impurity_split parameter is deprecated. Its default value has changed from 1e-7 to 0 in version 0.23, and it will be removed in 0.25. Use the min_impurity_decrease parameter instead.\n",
      "\n",
      "C:\\Users\\Qintess\\anaconda3\\envs\\projeto\\lib\\site-packages\\sklearn\\tree\\_classes.py:310: FutureWarning:\n",
      "\n",
      "The min_impurity_split parameter is deprecated. Its default value has changed from 1e-7 to 0 in version 0.23, and it will be removed in 0.25. Use the min_impurity_decrease parameter instead.\n",
      "\n",
      "C:\\Users\\Qintess\\anaconda3\\envs\\projeto\\lib\\site-packages\\sklearn\\tree\\_classes.py:310: FutureWarning:\n",
      "\n",
      "The min_impurity_split parameter is deprecated. Its default value has changed from 1e-7 to 0 in version 0.23, and it will be removed in 0.25. Use the min_impurity_decrease parameter instead.\n",
      "\n",
      "C:\\Users\\Qintess\\anaconda3\\envs\\projeto\\lib\\site-packages\\sklearn\\tree\\_classes.py:310: FutureWarning:\n",
      "\n",
      "The min_impurity_split parameter is deprecated. Its default value has changed from 1e-7 to 0 in version 0.23, and it will be removed in 0.25. Use the min_impurity_decrease parameter instead.\n",
      "\n",
      "C:\\Users\\Qintess\\anaconda3\\envs\\projeto\\lib\\site-packages\\sklearn\\tree\\_classes.py:310: FutureWarning:\n",
      "\n",
      "The min_impurity_split parameter is deprecated. Its default value has changed from 1e-7 to 0 in version 0.23, and it will be removed in 0.25. Use the min_impurity_decrease parameter instead.\n",
      "\n",
      "C:\\Users\\Qintess\\anaconda3\\envs\\projeto\\lib\\site-packages\\sklearn\\tree\\_classes.py:310: FutureWarning:\n",
      "\n",
      "The min_impurity_split parameter is deprecated. Its default value has changed from 1e-7 to 0 in version 0.23, and it will be removed in 0.25. Use the min_impurity_decrease parameter instead.\n",
      "\n",
      "C:\\Users\\Qintess\\anaconda3\\envs\\projeto\\lib\\site-packages\\sklearn\\tree\\_classes.py:310: FutureWarning:\n",
      "\n",
      "The min_impurity_split parameter is deprecated. Its default value has changed from 1e-7 to 0 in version 0.23, and it will be removed in 0.25. Use the min_impurity_decrease parameter instead.\n",
      "\n",
      "C:\\Users\\Qintess\\anaconda3\\envs\\projeto\\lib\\site-packages\\sklearn\\tree\\_classes.py:310: FutureWarning:\n",
      "\n",
      "The min_impurity_split parameter is deprecated. Its default value has changed from 1e-7 to 0 in version 0.23, and it will be removed in 0.25. Use the min_impurity_decrease parameter instead.\n",
      "\n",
      "C:\\Users\\Qintess\\anaconda3\\envs\\projeto\\lib\\site-packages\\sklearn\\tree\\_classes.py:310: FutureWarning:\n",
      "\n",
      "The min_impurity_split parameter is deprecated. Its default value has changed from 1e-7 to 0 in version 0.23, and it will be removed in 0.25. Use the min_impurity_decrease parameter instead.\n",
      "\n",
      "C:\\Users\\Qintess\\anaconda3\\envs\\projeto\\lib\\site-packages\\sklearn\\tree\\_classes.py:310: FutureWarning:\n",
      "\n",
      "The min_impurity_split parameter is deprecated. Its default value has changed from 1e-7 to 0 in version 0.23, and it will be removed in 0.25. Use the min_impurity_decrease parameter instead.\n",
      "\n",
      "C:\\Users\\Qintess\\anaconda3\\envs\\projeto\\lib\\site-packages\\sklearn\\tree\\_classes.py:310: FutureWarning:\n",
      "\n",
      "The min_impurity_split parameter is deprecated. Its default value has changed from 1e-7 to 0 in version 0.23, and it will be removed in 0.25. Use the min_impurity_decrease parameter instead.\n",
      "\n",
      "C:\\Users\\Qintess\\anaconda3\\envs\\projeto\\lib\\site-packages\\sklearn\\tree\\_classes.py:310: FutureWarning:\n",
      "\n",
      "The min_impurity_split parameter is deprecated. Its default value has changed from 1e-7 to 0 in version 0.23, and it will be removed in 0.25. Use the min_impurity_decrease parameter instead.\n",
      "\n",
      "C:\\Users\\Qintess\\anaconda3\\envs\\projeto\\lib\\site-packages\\sklearn\\tree\\_classes.py:310: FutureWarning:\n",
      "\n",
      "The min_impurity_split parameter is deprecated. Its default value has changed from 1e-7 to 0 in version 0.23, and it will be removed in 0.25. Use the min_impurity_decrease parameter instead.\n",
      "\n",
      "C:\\Users\\Qintess\\anaconda3\\envs\\projeto\\lib\\site-packages\\sklearn\\tree\\_classes.py:310: FutureWarning:\n",
      "\n",
      "The min_impurity_split parameter is deprecated. Its default value has changed from 1e-7 to 0 in version 0.23, and it will be removed in 0.25. Use the min_impurity_decrease parameter instead.\n",
      "\n",
      "C:\\Users\\Qintess\\anaconda3\\envs\\projeto\\lib\\site-packages\\sklearn\\tree\\_classes.py:310: FutureWarning:\n",
      "\n",
      "The min_impurity_split parameter is deprecated. Its default value has changed from 1e-7 to 0 in version 0.23, and it will be removed in 0.25. Use the min_impurity_decrease parameter instead.\n",
      "\n"
     ]
    },
    {
     "data": {
      "image/png": "[encoded data removed]",
      "text/plain": [
       "<Figure size 432x288 with 2 Axes>"
      ]
     },
     "metadata": {},
     "output_type": "display_data"
    }
   ],
   "source": [
    "# avaliando com os dados de treino \n",
    "matriz_rand = cross_val_predict(rf_best, x_train, y_train, cv = 5)\n",
    "\n",
    "fig, ax = plt.subplots()\n",
    "sns.heatmap(confusion_matrix(y_train, matriz_rand), annot=True, \n",
    "            ax=ax, fmt='d', cmap='Reds')\n",
    "ax.set_title(\"Matriz de Confusão\", fontsize=18)\n",
    "ax.set_ylabel(\"Real\")\n",
    "ax.set_xlabel(\"Predito\")\n",
    "plt.tight_layout()"
   ]
  },
  {
   "cell_type": "code",
   "execution_count": 1155,
   "id": "olympic-johnson",
   "metadata": {},
   "outputs": [
    {
     "name": "stdout",
     "output_type": "stream",
     "text": [
      "              precision    recall  f1-score   support\n",
      "\n",
      "           0       0.72      0.76      0.74       440\n",
      "           1       0.77      0.73      0.75       489\n",
      "\n",
      "    accuracy                           0.74       929\n",
      "   macro avg       0.74      0.74      0.74       929\n",
      "weighted avg       0.74      0.74      0.74       929\n",
      "\n"
     ]
    }
   ],
   "source": [
    "# avaliando com os dados de treino\n",
    "resultado_rd = classification_report(y_train, matriz_rd)\n",
    "print(resultado_rd)"
   ]
  },
  {
   "cell_type": "code",
   "execution_count": 1152,
   "id": "indirect-probability",
   "metadata": {},
   "outputs": [
    {
     "data": {
      "text/plain": [
       "0.6704885460495559"
      ]
     },
     "execution_count": 1152,
     "metadata": {},
     "output_type": "execute_result"
    }
   ],
   "source": [
    "score_rd_train_vd = score_rd_train_vd.mean()\n",
    "score_rd_train_vd"
   ]
  },
  {
   "cell_type": "code",
   "execution_count": 1153,
   "id": "documentary-margin",
   "metadata": {},
   "outputs": [],
   "source": [
    "dff_metrica_final_rand = score_rd_train_vd - score_rd_vd"
   ]
  },
  {
   "cell_type": "code",
   "execution_count": 1154,
   "id": "civic-shore",
   "metadata": {},
   "outputs": [
    {
     "name": "stdout",
     "output_type": "stream",
     "text": [
      "diferença do f1_score das métricas de treino e teste tem um overfiting = 1.8757776818786653 %\n"
     ]
    }
   ],
   "source": [
    "print('diferença do f1_score das métricas de treino e teste tem um overfiting =', dff_metrica_final_rand*100,  '%')"
   ]
  },
  {
   "cell_type": "code",
   "execution_count": null,
   "id": "broad-sailing",
   "metadata": {},
   "outputs": [],
   "source": []
  }
 ],
 "metadata": {
  "kernelspec": {
   "display_name": "Python 3",
   "language": "python",
   "name": "python3"
  },
  "language_info": {
   "codemirror_mode": {
    "name": "ipython",
    "version": 3
   },
   "file_extension": ".py",
   "mimetype": "text/x-python",
   "name": "python",
   "nbconvert_exporter": "python",
   "pygments_lexer": "ipython3",
   "version": "3.6.12"
  }
 },
 "nbformat": 4,
 "nbformat_minor": 5
}
